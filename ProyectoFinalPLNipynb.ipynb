{
  "nbformat": 4,
  "nbformat_minor": 0,
  "metadata": {
    "colab": {
      "provenance": [],
      "toc_visible": true,
      "gpuType": "T4"
    },
    "kernelspec": {
      "name": "python3",
      "display_name": "Python 3"
    },
    "language_info": {
      "name": "python"
    },
    "accelerator": "GPU"
  },
  "cells": [
    {
      "cell_type": "markdown",
      "source": [
        "# Proyecto final\n",
        "\n",
        "**Procesamiento de Lenguaje Natural** -Maestría en Ciencia de Datos -\n",
        "Universidad de Sonora\n",
        "\n",
        "\n",
        "*   Estephania Pivac Alcaraz\n",
        "*   Victor Manuel Minjares Neriz\n",
        "\n"
      ],
      "metadata": {
        "id": "bqGTJzbQBucz"
      }
    },
    {
      "cell_type": "markdown",
      "source": [
        "## Librerias y descargas"
      ],
      "metadata": {
        "id": "YAKhM2nk7a6E"
      }
    },
    {
      "cell_type": "code",
      "execution_count": 2,
      "metadata": {
        "id": "tH6XVnFs_UjQ",
        "colab": {
          "base_uri": "https://localhost:8080/"
        },
        "outputId": "a13e28ac-cddc-49be-dcd3-59ef4f45b864"
      },
      "outputs": [
        {
          "output_type": "stream",
          "name": "stdout",
          "text": [
            "Requirement already satisfied: gdown in /usr/local/lib/python3.10/dist-packages (5.2.0)\n",
            "Requirement already satisfied: beautifulsoup4 in /usr/local/lib/python3.10/dist-packages (from gdown) (4.12.3)\n",
            "Requirement already satisfied: filelock in /usr/local/lib/python3.10/dist-packages (from gdown) (3.16.1)\n",
            "Requirement already satisfied: requests[socks] in /usr/local/lib/python3.10/dist-packages (from gdown) (2.32.3)\n",
            "Requirement already satisfied: tqdm in /usr/local/lib/python3.10/dist-packages (from gdown) (4.66.6)\n",
            "Requirement already satisfied: soupsieve>1.2 in /usr/local/lib/python3.10/dist-packages (from beautifulsoup4->gdown) (2.6)\n",
            "Requirement already satisfied: charset-normalizer<4,>=2 in /usr/local/lib/python3.10/dist-packages (from requests[socks]->gdown) (3.4.0)\n",
            "Requirement already satisfied: idna<4,>=2.5 in /usr/local/lib/python3.10/dist-packages (from requests[socks]->gdown) (3.10)\n",
            "Requirement already satisfied: urllib3<3,>=1.21.1 in /usr/local/lib/python3.10/dist-packages (from requests[socks]->gdown) (2.2.3)\n",
            "Requirement already satisfied: certifi>=2017.4.17 in /usr/local/lib/python3.10/dist-packages (from requests[socks]->gdown) (2024.8.30)\n",
            "Requirement already satisfied: PySocks!=1.5.7,>=1.5.6 in /usr/local/lib/python3.10/dist-packages (from requests[socks]->gdown) (1.7.1)\n"
          ]
        }
      ],
      "source": [
        "!pip install gdown"
      ]
    },
    {
      "cell_type": "code",
      "source": [
        "# Cargamos las librerías\n",
        "import pandas as pd\n",
        "import gdown\n",
        "import matplotlib.pyplot as plt\n",
        "import seaborn as sns\n",
        "import numpy as np\n",
        "import time\n",
        "\n",
        "# Preprocesamiento\n",
        "import re\n",
        "from nltk.corpus import stopwords\n",
        "from nltk.stem import PorterStemmer\n",
        "from nltk.tokenize import word_tokenize\n",
        "import nltk\n",
        "from sklearn.model_selection import train_test_split\n",
        "\n",
        "# Métricas\n",
        "from sklearn.metrics import confusion_matrix, ConfusionMatrixDisplay\n",
        "from sklearn.metrics import balanced_accuracy_score, accuracy_score, classification_report, f1_score, recall_score, precision_score\n",
        "from sklearn.metrics import roc_auc_score, roc_curve\n",
        "\n",
        "\n",
        "nltk.download('punkt', force=True)\n",
        "nltk.download('stopwords')\n",
        "nltk.download('punkt_tab')\n",
        "RANDOM_SEED = 16"
      ],
      "metadata": {
        "colab": {
          "base_uri": "https://localhost:8080/"
        },
        "id": "klmdKLCCp56d",
        "outputId": "d7b0469f-1400-45bf-d25e-097665a5b72b"
      },
      "execution_count": 3,
      "outputs": [
        {
          "output_type": "stream",
          "name": "stderr",
          "text": [
            "[nltk_data] Downloading package punkt to /root/nltk_data...\n",
            "[nltk_data]   Unzipping tokenizers/punkt.zip.\n",
            "[nltk_data] Downloading package stopwords to /root/nltk_data...\n",
            "[nltk_data]   Unzipping corpora/stopwords.zip.\n",
            "[nltk_data] Downloading package punkt_tab to /root/nltk_data...\n",
            "[nltk_data]   Unzipping tokenizers/punkt_tab.zip.\n",
            "[nltk_data] Downloading package punkt to /root/nltk_data...\n",
            "[nltk_data]   Unzipping tokenizers/punkt.zip.\n",
            "[nltk_data] Downloading package stopwords to /root/nltk_data...\n",
            "[nltk_data]   Package stopwords is already up-to-date!\n",
            "[nltk_data] Downloading package punkt_tab to /root/nltk_data...\n",
            "[nltk_data]   Package punkt_tab is already up-to-date!\n"
          ]
        }
      ]
    },
    {
      "cell_type": "code",
      "source": [
        "# Descargamos el archivo\n",
        "file_url = 'https://drive.google.com/uc?id=1Kve4q1mpp-EYxAOfKO3lwUAwpYon7_s_'\n",
        "output = 'final-train.csv'\n",
        "gdown.download(file_url, output, quiet=False)"
      ],
      "metadata": {
        "colab": {
          "base_uri": "https://localhost:8080/",
          "height": 125
        },
        "id": "_k33VXhCp8bB",
        "outputId": "966627af-ee32-48f3-9cb9-a895d8efa822"
      },
      "execution_count": 4,
      "outputs": [
        {
          "output_type": "stream",
          "name": "stderr",
          "text": [
            "Downloading...\n",
            "From (original): https://drive.google.com/uc?id=1Kve4q1mpp-EYxAOfKO3lwUAwpYon7_s_\n",
            "From (redirected): https://drive.google.com/uc?id=1Kve4q1mpp-EYxAOfKO3lwUAwpYon7_s_&confirm=t&uuid=5cfa55de-8ca5-482f-b5ec-24810bc67345\n",
            "To: /content/final-train.csv\n",
            "100%|██████████| 199M/199M [00:02<00:00, 89.8MB/s]\n"
          ]
        },
        {
          "output_type": "execute_result",
          "data": {
            "text/plain": [
              "'final-train.csv'"
            ],
            "application/vnd.google.colaboratory.intrinsic+json": {
              "type": "string"
            }
          },
          "metadata": {},
          "execution_count": 4
        }
      ]
    },
    {
      "cell_type": "markdown",
      "source": [
        "## Preprocesamiento"
      ],
      "metadata": {
        "id": "OrlBlcFE7epf"
      }
    },
    {
      "cell_type": "markdown",
      "source": [
        "En el análisis exploratorio de los datos, nos dimos cuenta del gran desequilibrio en el conjunto de datos: la mayoría de las reseñas son positivas, mientras que solo el 14% son negativas. Además, limpiamos los datos eliminando registros duplicados y combinamos las columnas `Summary` y `Text` para tener una única columna, conservando toda la información.\n",
        "\n",
        "En cuanto a la limpieza enfocada en PLN, eliminamos \"stopwords\", caracteres no alfanuméricos, espacios en blanco múltiples y tokenizamos. En particular todo lo que este dentro de \"<>\", que son etiquetas de html que no nos interesan. Este es un procedimiento común en esta área. Por último, como se nos indicó en la descripción del proyecto, convertimos las reseñas con puntuaciones de 1 a 5 en una clasificación binaria, donde 1 representa las reseñas negativas y 0 las positivas.\n",
        "\n",
        "No se aplicaron lematización ni \"stemming\" para evitar la pérdida de información relevante para nuestros modelos y también para reducir el tiempo de cómputo."
      ],
      "metadata": {
        "id": "BLlxQqvP7tCC"
      }
    },
    {
      "cell_type": "code",
      "source": [
        "dataset = pd.read_csv('final-train.csv') # , nrows=100_000\n",
        "dataset.head()"
      ],
      "metadata": {
        "colab": {
          "base_uri": "https://localhost:8080/",
          "height": 206
        },
        "id": "patOG4LJp-Bi",
        "outputId": "a4f5b878-c49f-44b5-ecd0-797017d4ad97"
      },
      "execution_count": 5,
      "outputs": [
        {
          "output_type": "execute_result",
          "data": {
            "text/plain": [
              "                                             Summary  \\\n",
              "0        Can really notice when I am not drinking it   \n",
              "1                            Okay, just not the best   \n",
              "2  goo source of fiber, not so much a source of c...   \n",
              "3                                    Great GF Staple   \n",
              "4  Coffee just doesn't taste right without Sweet ...   \n",
              "\n",
              "                                                Text  Score  \n",
              "0  I have had hormone problems in the past couple...      5  \n",
              "1  This is a decent balsamic glaze/reducation.<br...      4  \n",
              "2  the cookie is moist and chewy and has a great ...      3  \n",
              "3  I have a 4 yr old and a 2 yr old that can't ea...      5  \n",
              "4  We have drunk our coffee for 45 years using th...      5  "
            ],
            "text/html": [
              "\n",
              "  <div id=\"df-0394d11b-118c-4c69-9fb2-cd9605da956c\" class=\"colab-df-container\">\n",
              "    <div>\n",
              "<style scoped>\n",
              "    .dataframe tbody tr th:only-of-type {\n",
              "        vertical-align: middle;\n",
              "    }\n",
              "\n",
              "    .dataframe tbody tr th {\n",
              "        vertical-align: top;\n",
              "    }\n",
              "\n",
              "    .dataframe thead th {\n",
              "        text-align: right;\n",
              "    }\n",
              "</style>\n",
              "<table border=\"1\" class=\"dataframe\">\n",
              "  <thead>\n",
              "    <tr style=\"text-align: right;\">\n",
              "      <th></th>\n",
              "      <th>Summary</th>\n",
              "      <th>Text</th>\n",
              "      <th>Score</th>\n",
              "    </tr>\n",
              "  </thead>\n",
              "  <tbody>\n",
              "    <tr>\n",
              "      <th>0</th>\n",
              "      <td>Can really notice when I am not drinking it</td>\n",
              "      <td>I have had hormone problems in the past couple...</td>\n",
              "      <td>5</td>\n",
              "    </tr>\n",
              "    <tr>\n",
              "      <th>1</th>\n",
              "      <td>Okay, just not the best</td>\n",
              "      <td>This is a decent balsamic glaze/reducation.&lt;br...</td>\n",
              "      <td>4</td>\n",
              "    </tr>\n",
              "    <tr>\n",
              "      <th>2</th>\n",
              "      <td>goo source of fiber, not so much a source of c...</td>\n",
              "      <td>the cookie is moist and chewy and has a great ...</td>\n",
              "      <td>3</td>\n",
              "    </tr>\n",
              "    <tr>\n",
              "      <th>3</th>\n",
              "      <td>Great GF Staple</td>\n",
              "      <td>I have a 4 yr old and a 2 yr old that can't ea...</td>\n",
              "      <td>5</td>\n",
              "    </tr>\n",
              "    <tr>\n",
              "      <th>4</th>\n",
              "      <td>Coffee just doesn't taste right without Sweet ...</td>\n",
              "      <td>We have drunk our coffee for 45 years using th...</td>\n",
              "      <td>5</td>\n",
              "    </tr>\n",
              "  </tbody>\n",
              "</table>\n",
              "</div>\n",
              "    <div class=\"colab-df-buttons\">\n",
              "\n",
              "  <div class=\"colab-df-container\">\n",
              "    <button class=\"colab-df-convert\" onclick=\"convertToInteractive('df-0394d11b-118c-4c69-9fb2-cd9605da956c')\"\n",
              "            title=\"Convert this dataframe to an interactive table.\"\n",
              "            style=\"display:none;\">\n",
              "\n",
              "  <svg xmlns=\"http://www.w3.org/2000/svg\" height=\"24px\" viewBox=\"0 -960 960 960\">\n",
              "    <path d=\"M120-120v-720h720v720H120Zm60-500h600v-160H180v160Zm220 220h160v-160H400v160Zm0 220h160v-160H400v160ZM180-400h160v-160H180v160Zm440 0h160v-160H620v160ZM180-180h160v-160H180v160Zm440 0h160v-160H620v160Z\"/>\n",
              "  </svg>\n",
              "    </button>\n",
              "\n",
              "  <style>\n",
              "    .colab-df-container {\n",
              "      display:flex;\n",
              "      gap: 12px;\n",
              "    }\n",
              "\n",
              "    .colab-df-convert {\n",
              "      background-color: #E8F0FE;\n",
              "      border: none;\n",
              "      border-radius: 50%;\n",
              "      cursor: pointer;\n",
              "      display: none;\n",
              "      fill: #1967D2;\n",
              "      height: 32px;\n",
              "      padding: 0 0 0 0;\n",
              "      width: 32px;\n",
              "    }\n",
              "\n",
              "    .colab-df-convert:hover {\n",
              "      background-color: #E2EBFA;\n",
              "      box-shadow: 0px 1px 2px rgba(60, 64, 67, 0.3), 0px 1px 3px 1px rgba(60, 64, 67, 0.15);\n",
              "      fill: #174EA6;\n",
              "    }\n",
              "\n",
              "    .colab-df-buttons div {\n",
              "      margin-bottom: 4px;\n",
              "    }\n",
              "\n",
              "    [theme=dark] .colab-df-convert {\n",
              "      background-color: #3B4455;\n",
              "      fill: #D2E3FC;\n",
              "    }\n",
              "\n",
              "    [theme=dark] .colab-df-convert:hover {\n",
              "      background-color: #434B5C;\n",
              "      box-shadow: 0px 1px 3px 1px rgba(0, 0, 0, 0.15);\n",
              "      filter: drop-shadow(0px 1px 2px rgba(0, 0, 0, 0.3));\n",
              "      fill: #FFFFFF;\n",
              "    }\n",
              "  </style>\n",
              "\n",
              "    <script>\n",
              "      const buttonEl =\n",
              "        document.querySelector('#df-0394d11b-118c-4c69-9fb2-cd9605da956c button.colab-df-convert');\n",
              "      buttonEl.style.display =\n",
              "        google.colab.kernel.accessAllowed ? 'block' : 'none';\n",
              "\n",
              "      async function convertToInteractive(key) {\n",
              "        const element = document.querySelector('#df-0394d11b-118c-4c69-9fb2-cd9605da956c');\n",
              "        const dataTable =\n",
              "          await google.colab.kernel.invokeFunction('convertToInteractive',\n",
              "                                                    [key], {});\n",
              "        if (!dataTable) return;\n",
              "\n",
              "        const docLinkHtml = 'Like what you see? Visit the ' +\n",
              "          '<a target=\"_blank\" href=https://colab.research.google.com/notebooks/data_table.ipynb>data table notebook</a>'\n",
              "          + ' to learn more about interactive tables.';\n",
              "        element.innerHTML = '';\n",
              "        dataTable['output_type'] = 'display_data';\n",
              "        await google.colab.output.renderOutput(dataTable, element);\n",
              "        const docLink = document.createElement('div');\n",
              "        docLink.innerHTML = docLinkHtml;\n",
              "        element.appendChild(docLink);\n",
              "      }\n",
              "    </script>\n",
              "  </div>\n",
              "\n",
              "\n",
              "<div id=\"df-5a2d8dd5-9f66-41c4-97da-d0a2aa6c367e\">\n",
              "  <button class=\"colab-df-quickchart\" onclick=\"quickchart('df-5a2d8dd5-9f66-41c4-97da-d0a2aa6c367e')\"\n",
              "            title=\"Suggest charts\"\n",
              "            style=\"display:none;\">\n",
              "\n",
              "<svg xmlns=\"http://www.w3.org/2000/svg\" height=\"24px\"viewBox=\"0 0 24 24\"\n",
              "     width=\"24px\">\n",
              "    <g>\n",
              "        <path d=\"M19 3H5c-1.1 0-2 .9-2 2v14c0 1.1.9 2 2 2h14c1.1 0 2-.9 2-2V5c0-1.1-.9-2-2-2zM9 17H7v-7h2v7zm4 0h-2V7h2v10zm4 0h-2v-4h2v4z\"/>\n",
              "    </g>\n",
              "</svg>\n",
              "  </button>\n",
              "\n",
              "<style>\n",
              "  .colab-df-quickchart {\n",
              "      --bg-color: #E8F0FE;\n",
              "      --fill-color: #1967D2;\n",
              "      --hover-bg-color: #E2EBFA;\n",
              "      --hover-fill-color: #174EA6;\n",
              "      --disabled-fill-color: #AAA;\n",
              "      --disabled-bg-color: #DDD;\n",
              "  }\n",
              "\n",
              "  [theme=dark] .colab-df-quickchart {\n",
              "      --bg-color: #3B4455;\n",
              "      --fill-color: #D2E3FC;\n",
              "      --hover-bg-color: #434B5C;\n",
              "      --hover-fill-color: #FFFFFF;\n",
              "      --disabled-bg-color: #3B4455;\n",
              "      --disabled-fill-color: #666;\n",
              "  }\n",
              "\n",
              "  .colab-df-quickchart {\n",
              "    background-color: var(--bg-color);\n",
              "    border: none;\n",
              "    border-radius: 50%;\n",
              "    cursor: pointer;\n",
              "    display: none;\n",
              "    fill: var(--fill-color);\n",
              "    height: 32px;\n",
              "    padding: 0;\n",
              "    width: 32px;\n",
              "  }\n",
              "\n",
              "  .colab-df-quickchart:hover {\n",
              "    background-color: var(--hover-bg-color);\n",
              "    box-shadow: 0 1px 2px rgba(60, 64, 67, 0.3), 0 1px 3px 1px rgba(60, 64, 67, 0.15);\n",
              "    fill: var(--button-hover-fill-color);\n",
              "  }\n",
              "\n",
              "  .colab-df-quickchart-complete:disabled,\n",
              "  .colab-df-quickchart-complete:disabled:hover {\n",
              "    background-color: var(--disabled-bg-color);\n",
              "    fill: var(--disabled-fill-color);\n",
              "    box-shadow: none;\n",
              "  }\n",
              "\n",
              "  .colab-df-spinner {\n",
              "    border: 2px solid var(--fill-color);\n",
              "    border-color: transparent;\n",
              "    border-bottom-color: var(--fill-color);\n",
              "    animation:\n",
              "      spin 1s steps(1) infinite;\n",
              "  }\n",
              "\n",
              "  @keyframes spin {\n",
              "    0% {\n",
              "      border-color: transparent;\n",
              "      border-bottom-color: var(--fill-color);\n",
              "      border-left-color: var(--fill-color);\n",
              "    }\n",
              "    20% {\n",
              "      border-color: transparent;\n",
              "      border-left-color: var(--fill-color);\n",
              "      border-top-color: var(--fill-color);\n",
              "    }\n",
              "    30% {\n",
              "      border-color: transparent;\n",
              "      border-left-color: var(--fill-color);\n",
              "      border-top-color: var(--fill-color);\n",
              "      border-right-color: var(--fill-color);\n",
              "    }\n",
              "    40% {\n",
              "      border-color: transparent;\n",
              "      border-right-color: var(--fill-color);\n",
              "      border-top-color: var(--fill-color);\n",
              "    }\n",
              "    60% {\n",
              "      border-color: transparent;\n",
              "      border-right-color: var(--fill-color);\n",
              "    }\n",
              "    80% {\n",
              "      border-color: transparent;\n",
              "      border-right-color: var(--fill-color);\n",
              "      border-bottom-color: var(--fill-color);\n",
              "    }\n",
              "    90% {\n",
              "      border-color: transparent;\n",
              "      border-bottom-color: var(--fill-color);\n",
              "    }\n",
              "  }\n",
              "</style>\n",
              "\n",
              "  <script>\n",
              "    async function quickchart(key) {\n",
              "      const quickchartButtonEl =\n",
              "        document.querySelector('#' + key + ' button');\n",
              "      quickchartButtonEl.disabled = true;  // To prevent multiple clicks.\n",
              "      quickchartButtonEl.classList.add('colab-df-spinner');\n",
              "      try {\n",
              "        const charts = await google.colab.kernel.invokeFunction(\n",
              "            'suggestCharts', [key], {});\n",
              "      } catch (error) {\n",
              "        console.error('Error during call to suggestCharts:', error);\n",
              "      }\n",
              "      quickchartButtonEl.classList.remove('colab-df-spinner');\n",
              "      quickchartButtonEl.classList.add('colab-df-quickchart-complete');\n",
              "    }\n",
              "    (() => {\n",
              "      let quickchartButtonEl =\n",
              "        document.querySelector('#df-5a2d8dd5-9f66-41c4-97da-d0a2aa6c367e button');\n",
              "      quickchartButtonEl.style.display =\n",
              "        google.colab.kernel.accessAllowed ? 'block' : 'none';\n",
              "    })();\n",
              "  </script>\n",
              "</div>\n",
              "\n",
              "    </div>\n",
              "  </div>\n"
            ],
            "application/vnd.google.colaboratory.intrinsic+json": {
              "type": "dataframe",
              "variable_name": "dataset"
            }
          },
          "metadata": {},
          "execution_count": 5
        }
      ]
    },
    {
      "cell_type": "code",
      "source": [
        "dataset.info()"
      ],
      "metadata": {
        "colab": {
          "base_uri": "https://localhost:8080/"
        },
        "id": "y5e68rdlp_h9",
        "outputId": "c6c4bd69-9602-44f4-e343-870a1b830802"
      },
      "execution_count": 6,
      "outputs": [
        {
          "output_type": "stream",
          "name": "stdout",
          "text": [
            "<class 'pandas.core.frame.DataFrame'>\n",
            "RangeIndex: 426340 entries, 0 to 426339\n",
            "Data columns (total 3 columns):\n",
            " #   Column   Non-Null Count   Dtype \n",
            "---  ------   --------------   ----- \n",
            " 0   Summary  426323 non-null  object\n",
            " 1   Text     426340 non-null  object\n",
            " 2   Score    426340 non-null  int64 \n",
            "dtypes: int64(1), object(2)\n",
            "memory usage: 9.8+ MB\n"
          ]
        }
      ]
    },
    {
      "cell_type": "code",
      "source": [
        "# Calculamos la distribución de calificaciones en porcentaje\n",
        "score_distribution = dataset['Score'].value_counts(normalize=True) * 100\n",
        "\n",
        "\n",
        "plt.figure(figsize=(8, 6))\n",
        "score_distribution.sort_index().plot(kind='bar', color='lightblue', edgecolor='black')\n",
        "plt.title('Distribución de Calificaciones (%)', fontsize=14)\n",
        "plt.xlabel('Calificación', fontsize=12)\n",
        "plt.ylabel('Porcentaje (%)', fontsize=12)\n",
        "plt.xticks(rotation=0)\n",
        "\n",
        "for index, value in enumerate(score_distribution.sort_index()):\n",
        "    plt.text(index, value + 0.5, f'{value:.2f}%', ha='center', fontsize=11)\n",
        "\n",
        "plt.grid(axis='y', linestyle='--', alpha=0.7)\n",
        "plt.show()"
      ],
      "metadata": {
        "colab": {
          "base_uri": "https://localhost:8080/",
          "height": 569
        },
        "id": "ITj24xZxqVcM",
        "outputId": "b4aaf81d-1f12-446f-c7b2-aff0f0528ace"
      },
      "execution_count": 10,
      "outputs": [
        {
          "output_type": "display_data",
          "data": {
            "text/plain": [
              "<Figure size 800x600 with 1 Axes>"
            ],
            "image/png": "[encoded data removed]"
          },
          "metadata": {}
        }
      ]
    },
    {
      "cell_type": "code",
      "source": [
        "missing_values = dataset.isnull().sum()\n",
        "print(f\"\\nValores nulos por columna:\\n{missing_values}\")"
      ],
      "metadata": {
        "colab": {
          "base_uri": "https://localhost:8080/"
        },
        "id": "lLDT5J4nqXoS",
        "outputId": "79ca9acf-d29a-452c-9d64-efc9467264af"
      },
      "execution_count": 11,
      "outputs": [
        {
          "output_type": "stream",
          "name": "stdout",
          "text": [
            "\n",
            "Valores nulos por columna:\n",
            "Summary    17\n",
            "Text        0\n",
            "Score       0\n",
            "dtype: int64\n"
          ]
        }
      ]
    },
    {
      "cell_type": "code",
      "source": [
        "dataset.loc[dataset['Summary'].isnull()]"
      ],
      "metadata": {
        "colab": {
          "base_uri": "https://localhost:8080/",
          "height": 582
        },
        "id": "6IVWeRvTqd-J",
        "outputId": "c3a81553-4628-4b16-af36-18674a8ac342"
      },
      "execution_count": 12,
      "outputs": [
        {
          "output_type": "execute_result",
          "data": {
            "text/plain": [
              "       Summary                                               Text  Score\n",
              "44610      NaN  I only used two maybe three tea bags and got p...      2\n",
              "101316     NaN  I only used two maybe three tea bags and got p...      2\n",
              "106173     NaN  I only used two maybe three tea bags and got p...      2\n",
              "117963     NaN  I only used two maybe three tea bags and got p...      2\n",
              "121598     NaN  I only used two maybe three tea bags and got p...      2\n",
              "136690     NaN  I only used two maybe three tea bags and got p...      2\n",
              "139568     NaN  I only used two maybe three tea bags and got p...      2\n",
              "145769     NaN  I only used two maybe three tea bags and got p...      2\n",
              "168120     NaN  I only used two maybe three tea bags and got p...      2\n",
              "171585     NaN  I like the product and tried it before I pucha...      3\n",
              "274945     NaN  I only used two maybe three tea bags and got p...      2\n",
              "311986     NaN  I only used two maybe three tea bags and got p...      2\n",
              "312413     NaN  I only used two maybe three tea bags and got p...      2\n",
              "315869     NaN  I only used two maybe three tea bags and got p...      2\n",
              "332619     NaN  I only used two maybe three tea bags and got p...      2\n",
              "349563     NaN  I only used two maybe three tea bags and got p...      2\n",
              "389085     NaN  I only used two maybe three tea bags and got p...      2"
            ],
            "text/html": [
              "\n",
              "  <div id=\"df-d0cd4784-16af-483f-8050-7c6476a366b2\" class=\"colab-df-container\">\n",
              "    <div>\n",
              "<style scoped>\n",
              "    .dataframe tbody tr th:only-of-type {\n",
              "        vertical-align: middle;\n",
              "    }\n",
              "\n",
              "    .dataframe tbody tr th {\n",
              "        vertical-align: top;\n",
              "    }\n",
              "\n",
              "    .dataframe thead th {\n",
              "        text-align: right;\n",
              "    }\n",
              "</style>\n",
              "<table border=\"1\" class=\"dataframe\">\n",
              "  <thead>\n",
              "    <tr style=\"text-align: right;\">\n",
              "      <th></th>\n",
              "      <th>Summary</th>\n",
              "      <th>Text</th>\n",
              "      <th>Score</th>\n",
              "    </tr>\n",
              "  </thead>\n",
              "  <tbody>\n",
              "    <tr>\n",
              "      <th>44610</th>\n",
              "      <td>NaN</td>\n",
              "      <td>I only used two maybe three tea bags and got p...</td>\n",
              "      <td>2</td>\n",
              "    </tr>\n",
              "    <tr>\n",
              "      <th>101316</th>\n",
              "      <td>NaN</td>\n",
              "      <td>I only used two maybe three tea bags and got p...</td>\n",
              "      <td>2</td>\n",
              "    </tr>\n",
              "    <tr>\n",
              "      <th>106173</th>\n",
              "      <td>NaN</td>\n",
              "      <td>I only used two maybe three tea bags and got p...</td>\n",
              "      <td>2</td>\n",
              "    </tr>\n",
              "    <tr>\n",
              "      <th>117963</th>\n",
              "      <td>NaN</td>\n",
              "      <td>I only used two maybe three tea bags and got p...</td>\n",
              "      <td>2</td>\n",
              "    </tr>\n",
              "    <tr>\n",
              "      <th>121598</th>\n",
              "      <td>NaN</td>\n",
              "      <td>I only used two maybe three tea bags and got p...</td>\n",
              "      <td>2</td>\n",
              "    </tr>\n",
              "    <tr>\n",
              "      <th>136690</th>\n",
              "      <td>NaN</td>\n",
              "      <td>I only used two maybe three tea bags and got p...</td>\n",
              "      <td>2</td>\n",
              "    </tr>\n",
              "    <tr>\n",
              "      <th>139568</th>\n",
              "      <td>NaN</td>\n",
              "      <td>I only used two maybe three tea bags and got p...</td>\n",
              "      <td>2</td>\n",
              "    </tr>\n",
              "    <tr>\n",
              "      <th>145769</th>\n",
              "      <td>NaN</td>\n",
              "      <td>I only used two maybe three tea bags and got p...</td>\n",
              "      <td>2</td>\n",
              "    </tr>\n",
              "    <tr>\n",
              "      <th>168120</th>\n",
              "      <td>NaN</td>\n",
              "      <td>I only used two maybe three tea bags and got p...</td>\n",
              "      <td>2</td>\n",
              "    </tr>\n",
              "    <tr>\n",
              "      <th>171585</th>\n",
              "      <td>NaN</td>\n",
              "      <td>I like the product and tried it before I pucha...</td>\n",
              "      <td>3</td>\n",
              "    </tr>\n",
              "    <tr>\n",
              "      <th>274945</th>\n",
              "      <td>NaN</td>\n",
              "      <td>I only used two maybe three tea bags and got p...</td>\n",
              "      <td>2</td>\n",
              "    </tr>\n",
              "    <tr>\n",
              "      <th>311986</th>\n",
              "      <td>NaN</td>\n",
              "      <td>I only used two maybe three tea bags and got p...</td>\n",
              "      <td>2</td>\n",
              "    </tr>\n",
              "    <tr>\n",
              "      <th>312413</th>\n",
              "      <td>NaN</td>\n",
              "      <td>I only used two maybe three tea bags and got p...</td>\n",
              "      <td>2</td>\n",
              "    </tr>\n",
              "    <tr>\n",
              "      <th>315869</th>\n",
              "      <td>NaN</td>\n",
              "      <td>I only used two maybe three tea bags and got p...</td>\n",
              "      <td>2</td>\n",
              "    </tr>\n",
              "    <tr>\n",
              "      <th>332619</th>\n",
              "      <td>NaN</td>\n",
              "      <td>I only used two maybe three tea bags and got p...</td>\n",
              "      <td>2</td>\n",
              "    </tr>\n",
              "    <tr>\n",
              "      <th>349563</th>\n",
              "      <td>NaN</td>\n",
              "      <td>I only used two maybe three tea bags and got p...</td>\n",
              "      <td>2</td>\n",
              "    </tr>\n",
              "    <tr>\n",
              "      <th>389085</th>\n",
              "      <td>NaN</td>\n",
              "      <td>I only used two maybe three tea bags and got p...</td>\n",
              "      <td>2</td>\n",
              "    </tr>\n",
              "  </tbody>\n",
              "</table>\n",
              "</div>\n",
              "    <div class=\"colab-df-buttons\">\n",
              "\n",
              "  <div class=\"colab-df-container\">\n",
              "    <button class=\"colab-df-convert\" onclick=\"convertToInteractive('df-d0cd4784-16af-483f-8050-7c6476a366b2')\"\n",
              "            title=\"Convert this dataframe to an interactive table.\"\n",
              "            style=\"display:none;\">\n",
              "\n",
              "  <svg xmlns=\"http://www.w3.org/2000/svg\" height=\"24px\" viewBox=\"0 -960 960 960\">\n",
              "    <path d=\"M120-120v-720h720v720H120Zm60-500h600v-160H180v160Zm220 220h160v-160H400v160Zm0 220h160v-160H400v160ZM180-400h160v-160H180v160Zm440 0h160v-160H620v160ZM180-180h160v-160H180v160Zm440 0h160v-160H620v160Z\"/>\n",
              "  </svg>\n",
              "    </button>\n",
              "\n",
              "  <style>\n",
              "    .colab-df-container {\n",
              "      display:flex;\n",
              "      gap: 12px;\n",
              "    }\n",
              "\n",
              "    .colab-df-convert {\n",
              "      background-color: #E8F0FE;\n",
              "      border: none;\n",
              "      border-radius: 50%;\n",
              "      cursor: pointer;\n",
              "      display: none;\n",
              "      fill: #1967D2;\n",
              "      height: 32px;\n",
              "      padding: 0 0 0 0;\n",
              "      width: 32px;\n",
              "    }\n",
              "\n",
              "    .colab-df-convert:hover {\n",
              "      background-color: #E2EBFA;\n",
              "      box-shadow: 0px 1px 2px rgba(60, 64, 67, 0.3), 0px 1px 3px 1px rgba(60, 64, 67, 0.15);\n",
              "      fill: #174EA6;\n",
              "    }\n",
              "\n",
              "    .colab-df-buttons div {\n",
              "      margin-bottom: 4px;\n",
              "    }\n",
              "\n",
              "    [theme=dark] .colab-df-convert {\n",
              "      background-color: #3B4455;\n",
              "      fill: #D2E3FC;\n",
              "    }\n",
              "\n",
              "    [theme=dark] .colab-df-convert:hover {\n",
              "      background-color: #434B5C;\n",
              "      box-shadow: 0px 1px 3px 1px rgba(0, 0, 0, 0.15);\n",
              "      filter: drop-shadow(0px 1px 2px rgba(0, 0, 0, 0.3));\n",
              "      fill: #FFFFFF;\n",
              "    }\n",
              "  </style>\n",
              "\n",
              "    <script>\n",
              "      const buttonEl =\n",
              "        document.querySelector('#df-d0cd4784-16af-483f-8050-7c6476a366b2 button.colab-df-convert');\n",
              "      buttonEl.style.display =\n",
              "        google.colab.kernel.accessAllowed ? 'block' : 'none';\n",
              "\n",
              "      async function convertToInteractive(key) {\n",
              "        const element = document.querySelector('#df-d0cd4784-16af-483f-8050-7c6476a366b2');\n",
              "        const dataTable =\n",
              "          await google.colab.kernel.invokeFunction('convertToInteractive',\n",
              "                                                    [key], {});\n",
              "        if (!dataTable) return;\n",
              "\n",
              "        const docLinkHtml = 'Like what you see? Visit the ' +\n",
              "          '<a target=\"_blank\" href=https://colab.research.google.com/notebooks/data_table.ipynb>data table notebook</a>'\n",
              "          + ' to learn more about interactive tables.';\n",
              "        element.innerHTML = '';\n",
              "        dataTable['output_type'] = 'display_data';\n",
              "        await google.colab.output.renderOutput(dataTable, element);\n",
              "        const docLink = document.createElement('div');\n",
              "        docLink.innerHTML = docLinkHtml;\n",
              "        element.appendChild(docLink);\n",
              "      }\n",
              "    </script>\n",
              "  </div>\n",
              "\n",
              "\n",
              "<div id=\"df-da6b7652-1c64-4061-a417-88b9634e7130\">\n",
              "  <button class=\"colab-df-quickchart\" onclick=\"quickchart('df-da6b7652-1c64-4061-a417-88b9634e7130')\"\n",
              "            title=\"Suggest charts\"\n",
              "            style=\"display:none;\">\n",
              "\n",
              "<svg xmlns=\"http://www.w3.org/2000/svg\" height=\"24px\"viewBox=\"0 0 24 24\"\n",
              "     width=\"24px\">\n",
              "    <g>\n",
              "        <path d=\"M19 3H5c-1.1 0-2 .9-2 2v14c0 1.1.9 2 2 2h14c1.1 0 2-.9 2-2V5c0-1.1-.9-2-2-2zM9 17H7v-7h2v7zm4 0h-2V7h2v10zm4 0h-2v-4h2v4z\"/>\n",
              "    </g>\n",
              "</svg>\n",
              "  </button>\n",
              "\n",
              "<style>\n",
              "  .colab-df-quickchart {\n",
              "      --bg-color: #E8F0FE;\n",
              "      --fill-color: #1967D2;\n",
              "      --hover-bg-color: #E2EBFA;\n",
              "      --hover-fill-color: #174EA6;\n",
              "      --disabled-fill-color: #AAA;\n",
              "      --disabled-bg-color: #DDD;\n",
              "  }\n",
              "\n",
              "  [theme=dark] .colab-df-quickchart {\n",
              "      --bg-color: #3B4455;\n",
              "      --fill-color: #D2E3FC;\n",
              "      --hover-bg-color: #434B5C;\n",
              "      --hover-fill-color: #FFFFFF;\n",
              "      --disabled-bg-color: #3B4455;\n",
              "      --disabled-fill-color: #666;\n",
              "  }\n",
              "\n",
              "  .colab-df-quickchart {\n",
              "    background-color: var(--bg-color);\n",
              "    border: none;\n",
              "    border-radius: 50%;\n",
              "    cursor: pointer;\n",
              "    display: none;\n",
              "    fill: var(--fill-color);\n",
              "    height: 32px;\n",
              "    padding: 0;\n",
              "    width: 32px;\n",
              "  }\n",
              "\n",
              "  .colab-df-quickchart:hover {\n",
              "    background-color: var(--hover-bg-color);\n",
              "    box-shadow: 0 1px 2px rgba(60, 64, 67, 0.3), 0 1px 3px 1px rgba(60, 64, 67, 0.15);\n",
              "    fill: var(--button-hover-fill-color);\n",
              "  }\n",
              "\n",
              "  .colab-df-quickchart-complete:disabled,\n",
              "  .colab-df-quickchart-complete:disabled:hover {\n",
              "    background-color: var(--disabled-bg-color);\n",
              "    fill: var(--disabled-fill-color);\n",
              "    box-shadow: none;\n",
              "  }\n",
              "\n",
              "  .colab-df-spinner {\n",
              "    border: 2px solid var(--fill-color);\n",
              "    border-color: transparent;\n",
              "    border-bottom-color: var(--fill-color);\n",
              "    animation:\n",
              "      spin 1s steps(1) infinite;\n",
              "  }\n",
              "\n",
              "  @keyframes spin {\n",
              "    0% {\n",
              "      border-color: transparent;\n",
              "      border-bottom-color: var(--fill-color);\n",
              "      border-left-color: var(--fill-color);\n",
              "    }\n",
              "    20% {\n",
              "      border-color: transparent;\n",
              "      border-left-color: var(--fill-color);\n",
              "      border-top-color: var(--fill-color);\n",
              "    }\n",
              "    30% {\n",
              "      border-color: transparent;\n",
              "      border-left-color: var(--fill-color);\n",
              "      border-top-color: var(--fill-color);\n",
              "      border-right-color: var(--fill-color);\n",
              "    }\n",
              "    40% {\n",
              "      border-color: transparent;\n",
              "      border-right-color: var(--fill-color);\n",
              "      border-top-color: var(--fill-color);\n",
              "    }\n",
              "    60% {\n",
              "      border-color: transparent;\n",
              "      border-right-color: var(--fill-color);\n",
              "    }\n",
              "    80% {\n",
              "      border-color: transparent;\n",
              "      border-right-color: var(--fill-color);\n",
              "      border-bottom-color: var(--fill-color);\n",
              "    }\n",
              "    90% {\n",
              "      border-color: transparent;\n",
              "      border-bottom-color: var(--fill-color);\n",
              "    }\n",
              "  }\n",
              "</style>\n",
              "\n",
              "  <script>\n",
              "    async function quickchart(key) {\n",
              "      const quickchartButtonEl =\n",
              "        document.querySelector('#' + key + ' button');\n",
              "      quickchartButtonEl.disabled = true;  // To prevent multiple clicks.\n",
              "      quickchartButtonEl.classList.add('colab-df-spinner');\n",
              "      try {\n",
              "        const charts = await google.colab.kernel.invokeFunction(\n",
              "            'suggestCharts', [key], {});\n",
              "      } catch (error) {\n",
              "        console.error('Error during call to suggestCharts:', error);\n",
              "      }\n",
              "      quickchartButtonEl.classList.remove('colab-df-spinner');\n",
              "      quickchartButtonEl.classList.add('colab-df-quickchart-complete');\n",
              "    }\n",
              "    (() => {\n",
              "      let quickchartButtonEl =\n",
              "        document.querySelector('#df-da6b7652-1c64-4061-a417-88b9634e7130 button');\n",
              "      quickchartButtonEl.style.display =\n",
              "        google.colab.kernel.accessAllowed ? 'block' : 'none';\n",
              "    })();\n",
              "  </script>\n",
              "</div>\n",
              "\n",
              "    </div>\n",
              "  </div>\n"
            ],
            "application/vnd.google.colaboratory.intrinsic+json": {
              "type": "dataframe",
              "repr_error": "0"
            }
          },
          "metadata": {},
          "execution_count": 12
        }
      ]
    },
    {
      "cell_type": "code",
      "source": [
        "dataset[dataset.duplicated()]"
      ],
      "metadata": {
        "colab": {
          "base_uri": "https://localhost:8080/",
          "height": 424
        },
        "id": "aejFbap2qg3L",
        "outputId": "da13ed4a-565f-401f-b8c4-45fadae5a9e9"
      },
      "execution_count": 13,
      "outputs": [
        {
          "output_type": "execute_result",
          "data": {
            "text/plain": [
              "                                                 Summary  \\\n",
              "1191    ZiwiPeak is made in the US, consistency problems   \n",
              "1201                                       I love this !   \n",
              "1218                    Great Price for Healthy Cat Food   \n",
              "1422                                 My dog loves these!   \n",
              "1710                                       Great coffee!   \n",
              "...                                                  ...   \n",
              "426329                   Jack Link's peppered beef jerky   \n",
              "426330                                 small & delicious   \n",
              "426333                                      good item :0   \n",
              "426338                        Earl Grey of Earl Grey +++   \n",
              "426339               Excellent Quality; my dogs LOVE it!   \n",
              "\n",
              "                                                     Text  Score  \n",
              "1191    Many people are buying this food believing it ...      1  \n",
              "1201    I almst hate to say how much this differs from...      5  \n",
              "1218    I'd give it 5 stars, however the cats don't se...      4  \n",
              "1422    Was a great deal when I first bought it for $5...      4  \n",
              "1710    This is always my first cup of coffee for the ...      5  \n",
              "...                                                   ...    ...  \n",
              "426329  I like the sweetness taste of the Jack Link's ...      4  \n",
              "426330  My Mom & I were itchin for a late-nite snack w...      5  \n",
              "426333  This is a good item.  My dogs love it.  Cut up...      5  \n",
              "426338  I already liked regular Stash Earl Grey and so...      5  \n",
              "426339  I have 5-7 dogs at any given time, sometimes f...      5  \n",
              "\n",
              "[117223 rows x 3 columns]"
            ],
            "text/html": [
              "\n",
              "  <div id=\"df-a6efd868-a07f-4125-9a79-2f50733dedc3\" class=\"colab-df-container\">\n",
              "    <div>\n",
              "<style scoped>\n",
              "    .dataframe tbody tr th:only-of-type {\n",
              "        vertical-align: middle;\n",
              "    }\n",
              "\n",
              "    .dataframe tbody tr th {\n",
              "        vertical-align: top;\n",
              "    }\n",
              "\n",
              "    .dataframe thead th {\n",
              "        text-align: right;\n",
              "    }\n",
              "</style>\n",
              "<table border=\"1\" class=\"dataframe\">\n",
              "  <thead>\n",
              "    <tr style=\"text-align: right;\">\n",
              "      <th></th>\n",
              "      <th>Summary</th>\n",
              "      <th>Text</th>\n",
              "      <th>Score</th>\n",
              "    </tr>\n",
              "  </thead>\n",
              "  <tbody>\n",
              "    <tr>\n",
              "      <th>1191</th>\n",
              "      <td>ZiwiPeak is made in the US, consistency problems</td>\n",
              "      <td>Many people are buying this food believing it ...</td>\n",
              "      <td>1</td>\n",
              "    </tr>\n",
              "    <tr>\n",
              "      <th>1201</th>\n",
              "      <td>I love this !</td>\n",
              "      <td>I almst hate to say how much this differs from...</td>\n",
              "      <td>5</td>\n",
              "    </tr>\n",
              "    <tr>\n",
              "      <th>1218</th>\n",
              "      <td>Great Price for Healthy Cat Food</td>\n",
              "      <td>I'd give it 5 stars, however the cats don't se...</td>\n",
              "      <td>4</td>\n",
              "    </tr>\n",
              "    <tr>\n",
              "      <th>1422</th>\n",
              "      <td>My dog loves these!</td>\n",
              "      <td>Was a great deal when I first bought it for $5...</td>\n",
              "      <td>4</td>\n",
              "    </tr>\n",
              "    <tr>\n",
              "      <th>1710</th>\n",
              "      <td>Great coffee!</td>\n",
              "      <td>This is always my first cup of coffee for the ...</td>\n",
              "      <td>5</td>\n",
              "    </tr>\n",
              "    <tr>\n",
              "      <th>...</th>\n",
              "      <td>...</td>\n",
              "      <td>...</td>\n",
              "      <td>...</td>\n",
              "    </tr>\n",
              "    <tr>\n",
              "      <th>426329</th>\n",
              "      <td>Jack Link's peppered beef jerky</td>\n",
              "      <td>I like the sweetness taste of the Jack Link's ...</td>\n",
              "      <td>4</td>\n",
              "    </tr>\n",
              "    <tr>\n",
              "      <th>426330</th>\n",
              "      <td>small &amp; delicious</td>\n",
              "      <td>My Mom &amp; I were itchin for a late-nite snack w...</td>\n",
              "      <td>5</td>\n",
              "    </tr>\n",
              "    <tr>\n",
              "      <th>426333</th>\n",
              "      <td>good item :0</td>\n",
              "      <td>This is a good item.  My dogs love it.  Cut up...</td>\n",
              "      <td>5</td>\n",
              "    </tr>\n",
              "    <tr>\n",
              "      <th>426338</th>\n",
              "      <td>Earl Grey of Earl Grey +++</td>\n",
              "      <td>I already liked regular Stash Earl Grey and so...</td>\n",
              "      <td>5</td>\n",
              "    </tr>\n",
              "    <tr>\n",
              "      <th>426339</th>\n",
              "      <td>Excellent Quality; my dogs LOVE it!</td>\n",
              "      <td>I have 5-7 dogs at any given time, sometimes f...</td>\n",
              "      <td>5</td>\n",
              "    </tr>\n",
              "  </tbody>\n",
              "</table>\n",
              "<p>117223 rows × 3 columns</p>\n",
              "</div>\n",
              "    <div class=\"colab-df-buttons\">\n",
              "\n",
              "  <div class=\"colab-df-container\">\n",
              "    <button class=\"colab-df-convert\" onclick=\"convertToInteractive('df-a6efd868-a07f-4125-9a79-2f50733dedc3')\"\n",
              "            title=\"Convert this dataframe to an interactive table.\"\n",
              "            style=\"display:none;\">\n",
              "\n",
              "  <svg xmlns=\"http://www.w3.org/2000/svg\" height=\"24px\" viewBox=\"0 -960 960 960\">\n",
              "    <path d=\"M120-120v-720h720v720H120Zm60-500h600v-160H180v160Zm220 220h160v-160H400v160Zm0 220h160v-160H400v160ZM180-400h160v-160H180v160Zm440 0h160v-160H620v160ZM180-180h160v-160H180v160Zm440 0h160v-160H620v160Z\"/>\n",
              "  </svg>\n",
              "    </button>\n",
              "\n",
              "  <style>\n",
              "    .colab-df-container {\n",
              "      display:flex;\n",
              "      gap: 12px;\n",
              "    }\n",
              "\n",
              "    .colab-df-convert {\n",
              "      background-color: #E8F0FE;\n",
              "      border: none;\n",
              "      border-radius: 50%;\n",
              "      cursor: pointer;\n",
              "      display: none;\n",
              "      fill: #1967D2;\n",
              "      height: 32px;\n",
              "      padding: 0 0 0 0;\n",
              "      width: 32px;\n",
              "    }\n",
              "\n",
              "    .colab-df-convert:hover {\n",
              "      background-color: #E2EBFA;\n",
              "      box-shadow: 0px 1px 2px rgba(60, 64, 67, 0.3), 0px 1px 3px 1px rgba(60, 64, 67, 0.15);\n",
              "      fill: #174EA6;\n",
              "    }\n",
              "\n",
              "    .colab-df-buttons div {\n",
              "      margin-bottom: 4px;\n",
              "    }\n",
              "\n",
              "    [theme=dark] .colab-df-convert {\n",
              "      background-color: #3B4455;\n",
              "      fill: #D2E3FC;\n",
              "    }\n",
              "\n",
              "    [theme=dark] .colab-df-convert:hover {\n",
              "      background-color: #434B5C;\n",
              "      box-shadow: 0px 1px 3px 1px rgba(0, 0, 0, 0.15);\n",
              "      filter: drop-shadow(0px 1px 2px rgba(0, 0, 0, 0.3));\n",
              "      fill: #FFFFFF;\n",
              "    }\n",
              "  </style>\n",
              "\n",
              "    <script>\n",
              "      const buttonEl =\n",
              "        document.querySelector('#df-a6efd868-a07f-4125-9a79-2f50733dedc3 button.colab-df-convert');\n",
              "      buttonEl.style.display =\n",
              "        google.colab.kernel.accessAllowed ? 'block' : 'none';\n",
              "\n",
              "      async function convertToInteractive(key) {\n",
              "        const element = document.querySelector('#df-a6efd868-a07f-4125-9a79-2f50733dedc3');\n",
              "        const dataTable =\n",
              "          await google.colab.kernel.invokeFunction('convertToInteractive',\n",
              "                                                    [key], {});\n",
              "        if (!dataTable) return;\n",
              "\n",
              "        const docLinkHtml = 'Like what you see? Visit the ' +\n",
              "          '<a target=\"_blank\" href=https://colab.research.google.com/notebooks/data_table.ipynb>data table notebook</a>'\n",
              "          + ' to learn more about interactive tables.';\n",
              "        element.innerHTML = '';\n",
              "        dataTable['output_type'] = 'display_data';\n",
              "        await google.colab.output.renderOutput(dataTable, element);\n",
              "        const docLink = document.createElement('div');\n",
              "        docLink.innerHTML = docLinkHtml;\n",
              "        element.appendChild(docLink);\n",
              "      }\n",
              "    </script>\n",
              "  </div>\n",
              "\n",
              "\n",
              "<div id=\"df-bf70a00d-4e56-4678-a218-a9e2a860e306\">\n",
              "  <button class=\"colab-df-quickchart\" onclick=\"quickchart('df-bf70a00d-4e56-4678-a218-a9e2a860e306')\"\n",
              "            title=\"Suggest charts\"\n",
              "            style=\"display:none;\">\n",
              "\n",
              "<svg xmlns=\"http://www.w3.org/2000/svg\" height=\"24px\"viewBox=\"0 0 24 24\"\n",
              "     width=\"24px\">\n",
              "    <g>\n",
              "        <path d=\"M19 3H5c-1.1 0-2 .9-2 2v14c0 1.1.9 2 2 2h14c1.1 0 2-.9 2-2V5c0-1.1-.9-2-2-2zM9 17H7v-7h2v7zm4 0h-2V7h2v10zm4 0h-2v-4h2v4z\"/>\n",
              "    </g>\n",
              "</svg>\n",
              "  </button>\n",
              "\n",
              "<style>\n",
              "  .colab-df-quickchart {\n",
              "      --bg-color: #E8F0FE;\n",
              "      --fill-color: #1967D2;\n",
              "      --hover-bg-color: #E2EBFA;\n",
              "      --hover-fill-color: #174EA6;\n",
              "      --disabled-fill-color: #AAA;\n",
              "      --disabled-bg-color: #DDD;\n",
              "  }\n",
              "\n",
              "  [theme=dark] .colab-df-quickchart {\n",
              "      --bg-color: #3B4455;\n",
              "      --fill-color: #D2E3FC;\n",
              "      --hover-bg-color: #434B5C;\n",
              "      --hover-fill-color: #FFFFFF;\n",
              "      --disabled-bg-color: #3B4455;\n",
              "      --disabled-fill-color: #666;\n",
              "  }\n",
              "\n",
              "  .colab-df-quickchart {\n",
              "    background-color: var(--bg-color);\n",
              "    border: none;\n",
              "    border-radius: 50%;\n",
              "    cursor: pointer;\n",
              "    display: none;\n",
              "    fill: var(--fill-color);\n",
              "    height: 32px;\n",
              "    padding: 0;\n",
              "    width: 32px;\n",
              "  }\n",
              "\n",
              "  .colab-df-quickchart:hover {\n",
              "    background-color: var(--hover-bg-color);\n",
              "    box-shadow: 0 1px 2px rgba(60, 64, 67, 0.3), 0 1px 3px 1px rgba(60, 64, 67, 0.15);\n",
              "    fill: var(--button-hover-fill-color);\n",
              "  }\n",
              "\n",
              "  .colab-df-quickchart-complete:disabled,\n",
              "  .colab-df-quickchart-complete:disabled:hover {\n",
              "    background-color: var(--disabled-bg-color);\n",
              "    fill: var(--disabled-fill-color);\n",
              "    box-shadow: none;\n",
              "  }\n",
              "\n",
              "  .colab-df-spinner {\n",
              "    border: 2px solid var(--fill-color);\n",
              "    border-color: transparent;\n",
              "    border-bottom-color: var(--fill-color);\n",
              "    animation:\n",
              "      spin 1s steps(1) infinite;\n",
              "  }\n",
              "\n",
              "  @keyframes spin {\n",
              "    0% {\n",
              "      border-color: transparent;\n",
              "      border-bottom-color: var(--fill-color);\n",
              "      border-left-color: var(--fill-color);\n",
              "    }\n",
              "    20% {\n",
              "      border-color: transparent;\n",
              "      border-left-color: var(--fill-color);\n",
              "      border-top-color: var(--fill-color);\n",
              "    }\n",
              "    30% {\n",
              "      border-color: transparent;\n",
              "      border-left-color: var(--fill-color);\n",
              "      border-top-color: var(--fill-color);\n",
              "      border-right-color: var(--fill-color);\n",
              "    }\n",
              "    40% {\n",
              "      border-color: transparent;\n",
              "      border-right-color: var(--fill-color);\n",
              "      border-top-color: var(--fill-color);\n",
              "    }\n",
              "    60% {\n",
              "      border-color: transparent;\n",
              "      border-right-color: var(--fill-color);\n",
              "    }\n",
              "    80% {\n",
              "      border-color: transparent;\n",
              "      border-right-color: var(--fill-color);\n",
              "      border-bottom-color: var(--fill-color);\n",
              "    }\n",
              "    90% {\n",
              "      border-color: transparent;\n",
              "      border-bottom-color: var(--fill-color);\n",
              "    }\n",
              "  }\n",
              "</style>\n",
              "\n",
              "  <script>\n",
              "    async function quickchart(key) {\n",
              "      const quickchartButtonEl =\n",
              "        document.querySelector('#' + key + ' button');\n",
              "      quickchartButtonEl.disabled = true;  // To prevent multiple clicks.\n",
              "      quickchartButtonEl.classList.add('colab-df-spinner');\n",
              "      try {\n",
              "        const charts = await google.colab.kernel.invokeFunction(\n",
              "            'suggestCharts', [key], {});\n",
              "      } catch (error) {\n",
              "        console.error('Error during call to suggestCharts:', error);\n",
              "      }\n",
              "      quickchartButtonEl.classList.remove('colab-df-spinner');\n",
              "      quickchartButtonEl.classList.add('colab-df-quickchart-complete');\n",
              "    }\n",
              "    (() => {\n",
              "      let quickchartButtonEl =\n",
              "        document.querySelector('#df-bf70a00d-4e56-4678-a218-a9e2a860e306 button');\n",
              "      quickchartButtonEl.style.display =\n",
              "        google.colab.kernel.accessAllowed ? 'block' : 'none';\n",
              "    })();\n",
              "  </script>\n",
              "</div>\n",
              "\n",
              "    </div>\n",
              "  </div>\n"
            ],
            "application/vnd.google.colaboratory.intrinsic+json": {
              "type": "dataframe"
            }
          },
          "metadata": {},
          "execution_count": 13
        }
      ]
    },
    {
      "cell_type": "code",
      "source": [
        "dataset = dataset.drop_duplicates().reset_index(drop=True)"
      ],
      "metadata": {
        "id": "o8Z7lIE1qmp-"
      },
      "execution_count": 14,
      "outputs": []
    },
    {
      "cell_type": "code",
      "source": [
        "dataset[dataset.duplicated()]"
      ],
      "metadata": {
        "colab": {
          "base_uri": "https://localhost:8080/",
          "height": 53
        },
        "id": "ovF8erudrdSx",
        "outputId": "48639fb0-5d85-431e-945d-b440f5c5ec7f"
      },
      "execution_count": 15,
      "outputs": [
        {
          "output_type": "execute_result",
          "data": {
            "text/plain": [
              "Empty DataFrame\n",
              "Columns: [Summary, Text, Score]\n",
              "Index: []"
            ],
            "text/html": [
              "\n",
              "  <div id=\"df-7ef5373e-ba40-4fa5-a7f3-a7d213bccd15\" class=\"colab-df-container\">\n",
              "    <div>\n",
              "<style scoped>\n",
              "    .dataframe tbody tr th:only-of-type {\n",
              "        vertical-align: middle;\n",
              "    }\n",
              "\n",
              "    .dataframe tbody tr th {\n",
              "        vertical-align: top;\n",
              "    }\n",
              "\n",
              "    .dataframe thead th {\n",
              "        text-align: right;\n",
              "    }\n",
              "</style>\n",
              "<table border=\"1\" class=\"dataframe\">\n",
              "  <thead>\n",
              "    <tr style=\"text-align: right;\">\n",
              "      <th></th>\n",
              "      <th>Summary</th>\n",
              "      <th>Text</th>\n",
              "      <th>Score</th>\n",
              "    </tr>\n",
              "  </thead>\n",
              "  <tbody>\n",
              "  </tbody>\n",
              "</table>\n",
              "</div>\n",
              "    <div class=\"colab-df-buttons\">\n",
              "\n",
              "  <div class=\"colab-df-container\">\n",
              "    <button class=\"colab-df-convert\" onclick=\"convertToInteractive('df-7ef5373e-ba40-4fa5-a7f3-a7d213bccd15')\"\n",
              "            title=\"Convert this dataframe to an interactive table.\"\n",
              "            style=\"display:none;\">\n",
              "\n",
              "  <svg xmlns=\"http://www.w3.org/2000/svg\" height=\"24px\" viewBox=\"0 -960 960 960\">\n",
              "    <path d=\"M120-120v-720h720v720H120Zm60-500h600v-160H180v160Zm220 220h160v-160H400v160Zm0 220h160v-160H400v160ZM180-400h160v-160H180v160Zm440 0h160v-160H620v160ZM180-180h160v-160H180v160Zm440 0h160v-160H620v160Z\"/>\n",
              "  </svg>\n",
              "    </button>\n",
              "\n",
              "  <style>\n",
              "    .colab-df-container {\n",
              "      display:flex;\n",
              "      gap: 12px;\n",
              "    }\n",
              "\n",
              "    .colab-df-convert {\n",
              "      background-color: #E8F0FE;\n",
              "      border: none;\n",
              "      border-radius: 50%;\n",
              "      cursor: pointer;\n",
              "      display: none;\n",
              "      fill: #1967D2;\n",
              "      height: 32px;\n",
              "      padding: 0 0 0 0;\n",
              "      width: 32px;\n",
              "    }\n",
              "\n",
              "    .colab-df-convert:hover {\n",
              "      background-color: #E2EBFA;\n",
              "      box-shadow: 0px 1px 2px rgba(60, 64, 67, 0.3), 0px 1px 3px 1px rgba(60, 64, 67, 0.15);\n",
              "      fill: #174EA6;\n",
              "    }\n",
              "\n",
              "    .colab-df-buttons div {\n",
              "      margin-bottom: 4px;\n",
              "    }\n",
              "\n",
              "    [theme=dark] .colab-df-convert {\n",
              "      background-color: #3B4455;\n",
              "      fill: #D2E3FC;\n",
              "    }\n",
              "\n",
              "    [theme=dark] .colab-df-convert:hover {\n",
              "      background-color: #434B5C;\n",
              "      box-shadow: 0px 1px 3px 1px rgba(0, 0, 0, 0.15);\n",
              "      filter: drop-shadow(0px 1px 2px rgba(0, 0, 0, 0.3));\n",
              "      fill: #FFFFFF;\n",
              "    }\n",
              "  </style>\n",
              "\n",
              "    <script>\n",
              "      const buttonEl =\n",
              "        document.querySelector('#df-7ef5373e-ba40-4fa5-a7f3-a7d213bccd15 button.colab-df-convert');\n",
              "      buttonEl.style.display =\n",
              "        google.colab.kernel.accessAllowed ? 'block' : 'none';\n",
              "\n",
              "      async function convertToInteractive(key) {\n",
              "        const element = document.querySelector('#df-7ef5373e-ba40-4fa5-a7f3-a7d213bccd15');\n",
              "        const dataTable =\n",
              "          await google.colab.kernel.invokeFunction('convertToInteractive',\n",
              "                                                    [key], {});\n",
              "        if (!dataTable) return;\n",
              "\n",
              "        const docLinkHtml = 'Like what you see? Visit the ' +\n",
              "          '<a target=\"_blank\" href=https://colab.research.google.com/notebooks/data_table.ipynb>data table notebook</a>'\n",
              "          + ' to learn more about interactive tables.';\n",
              "        element.innerHTML = '';\n",
              "        dataTable['output_type'] = 'display_data';\n",
              "        await google.colab.output.renderOutput(dataTable, element);\n",
              "        const docLink = document.createElement('div');\n",
              "        docLink.innerHTML = docLinkHtml;\n",
              "        element.appendChild(docLink);\n",
              "      }\n",
              "    </script>\n",
              "  </div>\n",
              "\n",
              "\n",
              "    </div>\n",
              "  </div>\n"
            ],
            "application/vnd.google.colaboratory.intrinsic+json": {
              "type": "dataframe",
              "repr_error": "Out of range float values are not JSON compliant: nan"
            }
          },
          "metadata": {},
          "execution_count": 15
        }
      ]
    },
    {
      "cell_type": "code",
      "source": [
        "dataset"
      ],
      "metadata": {
        "colab": {
          "base_uri": "https://localhost:8080/",
          "height": 424
        },
        "id": "Zfvk_2pSrfLm",
        "outputId": "83c704fa-6a42-4beb-f726-e06c0030e480"
      },
      "execution_count": 16,
      "outputs": [
        {
          "output_type": "execute_result",
          "data": {
            "text/plain": [
              "                                                  Summary  \\\n",
              "0             Can really notice when I am not drinking it   \n",
              "1                                 Okay, just not the best   \n",
              "2       goo source of fiber, not so much a source of c...   \n",
              "3                                         Great GF Staple   \n",
              "4       Coffee just doesn't taste right without Sweet ...   \n",
              "...                                                   ...   \n",
              "309112             Ahhh.... Very good for afternoon break   \n",
              "309113                                       Good Tasting   \n",
              "309114                                    funnel cake mix   \n",
              "309115                                 Yummy Fruit Snacks   \n",
              "309116                                       Great coffee   \n",
              "\n",
              "                                                     Text  Score  \n",
              "0       I have had hormone problems in the past couple...      5  \n",
              "1       This is a decent balsamic glaze/reducation.<br...      4  \n",
              "2       the cookie is moist and chewy and has a great ...      3  \n",
              "3       I have a 4 yr old and a 2 yr old that can't ea...      5  \n",
              "4       We have drunk our coffee for 45 years using th...      5  \n",
              "...                                                   ...    ...  \n",
              "309112  I am now enjoying my first cup of this tea; th...      5  \n",
              "309113  This tomato paste makes an excellent spaghetti...      5  \n",
              "309114  This is very good and just like the gourmet on...      4  \n",
              "309115  I bought these for my kids but find myself eat...      5  \n",
              "309116  eight oclock makes great coffee and with balan...      5  \n",
              "\n",
              "[309117 rows x 3 columns]"
            ],
            "text/html": [
              "\n",
              "  <div id=\"df-3407e455-a503-4489-a662-402a6a2972d3\" class=\"colab-df-container\">\n",
              "    <div>\n",
              "<style scoped>\n",
              "    .dataframe tbody tr th:only-of-type {\n",
              "        vertical-align: middle;\n",
              "    }\n",
              "\n",
              "    .dataframe tbody tr th {\n",
              "        vertical-align: top;\n",
              "    }\n",
              "\n",
              "    .dataframe thead th {\n",
              "        text-align: right;\n",
              "    }\n",
              "</style>\n",
              "<table border=\"1\" class=\"dataframe\">\n",
              "  <thead>\n",
              "    <tr style=\"text-align: right;\">\n",
              "      <th></th>\n",
              "      <th>Summary</th>\n",
              "      <th>Text</th>\n",
              "      <th>Score</th>\n",
              "    </tr>\n",
              "  </thead>\n",
              "  <tbody>\n",
              "    <tr>\n",
              "      <th>0</th>\n",
              "      <td>Can really notice when I am not drinking it</td>\n",
              "      <td>I have had hormone problems in the past couple...</td>\n",
              "      <td>5</td>\n",
              "    </tr>\n",
              "    <tr>\n",
              "      <th>1</th>\n",
              "      <td>Okay, just not the best</td>\n",
              "      <td>This is a decent balsamic glaze/reducation.&lt;br...</td>\n",
              "      <td>4</td>\n",
              "    </tr>\n",
              "    <tr>\n",
              "      <th>2</th>\n",
              "      <td>goo source of fiber, not so much a source of c...</td>\n",
              "      <td>the cookie is moist and chewy and has a great ...</td>\n",
              "      <td>3</td>\n",
              "    </tr>\n",
              "    <tr>\n",
              "      <th>3</th>\n",
              "      <td>Great GF Staple</td>\n",
              "      <td>I have a 4 yr old and a 2 yr old that can't ea...</td>\n",
              "      <td>5</td>\n",
              "    </tr>\n",
              "    <tr>\n",
              "      <th>4</th>\n",
              "      <td>Coffee just doesn't taste right without Sweet ...</td>\n",
              "      <td>We have drunk our coffee for 45 years using th...</td>\n",
              "      <td>5</td>\n",
              "    </tr>\n",
              "    <tr>\n",
              "      <th>...</th>\n",
              "      <td>...</td>\n",
              "      <td>...</td>\n",
              "      <td>...</td>\n",
              "    </tr>\n",
              "    <tr>\n",
              "      <th>309112</th>\n",
              "      <td>Ahhh.... Very good for afternoon break</td>\n",
              "      <td>I am now enjoying my first cup of this tea; th...</td>\n",
              "      <td>5</td>\n",
              "    </tr>\n",
              "    <tr>\n",
              "      <th>309113</th>\n",
              "      <td>Good Tasting</td>\n",
              "      <td>This tomato paste makes an excellent spaghetti...</td>\n",
              "      <td>5</td>\n",
              "    </tr>\n",
              "    <tr>\n",
              "      <th>309114</th>\n",
              "      <td>funnel cake mix</td>\n",
              "      <td>This is very good and just like the gourmet on...</td>\n",
              "      <td>4</td>\n",
              "    </tr>\n",
              "    <tr>\n",
              "      <th>309115</th>\n",
              "      <td>Yummy Fruit Snacks</td>\n",
              "      <td>I bought these for my kids but find myself eat...</td>\n",
              "      <td>5</td>\n",
              "    </tr>\n",
              "    <tr>\n",
              "      <th>309116</th>\n",
              "      <td>Great coffee</td>\n",
              "      <td>eight oclock makes great coffee and with balan...</td>\n",
              "      <td>5</td>\n",
              "    </tr>\n",
              "  </tbody>\n",
              "</table>\n",
              "<p>309117 rows × 3 columns</p>\n",
              "</div>\n",
              "    <div class=\"colab-df-buttons\">\n",
              "\n",
              "  <div class=\"colab-df-container\">\n",
              "    <button class=\"colab-df-convert\" onclick=\"convertToInteractive('df-3407e455-a503-4489-a662-402a6a2972d3')\"\n",
              "            title=\"Convert this dataframe to an interactive table.\"\n",
              "            style=\"display:none;\">\n",
              "\n",
              "  <svg xmlns=\"http://www.w3.org/2000/svg\" height=\"24px\" viewBox=\"0 -960 960 960\">\n",
              "    <path d=\"M120-120v-720h720v720H120Zm60-500h600v-160H180v160Zm220 220h160v-160H400v160Zm0 220h160v-160H400v160ZM180-400h160v-160H180v160Zm440 0h160v-160H620v160ZM180-180h160v-160H180v160Zm440 0h160v-160H620v160Z\"/>\n",
              "  </svg>\n",
              "    </button>\n",
              "\n",
              "  <style>\n",
              "    .colab-df-container {\n",
              "      display:flex;\n",
              "      gap: 12px;\n",
              "    }\n",
              "\n",
              "    .colab-df-convert {\n",
              "      background-color: #E8F0FE;\n",
              "      border: none;\n",
              "      border-radius: 50%;\n",
              "      cursor: pointer;\n",
              "      display: none;\n",
              "      fill: #1967D2;\n",
              "      height: 32px;\n",
              "      padding: 0 0 0 0;\n",
              "      width: 32px;\n",
              "    }\n",
              "\n",
              "    .colab-df-convert:hover {\n",
              "      background-color: #E2EBFA;\n",
              "      box-shadow: 0px 1px 2px rgba(60, 64, 67, 0.3), 0px 1px 3px 1px rgba(60, 64, 67, 0.15);\n",
              "      fill: #174EA6;\n",
              "    }\n",
              "\n",
              "    .colab-df-buttons div {\n",
              "      margin-bottom: 4px;\n",
              "    }\n",
              "\n",
              "    [theme=dark] .colab-df-convert {\n",
              "      background-color: #3B4455;\n",
              "      fill: #D2E3FC;\n",
              "    }\n",
              "\n",
              "    [theme=dark] .colab-df-convert:hover {\n",
              "      background-color: #434B5C;\n",
              "      box-shadow: 0px 1px 3px 1px rgba(0, 0, 0, 0.15);\n",
              "      filter: drop-shadow(0px 1px 2px rgba(0, 0, 0, 0.3));\n",
              "      fill: #FFFFFF;\n",
              "    }\n",
              "  </style>\n",
              "\n",
              "    <script>\n",
              "      const buttonEl =\n",
              "        document.querySelector('#df-3407e455-a503-4489-a662-402a6a2972d3 button.colab-df-convert');\n",
              "      buttonEl.style.display =\n",
              "        google.colab.kernel.accessAllowed ? 'block' : 'none';\n",
              "\n",
              "      async function convertToInteractive(key) {\n",
              "        const element = document.querySelector('#df-3407e455-a503-4489-a662-402a6a2972d3');\n",
              "        const dataTable =\n",
              "          await google.colab.kernel.invokeFunction('convertToInteractive',\n",
              "                                                    [key], {});\n",
              "        if (!dataTable) return;\n",
              "\n",
              "        const docLinkHtml = 'Like what you see? Visit the ' +\n",
              "          '<a target=\"_blank\" href=https://colab.research.google.com/notebooks/data_table.ipynb>data table notebook</a>'\n",
              "          + ' to learn more about interactive tables.';\n",
              "        element.innerHTML = '';\n",
              "        dataTable['output_type'] = 'display_data';\n",
              "        await google.colab.output.renderOutput(dataTable, element);\n",
              "        const docLink = document.createElement('div');\n",
              "        docLink.innerHTML = docLinkHtml;\n",
              "        element.appendChild(docLink);\n",
              "      }\n",
              "    </script>\n",
              "  </div>\n",
              "\n",
              "\n",
              "<div id=\"df-d2f50f5b-21cd-4d0d-84c7-81e8031fefcf\">\n",
              "  <button class=\"colab-df-quickchart\" onclick=\"quickchart('df-d2f50f5b-21cd-4d0d-84c7-81e8031fefcf')\"\n",
              "            title=\"Suggest charts\"\n",
              "            style=\"display:none;\">\n",
              "\n",
              "<svg xmlns=\"http://www.w3.org/2000/svg\" height=\"24px\"viewBox=\"0 0 24 24\"\n",
              "     width=\"24px\">\n",
              "    <g>\n",
              "        <path d=\"M19 3H5c-1.1 0-2 .9-2 2v14c0 1.1.9 2 2 2h14c1.1 0 2-.9 2-2V5c0-1.1-.9-2-2-2zM9 17H7v-7h2v7zm4 0h-2V7h2v10zm4 0h-2v-4h2v4z\"/>\n",
              "    </g>\n",
              "</svg>\n",
              "  </button>\n",
              "\n",
              "<style>\n",
              "  .colab-df-quickchart {\n",
              "      --bg-color: #E8F0FE;\n",
              "      --fill-color: #1967D2;\n",
              "      --hover-bg-color: #E2EBFA;\n",
              "      --hover-fill-color: #174EA6;\n",
              "      --disabled-fill-color: #AAA;\n",
              "      --disabled-bg-color: #DDD;\n",
              "  }\n",
              "\n",
              "  [theme=dark] .colab-df-quickchart {\n",
              "      --bg-color: #3B4455;\n",
              "      --fill-color: #D2E3FC;\n",
              "      --hover-bg-color: #434B5C;\n",
              "      --hover-fill-color: #FFFFFF;\n",
              "      --disabled-bg-color: #3B4455;\n",
              "      --disabled-fill-color: #666;\n",
              "  }\n",
              "\n",
              "  .colab-df-quickchart {\n",
              "    background-color: var(--bg-color);\n",
              "    border: none;\n",
              "    border-radius: 50%;\n",
              "    cursor: pointer;\n",
              "    display: none;\n",
              "    fill: var(--fill-color);\n",
              "    height: 32px;\n",
              "    padding: 0;\n",
              "    width: 32px;\n",
              "  }\n",
              "\n",
              "  .colab-df-quickchart:hover {\n",
              "    background-color: var(--hover-bg-color);\n",
              "    box-shadow: 0 1px 2px rgba(60, 64, 67, 0.3), 0 1px 3px 1px rgba(60, 64, 67, 0.15);\n",
              "    fill: var(--button-hover-fill-color);\n",
              "  }\n",
              "\n",
              "  .colab-df-quickchart-complete:disabled,\n",
              "  .colab-df-quickchart-complete:disabled:hover {\n",
              "    background-color: var(--disabled-bg-color);\n",
              "    fill: var(--disabled-fill-color);\n",
              "    box-shadow: none;\n",
              "  }\n",
              "\n",
              "  .colab-df-spinner {\n",
              "    border: 2px solid var(--fill-color);\n",
              "    border-color: transparent;\n",
              "    border-bottom-color: var(--fill-color);\n",
              "    animation:\n",
              "      spin 1s steps(1) infinite;\n",
              "  }\n",
              "\n",
              "  @keyframes spin {\n",
              "    0% {\n",
              "      border-color: transparent;\n",
              "      border-bottom-color: var(--fill-color);\n",
              "      border-left-color: var(--fill-color);\n",
              "    }\n",
              "    20% {\n",
              "      border-color: transparent;\n",
              "      border-left-color: var(--fill-color);\n",
              "      border-top-color: var(--fill-color);\n",
              "    }\n",
              "    30% {\n",
              "      border-color: transparent;\n",
              "      border-left-color: var(--fill-color);\n",
              "      border-top-color: var(--fill-color);\n",
              "      border-right-color: var(--fill-color);\n",
              "    }\n",
              "    40% {\n",
              "      border-color: transparent;\n",
              "      border-right-color: var(--fill-color);\n",
              "      border-top-color: var(--fill-color);\n",
              "    }\n",
              "    60% {\n",
              "      border-color: transparent;\n",
              "      border-right-color: var(--fill-color);\n",
              "    }\n",
              "    80% {\n",
              "      border-color: transparent;\n",
              "      border-right-color: var(--fill-color);\n",
              "      border-bottom-color: var(--fill-color);\n",
              "    }\n",
              "    90% {\n",
              "      border-color: transparent;\n",
              "      border-bottom-color: var(--fill-color);\n",
              "    }\n",
              "  }\n",
              "</style>\n",
              "\n",
              "  <script>\n",
              "    async function quickchart(key) {\n",
              "      const quickchartButtonEl =\n",
              "        document.querySelector('#' + key + ' button');\n",
              "      quickchartButtonEl.disabled = true;  // To prevent multiple clicks.\n",
              "      quickchartButtonEl.classList.add('colab-df-spinner');\n",
              "      try {\n",
              "        const charts = await google.colab.kernel.invokeFunction(\n",
              "            'suggestCharts', [key], {});\n",
              "      } catch (error) {\n",
              "        console.error('Error during call to suggestCharts:', error);\n",
              "      }\n",
              "      quickchartButtonEl.classList.remove('colab-df-spinner');\n",
              "      quickchartButtonEl.classList.add('colab-df-quickchart-complete');\n",
              "    }\n",
              "    (() => {\n",
              "      let quickchartButtonEl =\n",
              "        document.querySelector('#df-d2f50f5b-21cd-4d0d-84c7-81e8031fefcf button');\n",
              "      quickchartButtonEl.style.display =\n",
              "        google.colab.kernel.accessAllowed ? 'block' : 'none';\n",
              "    })();\n",
              "  </script>\n",
              "</div>\n",
              "\n",
              "  <div id=\"id_15de4621-04c4-452b-8955-cd2c7504ed78\">\n",
              "    <style>\n",
              "      .colab-df-generate {\n",
              "        background-color: #E8F0FE;\n",
              "        border: none;\n",
              "        border-radius: 50%;\n",
              "        cursor: pointer;\n",
              "        display: none;\n",
              "        fill: #1967D2;\n",
              "        height: 32px;\n",
              "        padding: 0 0 0 0;\n",
              "        width: 32px;\n",
              "      }\n",
              "\n",
              "      .colab-df-generate:hover {\n",
              "        background-color: #E2EBFA;\n",
              "        box-shadow: 0px 1px 2px rgba(60, 64, 67, 0.3), 0px 1px 3px 1px rgba(60, 64, 67, 0.15);\n",
              "        fill: #174EA6;\n",
              "      }\n",
              "\n",
              "      [theme=dark] .colab-df-generate {\n",
              "        background-color: #3B4455;\n",
              "        fill: #D2E3FC;\n",
              "      }\n",
              "\n",
              "      [theme=dark] .colab-df-generate:hover {\n",
              "        background-color: #434B5C;\n",
              "        box-shadow: 0px 1px 3px 1px rgba(0, 0, 0, 0.15);\n",
              "        filter: drop-shadow(0px 1px 2px rgba(0, 0, 0, 0.3));\n",
              "        fill: #FFFFFF;\n",
              "      }\n",
              "    </style>\n",
              "    <button class=\"colab-df-generate\" onclick=\"generateWithVariable('dataset')\"\n",
              "            title=\"Generate code using this dataframe.\"\n",
              "            style=\"display:none;\">\n",
              "\n",
              "  <svg xmlns=\"http://www.w3.org/2000/svg\" height=\"24px\"viewBox=\"0 0 24 24\"\n",
              "       width=\"24px\">\n",
              "    <path d=\"M7,19H8.4L18.45,9,17,7.55,7,17.6ZM5,21V16.75L18.45,3.32a2,2,0,0,1,2.83,0l1.4,1.43a1.91,1.91,0,0,1,.58,1.4,1.91,1.91,0,0,1-.58,1.4L9.25,21ZM18.45,9,17,7.55Zm-12,3A5.31,5.31,0,0,0,4.9,8.1,5.31,5.31,0,0,0,1,6.5,5.31,5.31,0,0,0,4.9,4.9,5.31,5.31,0,0,0,6.5,1,5.31,5.31,0,0,0,8.1,4.9,5.31,5.31,0,0,0,12,6.5,5.46,5.46,0,0,0,6.5,12Z\"/>\n",
              "  </svg>\n",
              "    </button>\n",
              "    <script>\n",
              "      (() => {\n",
              "      const buttonEl =\n",
              "        document.querySelector('#id_15de4621-04c4-452b-8955-cd2c7504ed78 button.colab-df-generate');\n",
              "      buttonEl.style.display =\n",
              "        google.colab.kernel.accessAllowed ? 'block' : 'none';\n",
              "\n",
              "      buttonEl.onclick = () => {\n",
              "        google.colab.notebook.generateWithVariable('dataset');\n",
              "      }\n",
              "      })();\n",
              "    </script>\n",
              "  </div>\n",
              "\n",
              "    </div>\n",
              "  </div>\n"
            ],
            "application/vnd.google.colaboratory.intrinsic+json": {
              "type": "dataframe",
              "variable_name": "dataset"
            }
          },
          "metadata": {},
          "execution_count": 16
        }
      ]
    },
    {
      "cell_type": "code",
      "source": [
        "dataset.info()"
      ],
      "metadata": {
        "colab": {
          "base_uri": "https://localhost:8080/"
        },
        "id": "hA7zOkoXtC7Z",
        "outputId": "da03f8d4-bf72-4f80-c56a-1441f8ca08a4"
      },
      "execution_count": 17,
      "outputs": [
        {
          "output_type": "stream",
          "name": "stdout",
          "text": [
            "<class 'pandas.core.frame.DataFrame'>\n",
            "RangeIndex: 309117 entries, 0 to 309116\n",
            "Data columns (total 3 columns):\n",
            " #   Column   Non-Null Count   Dtype \n",
            "---  ------   --------------   ----- \n",
            " 0   Summary  309115 non-null  object\n",
            " 1   Text     309117 non-null  object\n",
            " 2   Score    309117 non-null  int64 \n",
            "dtypes: int64(1), object(2)\n",
            "memory usage: 7.1+ MB\n"
          ]
        }
      ]
    },
    {
      "cell_type": "code",
      "source": [
        "dataset.loc[dataset['Summary'].isnull()]"
      ],
      "metadata": {
        "colab": {
          "base_uri": "https://localhost:8080/",
          "height": 112
        },
        "id": "FCkHTF3mt6JV",
        "outputId": "1ced464a-65c1-45e8-e915-e1795b9de373"
      },
      "execution_count": 18,
      "outputs": [
        {
          "output_type": "execute_result",
          "data": {
            "text/plain": [
              "       Summary                                               Text  Score\n",
              "41580      NaN  I only used two maybe three tea bags and got p...      2\n",
              "141441     NaN  I like the product and tried it before I pucha...      3"
            ],
            "text/html": [
              "\n",
              "  <div id=\"df-434679a8-9142-40e0-bcd2-655dd9f955c2\" class=\"colab-df-container\">\n",
              "    <div>\n",
              "<style scoped>\n",
              "    .dataframe tbody tr th:only-of-type {\n",
              "        vertical-align: middle;\n",
              "    }\n",
              "\n",
              "    .dataframe tbody tr th {\n",
              "        vertical-align: top;\n",
              "    }\n",
              "\n",
              "    .dataframe thead th {\n",
              "        text-align: right;\n",
              "    }\n",
              "</style>\n",
              "<table border=\"1\" class=\"dataframe\">\n",
              "  <thead>\n",
              "    <tr style=\"text-align: right;\">\n",
              "      <th></th>\n",
              "      <th>Summary</th>\n",
              "      <th>Text</th>\n",
              "      <th>Score</th>\n",
              "    </tr>\n",
              "  </thead>\n",
              "  <tbody>\n",
              "    <tr>\n",
              "      <th>41580</th>\n",
              "      <td>NaN</td>\n",
              "      <td>I only used two maybe three tea bags and got p...</td>\n",
              "      <td>2</td>\n",
              "    </tr>\n",
              "    <tr>\n",
              "      <th>141441</th>\n",
              "      <td>NaN</td>\n",
              "      <td>I like the product and tried it before I pucha...</td>\n",
              "      <td>3</td>\n",
              "    </tr>\n",
              "  </tbody>\n",
              "</table>\n",
              "</div>\n",
              "    <div class=\"colab-df-buttons\">\n",
              "\n",
              "  <div class=\"colab-df-container\">\n",
              "    <button class=\"colab-df-convert\" onclick=\"convertToInteractive('df-434679a8-9142-40e0-bcd2-655dd9f955c2')\"\n",
              "            title=\"Convert this dataframe to an interactive table.\"\n",
              "            style=\"display:none;\">\n",
              "\n",
              "  <svg xmlns=\"http://www.w3.org/2000/svg\" height=\"24px\" viewBox=\"0 -960 960 960\">\n",
              "    <path d=\"M120-120v-720h720v720H120Zm60-500h600v-160H180v160Zm220 220h160v-160H400v160Zm0 220h160v-160H400v160ZM180-400h160v-160H180v160Zm440 0h160v-160H620v160ZM180-180h160v-160H180v160Zm440 0h160v-160H620v160Z\"/>\n",
              "  </svg>\n",
              "    </button>\n",
              "\n",
              "  <style>\n",
              "    .colab-df-container {\n",
              "      display:flex;\n",
              "      gap: 12px;\n",
              "    }\n",
              "\n",
              "    .colab-df-convert {\n",
              "      background-color: #E8F0FE;\n",
              "      border: none;\n",
              "      border-radius: 50%;\n",
              "      cursor: pointer;\n",
              "      display: none;\n",
              "      fill: #1967D2;\n",
              "      height: 32px;\n",
              "      padding: 0 0 0 0;\n",
              "      width: 32px;\n",
              "    }\n",
              "\n",
              "    .colab-df-convert:hover {\n",
              "      background-color: #E2EBFA;\n",
              "      box-shadow: 0px 1px 2px rgba(60, 64, 67, 0.3), 0px 1px 3px 1px rgba(60, 64, 67, 0.15);\n",
              "      fill: #174EA6;\n",
              "    }\n",
              "\n",
              "    .colab-df-buttons div {\n",
              "      margin-bottom: 4px;\n",
              "    }\n",
              "\n",
              "    [theme=dark] .colab-df-convert {\n",
              "      background-color: #3B4455;\n",
              "      fill: #D2E3FC;\n",
              "    }\n",
              "\n",
              "    [theme=dark] .colab-df-convert:hover {\n",
              "      background-color: #434B5C;\n",
              "      box-shadow: 0px 1px 3px 1px rgba(0, 0, 0, 0.15);\n",
              "      filter: drop-shadow(0px 1px 2px rgba(0, 0, 0, 0.3));\n",
              "      fill: #FFFFFF;\n",
              "    }\n",
              "  </style>\n",
              "\n",
              "    <script>\n",
              "      const buttonEl =\n",
              "        document.querySelector('#df-434679a8-9142-40e0-bcd2-655dd9f955c2 button.colab-df-convert');\n",
              "      buttonEl.style.display =\n",
              "        google.colab.kernel.accessAllowed ? 'block' : 'none';\n",
              "\n",
              "      async function convertToInteractive(key) {\n",
              "        const element = document.querySelector('#df-434679a8-9142-40e0-bcd2-655dd9f955c2');\n",
              "        const dataTable =\n",
              "          await google.colab.kernel.invokeFunction('convertToInteractive',\n",
              "                                                    [key], {});\n",
              "        if (!dataTable) return;\n",
              "\n",
              "        const docLinkHtml = 'Like what you see? Visit the ' +\n",
              "          '<a target=\"_blank\" href=https://colab.research.google.com/notebooks/data_table.ipynb>data table notebook</a>'\n",
              "          + ' to learn more about interactive tables.';\n",
              "        element.innerHTML = '';\n",
              "        dataTable['output_type'] = 'display_data';\n",
              "        await google.colab.output.renderOutput(dataTable, element);\n",
              "        const docLink = document.createElement('div');\n",
              "        docLink.innerHTML = docLinkHtml;\n",
              "        element.appendChild(docLink);\n",
              "      }\n",
              "    </script>\n",
              "  </div>\n",
              "\n",
              "\n",
              "<div id=\"df-48332a6a-1ad3-4514-bef9-21bf05dfbb53\">\n",
              "  <button class=\"colab-df-quickchart\" onclick=\"quickchart('df-48332a6a-1ad3-4514-bef9-21bf05dfbb53')\"\n",
              "            title=\"Suggest charts\"\n",
              "            style=\"display:none;\">\n",
              "\n",
              "<svg xmlns=\"http://www.w3.org/2000/svg\" height=\"24px\"viewBox=\"0 0 24 24\"\n",
              "     width=\"24px\">\n",
              "    <g>\n",
              "        <path d=\"M19 3H5c-1.1 0-2 .9-2 2v14c0 1.1.9 2 2 2h14c1.1 0 2-.9 2-2V5c0-1.1-.9-2-2-2zM9 17H7v-7h2v7zm4 0h-2V7h2v10zm4 0h-2v-4h2v4z\"/>\n",
              "    </g>\n",
              "</svg>\n",
              "  </button>\n",
              "\n",
              "<style>\n",
              "  .colab-df-quickchart {\n",
              "      --bg-color: #E8F0FE;\n",
              "      --fill-color: #1967D2;\n",
              "      --hover-bg-color: #E2EBFA;\n",
              "      --hover-fill-color: #174EA6;\n",
              "      --disabled-fill-color: #AAA;\n",
              "      --disabled-bg-color: #DDD;\n",
              "  }\n",
              "\n",
              "  [theme=dark] .colab-df-quickchart {\n",
              "      --bg-color: #3B4455;\n",
              "      --fill-color: #D2E3FC;\n",
              "      --hover-bg-color: #434B5C;\n",
              "      --hover-fill-color: #FFFFFF;\n",
              "      --disabled-bg-color: #3B4455;\n",
              "      --disabled-fill-color: #666;\n",
              "  }\n",
              "\n",
              "  .colab-df-quickchart {\n",
              "    background-color: var(--bg-color);\n",
              "    border: none;\n",
              "    border-radius: 50%;\n",
              "    cursor: pointer;\n",
              "    display: none;\n",
              "    fill: var(--fill-color);\n",
              "    height: 32px;\n",
              "    padding: 0;\n",
              "    width: 32px;\n",
              "  }\n",
              "\n",
              "  .colab-df-quickchart:hover {\n",
              "    background-color: var(--hover-bg-color);\n",
              "    box-shadow: 0 1px 2px rgba(60, 64, 67, 0.3), 0 1px 3px 1px rgba(60, 64, 67, 0.15);\n",
              "    fill: var(--button-hover-fill-color);\n",
              "  }\n",
              "\n",
              "  .colab-df-quickchart-complete:disabled,\n",
              "  .colab-df-quickchart-complete:disabled:hover {\n",
              "    background-color: var(--disabled-bg-color);\n",
              "    fill: var(--disabled-fill-color);\n",
              "    box-shadow: none;\n",
              "  }\n",
              "\n",
              "  .colab-df-spinner {\n",
              "    border: 2px solid var(--fill-color);\n",
              "    border-color: transparent;\n",
              "    border-bottom-color: var(--fill-color);\n",
              "    animation:\n",
              "      spin 1s steps(1) infinite;\n",
              "  }\n",
              "\n",
              "  @keyframes spin {\n",
              "    0% {\n",
              "      border-color: transparent;\n",
              "      border-bottom-color: var(--fill-color);\n",
              "      border-left-color: var(--fill-color);\n",
              "    }\n",
              "    20% {\n",
              "      border-color: transparent;\n",
              "      border-left-color: var(--fill-color);\n",
              "      border-top-color: var(--fill-color);\n",
              "    }\n",
              "    30% {\n",
              "      border-color: transparent;\n",
              "      border-left-color: var(--fill-color);\n",
              "      border-top-color: var(--fill-color);\n",
              "      border-right-color: var(--fill-color);\n",
              "    }\n",
              "    40% {\n",
              "      border-color: transparent;\n",
              "      border-right-color: var(--fill-color);\n",
              "      border-top-color: var(--fill-color);\n",
              "    }\n",
              "    60% {\n",
              "      border-color: transparent;\n",
              "      border-right-color: var(--fill-color);\n",
              "    }\n",
              "    80% {\n",
              "      border-color: transparent;\n",
              "      border-right-color: var(--fill-color);\n",
              "      border-bottom-color: var(--fill-color);\n",
              "    }\n",
              "    90% {\n",
              "      border-color: transparent;\n",
              "      border-bottom-color: var(--fill-color);\n",
              "    }\n",
              "  }\n",
              "</style>\n",
              "\n",
              "  <script>\n",
              "    async function quickchart(key) {\n",
              "      const quickchartButtonEl =\n",
              "        document.querySelector('#' + key + ' button');\n",
              "      quickchartButtonEl.disabled = true;  // To prevent multiple clicks.\n",
              "      quickchartButtonEl.classList.add('colab-df-spinner');\n",
              "      try {\n",
              "        const charts = await google.colab.kernel.invokeFunction(\n",
              "            'suggestCharts', [key], {});\n",
              "      } catch (error) {\n",
              "        console.error('Error during call to suggestCharts:', error);\n",
              "      }\n",
              "      quickchartButtonEl.classList.remove('colab-df-spinner');\n",
              "      quickchartButtonEl.classList.add('colab-df-quickchart-complete');\n",
              "    }\n",
              "    (() => {\n",
              "      let quickchartButtonEl =\n",
              "        document.querySelector('#df-48332a6a-1ad3-4514-bef9-21bf05dfbb53 button');\n",
              "      quickchartButtonEl.style.display =\n",
              "        google.colab.kernel.accessAllowed ? 'block' : 'none';\n",
              "    })();\n",
              "  </script>\n",
              "</div>\n",
              "\n",
              "    </div>\n",
              "  </div>\n"
            ],
            "application/vnd.google.colaboratory.intrinsic+json": {
              "type": "dataframe",
              "repr_error": "0"
            }
          },
          "metadata": {},
          "execution_count": 18
        }
      ]
    },
    {
      "cell_type": "code",
      "source": [
        "# Concatenar columnas de texto\n",
        "dataset.loc[:,'Concat_text'] = np.where(dataset['Summary'].isnull(),\n",
        "                                        dataset['Text'],\n",
        "                                        dataset['Summary'] + '. ' + dataset['Text'])\n",
        "dataset = dataset.drop(['Summary', 'Text'], axis=1)"
      ],
      "metadata": {
        "id": "LYqIPvMzsLW_"
      },
      "execution_count": 19,
      "outputs": []
    },
    {
      "cell_type": "code",
      "source": [
        "# Vemos ejemplos de los dos casos de concatenación\n",
        "print(dataset.iloc[41580])\n",
        "print(dataset.iloc[410])"
      ],
      "metadata": {
        "colab": {
          "base_uri": "https://localhost:8080/"
        },
        "id": "yGfF0YepsVSd",
        "outputId": "c48858d5-2418-4a27-bbe2-c7566c26a5f1"
      },
      "execution_count": 20,
      "outputs": [
        {
          "output_type": "stream",
          "name": "stdout",
          "text": [
            "Score                                                          2\n",
            "Concat_text    I only used two maybe three tea bags and got p...\n",
            "Name: 41580, dtype: object\n",
            "Score                                                          5\n",
            "Concat_text    Love them!. I love Oat Squares, I'll eat them ...\n",
            "Name: 410, dtype: object\n"
          ]
        }
      ]
    },
    {
      "cell_type": "code",
      "source": [
        "stop_words = set(stopwords.words('english'))\n",
        "def preprocess_text(text):\n",
        "    text = re.sub(r'<.*?>.*?<.*?/>|<.*?>', '', text) # Quitamos html tags y su contenido\n",
        "    text = re.sub(r'\\W', ' ', text)\n",
        "    text = re.sub(r'\\s+', ' ', text).strip()\n",
        "    text = text.lower()\n",
        "    tokens = word_tokenize(text)\n",
        "    tokens = [word for word in tokens if word not in stop_words]\n",
        "    return ' '.join(tokens)"
      ],
      "metadata": {
        "id": "pH4DjCm_zVXM"
      },
      "execution_count": 21,
      "outputs": []
    },
    {
      "cell_type": "code",
      "source": [
        "start_time = time.time()\n",
        "dataset['cleaned_text'] = dataset['Concat_text'].map(preprocess_text)\n",
        "end_time = time.time()\n",
        "print(f\"Execution time: {end_time-start_time:.2f} seconds\")"
      ],
      "metadata": {
        "colab": {
          "base_uri": "https://localhost:8080/"
        },
        "id": "jJqgnm8YzNGU",
        "outputId": "0c90ce53-ad84-4673-b513-93ddf3210359"
      },
      "execution_count": 22,
      "outputs": [
        {
          "output_type": "stream",
          "name": "stdout",
          "text": [
            "Execution time: 120.05 seconds\n"
          ]
        }
      ]
    },
    {
      "cell_type": "code",
      "source": [
        "dataset.head()"
      ],
      "metadata": {
        "colab": {
          "base_uri": "https://localhost:8080/",
          "height": 206
        },
        "id": "ZIwPkA-_10T-",
        "outputId": "4d8e6b31-3248-43b8-b61c-f47ff54320a1"
      },
      "execution_count": 23,
      "outputs": [
        {
          "output_type": "execute_result",
          "data": {
            "text/plain": [
              "   Score                                        Concat_text  \\\n",
              "0      5  Can really notice when I am not drinking it. I...   \n",
              "1      4  Okay, just not the best. This is a decent bals...   \n",
              "2      3  goo source of fiber, not so much a source of c...   \n",
              "3      5  Great GF Staple. I have a 4 yr old and a 2 yr ...   \n",
              "4      5  Coffee just doesn't taste right without Sweet ...   \n",
              "\n",
              "                                        cleaned_text  \n",
              "0  really notice drinking hormone problems past c...  \n",
              "1  okay best decent balsamic glaze reducation fai...  \n",
              "2  goo source fiber much source chocoate cookie m...  \n",
              "3  great gf staple 4 yr old 2 yr old eat gluten a...  \n",
              "4  coffee taste right without sweet n low drunk c...  "
            ],
            "text/html": [
              "\n",
              "  <div id=\"df-ae80928e-a5de-45cb-b03a-c569121208bf\" class=\"colab-df-container\">\n",
              "    <div>\n",
              "<style scoped>\n",
              "    .dataframe tbody tr th:only-of-type {\n",
              "        vertical-align: middle;\n",
              "    }\n",
              "\n",
              "    .dataframe tbody tr th {\n",
              "        vertical-align: top;\n",
              "    }\n",
              "\n",
              "    .dataframe thead th {\n",
              "        text-align: right;\n",
              "    }\n",
              "</style>\n",
              "<table border=\"1\" class=\"dataframe\">\n",
              "  <thead>\n",
              "    <tr style=\"text-align: right;\">\n",
              "      <th></th>\n",
              "      <th>Score</th>\n",
              "      <th>Concat_text</th>\n",
              "      <th>cleaned_text</th>\n",
              "    </tr>\n",
              "  </thead>\n",
              "  <tbody>\n",
              "    <tr>\n",
              "      <th>0</th>\n",
              "      <td>5</td>\n",
              "      <td>Can really notice when I am not drinking it. I...</td>\n",
              "      <td>really notice drinking hormone problems past c...</td>\n",
              "    </tr>\n",
              "    <tr>\n",
              "      <th>1</th>\n",
              "      <td>4</td>\n",
              "      <td>Okay, just not the best. This is a decent bals...</td>\n",
              "      <td>okay best decent balsamic glaze reducation fai...</td>\n",
              "    </tr>\n",
              "    <tr>\n",
              "      <th>2</th>\n",
              "      <td>3</td>\n",
              "      <td>goo source of fiber, not so much a source of c...</td>\n",
              "      <td>goo source fiber much source chocoate cookie m...</td>\n",
              "    </tr>\n",
              "    <tr>\n",
              "      <th>3</th>\n",
              "      <td>5</td>\n",
              "      <td>Great GF Staple. I have a 4 yr old and a 2 yr ...</td>\n",
              "      <td>great gf staple 4 yr old 2 yr old eat gluten a...</td>\n",
              "    </tr>\n",
              "    <tr>\n",
              "      <th>4</th>\n",
              "      <td>5</td>\n",
              "      <td>Coffee just doesn't taste right without Sweet ...</td>\n",
              "      <td>coffee taste right without sweet n low drunk c...</td>\n",
              "    </tr>\n",
              "  </tbody>\n",
              "</table>\n",
              "</div>\n",
              "    <div class=\"colab-df-buttons\">\n",
              "\n",
              "  <div class=\"colab-df-container\">\n",
              "    <button class=\"colab-df-convert\" onclick=\"convertToInteractive('df-ae80928e-a5de-45cb-b03a-c569121208bf')\"\n",
              "            title=\"Convert this dataframe to an interactive table.\"\n",
              "            style=\"display:none;\">\n",
              "\n",
              "  <svg xmlns=\"http://www.w3.org/2000/svg\" height=\"24px\" viewBox=\"0 -960 960 960\">\n",
              "    <path d=\"M120-120v-720h720v720H120Zm60-500h600v-160H180v160Zm220 220h160v-160H400v160Zm0 220h160v-160H400v160ZM180-400h160v-160H180v160Zm440 0h160v-160H620v160ZM180-180h160v-160H180v160Zm440 0h160v-160H620v160Z\"/>\n",
              "  </svg>\n",
              "    </button>\n",
              "\n",
              "  <style>\n",
              "    .colab-df-container {\n",
              "      display:flex;\n",
              "      gap: 12px;\n",
              "    }\n",
              "\n",
              "    .colab-df-convert {\n",
              "      background-color: #E8F0FE;\n",
              "      border: none;\n",
              "      border-radius: 50%;\n",
              "      cursor: pointer;\n",
              "      display: none;\n",
              "      fill: #1967D2;\n",
              "      height: 32px;\n",
              "      padding: 0 0 0 0;\n",
              "      width: 32px;\n",
              "    }\n",
              "\n",
              "    .colab-df-convert:hover {\n",
              "      background-color: #E2EBFA;\n",
              "      box-shadow: 0px 1px 2px rgba(60, 64, 67, 0.3), 0px 1px 3px 1px rgba(60, 64, 67, 0.15);\n",
              "      fill: #174EA6;\n",
              "    }\n",
              "\n",
              "    .colab-df-buttons div {\n",
              "      margin-bottom: 4px;\n",
              "    }\n",
              "\n",
              "    [theme=dark] .colab-df-convert {\n",
              "      background-color: #3B4455;\n",
              "      fill: #D2E3FC;\n",
              "    }\n",
              "\n",
              "    [theme=dark] .colab-df-convert:hover {\n",
              "      background-color: #434B5C;\n",
              "      box-shadow: 0px 1px 3px 1px rgba(0, 0, 0, 0.15);\n",
              "      filter: drop-shadow(0px 1px 2px rgba(0, 0, 0, 0.3));\n",
              "      fill: #FFFFFF;\n",
              "    }\n",
              "  </style>\n",
              "\n",
              "    <script>\n",
              "      const buttonEl =\n",
              "        document.querySelector('#df-ae80928e-a5de-45cb-b03a-c569121208bf button.colab-df-convert');\n",
              "      buttonEl.style.display =\n",
              "        google.colab.kernel.accessAllowed ? 'block' : 'none';\n",
              "\n",
              "      async function convertToInteractive(key) {\n",
              "        const element = document.querySelector('#df-ae80928e-a5de-45cb-b03a-c569121208bf');\n",
              "        const dataTable =\n",
              "          await google.colab.kernel.invokeFunction('convertToInteractive',\n",
              "                                                    [key], {});\n",
              "        if (!dataTable) return;\n",
              "\n",
              "        const docLinkHtml = 'Like what you see? Visit the ' +\n",
              "          '<a target=\"_blank\" href=https://colab.research.google.com/notebooks/data_table.ipynb>data table notebook</a>'\n",
              "          + ' to learn more about interactive tables.';\n",
              "        element.innerHTML = '';\n",
              "        dataTable['output_type'] = 'display_data';\n",
              "        await google.colab.output.renderOutput(dataTable, element);\n",
              "        const docLink = document.createElement('div');\n",
              "        docLink.innerHTML = docLinkHtml;\n",
              "        element.appendChild(docLink);\n",
              "      }\n",
              "    </script>\n",
              "  </div>\n",
              "\n",
              "\n",
              "<div id=\"df-7af602fd-10be-4103-b358-880a0fb1a3a3\">\n",
              "  <button class=\"colab-df-quickchart\" onclick=\"quickchart('df-7af602fd-10be-4103-b358-880a0fb1a3a3')\"\n",
              "            title=\"Suggest charts\"\n",
              "            style=\"display:none;\">\n",
              "\n",
              "<svg xmlns=\"http://www.w3.org/2000/svg\" height=\"24px\"viewBox=\"0 0 24 24\"\n",
              "     width=\"24px\">\n",
              "    <g>\n",
              "        <path d=\"M19 3H5c-1.1 0-2 .9-2 2v14c0 1.1.9 2 2 2h14c1.1 0 2-.9 2-2V5c0-1.1-.9-2-2-2zM9 17H7v-7h2v7zm4 0h-2V7h2v10zm4 0h-2v-4h2v4z\"/>\n",
              "    </g>\n",
              "</svg>\n",
              "  </button>\n",
              "\n",
              "<style>\n",
              "  .colab-df-quickchart {\n",
              "      --bg-color: #E8F0FE;\n",
              "      --fill-color: #1967D2;\n",
              "      --hover-bg-color: #E2EBFA;\n",
              "      --hover-fill-color: #174EA6;\n",
              "      --disabled-fill-color: #AAA;\n",
              "      --disabled-bg-color: #DDD;\n",
              "  }\n",
              "\n",
              "  [theme=dark] .colab-df-quickchart {\n",
              "      --bg-color: #3B4455;\n",
              "      --fill-color: #D2E3FC;\n",
              "      --hover-bg-color: #434B5C;\n",
              "      --hover-fill-color: #FFFFFF;\n",
              "      --disabled-bg-color: #3B4455;\n",
              "      --disabled-fill-color: #666;\n",
              "  }\n",
              "\n",
              "  .colab-df-quickchart {\n",
              "    background-color: var(--bg-color);\n",
              "    border: none;\n",
              "    border-radius: 50%;\n",
              "    cursor: pointer;\n",
              "    display: none;\n",
              "    fill: var(--fill-color);\n",
              "    height: 32px;\n",
              "    padding: 0;\n",
              "    width: 32px;\n",
              "  }\n",
              "\n",
              "  .colab-df-quickchart:hover {\n",
              "    background-color: var(--hover-bg-color);\n",
              "    box-shadow: 0 1px 2px rgba(60, 64, 67, 0.3), 0 1px 3px 1px rgba(60, 64, 67, 0.15);\n",
              "    fill: var(--button-hover-fill-color);\n",
              "  }\n",
              "\n",
              "  .colab-df-quickchart-complete:disabled,\n",
              "  .colab-df-quickchart-complete:disabled:hover {\n",
              "    background-color: var(--disabled-bg-color);\n",
              "    fill: var(--disabled-fill-color);\n",
              "    box-shadow: none;\n",
              "  }\n",
              "\n",
              "  .colab-df-spinner {\n",
              "    border: 2px solid var(--fill-color);\n",
              "    border-color: transparent;\n",
              "    border-bottom-color: var(--fill-color);\n",
              "    animation:\n",
              "      spin 1s steps(1) infinite;\n",
              "  }\n",
              "\n",
              "  @keyframes spin {\n",
              "    0% {\n",
              "      border-color: transparent;\n",
              "      border-bottom-color: var(--fill-color);\n",
              "      border-left-color: var(--fill-color);\n",
              "    }\n",
              "    20% {\n",
              "      border-color: transparent;\n",
              "      border-left-color: var(--fill-color);\n",
              "      border-top-color: var(--fill-color);\n",
              "    }\n",
              "    30% {\n",
              "      border-color: transparent;\n",
              "      border-left-color: var(--fill-color);\n",
              "      border-top-color: var(--fill-color);\n",
              "      border-right-color: var(--fill-color);\n",
              "    }\n",
              "    40% {\n",
              "      border-color: transparent;\n",
              "      border-right-color: var(--fill-color);\n",
              "      border-top-color: var(--fill-color);\n",
              "    }\n",
              "    60% {\n",
              "      border-color: transparent;\n",
              "      border-right-color: var(--fill-color);\n",
              "    }\n",
              "    80% {\n",
              "      border-color: transparent;\n",
              "      border-right-color: var(--fill-color);\n",
              "      border-bottom-color: var(--fill-color);\n",
              "    }\n",
              "    90% {\n",
              "      border-color: transparent;\n",
              "      border-bottom-color: var(--fill-color);\n",
              "    }\n",
              "  }\n",
              "</style>\n",
              "\n",
              "  <script>\n",
              "    async function quickchart(key) {\n",
              "      const quickchartButtonEl =\n",
              "        document.querySelector('#' + key + ' button');\n",
              "      quickchartButtonEl.disabled = true;  // To prevent multiple clicks.\n",
              "      quickchartButtonEl.classList.add('colab-df-spinner');\n",
              "      try {\n",
              "        const charts = await google.colab.kernel.invokeFunction(\n",
              "            'suggestCharts', [key], {});\n",
              "      } catch (error) {\n",
              "        console.error('Error during call to suggestCharts:', error);\n",
              "      }\n",
              "      quickchartButtonEl.classList.remove('colab-df-spinner');\n",
              "      quickchartButtonEl.classList.add('colab-df-quickchart-complete');\n",
              "    }\n",
              "    (() => {\n",
              "      let quickchartButtonEl =\n",
              "        document.querySelector('#df-7af602fd-10be-4103-b358-880a0fb1a3a3 button');\n",
              "      quickchartButtonEl.style.display =\n",
              "        google.colab.kernel.accessAllowed ? 'block' : 'none';\n",
              "    })();\n",
              "  </script>\n",
              "</div>\n",
              "\n",
              "    </div>\n",
              "  </div>\n"
            ],
            "application/vnd.google.colaboratory.intrinsic+json": {
              "type": "dataframe",
              "variable_name": "dataset"
            }
          },
          "metadata": {},
          "execution_count": 23
        }
      ]
    },
    {
      "cell_type": "code",
      "source": [
        "# Dividir en conjunto de entrenamiento y prueba\n",
        "X = dataset['cleaned_text']\n",
        "y = dataset['Score'].apply(lambda x: 1 if x in [1, 2] else 0)  # Etiqueta binaria"
      ],
      "metadata": {
        "id": "tDY9dh9f0rVg"
      },
      "execution_count": 24,
      "outputs": []
    },
    {
      "cell_type": "code",
      "source": [
        "y.value_counts()[1]"
      ],
      "metadata": {
        "colab": {
          "base_uri": "https://localhost:8080/"
        },
        "id": "OHaNOuZG0ws_",
        "outputId": "9db330c1-1a08-4951-b9d0-24ac13596097"
      },
      "execution_count": 25,
      "outputs": [
        {
          "output_type": "execute_result",
          "data": {
            "text/plain": [
              "45134"
            ]
          },
          "metadata": {},
          "execution_count": 25
        }
      ]
    },
    {
      "cell_type": "code",
      "source": [
        "proportion_neg = y.value_counts()[1]/(y.value_counts()[0] + y.value_counts()[1])\n",
        "proportion_neg"
      ],
      "metadata": {
        "colab": {
          "base_uri": "https://localhost:8080/"
        },
        "id": "xH1GLJ3k00D2",
        "outputId": "e8461db3-1af2-4017-aef2-857a3c70acae"
      },
      "execution_count": 26,
      "outputs": [
        {
          "output_type": "execute_result",
          "data": {
            "text/plain": [
              "0.14600943979140585"
            ]
          },
          "metadata": {},
          "execution_count": 26
        }
      ]
    },
    {
      "cell_type": "markdown",
      "source": [
        "## Modelos de análisis de sentimiento"
      ],
      "metadata": {
        "id": "5wKZnv_zoSKe"
      }
    },
    {
      "cell_type": "markdown",
      "source": [
        "### Modelo de Naive Bayes con Vectorización TF-IDF"
      ],
      "metadata": {
        "id": "UbO31U9YwRpb"
      }
    },
    {
      "cell_type": "markdown",
      "source": [
        "El primer modelo que analizaremos es Naive Bayes con vectorización TF-IDF. Elegimos este modelo junto con esta técnica de vectorización debido al sorprendente rendimiento que demostró a lo largo del curso en diferentes tareas. Ahora veremos si en esta tarea de análisis de sentimiento logra mantener ese desempeño.\n",
        "\n",
        "Para la obtención de los hiperparámetros `max_features` y `class_prior`, utilizamos la experimentación, considerando tanto la métrica `balanced_accuracy` como el tiempo de cómputo. En este modelo, al igual que en los siguientes, estratificamos los datos al momento de dividirlos, debido al notable desequilibrio en las clases. Escogimos la métrica `balanced_accuracy` como principal, ya que está diseñada específicamente para casos con clases desbalanceadas. Otra métrica buena obtenida es la curva ROC, la cual nos dice que nuestro modelo es un buen clasificador.\n",
        "\n",
        "Al finalizar nuestras pruebas, en el tiempo disponible, obtuvimos resultados satisfactorios, especialmente al considerar la rapidez y la simplicidad del modelo, características que también se observaron en otros ejercicios previos."
      ],
      "metadata": {
        "id": "BvB0DuLY_Ufu"
      }
    },
    {
      "cell_type": "code",
      "source": [
        "from sklearn.feature_extraction.text import TfidfVectorizer\n",
        "from sklearn.naive_bayes import MultinomialNB"
      ],
      "metadata": {
        "id": "X22IUKaRNgBE"
      },
      "execution_count": 64,
      "outputs": []
    },
    {
      "cell_type": "code",
      "source": [
        "X_train, X_test, y_train, y_test = train_test_split(X, y, test_size=0.2, stratify=y, random_state=RANDOM_SEED)"
      ],
      "metadata": {
        "id": "tMZhk393wGex"
      },
      "execution_count": 65,
      "outputs": []
    },
    {
      "cell_type": "code",
      "source": [
        "tfidf = TfidfVectorizer(max_features=5000)\n",
        "X_train_tfidf = tfidf.fit_transform(X_train)\n",
        "X_test_tfidf = tfidf.transform(X_test)\n",
        "\n",
        "\n",
        "nb_model = MultinomialNB(class_prior=[0.45, 0.55])\n",
        "nb_model.fit(X_train_tfidf, y_train)\n",
        "\n",
        "\n",
        "y_pred_nb = nb_model.predict(X_test_tfidf)\n",
        "print(classification_report(y_test, y_pred_nb))\n",
        "\n",
        "balanced_acc = balanced_accuracy_score(y_test, y_pred_nb)\n",
        "print(f'Balanced Accuracy: {balanced_acc:.2f}')"
      ],
      "metadata": {
        "colab": {
          "base_uri": "https://localhost:8080/"
        },
        "id": "L7j0l6K5wR_w",
        "outputId": "da9c579e-1180-4555-c3c0-1c765b703a37"
      },
      "execution_count": 66,
      "outputs": [
        {
          "output_type": "stream",
          "name": "stdout",
          "text": [
            "              precision    recall  f1-score   support\n",
            "\n",
            "           0       0.98      0.81      0.89     52797\n",
            "           1       0.45      0.90      0.60      9027\n",
            "\n",
            "    accuracy                           0.82     61824\n",
            "   macro avg       0.71      0.86      0.74     61824\n",
            "weighted avg       0.90      0.82      0.85     61824\n",
            "\n",
            "Balanced Accuracy: 0.86\n"
          ]
        }
      ]
    },
    {
      "cell_type": "code",
      "source": [
        "cm_normalized = confusion_matrix(y_test, y_pred_nb, normalize='true')\n",
        "disp_normalized = ConfusionMatrixDisplay(confusion_matrix=cm_normalized, display_labels=nb_model.classes_)\n",
        "disp_normalized.plot(cmap=\"Blues\", values_format=\".2f\")"
      ],
      "metadata": {
        "colab": {
          "base_uri": "https://localhost:8080/",
          "height": 471
        },
        "id": "j38mB-Q6-iya",
        "outputId": "a532b656-7d6c-4599-b412-a328897bda99"
      },
      "execution_count": 67,
      "outputs": [
        {
          "output_type": "execute_result",
          "data": {
            "text/plain": [
              "<sklearn.metrics._plot.confusion_matrix.ConfusionMatrixDisplay at 0x7e9227f79870>"
            ]
          },
          "metadata": {},
          "execution_count": 67
        },
        {
          "output_type": "display_data",
          "data": {
            "text/plain": [
              "<Figure size 640x480 with 2 Axes>"
            ],
            "image/png": "[encoded data removed]"
          },
          "metadata": {}
        }
      ]
    },
    {
      "cell_type": "code",
      "source": [
        "if len(nb_model.classes_) == 2:\n",
        "    y_prob = nb_model.predict_proba(X_test_tfidf)[:, 1]\n",
        "    auc = roc_auc_score(y_test, y_prob)\n",
        "    print(f'ROC-AUC: {auc:.2f}')\n",
        "\n",
        "    fpr, tpr, _ = roc_curve(y_test, y_prob)\n",
        "    plt.plot(fpr, tpr, label=f'ROC curve (AUC = {auc:.2f})')\n",
        "    plt.plot([0, 1], [0, 1], color='gray', linestyle='--', label=\"Random Classifier\")\n",
        "    plt.xlabel('False Positive Rate')\n",
        "    plt.ylabel('True Positive Rate')\n",
        "    plt.title('ROC Curve')\n",
        "    plt.legend()\n",
        "    plt.grid()\n",
        "    plt.show()"
      ],
      "metadata": {
        "colab": {
          "base_uri": "https://localhost:8080/",
          "height": 490
        },
        "id": "NRVSUJsb1SuT",
        "outputId": "6737badb-a2eb-4fb6-9db3-d374c01bc696"
      },
      "execution_count": 68,
      "outputs": [
        {
          "output_type": "stream",
          "name": "stdout",
          "text": [
            "ROC-AUC: 0.93\n"
          ]
        },
        {
          "output_type": "display_data",
          "data": {
            "text/plain": [
              "<Figure size 640x480 with 1 Axes>"
            ],
            "image/png": "[encoded data removed]"
          },
          "metadata": {}
        }
      ]
    },
    {
      "cell_type": "markdown",
      "source": [
        "### DistilBERT"
      ],
      "metadata": {
        "id": "DUykMb2oSEPv"
      }
    },
    {
      "cell_type": "markdown",
      "source": [
        "Un modelo adicional que seleccionamos fue DistilBERT, el cual es una versión ligera de BERT. Esta herramienta es más eficiente en términos computacionales ya que consume aproximadamente un 40% menos de recursos y es un 60% más rápido que BERT, por lo que pensamos que es ideal nuestros recursos limitados en Google Colab.\n",
        "\n",
        "Otro atributo de este modelo es que mantiene un rendimiento competitivo en tareas de clasificación de texto, lo que garantiza buenos resultados para el análisis de sentimientos y fue entrenado en un corpus muy amplio con contextos variados por lo que creemos que lo hace un buen candidato para la tarea de clasificación\n",
        "\n",
        "Para la configuración utilizamos num_labels=2 lo que indica una clasificación binaria (positivo o negativo), adaptándose al problema de análisis de sentimientos en cuestión."
      ],
      "metadata": {
        "id": "iQ4TAHHbSQaN"
      }
    },
    {
      "cell_type": "code",
      "source": [
        "!pip install transformers datasets torch"
      ],
      "metadata": {
        "colab": {
          "base_uri": "https://localhost:8080/"
        },
        "id": "QyUE51cpSKYq",
        "outputId": "ae20f6e5-ab63-4639-f66f-34b78b02935d"
      },
      "execution_count": 28,
      "outputs": [
        {
          "output_type": "stream",
          "name": "stdout",
          "text": [
            "Requirement already satisfied: transformers in /usr/local/lib/python3.10/dist-packages (4.46.2)\n",
            "Requirement already satisfied: datasets in /usr/local/lib/python3.10/dist-packages (3.1.0)\n",
            "Requirement already satisfied: torch in /usr/local/lib/python3.10/dist-packages (2.5.1+cu121)\n",
            "Requirement already satisfied: filelock in /usr/local/lib/python3.10/dist-packages (from transformers) (3.16.1)\n",
            "Requirement already satisfied: huggingface-hub<1.0,>=0.23.2 in /usr/local/lib/python3.10/dist-packages (from transformers) (0.26.2)\n",
            "Requirement already satisfied: numpy>=1.17 in /usr/local/lib/python3.10/dist-packages (from transformers) (1.26.4)\n",
            "Requirement already satisfied: packaging>=20.0 in /usr/local/lib/python3.10/dist-packages (from transformers) (24.2)\n",
            "Requirement already satisfied: pyyaml>=5.1 in /usr/local/lib/python3.10/dist-packages (from transformers) (6.0.2)\n",
            "Requirement already satisfied: regex!=2019.12.17 in /usr/local/lib/python3.10/dist-packages (from transformers) (2024.9.11)\n",
            "Requirement already satisfied: requests in /usr/local/lib/python3.10/dist-packages (from transformers) (2.32.3)\n",
            "Requirement already satisfied: safetensors>=0.4.1 in /usr/local/lib/python3.10/dist-packages (from transformers) (0.4.5)\n",
            "Requirement already satisfied: tokenizers<0.21,>=0.20 in /usr/local/lib/python3.10/dist-packages (from transformers) (0.20.3)\n",
            "Requirement already satisfied: tqdm>=4.27 in /usr/local/lib/python3.10/dist-packages (from transformers) (4.66.6)\n",
            "Requirement already satisfied: pyarrow>=15.0.0 in /usr/local/lib/python3.10/dist-packages (from datasets) (17.0.0)\n",
            "Requirement already satisfied: dill<0.3.9,>=0.3.0 in /usr/local/lib/python3.10/dist-packages (from datasets) (0.3.8)\n",
            "Requirement already satisfied: pandas in /usr/local/lib/python3.10/dist-packages (from datasets) (2.2.2)\n",
            "Requirement already satisfied: xxhash in /usr/local/lib/python3.10/dist-packages (from datasets) (3.5.0)\n",
            "Requirement already satisfied: multiprocess<0.70.17 in /usr/local/lib/python3.10/dist-packages (from datasets) (0.70.16)\n",
            "Requirement already satisfied: fsspec<=2024.9.0,>=2023.1.0 in /usr/local/lib/python3.10/dist-packages (from fsspec[http]<=2024.9.0,>=2023.1.0->datasets) (2024.9.0)\n",
            "Requirement already satisfied: aiohttp in /usr/local/lib/python3.10/dist-packages (from datasets) (3.11.2)\n",
            "Requirement already satisfied: typing-extensions>=4.8.0 in /usr/local/lib/python3.10/dist-packages (from torch) (4.12.2)\n",
            "Requirement already satisfied: networkx in /usr/local/lib/python3.10/dist-packages (from torch) (3.4.2)\n",
            "Requirement already satisfied: jinja2 in /usr/local/lib/python3.10/dist-packages (from torch) (3.1.4)\n",
            "Requirement already satisfied: sympy==1.13.1 in /usr/local/lib/python3.10/dist-packages (from torch) (1.13.1)\n",
            "Requirement already satisfied: mpmath<1.4,>=1.1.0 in /usr/local/lib/python3.10/dist-packages (from sympy==1.13.1->torch) (1.3.0)\n",
            "Requirement already satisfied: aiohappyeyeballs>=2.3.0 in /usr/local/lib/python3.10/dist-packages (from aiohttp->datasets) (2.4.3)\n",
            "Requirement already satisfied: aiosignal>=1.1.2 in /usr/local/lib/python3.10/dist-packages (from aiohttp->datasets) (1.3.1)\n",
            "Requirement already satisfied: attrs>=17.3.0 in /usr/local/lib/python3.10/dist-packages (from aiohttp->datasets) (24.2.0)\n",
            "Requirement already satisfied: frozenlist>=1.1.1 in /usr/local/lib/python3.10/dist-packages (from aiohttp->datasets) (1.5.0)\n",
            "Requirement already satisfied: multidict<7.0,>=4.5 in /usr/local/lib/python3.10/dist-packages (from aiohttp->datasets) (6.1.0)\n",
            "Requirement already satisfied: propcache>=0.2.0 in /usr/local/lib/python3.10/dist-packages (from aiohttp->datasets) (0.2.0)\n",
            "Requirement already satisfied: yarl<2.0,>=1.17.0 in /usr/local/lib/python3.10/dist-packages (from aiohttp->datasets) (1.17.2)\n",
            "Requirement already satisfied: async-timeout<6.0,>=4.0 in /usr/local/lib/python3.10/dist-packages (from aiohttp->datasets) (4.0.3)\n",
            "Requirement already satisfied: charset-normalizer<4,>=2 in /usr/local/lib/python3.10/dist-packages (from requests->transformers) (3.4.0)\n",
            "Requirement already satisfied: idna<4,>=2.5 in /usr/local/lib/python3.10/dist-packages (from requests->transformers) (3.10)\n",
            "Requirement already satisfied: urllib3<3,>=1.21.1 in /usr/local/lib/python3.10/dist-packages (from requests->transformers) (2.2.3)\n",
            "Requirement already satisfied: certifi>=2017.4.17 in /usr/local/lib/python3.10/dist-packages (from requests->transformers) (2024.8.30)\n",
            "Requirement already satisfied: MarkupSafe>=2.0 in /usr/local/lib/python3.10/dist-packages (from jinja2->torch) (3.0.2)\n",
            "Requirement already satisfied: python-dateutil>=2.8.2 in /usr/local/lib/python3.10/dist-packages (from pandas->datasets) (2.8.2)\n",
            "Requirement already satisfied: pytz>=2020.1 in /usr/local/lib/python3.10/dist-packages (from pandas->datasets) (2024.2)\n",
            "Requirement already satisfied: tzdata>=2022.7 in /usr/local/lib/python3.10/dist-packages (from pandas->datasets) (2024.2)\n",
            "Requirement already satisfied: six>=1.5 in /usr/local/lib/python3.10/dist-packages (from python-dateutil>=2.8.2->pandas->datasets) (1.16.0)\n"
          ]
        }
      ]
    },
    {
      "cell_type": "code",
      "source": [
        "import torch\n",
        "from transformers import DistilBertTokenizer, DistilBertForSequenceClassification, Trainer, TrainingArguments\n",
        "from sklearn.metrics import accuracy_score, precision_recall_fscore_support"
      ],
      "metadata": {
        "id": "jN0Wm83HTphJ"
      },
      "execution_count": 29,
      "outputs": []
    },
    {
      "cell_type": "code",
      "source": [
        "# Preparamos el conjunto de datos y balanceamos\n",
        "X_train, X_test, y_train, y_test = train_test_split(X, y, test_size=0.2, stratify=y, random_state=RANDOM_SEED)\n",
        "\n",
        "df_train = pd.DataFrame({\"text\": X_train, \"label\": y_train})\n",
        "# Tomamos una submuestra balanceada de 3000 elementos\n",
        "n_samples_train = 3000\n",
        "df_train_balanced = df_train.groupby(\"label\").sample(n=n_samples_train, random_state=42)\n",
        "\n",
        "# Dividimos el conjunto de entrenamiento balanceado\n",
        "X_train_balanced = df_train_balanced[\"text\"].tolist()\n",
        "y_train_balanced = df_train_balanced[\"label\"].tolist()\n",
        "X_subsample, X_eval, y_subsample, y_eval = train_test_split(\n",
        "    X_train_balanced, y_train_balanced, test_size=0.5, random_state=RANDOM_SEED, stratify=y_train_balanced\n",
        ")\n"
      ],
      "metadata": {
        "id": "q5VGkZRnczsA"
      },
      "execution_count": null,
      "outputs": []
    },
    {
      "cell_type": "code",
      "source": [
        "# Tokenizador\n",
        "tokenizer = DistilBertTokenizer.from_pretrained(\"distilbert-base-uncased\")\n",
        "\n",
        "# Tokenización de los conjuntos de datos\n",
        "train_encodings = tokenizer(list(X_subsample), truncation=True, padding=True, max_length=128, return_tensors=\"pt\")\n",
        "eval_encodings = tokenizer(list(X_eval), truncation=True, padding=True, max_length=128, return_tensors=\"pt\")\n",
        "test_encodings = tokenizer(list(X_test), truncation=True, padding=True, max_length=128, return_tensors=\"pt\")\n"
      ],
      "metadata": {
        "id": "D2-UlIrJU77k"
      },
      "execution_count": 49,
      "outputs": []
    },
    {
      "cell_type": "code",
      "source": [
        "# Convertir etiquetas a tensores\n",
        "train_labels = torch.tensor(y_subsample)\n",
        "eval_labels = torch.tensor(y_eval)\n",
        "test_labels = torch.tensor(y_test.tolist())\n",
        "\n",
        "# Crear un dataset personalizado\n",
        "class SentimentDataset(torch.utils.data.Dataset):\n",
        "    def __init__(self, encodings, labels):\n",
        "        self.encodings = encodings\n",
        "        self.labels = labels\n",
        "\n",
        "    def __len__(self):\n",
        "        return len(self.labels)\n",
        "\n",
        "    def __getitem__(self, idx):\n",
        "        item = {key: val[idx] for key, val in self.encodings.items()}\n",
        "        item[\"labels\"] = self.labels[idx]\n",
        "        return item\n",
        "\n",
        "train_dataset = SentimentDataset(train_encodings, train_labels)\n",
        "eval_dataset = SentimentDataset(eval_encodings, eval_labels)\n",
        "test_dataset = SentimentDataset(test_encodings, test_labels)"
      ],
      "metadata": {
        "id": "49mA8zkTVZzB"
      },
      "execution_count": 51,
      "outputs": []
    },
    {
      "cell_type": "code",
      "source": [
        "# Modelo preentrenado\n",
        "model = DistilBertForSequenceClassification.from_pretrained(\"distilbert-base-uncased\", num_labels=2)\n",
        "\n",
        "# Configurar entrenamiento\n",
        "training_args = TrainingArguments(\n",
        "    output_dir=\"./results\",\n",
        "    num_train_epochs=5,\n",
        "    per_device_train_batch_size=16,\n",
        "    per_device_eval_batch_size=16,\n",
        "    warmup_steps=500,\n",
        "    weight_decay=0.01,\n",
        "    logging_dir=\"./logs\",\n",
        "    logging_steps=10,\n",
        "    evaluation_strategy=\"epoch\",\n",
        "    save_strategy=\"epoch\",\n",
        "    load_best_model_at_end=True,\n",
        ")\n",
        "\n",
        "# Función de métricas\n",
        "def compute_metrics(eval_pred):\n",
        "    logits, labels = eval_pred\n",
        "    predictions = torch.argmax(torch.tensor(logits), dim=-1)\n",
        "\n",
        "    # Calcular métricas adicionales\n",
        "    acc = accuracy_score(labels, predictions)\n",
        "    bal_acc = balanced_accuracy_score(labels, predictions)\n",
        "    precision, recall, f1, _ = precision_recall_fscore_support(labels, predictions, average=\"binary\")\n",
        "\n",
        "    # Mostrar matriz de confusión\n",
        "    conf_matrix = confusion_matrix(labels, predictions)\n",
        "    print(\"Matriz de Confusión:\\n\", conf_matrix)\n",
        "\n",
        "    return {\n",
        "        \"accuracy\": acc,\n",
        "        \"balanced_accuracy\": bal_acc,\n",
        "        \"precision\": precision,\n",
        "        \"recall\": recall,\n",
        "        \"f1\": f1\n",
        "    }\n",
        "\n",
        "# Entrenador\n",
        "trainer = Trainer(\n",
        "    model=model,\n",
        "    args=training_args,\n",
        "    train_dataset=train_dataset,\n",
        "    eval_dataset=eval_dataset,\n",
        "    compute_metrics=compute_metrics,\n",
        ")\n",
        "\n",
        "# Entrenar modelo\n",
        "trainer.train()\n",
        "\n",
        "# Evaluar modelo\n",
        "metrics = trainer.evaluate()\n",
        "print(metrics)"
      ],
      "metadata": {
        "colab": {
          "base_uri": "https://localhost:8080/",
          "height": 683
        },
        "collapsed": true,
        "id": "nEjuGeKTVhpa",
        "outputId": "c762cd5a-fb06-4ba2-da96-d239369ec19f"
      },
      "execution_count": 52,
      "outputs": [
        {
          "output_type": "stream",
          "name": "stderr",
          "text": [
            "Some weights of DistilBertForSequenceClassification were not initialized from the model checkpoint at distilbert-base-uncased and are newly initialized: ['classifier.bias', 'classifier.weight', 'pre_classifier.bias', 'pre_classifier.weight']\n",
            "You should probably TRAIN this model on a down-stream task to be able to use it for predictions and inference.\n",
            "/usr/local/lib/python3.10/dist-packages/transformers/training_args.py:1568: FutureWarning: `evaluation_strategy` is deprecated and will be removed in version 4.46 of 🤗 Transformers. Use `eval_strategy` instead\n",
            "  warnings.warn(\n"
          ]
        },
        {
          "output_type": "display_data",
          "data": {
            "text/plain": [
              "<IPython.core.display.HTML object>"
            ],
            "text/html": [
              "\n",
              "    <div>\n",
              "      \n",
              "      <progress value='940' max='940' style='width:300px; height:20px; vertical-align: middle;'></progress>\n",
              "      [940/940 05:37, Epoch 5/5]\n",
              "    </div>\n",
              "    <table border=\"1\" class=\"dataframe\">\n",
              "  <thead>\n",
              " <tr style=\"text-align: left;\">\n",
              "      <th>Epoch</th>\n",
              "      <th>Training Loss</th>\n",
              "      <th>Validation Loss</th>\n",
              "      <th>Accuracy</th>\n",
              "      <th>Balanced Accuracy</th>\n",
              "      <th>Precision</th>\n",
              "      <th>Recall</th>\n",
              "      <th>F1</th>\n",
              "    </tr>\n",
              "  </thead>\n",
              "  <tbody>\n",
              "    <tr>\n",
              "      <td>1</td>\n",
              "      <td>0.398500</td>\n",
              "      <td>0.369386</td>\n",
              "      <td>0.849000</td>\n",
              "      <td>0.849000</td>\n",
              "      <td>0.851107</td>\n",
              "      <td>0.846000</td>\n",
              "      <td>0.848546</td>\n",
              "    </tr>\n",
              "    <tr>\n",
              "      <td>2</td>\n",
              "      <td>0.321100</td>\n",
              "      <td>0.428723</td>\n",
              "      <td>0.814333</td>\n",
              "      <td>0.814333</td>\n",
              "      <td>0.906816</td>\n",
              "      <td>0.700667</td>\n",
              "      <td>0.790523</td>\n",
              "    </tr>\n",
              "    <tr>\n",
              "      <td>3</td>\n",
              "      <td>0.198400</td>\n",
              "      <td>0.510506</td>\n",
              "      <td>0.852333</td>\n",
              "      <td>0.852333</td>\n",
              "      <td>0.864734</td>\n",
              "      <td>0.835333</td>\n",
              "      <td>0.849780</td>\n",
              "    </tr>\n",
              "    <tr>\n",
              "      <td>4</td>\n",
              "      <td>0.209200</td>\n",
              "      <td>0.709780</td>\n",
              "      <td>0.844333</td>\n",
              "      <td>0.844333</td>\n",
              "      <td>0.888638</td>\n",
              "      <td>0.787333</td>\n",
              "      <td>0.834924</td>\n",
              "    </tr>\n",
              "    <tr>\n",
              "      <td>5</td>\n",
              "      <td>0.105100</td>\n",
              "      <td>0.718234</td>\n",
              "      <td>0.852333</td>\n",
              "      <td>0.852333</td>\n",
              "      <td>0.850697</td>\n",
              "      <td>0.854667</td>\n",
              "      <td>0.852677</td>\n",
              "    </tr>\n",
              "  </tbody>\n",
              "</table><p>"
            ]
          },
          "metadata": {}
        },
        {
          "output_type": "stream",
          "name": "stdout",
          "text": [
            "Matriz de Confusión:\n",
            " [[1278  222]\n",
            " [ 231 1269]]\n",
            "Matriz de Confusión:\n",
            " [[1392  108]\n",
            " [ 449 1051]]\n",
            "Matriz de Confusión:\n",
            " [[1304  196]\n",
            " [ 247 1253]]\n",
            "Matriz de Confusión:\n",
            " [[1352  148]\n",
            " [ 319 1181]]\n",
            "Matriz de Confusión:\n",
            " [[1275  225]\n",
            " [ 218 1282]]\n"
          ]
        },
        {
          "output_type": "display_data",
          "data": {
            "text/plain": [
              "<IPython.core.display.HTML object>"
            ],
            "text/html": [
              "\n",
              "    <div>\n",
              "      \n",
              "      <progress value='188' max='188' style='width:300px; height:20px; vertical-align: middle;'></progress>\n",
              "      [188/188 00:11]\n",
              "    </div>\n",
              "    "
            ]
          },
          "metadata": {}
        },
        {
          "output_type": "stream",
          "name": "stdout",
          "text": [
            "Matriz de Confusión:\n",
            " [[1278  222]\n",
            " [ 231 1269]]\n",
            "{'eval_loss': 0.3693864047527313, 'eval_accuracy': 0.849, 'eval_balanced_accuracy': 0.849, 'eval_precision': 0.8511066398390342, 'eval_recall': 0.846, 'eval_f1': 0.8485456369107321, 'eval_runtime': 11.3092, 'eval_samples_per_second': 265.271, 'eval_steps_per_second': 16.624, 'epoch': 5.0}\n"
          ]
        }
      ]
    },
    {
      "cell_type": "markdown",
      "source": [
        "Hiperparámetros utilizados.\n",
        "\n",
        "**Número de épocas (num_train_epochs=5):** Se optó por 5 épocas para equilibrar el tiempo de entrenamiento y el riesgo de sobreajuste. En modelos preentrenados como DistilBERT, suelen ser suficientes para ajustar el modelo a la tarea específica sin perder la generalización.\n",
        "\n",
        "\n",
        "**Tamaño de batch (per_device_train_batch_size=16):** Un tamaño de lote pequeño se utiliza debido a las limitaciones de memoria de GPU. También mejora la regularización al introducir más ruido en el gradiente, lo que puede evitar el sobreajuste.\n",
        "\n",
        "\n",
        "**Warmup steps (warmup_steps=500):** Los pasos de calentamiento ayudan a estabilizar el entrenamiento al comienzo, permitiendo que el modelo se ajuste gradualmente a los datos específicos.\n",
        "\n",
        "\n",
        "**Decay de pesos (weight_decay=0.01):**\n",
        "Se introduce para regularizar el modelo y prevenir el sobreajuste, penalizando grandes valores en los pesos.\n",
        "\n",
        "**Estrategias de evaluación y guardado (evaluation_strategy=\"epoch\", save_strategy=\"epoch\"):** El modelo se evalúa al final de cada época y guarda el mejor modelo automáticamente, asegurando que siempre se conserve la versión con el mejor desempeño en el conjunto de validación."
      ],
      "metadata": {
        "id": "21DSIHHtWqWz"
      }
    },
    {
      "cell_type": "code",
      "source": [
        "# Guardar el modelo y el tokenizador en una carpeta\n",
        "model.save_pretrained(\"modelo_DistilBert\")\n",
        "tokenizer.save_pretrained(\"modelo_DistilBert\")"
      ],
      "metadata": {
        "colab": {
          "base_uri": "https://localhost:8080/"
        },
        "id": "9bB4z_BrWkZQ",
        "outputId": "74aedd38-4549-4693-d7da-b768be460ba9"
      },
      "execution_count": 55,
      "outputs": [
        {
          "output_type": "execute_result",
          "data": {
            "text/plain": [
              "('modelo_DistilBert/tokenizer_config.json',\n",
              " 'modelo_DistilBert/special_tokens_map.json',\n",
              " 'modelo_DistilBert/vocab.txt',\n",
              " 'modelo_DistilBert/added_tokens.json')"
            ]
          },
          "metadata": {},
          "execution_count": 55
        }
      ]
    },
    {
      "cell_type": "code",
      "source": [
        "from sklearn.metrics import classification_report\n",
        "\n",
        "# Predicciones del modelo\n",
        "predictions_output = trainer.predict(test_dataset)\n",
        "logits = predictions_output.predictions\n",
        "labels = predictions_output.label_ids\n",
        "\n",
        "# Convertir logits a predicciones y etiquetas reales\n",
        "predictions = torch.argmax(torch.tensor(logits), dim=-1).numpy()\n",
        "\n",
        "# Reporte de clasificación\n",
        "print(\"\\nReporte de Clasificación:\\n\")\n",
        "print(classification_report(labels, predictions, digits=2))\n",
        "\n",
        "# Balanced Accuracy\n",
        "print(\"\\nBalanced Accuracy:\\n\")\n",
        "print(balanced_accuracy_score(labels, predictions))"
      ],
      "metadata": {
        "colab": {
          "base_uri": "https://localhost:8080/",
          "height": 356
        },
        "id": "oqll-XPZXKDU",
        "outputId": "af344981-07a6-4092-f53b-bcdf3da7ca8e"
      },
      "execution_count": 53,
      "outputs": [
        {
          "output_type": "display_data",
          "data": {
            "text/plain": [
              "<IPython.core.display.HTML object>"
            ],
            "text/html": []
          },
          "metadata": {}
        },
        {
          "output_type": "stream",
          "name": "stdout",
          "text": [
            "Matriz de Confusión:\n",
            " [[44991  7806]\n",
            " [ 1278  7749]]\n",
            "\n",
            "Reporte de Clasificación:\n",
            "\n",
            "              precision    recall  f1-score   support\n",
            "\n",
            "           0       0.97      0.85      0.91     52797\n",
            "           1       0.50      0.86      0.63      9027\n",
            "\n",
            "    accuracy                           0.85     61824\n",
            "   macro avg       0.74      0.86      0.77     61824\n",
            "weighted avg       0.90      0.85      0.87     61824\n",
            "\n",
            "\n",
            "Balanced Accuracy:\n",
            "\n",
            "0.8552877081013338\n"
          ]
        }
      ]
    },
    {
      "cell_type": "code",
      "source": [
        "# Calcular matriz de confusión\n",
        "conf_matrix_normalized = confusion_matrix(labels, predictions, normalize='true')\n",
        "\n",
        "disp_normalized = ConfusionMatrixDisplay(confusion_matrix=conf_matrix_normalized, display_labels=[0, 1])\n",
        "disp_normalized.plot(cmap=\"Blues\", values_format=\".2f\")"
      ],
      "metadata": {
        "colab": {
          "base_uri": "https://localhost:8080/",
          "height": 467
        },
        "id": "5JwY6GjHXRln",
        "outputId": "3c38e049-318e-40f8-8015-9bcde3023326"
      },
      "execution_count": 54,
      "outputs": [
        {
          "output_type": "execute_result",
          "data": {
            "text/plain": [
              "<sklearn.metrics._plot.confusion_matrix.ConfusionMatrixDisplay at 0x7e9228ef05b0>"
            ]
          },
          "metadata": {},
          "execution_count": 54
        },
        {
          "output_type": "display_data",
          "data": {
            "text/plain": [
              "<Figure size 640x480 with 2 Axes>"
            ],
            "image/png": "[encoded data removed]"
          },
          "metadata": {}
        }
      ]
    },
    {
      "cell_type": "code",
      "source": [
        "fpr, tpr, _ = roc_curve(labels, predictions)\n",
        "roc_auc = roc_auc_score(labels, predictions)\n",
        "\n",
        "plt.figure(figsize=(8, 6))\n",
        "plt.plot(fpr, tpr, label=f\"ROC Curve (AUC = {roc_auc:.2f})\")\n",
        "plt.plot([0, 1], [0, 1], color='gray', linestyle='--', label=\"Random Classifier\")\n",
        "plt.xlabel(\"False Positive Rate\")\n",
        "plt.ylabel(\"True Positive Rate\")\n",
        "plt.title(\"ROC Curve\")\n",
        "plt.legend(loc=\"lower right\")\n",
        "plt.grid()\n",
        "plt.show()"
      ],
      "metadata": {
        "colab": {
          "base_uri": "https://localhost:8080/",
          "height": 564
        },
        "id": "CVzXY4hRXZei",
        "outputId": "b915d48a-1082-4a66-af3a-1d8c0f4f3863"
      },
      "execution_count": 56,
      "outputs": [
        {
          "output_type": "display_data",
          "data": {
            "text/plain": [
              "<Figure size 800x600 with 1 Axes>"
            ],
            "image/png": "[encoded data removed]"
          },
          "metadata": {}
        }
      ]
    },
    {
      "cell_type": "markdown",
      "source": [
        "### VADER"
      ],
      "metadata": {
        "id": "WFwQ0CTQSUCe"
      }
    },
    {
      "cell_type": "markdown",
      "source": [
        "Otra opción que exploramos fue VADER (Valence Aware Dictionary and sEntiment Reasoner), una herramienta de análisis de sentimientos basada en reglas y léxico. Esta herramienta fue entrenada para analizar sentimientos en mensajes de redes sociales, es decir, en lenguaje coloquial e informal (según su repositorio en GitHub, incluso puede reconocer emojis). Esta característica encajaba perfectamente con nuestro caso, ya que las reseñas contienen un lenguaje similar. Sin embargo, los resultados obtenidos no fueron satisfactorios y fueron inferiores a los de los modelos previos.\n",
        "\n",
        "Realizamos pruebas utilizando tanto el conjunto de datos sin limpiar como el conjunto limpiado, con diferentes valores de \"compound\" (una variable que indica qué tan negativo o positivo es el sentimiento, donde -1 es extremadamente negativo y +1 es extremadamente positivo). También consideramos diversas métricas como `balanced_accuracy`, `f1 score`, `sensitivity` y `negative predictive value`. Las primeras métricas se enfocan en conjuntos de datos desbalanceados, mientras que las segundas priorizan identificar la mayor cantidad de verdaderos negativos, ya que este era un requisito de la tarea. Al final obtuvimos los mejores resultados con los datos sin limpiar y tomando en cuenta la métrica `balanced_accuracy`.\n",
        "\n",
        "Aunque este modelo está diseñado específicamente para este tipo de datos, los resultados obtenidos con nuestro sencillo modelo de Naive Bayes con vectorización TF-IDF fueron superiores."
      ],
      "metadata": {
        "id": "qbZMkRYbGJNv"
      }
    },
    {
      "cell_type": "code",
      "source": [
        "!pip install vaderSentiment"
      ],
      "metadata": {
        "colab": {
          "base_uri": "https://localhost:8080/"
        },
        "id": "UWn8l3XlSNXk",
        "outputId": "e2972c9c-1d61-4f9a-9b76-610bb1ab680d"
      },
      "execution_count": null,
      "outputs": [
        {
          "output_type": "stream",
          "name": "stdout",
          "text": [
            "Collecting vaderSentiment\n",
            "  Downloading vaderSentiment-3.3.2-py2.py3-none-any.whl.metadata (572 bytes)\n",
            "Requirement already satisfied: requests in /usr/local/lib/python3.10/dist-packages (from vaderSentiment) (2.32.3)\n",
            "Requirement already satisfied: charset-normalizer<4,>=2 in /usr/local/lib/python3.10/dist-packages (from requests->vaderSentiment) (3.4.0)\n",
            "Requirement already satisfied: idna<4,>=2.5 in /usr/local/lib/python3.10/dist-packages (from requests->vaderSentiment) (3.10)\n",
            "Requirement already satisfied: urllib3<3,>=1.21.1 in /usr/local/lib/python3.10/dist-packages (from requests->vaderSentiment) (2.2.3)\n",
            "Requirement already satisfied: certifi>=2017.4.17 in /usr/local/lib/python3.10/dist-packages (from requests->vaderSentiment) (2024.8.30)\n",
            "Downloading vaderSentiment-3.3.2-py2.py3-none-any.whl (125 kB)\n",
            "\u001b[?25l   \u001b[90m━━━━━━━━━━━━━━━━━━━━━━━━━━━━━━━━━━━━━━━━\u001b[0m \u001b[32m0.0/126.0 kB\u001b[0m \u001b[31m?\u001b[0m eta \u001b[36m-:--:--\u001b[0m\r\u001b[2K   \u001b[90m━━━━━━━━━━━━━━━━━━━━━━━━━━━━━━━━━━━━━━━━\u001b[0m \u001b[32m126.0/126.0 kB\u001b[0m \u001b[31m3.5 MB/s\u001b[0m eta \u001b[36m0:00:00\u001b[0m\n",
            "\u001b[?25hInstalling collected packages: vaderSentiment\n",
            "Successfully installed vaderSentiment-3.3.2\n"
          ]
        }
      ]
    },
    {
      "cell_type": "code",
      "source": [
        "from vaderSentiment.vaderSentiment import SentimentIntensityAnalyzer"
      ],
      "metadata": {
        "id": "CTJna9K6TR4q"
      },
      "execution_count": null,
      "outputs": []
    },
    {
      "cell_type": "code",
      "source": [
        "# VADER\n",
        "analyzer = SentimentIntensityAnalyzer()\n",
        "\n",
        "# Polaridad de sentimiento de una oración\n",
        "def get_sentiment(text):\n",
        "    sentiment_score = analyzer.polarity_scores(text)\n",
        "    return sentiment_score['compound']  # Métrica \"compound\" va de -1 a 1"
      ],
      "metadata": {
        "id": "X91SCS5nSV5K"
      },
      "execution_count": null,
      "outputs": []
    },
    {
      "cell_type": "code",
      "source": [
        "# Preparamos conjuntos de datos\n",
        "X = dataset['Concat_text']\n",
        "y = dataset['Score'].apply(lambda x: 1 if x in [1, 2] else 0)\n",
        "X_train, X_test, y_train, y_test = train_test_split(X, y, test_size=0.2, stratify=y, random_state=RANDOM_SEED)\n",
        "\n",
        "X_sentiment_train = X_train.apply(get_sentiment)\n",
        "X_sentiment_test = X_test.apply(get_sentiment)"
      ],
      "metadata": {
        "id": "G9YqAu3ppXM3"
      },
      "execution_count": null,
      "outputs": []
    },
    {
      "cell_type": "code",
      "source": [
        "# Ajuste fino del umbral\n",
        "def fine_tune_threshold(X_sentiment, y, thresholds):\n",
        "    best_threshold = None\n",
        "    best_metric = 0\n",
        "\n",
        "    for threshold in thresholds:\n",
        "        # Convertimos \"compound\" a nuestras etiquetas\n",
        "        y_pred = X_sentiment.apply(lambda score: 0 if score >= threshold else 1)\n",
        "\n",
        "        # Métrica\n",
        "        cm = confusion_matrix(y, y_pred)\n",
        "        tn, fp, fn, tp = cm.ravel()\n",
        "        specificity = tn / (tn + fp)\n",
        "        sensitivity = tp / (tp + fn)\n",
        "        balanced_acc = (sensitivity + specificity)/2\n",
        "\n",
        "        if balanced_acc > best_metric:\n",
        "            best_metric = balanced_acc\n",
        "            best_threshold = threshold\n",
        "\n",
        "    return best_threshold, best_metric"
      ],
      "metadata": {
        "id": "pZ9Chba6ebkW"
      },
      "execution_count": null,
      "outputs": []
    },
    {
      "cell_type": "code",
      "source": [
        "thresholds = np.linspace(-1, 1, 100)\n",
        "best_threshold, best_metric = fine_tune_threshold(X_sentiment_train, y_train, thresholds)\n",
        "print(f\"Mejor umbral: {best_threshold}\")\n",
        "print(f\"Mejor métrica: {best_metric}\")\n",
        "\n",
        "y_pred = X_sentiment_test.apply(lambda score: 0 if score >= best_threshold else 1)\n",
        "print(classification_report(y_test, y_pred))"
      ],
      "metadata": {
        "id": "jt0AwvSkPDey",
        "colab": {
          "base_uri": "https://localhost:8080/"
        },
        "outputId": "489e81c6-15f6-46ea-de4f-d88d8b4315da"
      },
      "execution_count": null,
      "outputs": [
        {
          "output_type": "stream",
          "name": "stdout",
          "text": [
            "Mejor umbral: 0.7171717171717173\n",
            "Mejor métrica: 0.7810692825239358\n",
            "              precision    recall  f1-score   support\n",
            "\n",
            "           0       0.95      0.83      0.88     52797\n",
            "           1       0.42      0.74      0.54      9027\n",
            "\n",
            "    accuracy                           0.81     61824\n",
            "   macro avg       0.69      0.78      0.71     61824\n",
            "weighted avg       0.87      0.81      0.83     61824\n",
            "\n"
          ]
        }
      ]
    },
    {
      "cell_type": "code",
      "source": [
        "cm = confusion_matrix(y_test, y_pred)\n",
        "cm_normalized = confusion_matrix(y_test, y_pred, normalize='true')\n",
        "\n",
        "disp_normalized = ConfusionMatrixDisplay(confusion_matrix=cm_normalized, display_labels=[0, 1])\n",
        "disp_normalized.plot(cmap=\"Blues\", values_format=\".2f\")"
      ],
      "metadata": {
        "colab": {
          "base_uri": "https://localhost:8080/",
          "height": 466
        },
        "id": "uBBDOC6vV1ZS",
        "outputId": "6231a68d-9b5d-4c72-ebc2-be83f9cfb664"
      },
      "execution_count": null,
      "outputs": [
        {
          "output_type": "execute_result",
          "data": {
            "text/plain": [
              "<sklearn.metrics._plot.confusion_matrix.ConfusionMatrixDisplay at 0x7d2350ecb910>"
            ]
          },
          "metadata": {},
          "execution_count": 36
        },
        {
          "output_type": "display_data",
          "data": {
            "text/plain": [
              "<Figure size 640x480 with 2 Axes>"
            ],
            "image/png": "[encoded data removed]"
          },
          "metadata": {}
        }
      ]
    },
    {
      "cell_type": "code",
      "source": [
        "fpr, tpr, _ = roc_curve(y_test, y_pred)\n",
        "roc_auc = roc_auc_score(y_test, y_pred)\n",
        "\n",
        "plt.figure(figsize=(8, 6))\n",
        "plt.plot(fpr, tpr, label=f\"ROC Curve (AUC = {roc_auc:.2f})\")\n",
        "plt.plot([0, 1], [0, 1], color='gray', linestyle='--', label=\"Random Classifier\")\n",
        "plt.xlabel(\"False Positive Rate\")\n",
        "plt.ylabel(\"True Positive Rate\")\n",
        "plt.title(\"ROC Curve\")\n",
        "plt.legend(loc=\"lower right\")\n",
        "plt.grid()\n",
        "plt.show()"
      ],
      "metadata": {
        "colab": {
          "base_uri": "https://localhost:8080/",
          "height": 564
        },
        "id": "5FSxvwq0y7zO",
        "outputId": "4ff8366c-ac05-4465-f173-6acbac22c0d4"
      },
      "execution_count": null,
      "outputs": [
        {
          "output_type": "display_data",
          "data": {
            "text/plain": [
              "<Figure size 800x600 with 1 Axes>"
            ],
            "image/png": "[encoded data removed]"
          },
          "metadata": {}
        }
      ]
    },
    {
      "cell_type": "markdown",
      "source": [
        "## Análisis de tópicos"
      ],
      "metadata": {
        "id": "-0YBTNKe0Zr_"
      }
    },
    {
      "cell_type": "markdown",
      "source": [
        "Para la obtención de tópicos exploramos varios métodos, como LDA (Latent Dirichlet Allocation) con vectorización por conteo de palabras y TF-IDF, NMF (Non-negative Matrix Factorization), y finalmente un modelo LLM como BERTopic. La elección de estos modelos se basó en la comparación de enfoques: LDA, visto en clases, es un modelo probabilístico, mientras que NMF es un modelo no probabilístico. Por último, BERTopic es un modelo LLM entrenado específicamente para la detección de tópicos.\n",
        "\n",
        "Un comportamiento curioso de BERTopic es el número de grupos que genera cuando no se especifica previamente el número deseado; en este caso, produjo alrededor de 100 tópicos. Sin embargo, muchos de estos no ofrecían información significativa, al menos entre los que pudimos revisar.\n",
        "\n",
        "Tras explorar los modelos, experimentar con ellos y compararlos, logramos identificar cinco productos o situaciones que generan la mayor cantidad de reseñas negativas:\n",
        "\n",
        "1. Café\n",
        "2. Té\n",
        "3. Entregas\n",
        "4. China\n",
        "5. Chocolate\n",
        "\n",
        "A continuación, presentamos algunos ejemplos de los tópicos generados por los diferentes modelos:\n",
        "\n",
        "* LDA con Bag of Words:\n",
        "\n",
        "    Tópico 0: ['would', 'one', 'beans', 'good', 'flavor', 'cups', 'taste', 'like', 'cup', 'coffee'] (Café)\n",
        "\n",
        "    Tópico 2: ['sugar', 'really', 'would', 'one', 'cookies', 'flavor', 'good', 'chocolate', 'like', 'taste'] (Chocolate)\n",
        "\n",
        "    Tópico 3: ['would', 'one', 'tastes', 'good', 'drink', 'water', 'flavor', 'like', 'taste', 'tea'] (Té)\n",
        "\n",
        "    Tópico 5: ['bag', 'received', 'time', 'would', 'one', 'ordered', 'box', 'order', 'amazon', 'product'] (Entregas)\n",
        "\n",
        "    Tópico 6: ['one', 'item', 'would', 'box', 'store', 'get', 'buy', 'amazon', 'product', 'price'] (Entregas)\n",
        "\n",
        "* LDA con TF-IDF:\n",
        "\n",
        "    Tópico 0: ['bitter', 'beans', 'good', 'weak', 'flavor', 'like', 'taste', 'cups', 'cup', 'coffee'] (Café)\n",
        "\n",
        "    Tópico 1: ['one', 'ingredients', 'item', 'china', 'dog', 'buy', 'price', 'amazon', 'food', 'product'] (China)\n",
        "\n",
        "    Tópico 3: ['sugar', 'one', 'good', 'tastes', 'drink', 'water', 'flavor', 'like', 'taste', 'tea'] (Té)\n",
        "\n",
        "* NMF:\n",
        "\n",
        "    Tópico 1: ['flavor', 'pods', 'beans', 'bitter', 'roast', 'instant', 'weak', 'cups', 'cup', 'coffee'] (Café)\n",
        "\n",
        "    Tópico 2: ['drink', 'chai', 'black', 'weak', 'flavor', 'cup', 'bags',   'teas', 'green', 'tea'] (Té)\n",
        "\n",
        "    Tópico 3: ['one', 'item', 'received', 'buy', 'ordered', 'order', 'price', 'box', 'amazon', 'product'] (Entregas)\n",
        "\n",
        "    Tópico 4: ['chicken', 'made', 'cats', 'china', 'eat', 'treats', 'cat', 'dogs', 'food', 'dog'] (China)\n",
        "\n",
        "    Tópico 5: ['white', 'cocoa', 'milk', 'cookie', 'bar', 'dark', 'bars', 'hot', 'cookies', 'chocolate'] (Chocolate)\n",
        "\n",
        "* BERTopic:\n",
        "\n",
        "    Tópico 0: ['product', 'amazon', 'box', 'price', 'order', 'received', 'item', 'ordered', 'would', 'one'] (Entregas)\n",
        "\n",
        "    Tópico 1: ['taste', 'like', 'chocolate', 'flavor', 'product', 'good', 'one', 'would', 'cereal', 'eat'] (Chocolate)\n",
        "\n",
        "    Tópico 3: ['coffee', 'cup', 'cups', 'like', 'taste', 'flavor', 'beans', 'good', 'roast', 'one'] (Café)\n",
        "\n",
        "    Tópico 5: ['dog', 'dogs', 'food', 'treats', 'china', 'made', 'product', 'treat', 'chicken', 'one'] (China)\n",
        "\n",
        "\n",
        "Un tópico que nos llamó la atención fue el de \"China\". Observamos que muchas reseñas negativas estaban relacionadas con productos provenientes de ese país. Algunas reseñas mencionaban que les gustaban los productos hasta que descubrían que eran de China. Otra observación interesante fue la asociación entre \"perro\" y \"China\". Inicialmente pensamos que podría deberse al estereotipo de que los chinos comen perros, pero en realidad, esto se debía a que muchos productos son alimentos para perros o porque los dueños mencionaban que planeaban dárselos a sus perros debido a su origen de China."
      ],
      "metadata": {
        "id": "YM97HbmgprRk"
      }
    },
    {
      "cell_type": "code",
      "source": [
        "!pip install bertopic"
      ],
      "metadata": {
        "colab": {
          "base_uri": "https://localhost:8080/"
        },
        "id": "BEBJKInp0ORW",
        "outputId": "ce36989b-e9f2-4254-fd49-7b222328560a"
      },
      "execution_count": null,
      "outputs": [
        {
          "output_type": "stream",
          "name": "stdout",
          "text": [
            "Collecting bertopic\n",
            "  Downloading bertopic-0.16.4-py3-none-any.whl.metadata (23 kB)\n",
            "Collecting hdbscan>=0.8.29 (from bertopic)\n",
            "  Downloading hdbscan-0.8.40-cp310-cp310-manylinux_2_17_x86_64.manylinux2014_x86_64.whl.metadata (15 kB)\n",
            "Requirement already satisfied: numpy>=1.20.0 in /usr/local/lib/python3.10/dist-packages (from bertopic) (1.26.4)\n",
            "Requirement already satisfied: pandas>=1.1.5 in /usr/local/lib/python3.10/dist-packages (from bertopic) (2.2.2)\n",
            "Requirement already satisfied: plotly>=4.7.0 in /usr/local/lib/python3.10/dist-packages (from bertopic) (5.24.1)\n",
            "Requirement already satisfied: scikit-learn>=0.22.2.post1 in /usr/local/lib/python3.10/dist-packages (from bertopic) (1.5.2)\n",
            "Requirement already satisfied: sentence-transformers>=0.4.1 in /usr/local/lib/python3.10/dist-packages (from bertopic) (3.2.1)\n",
            "Requirement already satisfied: tqdm>=4.41.1 in /usr/local/lib/python3.10/dist-packages (from bertopic) (4.66.6)\n",
            "Collecting umap-learn>=0.5.0 (from bertopic)\n",
            "  Downloading umap_learn-0.5.7-py3-none-any.whl.metadata (21 kB)\n",
            "Requirement already satisfied: scipy>=1.0 in /usr/local/lib/python3.10/dist-packages (from hdbscan>=0.8.29->bertopic) (1.13.1)\n",
            "Requirement already satisfied: joblib>=1.0 in /usr/local/lib/python3.10/dist-packages (from hdbscan>=0.8.29->bertopic) (1.4.2)\n",
            "Requirement already satisfied: python-dateutil>=2.8.2 in /usr/local/lib/python3.10/dist-packages (from pandas>=1.1.5->bertopic) (2.8.2)\n",
            "Requirement already satisfied: pytz>=2020.1 in /usr/local/lib/python3.10/dist-packages (from pandas>=1.1.5->bertopic) (2024.2)\n",
            "Requirement already satisfied: tzdata>=2022.7 in /usr/local/lib/python3.10/dist-packages (from pandas>=1.1.5->bertopic) (2024.2)\n",
            "Requirement already satisfied: tenacity>=6.2.0 in /usr/local/lib/python3.10/dist-packages (from plotly>=4.7.0->bertopic) (9.0.0)\n",
            "Requirement already satisfied: packaging in /usr/local/lib/python3.10/dist-packages (from plotly>=4.7.0->bertopic) (24.2)\n",
            "Requirement already satisfied: threadpoolctl>=3.1.0 in /usr/local/lib/python3.10/dist-packages (from scikit-learn>=0.22.2.post1->bertopic) (3.5.0)\n",
            "Requirement already satisfied: transformers<5.0.0,>=4.41.0 in /usr/local/lib/python3.10/dist-packages (from sentence-transformers>=0.4.1->bertopic) (4.46.2)\n",
            "Requirement already satisfied: torch>=1.11.0 in /usr/local/lib/python3.10/dist-packages (from sentence-transformers>=0.4.1->bertopic) (2.5.1+cu121)\n",
            "Requirement already satisfied: huggingface-hub>=0.20.0 in /usr/local/lib/python3.10/dist-packages (from sentence-transformers>=0.4.1->bertopic) (0.26.2)\n",
            "Requirement already satisfied: Pillow in /usr/local/lib/python3.10/dist-packages (from sentence-transformers>=0.4.1->bertopic) (11.0.0)\n",
            "Requirement already satisfied: numba>=0.51.2 in /usr/local/lib/python3.10/dist-packages (from umap-learn>=0.5.0->bertopic) (0.60.0)\n",
            "Collecting pynndescent>=0.5 (from umap-learn>=0.5.0->bertopic)\n",
            "  Downloading pynndescent-0.5.13-py3-none-any.whl.metadata (6.8 kB)\n",
            "Requirement already satisfied: filelock in /usr/local/lib/python3.10/dist-packages (from huggingface-hub>=0.20.0->sentence-transformers>=0.4.1->bertopic) (3.16.1)\n",
            "Requirement already satisfied: fsspec>=2023.5.0 in /usr/local/lib/python3.10/dist-packages (from huggingface-hub>=0.20.0->sentence-transformers>=0.4.1->bertopic) (2024.10.0)\n",
            "Requirement already satisfied: pyyaml>=5.1 in /usr/local/lib/python3.10/dist-packages (from huggingface-hub>=0.20.0->sentence-transformers>=0.4.1->bertopic) (6.0.2)\n",
            "Requirement already satisfied: requests in /usr/local/lib/python3.10/dist-packages (from huggingface-hub>=0.20.0->sentence-transformers>=0.4.1->bertopic) (2.32.3)\n",
            "Requirement already satisfied: typing-extensions>=3.7.4.3 in /usr/local/lib/python3.10/dist-packages (from huggingface-hub>=0.20.0->sentence-transformers>=0.4.1->bertopic) (4.12.2)\n",
            "Requirement already satisfied: llvmlite<0.44,>=0.43.0dev0 in /usr/local/lib/python3.10/dist-packages (from numba>=0.51.2->umap-learn>=0.5.0->bertopic) (0.43.0)\n",
            "Requirement already satisfied: six>=1.5 in /usr/local/lib/python3.10/dist-packages (from python-dateutil>=2.8.2->pandas>=1.1.5->bertopic) (1.16.0)\n",
            "Requirement already satisfied: networkx in /usr/local/lib/python3.10/dist-packages (from torch>=1.11.0->sentence-transformers>=0.4.1->bertopic) (3.4.2)\n",
            "Requirement already satisfied: jinja2 in /usr/local/lib/python3.10/dist-packages (from torch>=1.11.0->sentence-transformers>=0.4.1->bertopic) (3.1.4)\n",
            "Requirement already satisfied: sympy==1.13.1 in /usr/local/lib/python3.10/dist-packages (from torch>=1.11.0->sentence-transformers>=0.4.1->bertopic) (1.13.1)\n",
            "Requirement already satisfied: mpmath<1.4,>=1.1.0 in /usr/local/lib/python3.10/dist-packages (from sympy==1.13.1->torch>=1.11.0->sentence-transformers>=0.4.1->bertopic) (1.3.0)\n",
            "Requirement already satisfied: regex!=2019.12.17 in /usr/local/lib/python3.10/dist-packages (from transformers<5.0.0,>=4.41.0->sentence-transformers>=0.4.1->bertopic) (2024.9.11)\n",
            "Requirement already satisfied: safetensors>=0.4.1 in /usr/local/lib/python3.10/dist-packages (from transformers<5.0.0,>=4.41.0->sentence-transformers>=0.4.1->bertopic) (0.4.5)\n",
            "Requirement already satisfied: tokenizers<0.21,>=0.20 in /usr/local/lib/python3.10/dist-packages (from transformers<5.0.0,>=4.41.0->sentence-transformers>=0.4.1->bertopic) (0.20.3)\n",
            "Requirement already satisfied: MarkupSafe>=2.0 in /usr/local/lib/python3.10/dist-packages (from jinja2->torch>=1.11.0->sentence-transformers>=0.4.1->bertopic) (3.0.2)\n",
            "Requirement already satisfied: charset-normalizer<4,>=2 in /usr/local/lib/python3.10/dist-packages (from requests->huggingface-hub>=0.20.0->sentence-transformers>=0.4.1->bertopic) (3.4.0)\n",
            "Requirement already satisfied: idna<4,>=2.5 in /usr/local/lib/python3.10/dist-packages (from requests->huggingface-hub>=0.20.0->sentence-transformers>=0.4.1->bertopic) (3.10)\n",
            "Requirement already satisfied: urllib3<3,>=1.21.1 in /usr/local/lib/python3.10/dist-packages (from requests->huggingface-hub>=0.20.0->sentence-transformers>=0.4.1->bertopic) (2.2.3)\n",
            "Requirement already satisfied: certifi>=2017.4.17 in /usr/local/lib/python3.10/dist-packages (from requests->huggingface-hub>=0.20.0->sentence-transformers>=0.4.1->bertopic) (2024.8.30)\n",
            "Downloading bertopic-0.16.4-py3-none-any.whl (143 kB)\n",
            "\u001b[2K   \u001b[90m━━━━━━━━━━━━━━━━━━━━━━━━━━━━━━━━━━━━━━━━\u001b[0m \u001b[32m143.7/143.7 kB\u001b[0m \u001b[31m6.3 MB/s\u001b[0m eta \u001b[36m0:00:00\u001b[0m\n",
            "\u001b[?25hDownloading hdbscan-0.8.40-cp310-cp310-manylinux_2_17_x86_64.manylinux2014_x86_64.whl (4.2 MB)\n",
            "\u001b[2K   \u001b[90m━━━━━━━━━━━━━━━━━━━━━━━━━━━━━━━━━━━━━━━━\u001b[0m \u001b[32m4.2/4.2 MB\u001b[0m \u001b[31m40.9 MB/s\u001b[0m eta \u001b[36m0:00:00\u001b[0m\n",
            "\u001b[?25hDownloading umap_learn-0.5.7-py3-none-any.whl (88 kB)\n",
            "\u001b[2K   \u001b[90m━━━━━━━━━━━━━━━━━━━━━━━━━━━━━━━━━━━━━━━━\u001b[0m \u001b[32m88.8/88.8 kB\u001b[0m \u001b[31m5.4 MB/s\u001b[0m eta \u001b[36m0:00:00\u001b[0m\n",
            "\u001b[?25hDownloading pynndescent-0.5.13-py3-none-any.whl (56 kB)\n",
            "\u001b[2K   \u001b[90m━━━━━━━━━━━━━━━━━━━━━━━━━━━━━━━━━━━━━━━━\u001b[0m \u001b[32m56.9/56.9 kB\u001b[0m \u001b[31m3.4 MB/s\u001b[0m eta \u001b[36m0:00:00\u001b[0m\n",
            "\u001b[?25hInstalling collected packages: pynndescent, hdbscan, umap-learn, bertopic\n",
            "Successfully installed bertopic-0.16.4 hdbscan-0.8.40 pynndescent-0.5.13 umap-learn-0.5.7\n"
          ]
        }
      ]
    },
    {
      "cell_type": "code",
      "source": [
        "!pip install pyLDAvis"
      ],
      "metadata": {
        "colab": {
          "base_uri": "https://localhost:8080/"
        },
        "id": "cbTX2cJw2C-1",
        "outputId": "a1572353-a5ed-4595-c7f0-546857129a33"
      },
      "execution_count": null,
      "outputs": [
        {
          "output_type": "stream",
          "name": "stdout",
          "text": [
            "Collecting pyLDAvis\n",
            "  Downloading pyLDAvis-3.4.1-py3-none-any.whl.metadata (4.2 kB)\n",
            "Requirement already satisfied: numpy>=1.24.2 in /usr/local/lib/python3.10/dist-packages (from pyLDAvis) (1.26.4)\n",
            "Requirement already satisfied: scipy in /usr/local/lib/python3.10/dist-packages (from pyLDAvis) (1.13.1)\n",
            "Requirement already satisfied: pandas>=2.0.0 in /usr/local/lib/python3.10/dist-packages (from pyLDAvis) (2.2.2)\n",
            "Requirement already satisfied: joblib>=1.2.0 in /usr/local/lib/python3.10/dist-packages (from pyLDAvis) (1.4.2)\n",
            "Requirement already satisfied: jinja2 in /usr/local/lib/python3.10/dist-packages (from pyLDAvis) (3.1.4)\n",
            "Requirement already satisfied: numexpr in /usr/local/lib/python3.10/dist-packages (from pyLDAvis) (2.10.1)\n",
            "Collecting funcy (from pyLDAvis)\n",
            "  Downloading funcy-2.0-py2.py3-none-any.whl.metadata (5.9 kB)\n",
            "Requirement already satisfied: scikit-learn>=1.0.0 in /usr/local/lib/python3.10/dist-packages (from pyLDAvis) (1.5.2)\n",
            "Requirement already satisfied: gensim in /usr/local/lib/python3.10/dist-packages (from pyLDAvis) (4.3.3)\n",
            "Requirement already satisfied: setuptools in /usr/local/lib/python3.10/dist-packages (from pyLDAvis) (75.1.0)\n",
            "Requirement already satisfied: python-dateutil>=2.8.2 in /usr/local/lib/python3.10/dist-packages (from pandas>=2.0.0->pyLDAvis) (2.8.2)\n",
            "Requirement already satisfied: pytz>=2020.1 in /usr/local/lib/python3.10/dist-packages (from pandas>=2.0.0->pyLDAvis) (2024.2)\n",
            "Requirement already satisfied: tzdata>=2022.7 in /usr/local/lib/python3.10/dist-packages (from pandas>=2.0.0->pyLDAvis) (2024.2)\n",
            "Requirement already satisfied: threadpoolctl>=3.1.0 in /usr/local/lib/python3.10/dist-packages (from scikit-learn>=1.0.0->pyLDAvis) (3.5.0)\n",
            "Requirement already satisfied: smart-open>=1.8.1 in /usr/local/lib/python3.10/dist-packages (from gensim->pyLDAvis) (7.0.5)\n",
            "Requirement already satisfied: MarkupSafe>=2.0 in /usr/local/lib/python3.10/dist-packages (from jinja2->pyLDAvis) (3.0.2)\n",
            "Requirement already satisfied: six>=1.5 in /usr/local/lib/python3.10/dist-packages (from python-dateutil>=2.8.2->pandas>=2.0.0->pyLDAvis) (1.16.0)\n",
            "Requirement already satisfied: wrapt in /usr/local/lib/python3.10/dist-packages (from smart-open>=1.8.1->gensim->pyLDAvis) (1.16.0)\n",
            "Downloading pyLDAvis-3.4.1-py3-none-any.whl (2.6 MB)\n",
            "\u001b[2K   \u001b[90m━━━━━━━━━━━━━━━━━━━━━━━━━━━━━━━━━━━━━━━━\u001b[0m \u001b[32m2.6/2.6 MB\u001b[0m \u001b[31m21.6 MB/s\u001b[0m eta \u001b[36m0:00:00\u001b[0m\n",
            "\u001b[?25hDownloading funcy-2.0-py2.py3-none-any.whl (30 kB)\n",
            "Installing collected packages: funcy, pyLDAvis\n",
            "Successfully installed funcy-2.0 pyLDAvis-3.4.1\n"
          ]
        }
      ]
    },
    {
      "cell_type": "code",
      "source": [
        "from sklearn.feature_extraction.text import CountVectorizer\n",
        "from sklearn.decomposition import LatentDirichletAllocation, NMF\n",
        "from sklearn.model_selection import GridSearchCV\n",
        "import pyLDAvis"
      ],
      "metadata": {
        "id": "T4ig_ueMKsuL"
      },
      "execution_count": null,
      "outputs": []
    },
    {
      "cell_type": "code",
      "source": [
        "# Filtrar reviews negativas\n",
        "negative_reviews = dataset[dataset['Score'].isin([1, 2])]['cleaned_text']"
      ],
      "metadata": {
        "colab": {
          "base_uri": "https://localhost:8080/"
        },
        "id": "BSe3cW_LhgaL",
        "outputId": "1c465a0f-66e4-429d-d03a-2b19434326d6"
      },
      "execution_count": null,
      "outputs": [
        {
          "output_type": "stream",
          "name": "stderr",
          "text": [
            "/usr/local/lib/python3.10/dist-packages/ipykernel/ipkernel.py:283: DeprecationWarning: `should_run_async` will not call `transform_cell` automatically in the future. Please pass the result to `transformed_cell` argument and any exception that happen during thetransform in `preprocessing_exc_tuple` in IPython 7.17 and above.\n",
            "  and should_run_async(code)\n"
          ]
        }
      ]
    },
    {
      "cell_type": "markdown",
      "source": [
        "### LDA (Latent Dirichlet Allocation)"
      ],
      "metadata": {
        "id": "fWhC2xmconjS"
      }
    },
    {
      "cell_type": "code",
      "source": [
        "count_vectorizer = CountVectorizer(max_features=5000)\n",
        "X_neg_counts = count_vectorizer.fit_transform(negative_reviews)\n",
        "\n",
        "# Entrenamiento\n",
        "lda_search_params = {'n_components': [3, 5, 7]}\n",
        "lda = LatentDirichletAllocation(random_state=RANDOM_SEED)\n",
        "lda_grid_search = GridSearchCV(lda, param_grid=lda_search_params, cv=2)\n",
        "lda_grid_search.fit(X_neg_counts)\n",
        "\n",
        "best_lda_n_topics = lda_grid_search.best_params_['n_components']\n",
        "print(f\"Mejores tópicos LDA: {best_lda_n_topics}\")\n",
        "\n",
        "lda_best = LatentDirichletAllocation(n_components=best_lda_n_topics, random_state=RANDOM_SEED)\n",
        "lda_best.fit(X_neg_counts)\n",
        "\n",
        "for idx, topic in enumerate(lda_best.components_):\n",
        "    print(f\"Tópico {idx}: {[count_vectorizer.get_feature_names_out()[i] for i in topic.argsort()[-10:]]}\")"
      ],
      "metadata": {
        "colab": {
          "base_uri": "https://localhost:8080/"
        },
        "id": "Mk34qzjF10ti",
        "outputId": "e94ea284-3564-4414-a74b-f657937379fc"
      },
      "execution_count": null,
      "outputs": [
        {
          "output_type": "stream",
          "name": "stderr",
          "text": [
            "/usr/local/lib/python3.10/dist-packages/ipykernel/ipkernel.py:283: DeprecationWarning:\n",
            "\n",
            "`should_run_async` will not call `transform_cell` automatically in the future. Please pass the result to `transformed_cell` argument and any exception that happen during thetransform in `preprocessing_exc_tuple` in IPython 7.17 and above.\n",
            "\n"
          ]
        },
        {
          "output_type": "stream",
          "name": "stdout",
          "text": [
            "Mejores tópicos LDA: 7\n",
            "Tópico 0: ['would', 'one', 'beans', 'good', 'flavor', 'cups', 'taste', 'like', 'cup', 'coffee']\n",
            "Tópico 1: ['organic', 'corn', 'products', 'cat', 'oil', 'dog', 'made', 'ingredients', 'product', 'food']\n",
            "Tópico 2: ['sugar', 'really', 'would', 'one', 'cookies', 'flavor', 'good', 'chocolate', 'like', 'taste']\n",
            "Tópico 3: ['would', 'one', 'tastes', 'good', 'drink', 'water', 'flavor', 'like', 'taste', 'tea']\n",
            "Tópico 4: ['food', 'product', 'even', 'good', 'eat', 'taste', 'dog', 'would', 'one', 'like']\n",
            "Tópico 5: ['bag', 'received', 'time', 'would', 'one', 'ordered', 'box', 'order', 'amazon', 'product']\n",
            "Tópico 6: ['one', 'item', 'would', 'box', 'store', 'get', 'buy', 'amazon', 'product', 'price']\n"
          ]
        }
      ]
    },
    {
      "cell_type": "code",
      "source": [
        "tfidf_neg = TfidfVectorizer(max_features=5000)\n",
        "X_neg_tfidf = tfidf_neg.fit_transform(negative_reviews)\n",
        "\n",
        "lda = LatentDirichletAllocation(n_components=7, random_state=RANDOM_SEED)\n",
        "lda.fit(X_neg_tfidf)\n",
        "\n",
        "for idx, topic in enumerate(lda.components_):\n",
        "    print(f\"Tópico {idx}: {[tfidf_neg.get_feature_names_out()[i] for i in topic.argsort()[-10:]]}\")"
      ],
      "metadata": {
        "colab": {
          "base_uri": "https://localhost:8080/"
        },
        "id": "VnKaiixypMWW",
        "outputId": "3968f976-9bec-4200-f8cb-af9b931c9ba1"
      },
      "execution_count": null,
      "outputs": [
        {
          "output_type": "stream",
          "name": "stderr",
          "text": [
            "/usr/local/lib/python3.10/dist-packages/ipykernel/ipkernel.py:283: DeprecationWarning: `should_run_async` will not call `transform_cell` automatically in the future. Please pass the result to `transformed_cell` argument and any exception that happen during thetransform in `preprocessing_exc_tuple` in IPython 7.17 and above.\n",
            "  and should_run_async(code)\n"
          ]
        },
        {
          "output_type": "stream",
          "name": "stdout",
          "text": [
            "Tópico 0: ['bad', 'really', 'product', 'one', 'would', 'chocolate', 'good', 'flavor', 'like', 'taste']\n",
            "Tópico 1: ['like', 'ingredients', 'popcorn', 'soup', 'oil', 'salt', 'cats', 'cat', 'product', 'food']\n",
            "Tópico 2: ['juice', 'butter', 'flavor', 'syrup', 'sweet', 'ingredients', 'product', 'like', 'taste', 'sugar']\n",
            "Tópico 3: ['product', 'good', 'green', 'one', 'water', 'drink', 'flavor', 'taste', 'like', 'tea']\n",
            "Tópico 4: ['one', 'like', 'jerky', 'eat', 'made', 'china', 'food', 'treats', 'dogs', 'dog']\n",
            "Tópico 5: ['roast', 'good', 'bitter', 'weak', 'like', 'flavor', 'taste', 'cups', 'cup', 'coffee']\n",
            "Tópico 6: ['buy', 'shipping', 'ordered', 'item', 'received', 'order', 'box', 'price', 'product', 'amazon']\n"
          ]
        }
      ]
    },
    {
      "cell_type": "code",
      "source": [
        "lda_vis = pyLDAvis.prepare(\n",
        "    topic_term_dists=lda_best.components_,\n",
        "    doc_topic_dists=lda_best.transform(X_neg_counts),\n",
        "    doc_lengths=X_neg_counts.sum(axis=1).A1,\n",
        "    vocab=count_vectorizer.get_feature_names_out(),\n",
        "    term_frequency=X_neg_counts.sum(axis=0).A1,\n",
        ")\n",
        "pyLDAvis.display(lda_vis)"
      ],
      "metadata": {
        "colab": {
          "base_uri": "https://localhost:8080/",
          "height": 950
        },
        "id": "QSKnA45w-gMj",
        "outputId": "826584df-eb80-4b60-955a-ec3a354bdf36"
      },
      "execution_count": null,
      "outputs": [
        {
          "output_type": "stream",
          "name": "stderr",
          "text": [
            "/usr/local/lib/python3.10/dist-packages/ipykernel/ipkernel.py:283: DeprecationWarning:\n",
            "\n",
            "`should_run_async` will not call `transform_cell` automatically in the future. Please pass the result to `transformed_cell` argument and any exception that happen during thetransform in `preprocessing_exc_tuple` in IPython 7.17 and above.\n",
            "\n"
          ]
        },
        {
          "output_type": "execute_result",
          "data": {
            "text/plain": [
              "<IPython.core.display.HTML object>"
            ],
            "text/html": [
              "\n",
              "<link rel=\"stylesheet\" type=\"text/css\" href=\"https://cdn.jsdelivr.net/gh/bmabey/pyLDAvis@3.4.0/pyLDAvis/js/ldavis.v1.0.0.css\">\n",
              "\n",
              "\n",
              "<div id=\"ldavis_el2991375832276897126601864742\" style=\"background-color:white;\"></div>\n",
              "<script type=\"text/javascript\">\n",
              "\n",
              "var ldavis_el2991375832276897126601864742_data = {\"mdsDat\": {\"x\": [0.05969968320596245, -0.12196029240701367, 0.13561276208620038, -0.082858770783242, 0.09263305952419265, -0.17967427503603203, 0.09654783340993262], \"y\": [-0.06024597022269792, 0.03775517963896601, 0.013183765040711476, -0.19289482098401778, -0.01031125089320576, 0.10546633300634303, 0.10704676441390096], \"topics\": [1, 2, 3, 4, 5, 6, 7], \"cluster\": [1, 1, 1, 1, 1, 1, 1], \"Freq\": [19.083429249073117, 16.919156065995747, 15.255226508995273, 13.89779967069116, 13.860504462079938, 10.926614137854461, 10.057269905310303]}, \"tinfo\": {\"Term\": [\"coffee\", \"tea\", \"taste\", \"food\", \"like\", \"chocolate\", \"amazon\", \"dog\", \"flavor\", \"price\", \"cup\", \"drink\", \"ingredients\", \"eat\", \"water\", \"order\", \"sauce\", \"received\", \"box\", \"sugar\", \"cookies\", \"ordered\", \"tastes\", \"cups\", \"date\", \"dogs\", \"product\", \"sweet\", \"item\", \"salt\", \"noodles\", \"toy\", \"pasta\", \"bacon\", \"noodle\", \"mac\", \"taco\", \"broccoli\", \"sauce\", \"choking\", \"sauces\", \"rope\", \"bbq\", \"chowder\", \"miso\", \"bell\", \"spaghetti\", \"ramen\", \"ranch\", \"chewer\", \"onions\", \"clam\", \"kong\", \"jalapeno\", \"chipotle\", \"campbell\", \"dressing\", \"rawhide\", \"chili\", \"velveeta\", \"soup\", \"pizza\", \"curry\", \"cheese\", \"salty\", \"seasoning\", \"chewed\", \"smoked\", \"gravy\", \"bones\", \"jerky\", \"bone\", \"salad\", \"salt\", \"chew\", \"pepper\", \"chews\", \"beef\", \"treat\", \"minutes\", \"dog\", \"treats\", \"cook\", \"puppy\", \"eat\", \"dogs\", \"chicken\", \"like\", \"smell\", \"gave\", \"tried\", \"away\", \"one\", \"would\", \"try\", \"even\", \"stuff\", \"really\", \"good\", \"food\", \"get\", \"taste\", \"time\", \"bad\", \"much\", \"bought\", \"product\", \"give\", \"flavor\", \"first\", \"buy\", \"expiration\", \"trap\", \"traps\", \"leaking\", \"mold\", \"moths\", \"expired\", \"fly\", \"catnip\", \"moth\", \"bulbs\", \"caviar\", \"date\", \"moldy\", \"leaked\", \"transit\", \"kefir\", \"dented\", \"mole\", \"2013\", \"flies\", \"tracking\", \"shipments\", \"taped\", \"aerogarden\", \"hose\", \"warranty\", \"damaged\", \"planted\", \"infested\", \"service\", \"shipment\", \"cancelled\", \"march\", \"bugs\", \"refund\", \"litter\", \"customer\", \"arrive\", \"sent\", \"seeds\", \"arrived\", \"sealed\", \"delivery\", \"broken\", \"shipped\", \"contacted\", \"send\", \"contact\", \"order\", \"received\", \"ordered\", \"return\", \"opened\", \"amazon\", \"cans\", \"stale\", \"open\", \"box\", \"packaging\", \"months\", \"company\", \"product\", \"time\", \"plastic\", \"bag\", \"item\", \"back\", \"never\", \"one\", \"bags\", \"would\", \"old\", \"got\", \"two\", \"disappointed\", \"quality\", \"get\", \"first\", \"good\", \"buy\", \"tea\", \"teas\", \"chai\", \"lemon\", \"peach\", \"grape\", \"lipton\", \"earl\", \"jasmine\", \"pomegranate\", \"cola\", \"stash\", \"carbonated\", \"lemonade\", \"watermelon\", \"mango\", \"matcha\", \"mio\", \"twinings\", \"acai\", \"margarita\", \"bigelow\", \"rooibos\", \"refreshing\", \"kool\", \"pear\", \"carbonation\", \"truvia\", \"tazo\", \"passion\", \"ginger\", \"orange\", \"soda\", \"lime\", \"stevia\", \"raspberry\", \"juice\", \"cherry\", \"drinks\", \"drink\", \"popcorn\", \"licorice\", \"grey\", \"coconut\", \"mint\", \"energy\", \"caffeine\", \"water\", \"green\", \"artificial\", \"drinking\", \"aftertaste\", \"flavor\", \"taste\", \"tastes\", \"sweet\", \"like\", \"flavors\", \"sweetener\", \"bottle\", \"sugar\", \"good\", \"bitter\", \"really\", \"one\", \"much\", \"tasted\", \"would\", \"tried\", \"bad\", \"product\", \"try\", \"even\", \"better\", \"love\", \"get\", \"fructose\", \"fda\", \"bpa\", \"wellness\", \"gmo\", \"purina\", \"msg\", \"cancer\", \"sardines\", \"hfcs\", \"evo\", \"canidae\", \"canola\", \"arsenic\", \"modified\", \"recalled\", \"fillers\", \"maltodextrin\", \"studies\", \"genetically\", \"soybean\", \"beneful\", \"derived\", \"gmos\", \"lecithin\", \"innova\", \"article\", \"harmful\", \"dioxide\", \"iams\", \"china\", \"science\", \"hydrogenated\", \"starch\", \"corn\", \"olive\", \"symptoms\", \"formula\", \"ingredient\", \"pets\", \"research\", \"levels\", \"ingredients\", \"toxic\", \"usa\", \"blood\", \"agave\", \"contains\", \"feeding\", \"oil\", \"list\", \"cat\", \"cats\", \"pet\", \"contain\", \"oils\", \"food\", \"health\", \"organic\", \"soy\", \"vet\", \"natural\", \"products\", \"foods\", \"label\", \"made\", \"syrup\", \"dog\", \"product\", \"free\", \"sugar\", \"high\", \"dogs\", \"read\", \"also\", \"chicken\", \"would\", \"one\", \"eat\", \"bar\", \"cake\", \"cookie\", \"bars\", \"granola\", \"cracker\", \"frosting\", \"quaker\", \"kashi\", \"raisin\", \"brownies\", \"haribo\", \"brownie\", \"waxy\", \"bears\", \"peanut\", \"pamela\", \"fudge\", \"fig\", \"cereal\", \"gummi\", \"puffs\", \"icing\", \"graham\", \"pb\", \"nabisco\", \"cupcakes\", \"gf\", \"marshmallow\", \"oreo\", \"crackers\", \"cookies\", \"gummy\", \"cakes\", \"butter\", \"crumbly\", \"almond\", \"chocolate\", \"raisins\", \"almonds\", \"gooey\", \"snack\", \"nut\", \"oats\", \"crunchy\", \"oatmeal\", \"peanuts\", \"chewy\", \"bread\", \"candy\", \"crunch\", \"texture\", \"chip\", \"filling\", \"calories\", \"chips\", \"taste\", \"like\", \"fat\", \"dry\", \"mix\", \"sugar\", \"good\", \"gluten\", \"free\", \"sweet\", \"flavor\", \"really\", \"eat\", \"hard\", \"would\", \"one\", \"better\", \"much\", \"even\", \"love\", \"bad\", \"product\", \"99\", \"scalp\", \"shampoo\", \"pricing\", \"rip\", \"conditioner\", \"ahoy\", \"mart\", \"00\", \"wal\", \"marzano\", \"ripoff\", \"ad\", \"ale\", \"snaps\", \"nibs\", \"44\", \"39\", \"shea\", \"walmart\", \"79\", \"sprinkles\", \"outrageous\", \"38\", \"cent\", \"89\", \"gouging\", \"natura\", \"fortune\", \"dandruff\", \"cents\", \"apricots\", \"98\", \"price\", \"overpriced\", \"basket\", \"49\", \"charging\", \"picture\", \"oz\", \"prices\", \"hair\", \"description\", \"dollars\", \"32\", \"paying\", \"image\", \"ounce\", \"cost\", \"priced\", \"grocery\", \"paid\", \"pay\", \"16\", \"photo\", \"shipping\", \"dollar\", \"store\", \"pack\", \"12\", \"local\", \"size\", \"per\", \"item\", \"cheaper\", \"amazon\", \"expensive\", \"misleading\", \"product\", \"buy\", \"50\", \"box\", \"10\", \"worth\", \"get\", \"bag\", \"would\", \"one\", \"small\", \"much\", \"package\", \"received\", \"good\", \"bought\", \"coffee\", \"cups\", \"roast\", \"pods\", \"machine\", \"keurig\", \"starbucks\", \"espresso\", \"coffees\", \"grounds\", \"bold\", \"pod\", \"senseo\", \"creamer\", \"kona\", \"mocha\", \"timothy\", \"grind\", \"tassimo\", \"cappuccino\", \"donut\", \"cafe\", \"folgers\", \"lavazza\", \"maxwell\", \"illy\", \"fuel\", \"gloria\", \"grinder\", \"crema\", \"french\", \"hazelnut\", \"beans\", \"bean\", \"cup\", \"decaf\", \"instant\", \"brewer\", \"blend\", \"maker\", \"filter\", \"weak\", \"mountain\", \"brew\", \"vanilla\", \"brewing\", \"bitter\", \"dark\", \"brewed\", \"pumpkin\", \"like\", \"flavor\", \"hot\", \"taste\", \"good\", \"one\", \"flavored\", \"tried\", \"would\", \"even\", \"strong\", \"get\", \"water\", \"bad\", \"use\", \"buy\", \"much\", \"better\", \"really\", \"chocolate\"], \"Freq\": [2174175041.0, 2306239791.0, 5089039181.0, 2468731557.0, 6840305928.0, 1257323893.0, 2029379105.0, 1609810800.0, 3101291226.0, 1060710870.0, 739941512.0, 884545852.0, 942069771.0, 1575383410.0, 1364281884.0, 1255531667.0, 680784897.0, 946158327.0, 1688429213.0, 1310451069.0, 531969370.0, 1214086950.0, 1327604877.0, 400423096.0, 512110087.0, 779873274.0, 5101179139.0, 987047430.0, 775313557.0, 740152332.0, 332175753.9797732, 186975585.86738747, 276620900.42293376, 175360696.58864287, 96056476.6033648, 73326569.93197542, 61452774.90472824, 59413823.98216533, 678396633.9072943, 56363928.10150597, 56363532.29798908, 55346358.25099524, 55331242.49605361, 49918314.10954294, 44829423.62347996, 44490047.86160307, 43472502.42766417, 43472315.69766711, 43468415.273759246, 42115628.56720618, 38383340.36271117, 36348244.728147805, 34651791.29678876, 32275928.461330045, 30920142.74427945, 30241330.44924643, 90203598.28818366, 51047577.798382826, 127323313.89171155, 26170752.055082746, 498199533.7558173, 60709889.55177951, 88855376.10475828, 501377702.2252427, 378776519.27773577, 142204341.77457878, 80353774.87650424, 65896472.788485795, 71720526.2584536, 119409083.40173508, 322412278.93556744, 135947765.923096, 85655459.24539204, 608335969.216929, 254748120.85277677, 196848415.6671256, 113969641.84057392, 232250917.27634174, 321365968.71886533, 303730994.05124044, 1105107033.3905716, 479976021.78338826, 129284905.80334686, 120028709.9699414, 950059908.1672714, 511464824.6008357, 360781513.4093716, 2182075139.496417, 468650067.7364183, 340004277.741112, 750618450.8467166, 503062201.9952242, 1282495512.2114136, 1193957306.5321755, 610031567.79127, 801595644.96962, 483402872.1064619, 717345177.1976413, 926165923.2044853, 756223293.4303511, 707483969.5623451, 1006511822.9804435, 572992982.9237101, 582574455.3757082, 594210706.8321794, 532637827.0718425, 773118375.099812, 442114814.3130837, 625705307.8427848, 481108467.1843852, 505259348.58364904, 283296860.5447251, 98396932.68426363, 68620034.3271305, 68317835.74755037, 104797798.70423175, 53882007.054763466, 157044220.07043222, 39143594.75630494, 38842836.36567457, 33729914.091164395, 30722091.67774807, 30119168.24298186, 508171035.46575487, 66136003.518134296, 55587612.13266348, 26193442.16558719, 24706525.63219314, 180754998.42729035, 19292594.552478347, 18991026.8158461, 28818418.664312217, 16886358.189116005, 31509055.19612692, 15658998.680644179, 13878598.046978474, 13577614.324041009, 12975546.168255178, 158295130.5601092, 12374541.385009244, 12073841.83574465, 316137406.80831677, 215570256.61357477, 55793215.68668868, 34870021.35815098, 76036728.24238788, 275214190.46465886, 121231903.38684003, 337952951.5387431, 76620840.88104826, 354718296.1357576, 225127935.73531196, 500326211.4502221, 141258648.96253777, 125565834.35227503, 297509007.2031636, 225842247.5358902, 122845797.38381603, 181320378.65725127, 108734072.12839362, 951096919.5895612, 717904124.6608009, 881898234.0823941, 387143333.8951988, 453034359.6076425, 1273410964.4261653, 414681792.28967226, 393077358.1936032, 299572180.85847944, 914281586.9160651, 401388979.8981376, 299384708.0411421, 474314748.4331932, 1627257832.8151388, 720561793.3213022, 323310370.930096, 554397393.684284, 402693222.8946341, 485215833.5762093, 515916901.34770834, 830409832.65523, 370000350.4649238, 736015273.2697358, 422855010.18113965, 457613244.82462364, 439648229.7822261, 436358943.86989254, 364415585.8621722, 424420883.4438184, 397929505.30581534, 399230933.62358266, 381273650.0107361, 2306024344.906259, 222690879.56392163, 146213561.4551577, 227652655.17259184, 93872678.89693426, 74075093.16377395, 68107697.53116284, 62413901.124245055, 61329064.63441459, 61057464.92666059, 53464258.89147833, 48853781.57055637, 48040459.16460872, 44514817.06655247, 43972439.400747545, 88785819.21911748, 41802901.18923164, 38006242.86996065, 37463761.83105658, 36650128.742718615, 33667088.83001915, 32311053.114200242, 30683892.86249621, 30141412.132420525, 29327839.909970187, 29327560.32448441, 27429546.61423048, 27695918.944337018, 25531127.381265596, 24445965.58987567, 283186307.12188524, 217602921.72391567, 160432412.79912174, 89907742.09833014, 163537315.07086343, 97601177.61140056, 370167788.29018694, 125181493.30313759, 148982865.69000652, 783052929.1821678, 292747060.74695885, 134086056.87368868, 73727554.41882807, 412132641.74385136, 87168004.70659843, 179665416.55343068, 113434331.37461986, 906452118.4908155, 407858666.65539557, 315660515.5872914, 235783749.0605436, 281974471.10552377, 1475964042.100172, 2161377527.2507, 737628616.1514033, 536508011.53411853, 2123295259.1813283, 354281829.5956552, 140549328.96836287, 297566550.1495479, 483564998.4255596, 744387109.007507, 243200864.31986013, 507270429.76149374, 617467038.8791288, 453932842.17629755, 334749079.7390785, 563675192.0887009, 408256748.8354494, 408322835.2603282, 504153065.81557393, 357842790.097828, 399197897.73858017, 338105227.0542112, 329553980.6942791, 319988225.39568955, 129003254.55382286, 88237498.88180478, 86755042.22159974, 62542720.40650385, 51424438.829198405, 48212875.1862885, 140549349.86337397, 41047937.49137236, 43245576.672653265, 38824220.05214419, 38083270.828788005, 35859702.47108129, 35365415.47976909, 34871488.04497797, 33883061.10842677, 32396619.714983996, 31412414.25076887, 31901131.134611577, 30177213.489462815, 29188950.634178046, 28941732.039350025, 27212396.971197713, 27212250.4612385, 26965365.59829225, 25977013.22101229, 25482956.58523355, 25482706.52298111, 23753396.50927073, 23506381.547162108, 23259312.048136327, 385819647.1935464, 44420903.172776975, 64609339.944442995, 45260882.08524314, 450189794.0414183, 96375849.2371528, 32956503.41648226, 309166297.91362244, 349707465.49970406, 71847636.00630721, 117850331.06783144, 49952769.07954666, 772521885.8015318, 61569312.75615264, 95071312.84152223, 89114844.40854408, 56181252.65214311, 250506496.88512045, 122334053.24736649, 477919268.31329215, 245650499.5396711, 459132922.80076015, 350965385.446947, 176214440.03179058, 161441367.50293425, 73416401.68990064, 1457628997.7240891, 251805829.95298782, 432560694.3232456, 172968694.75778747, 129372081.2968779, 335171842.3919678, 450671215.9935712, 233706934.82990903, 217492522.11258215, 558360145.8195032, 222806048.2733479, 504114222.8779558, 985888909.667723, 322014338.71672106, 378976706.81263185, 244508975.50448915, 268185970.0072357, 219776792.71892357, 281839484.8261174, 209467611.66964492, 273763248.0717255, 260652678.94237885, 221235275.98053885, 346161750.58036274, 215144125.5707085, 275536508.2485762, 411334458.5774387, 104756001.3681249, 68288262.76010099, 45373095.34116878, 40198614.750804365, 34531345.075098194, 31820804.95080119, 31820411.71370367, 31574513.809904963, 33289707.85192401, 31328039.64543541, 55085805.67955592, 297892429.7834514, 27627090.36416414, 45181784.61148941, 30560109.440551125, 372520504.86751926, 24921623.689493462, 24675226.930013224, 27344651.4507866, 23196883.406725354, 23924390.277969114, 20732547.024021905, 18515063.317067932, 63129187.16549269, 19001705.80055157, 18260327.43215244, 188061539.7802311, 518825289.8556378, 88907566.72232607, 49543201.923368566, 402330681.3230199, 51171960.27506225, 113645566.2345992, 1104404817.2610242, 56728495.796045534, 96190988.36837532, 53853501.21932214, 203066937.30361295, 99422814.81133783, 67980788.91428304, 108438968.07755849, 101295406.53385179, 106416954.38201872, 138270043.26281452, 164120398.86731935, 362053432.3645233, 62941986.87998829, 379746505.0670572, 84350097.22427769, 82615041.90203993, 183183012.6622251, 217798612.61329868, 1414225105.0414045, 1405466476.8464386, 188299626.27453798, 262043302.6125066, 292573980.2297339, 422331499.6312077, 739989992.5771661, 204088764.87370706, 303282554.72273386, 331862297.765327, 577527489.7916384, 430264705.2105866, 365380469.7021501, 268528569.01570606, 489105163.5568214, 497573440.9215368, 315010080.6212986, 338185482.4757818, 323035638.5840287, 279820257.03125346, 264699736.66331336, 284109025.12898093, 132096715.24874493, 45092576.94468112, 39258696.26778875, 34596941.004095815, 121754080.25558561, 25859142.23430455, 23529945.23204322, 26414016.777599778, 159217234.82858586, 21345219.285097368, 15373112.942499798, 25901540.139720935, 33177483.542552423, 13429419.841671003, 13041041.31736033, 12459091.441330224, 10905341.619115395, 16837919.339041755, 10711061.865082998, 62728320.08032417, 9934181.211957306, 9933874.693667132, 28405320.153342012, 8962774.359668503, 8573226.638448967, 8185946.835851579, 7991669.448371186, 7990918.526575799, 7601643.272635804, 7405890.461773358, 53585020.930453815, 17410263.002236277, 19494085.928931326, 917217496.4909766, 113937947.81823324, 72999426.76184161, 24034040.853908617, 19422231.33172589, 205641513.02673027, 240060690.75981885, 59204911.814733975, 170998288.595591, 218513228.5154726, 85133489.06422247, 31525510.82131036, 70337424.77365313, 30686124.012832295, 148114133.65297967, 190501670.41398224, 72359657.9716704, 204420397.39113748, 133929742.569286, 174306326.48627427, 85883433.9280342, 55179753.73893438, 291771673.27768046, 51334992.401202396, 365306568.1479708, 298698837.440619, 220420870.49375695, 227942287.5606907, 206960386.166056, 195213148.49228832, 325316118.09306, 127280750.1771543, 569530811.6778992, 198841459.9141001, 101898988.88504094, 807570414.076859, 441858479.1790971, 114731456.20548582, 356498993.1061304, 170140196.88082704, 192210083.8151727, 370720529.5267317, 242234197.9148046, 335432618.01660186, 314293109.3182874, 195754305.12423941, 246992710.15989807, 190189861.27949157, 193156236.360395, 203716627.37256652, 180192156.86559737, 2173946481.843382, 400028404.1353271, 178995357.93657568, 156646468.5146512, 169675448.24644566, 141985608.51785806, 138052129.63431403, 109445632.84969927, 104260698.97113644, 75654115.37713215, 94375168.24843743, 59026518.0525333, 51696137.5506889, 47047099.86092254, 46153587.99735405, 40968584.518723756, 38465545.64553277, 36498713.34374967, 35604889.905116186, 33101797.343423348, 33101781.38215077, 33101725.404168792, 28989662.2088915, 28274511.35646743, 23625928.21533521, 23268333.96138757, 21837816.19327546, 21659209.078931533, 20765172.862599913, 19871332.369314406, 121892018.48493642, 69720496.1426351, 286016911.70507705, 100859469.12876509, 602574380.9230846, 99721395.53027679, 140788348.54530874, 38611264.232993186, 163549595.82982355, 67375245.48812138, 44281317.94072919, 196428113.59638718, 76708920.0798335, 89145543.81407358, 182294029.78167358, 62186964.87034236, 204982609.95939454, 127353150.56538752, 68823434.39880924, 77548016.34846331, 537224333.2603407, 361187311.4517906, 175740413.78499788, 433706681.10271335, 320061016.1670064, 265605446.4864, 118288498.32797869, 188804567.6083532, 236576965.37286276, 189129187.8560447, 128992540.4946924, 164894690.2397784, 151210030.69178897, 152061008.52686208, 144497755.70263094, 152911224.85303843, 149786049.2254416, 145768454.63796398, 147056732.662695, 141997908.38877484], \"Total\": [2174175041.0, 2306239791.0, 5089039181.0, 2468731557.0, 6840305928.0, 1257323893.0, 2029379105.0, 1609810800.0, 3101291226.0, 1060710870.0, 739941512.0, 884545852.0, 942069771.0, 1575383410.0, 1364281884.0, 1255531667.0, 680784897.0, 946158327.0, 1688429213.0, 1310451069.0, 531969370.0, 1214086950.0, 1327604877.0, 400423096.0, 512110087.0, 779873274.0, 5101179139.0, 987047430.0, 775313557.0, 740152332.0, 332381443.71700877, 187181601.5632217, 277013598.3260918, 175625171.08927977, 96262147.51568899, 73532278.08482851, 61658457.07268989, 59621483.54046631, 680784897.3379667, 56569660.953225166, 56569572.29661796, 55551974.89409424, 55549251.292386815, 50123932.13996562, 45035102.69725416, 44695829.8536547, 43678141.141740784, 43678055.50245609, 43677608.89792624, 42321170.65106973, 38589253.34343596, 36553864.45696431, 34857543.93542565, 32482661.26892456, 31125818.954389747, 30447244.61530413, 90823838.4507156, 51419248.950061336, 128255042.83305725, 26376315.402250852, 506216910.3697933, 61218824.646854535, 90289259.37733486, 520698090.4991084, 392828505.66319174, 145615178.29653463, 82971422.1002366, 67539075.86209817, 73838044.59091525, 126832442.37821224, 365395714.7909665, 145891253.58281678, 89382642.91878746, 740152332.3926418, 290631301.0612909, 222626312.07897854, 123308264.93187782, 272109261.57846934, 391577193.08774096, 369683473.26558906, 1609810800.5210853, 629865841.9398576, 144180045.1700775, 134894745.55610093, 1575383410.5335243, 779873274.5283736, 570419546.718482, 6840305928.68124, 856918622.3622427, 572934894.5978973, 1758145679.628556, 1009223612.0185792, 4068497059.414376, 3828525766.9086237, 1512029997.7048829, 2351888103.6468334, 1054572984.3620559, 2106025994.4839802, 3523728965.882282, 2468731557.734816, 2291546765.6621394, 5089039181.807434, 1755121683.0941875, 1869689609.598405, 2021007859.2312174, 1612801770.609079, 5101179139.065003, 999056951.8626333, 3101291226.124012, 1634824758.9635947, 2206547464.9180436, 283567347.03667617, 98608002.37143765, 68831089.28364791, 68529761.03723253, 105186686.43261069, 54093026.45832952, 157800463.2425335, 39354906.85645414, 39054160.153400905, 33940972.94361019, 30933173.710127402, 30331652.34685821, 512110087.01383346, 66659083.80868131, 56054257.34729454, 26415507.616460986, 24917639.150055367, 182666910.01603195, 19503676.201450508, 19202744.87143717, 29141052.349681243, 17097450.6358309, 31967526.4767957, 15889935.472660502, 14089678.672583276, 13788876.495058922, 13187066.91500561, 160972757.74546546, 12585761.494996825, 12285001.028370019, 322407898.948048, 221839788.33665955, 56846461.086460456, 35623943.744702615, 78399095.72513288, 290196938.7676369, 125909957.19622447, 360100216.98906505, 79243376.32646331, 381765481.2457139, 240851224.94322807, 552732708.9495398, 150451426.81229413, 134586885.88893896, 334523628.73705065, 251283936.74302903, 135018021.84039786, 205648728.75231007, 118716675.40251291, 1255531667.105319, 946158327.0109265, 1214086950.5047512, 485241969.1298285, 599573704.1907278, 2029379105.0148027, 575570804.8917141, 558848970.2038776, 416624580.91029024, 1688429213.6437008, 603836857.0142906, 436717281.89974034, 830041025.1618763, 5101179139.065003, 1755121683.0941875, 521475318.7054949, 1321006663.9012146, 775313557.173431, 1088054377.9507058, 1291534589.4991968, 4068497059.414376, 703716446.6394317, 3828525766.9086237, 1056840187.0518603, 1311549386.0821958, 1242651818.7389781, 1250732446.2380505, 878138102.4961977, 2291546765.6621394, 1634824758.9635947, 3523728965.882282, 2206547464.9180436, 2306239791.0678353, 222906388.8703233, 146428951.3233665, 228011084.22551867, 94088029.5632285, 74290673.4842061, 68324633.8250027, 62629200.957074575, 61544414.33564869, 61273180.91416249, 53679696.77717676, 49069352.79355118, 48255775.18818211, 44730226.50103156, 44187820.34663875, 89228835.23741952, 42018235.02458456, 38221502.34138528, 37679088.4683626, 36865511.07624479, 33882352.47648699, 32526355.737164985, 30899177.770595327, 30356787.98318017, 29543197.873707354, 29543171.677959923, 27644822.3522882, 27915587.22653392, 25746433.083368964, 24661656.933894616, 285721763.1989784, 222658555.35452482, 164437589.16754228, 91690410.08496504, 169218086.02450582, 100091373.29157433, 396154002.0648108, 129916328.3183942, 156528206.09006995, 884545852.9865988, 319805083.60509384, 143226238.96547967, 76432524.89131358, 470889592.9206434, 91361971.7452615, 200495440.15547696, 127770900.46851349, 1364281884.8171518, 556738093.8613175, 422884115.13605434, 301401022.76049, 385234421.0211838, 3101291226.124012, 5089039181.807434, 1327604877.524968, 987047430.4611415, 6840305928.68124, 614596778.0910188, 173882370.5094217, 588766816.0267762, 1310451069.4914596, 3523728965.882282, 474270953.5876032, 2106025994.4839802, 4068497059.414376, 2021007859.2312174, 995991521.460697, 3828525766.9086237, 1758145679.628556, 1869689609.598405, 5101179139.065003, 1512029997.7048829, 2351888103.6468334, 1512883487.7976701, 1349689986.3244743, 2291546765.6621394, 129222081.65196443, 88456306.18831572, 86973922.86340667, 62761523.81841658, 51643560.837170534, 48431746.90509549, 141197904.03352326, 41266817.71405366, 43483396.59171044, 39043239.82732857, 38302040.767819636, 36078453.74294536, 35584318.31703871, 35090177.72741969, 34101925.775418214, 32620763.20362647, 31631279.824312024, 32125918.514762152, 30395938.858561482, 29407674.63243843, 29160638.61247094, 27431176.59029995, 27431143.83941626, 27184086.114063807, 26195828.113578517, 25701704.609976385, 25701698.2273687, 23972257.05144786, 23725172.522206947, 23478123.542685464, 393667816.4544035, 44882247.10696883, 65723865.24929419, 46090042.155704476, 489948607.2625974, 100860851.6784904, 33429891.600149993, 340775799.6285882, 388785813.85332733, 74895182.28688118, 126451272.8349972, 51516105.458966374, 942069771.3909036, 64481646.62077847, 102830811.29842404, 97396992.65280536, 59043685.91292493, 300478152.3687364, 137805731.32802045, 616483700.4150403, 300611612.61243343, 615636202.6840687, 456579087.17953205, 211383899.80783483, 192600676.92739084, 79484806.33358012, 2468731557.734816, 330742549.6813781, 645077578.2359315, 225375443.91368064, 165723684.8652066, 574171141.9724183, 973223004.5740839, 405715370.3768153, 370553791.88648635, 1537724991.2677808, 410814548.34702754, 1609810800.5210853, 5101179139.065003, 814547967.7413971, 1310451069.4914596, 604366679.7286632, 779873274.5283736, 543647472.6475741, 1392061838.8521929, 570419546.718482, 3828525766.9086237, 4068497059.414376, 1575383410.5335243, 346457489.65063536, 215363210.50204295, 275931035.2450506, 411923719.0668454, 104974964.83583723, 68507468.78944279, 45592005.39742182, 40417543.48911837, 34750291.48063604, 32039868.887018736, 32040087.164239988, 31793475.633561205, 33521927.286057945, 31547111.08098727, 55479135.1520732, 300206082.3062227, 27849953.068692107, 45551504.86291546, 30811128.216257166, 375779301.9562372, 25140617.576637905, 24894235.706941035, 27596022.639432378, 23415794.452980533, 24155038.619347, 20951809.03515907, 18734152.835341964, 63878061.8767816, 19229313.559768442, 18485919.58817899, 190644006.25383604, 531969370.897528, 90245308.45015453, 50364030.220176674, 421397500.6953743, 52264326.66730274, 118599885.41359743, 1257323893.9584727, 58883511.34989813, 102672082.09046508, 56100939.15864289, 231476974.36062056, 107860819.29785138, 72461296.47167487, 120757785.59199771, 112251900.91696993, 120410516.95333508, 167836143.81464943, 211617884.49318102, 565428245.6791142, 67797247.14703558, 632898003.7761034, 98680641.13484804, 96615402.03091004, 281524409.1343479, 372726787.1275099, 5089039181.807434, 6840305928.68124, 333545465.8457345, 564847156.6154284, 691184469.9119713, 1310451069.4914596, 3523728965.882282, 391927283.0514526, 814547967.7413971, 987047430.4611415, 3101291226.124012, 2106025994.4839802, 1575383410.5335243, 805013670.1921717, 3828525766.9086237, 4068497059.414376, 1512883487.7976701, 2021007859.2312174, 2351888103.6468334, 1349689986.3244743, 1869689609.598405, 5101179139.065003, 132346459.70725778, 45319052.22017457, 39491208.53524971, 34829213.46609645, 122715459.07574847, 26088477.992754813, 23758126.86867463, 26677667.007147025, 160990166.99735528, 21633891.245608047, 15599391.417099774, 26325081.804749127, 33735303.85901698, 13657442.298230669, 13268836.909716947, 12685782.340541035, 11131792.502974184, 17188178.37285932, 10937557.427273504, 64096671.772854105, 10160527.495930422, 10160658.396888651, 29103178.357157357, 9189347.91862771, 8801211.528429003, 8412333.75600535, 8218073.852731561, 8218290.361712848, 7830536.843699178, 7636245.120271941, 56248168.09971488, 18091404.30274553, 20408407.548740465, 1060710870.696668, 124094972.10512735, 79204753.52183083, 25378717.02937607, 20427924.838333167, 252327615.80867887, 298753343.14262235, 68159836.07230453, 217558100.6800678, 291518978.19083893, 104556012.15423602, 35054507.6247969, 86798430.56716266, 34165671.442463525, 206783170.72054946, 283869173.96806586, 92185712.93471608, 309774712.48627025, 194115533.11047915, 266322570.82032907, 116221442.95005545, 68019113.48312612, 563872566.7616361, 62347492.81333362, 790671391.9146273, 614364334.8977482, 414536929.3727527, 434944698.76811105, 390928494.82530665, 362456183.0604139, 775313557.173431, 212295598.50770664, 2029379105.0148027, 447381504.001153, 159951058.6796614, 5101179139.065003, 2206547464.9180436, 195216720.05927742, 1688429213.6437008, 429419785.7538778, 561738308.0237159, 2291546765.6621394, 1321006663.9012146, 3828525766.9086237, 4068497059.414376, 735625289.9809077, 2021007859.2312174, 851720201.825896, 946158327.0109265, 3523728965.882282, 1612801770.609079, 2174175041.549551, 400423096.50944704, 179223893.0024599, 156875009.35886148, 169928795.56145483, 142214123.0922125, 138280754.51519543, 109674145.52133338, 104489196.03203605, 75882631.77097552, 94700332.45695864, 59255072.81750113, 51924604.72126964, 47276292.67162306, 46382085.72232848, 41197177.34164346, 38694084.91126676, 36727461.35953333, 35833420.36073986, 33330350.426439334, 33330366.507777497, 33330382.34645676, 29218138.10160087, 28502967.91221921, 23854404.323329296, 23496828.808761325, 22066581.632427923, 21887714.533668764, 20993812.36732587, 20099783.17274511, 125953962.12296723, 71473605.57932977, 312716150.26998746, 109229310.46574382, 739941512.9360262, 111716810.28227042, 167328267.6870966, 40367898.79651336, 213895898.75259152, 77518262.3298041, 47316917.043777674, 293185154.3842638, 94174647.69652615, 117996388.36075686, 317628268.0917096, 77418999.25404464, 474270953.5876032, 290154047.2442738, 95142382.97232458, 119775868.22195712, 6840305928.68124, 3101291226.124012, 689197930.8595437, 5089039181.807434, 3523728965.882282, 4068497059.414376, 352795240.01574963, 1758145679.628556, 3828525766.9086237, 2351888103.6468334, 507475663.3017357, 2291546765.6621394, 1364281884.8171518, 1869689609.598405, 1311471153.330969, 2206547464.9180436, 2021007859.2312174, 1512883487.7976701, 2106025994.4839802, 1257323893.9584727], \"Category\": [\"Default\", \"Default\", \"Default\", \"Default\", \"Default\", \"Default\", \"Default\", \"Default\", \"Default\", \"Default\", \"Default\", \"Default\", \"Default\", \"Default\", \"Default\", \"Default\", \"Default\", \"Default\", \"Default\", \"Default\", \"Default\", \"Default\", \"Default\", \"Default\", \"Default\", \"Default\", \"Default\", \"Default\", \"Default\", \"Default\", \"Topic1\", \"Topic1\", \"Topic1\", \"Topic1\", \"Topic1\", \"Topic1\", \"Topic1\", \"Topic1\", \"Topic1\", \"Topic1\", \"Topic1\", \"Topic1\", \"Topic1\", \"Topic1\", \"Topic1\", \"Topic1\", \"Topic1\", \"Topic1\", \"Topic1\", \"Topic1\", \"Topic1\", \"Topic1\", \"Topic1\", \"Topic1\", \"Topic1\", \"Topic1\", \"Topic1\", \"Topic1\", \"Topic1\", \"Topic1\", \"Topic1\", \"Topic1\", \"Topic1\", \"Topic1\", \"Topic1\", \"Topic1\", \"Topic1\", \"Topic1\", \"Topic1\", \"Topic1\", \"Topic1\", \"Topic1\", \"Topic1\", \"Topic1\", \"Topic1\", \"Topic1\", \"Topic1\", \"Topic1\", \"Topic1\", \"Topic1\", \"Topic1\", \"Topic1\", \"Topic1\", \"Topic1\", \"Topic1\", \"Topic1\", \"Topic1\", \"Topic1\", \"Topic1\", \"Topic1\", \"Topic1\", \"Topic1\", \"Topic1\", \"Topic1\", \"Topic1\", \"Topic1\", \"Topic1\", \"Topic1\", \"Topic1\", \"Topic1\", \"Topic1\", \"Topic1\", \"Topic1\", \"Topic1\", \"Topic1\", \"Topic1\", \"Topic1\", \"Topic1\", \"Topic1\", \"Topic1\", \"Topic1\", \"Topic2\", \"Topic2\", \"Topic2\", \"Topic2\", \"Topic2\", \"Topic2\", \"Topic2\", \"Topic2\", \"Topic2\", \"Topic2\", \"Topic2\", \"Topic2\", \"Topic2\", \"Topic2\", \"Topic2\", \"Topic2\", \"Topic2\", \"Topic2\", \"Topic2\", \"Topic2\", \"Topic2\", \"Topic2\", \"Topic2\", \"Topic2\", \"Topic2\", \"Topic2\", \"Topic2\", \"Topic2\", \"Topic2\", \"Topic2\", \"Topic2\", \"Topic2\", \"Topic2\", \"Topic2\", \"Topic2\", \"Topic2\", \"Topic2\", \"Topic2\", \"Topic2\", \"Topic2\", \"Topic2\", \"Topic2\", \"Topic2\", \"Topic2\", \"Topic2\", \"Topic2\", \"Topic2\", \"Topic2\", \"Topic2\", \"Topic2\", \"Topic2\", \"Topic2\", \"Topic2\", \"Topic2\", \"Topic2\", \"Topic2\", \"Topic2\", \"Topic2\", \"Topic2\", \"Topic2\", \"Topic2\", \"Topic2\", \"Topic2\", \"Topic2\", \"Topic2\", \"Topic2\", \"Topic2\", \"Topic2\", \"Topic2\", \"Topic2\", \"Topic2\", \"Topic2\", \"Topic2\", \"Topic2\", \"Topic2\", \"Topic2\", \"Topic2\", \"Topic2\", \"Topic2\", \"Topic2\", \"Topic2\", \"Topic3\", \"Topic3\", \"Topic3\", \"Topic3\", \"Topic3\", \"Topic3\", \"Topic3\", \"Topic3\", \"Topic3\", \"Topic3\", \"Topic3\", \"Topic3\", \"Topic3\", \"Topic3\", \"Topic3\", \"Topic3\", \"Topic3\", \"Topic3\", \"Topic3\", \"Topic3\", \"Topic3\", \"Topic3\", \"Topic3\", \"Topic3\", \"Topic3\", \"Topic3\", \"Topic3\", \"Topic3\", \"Topic3\", \"Topic3\", \"Topic3\", \"Topic3\", \"Topic3\", \"Topic3\", \"Topic3\", \"Topic3\", \"Topic3\", \"Topic3\", \"Topic3\", \"Topic3\", \"Topic3\", \"Topic3\", \"Topic3\", \"Topic3\", \"Topic3\", \"Topic3\", \"Topic3\", \"Topic3\", \"Topic3\", \"Topic3\", \"Topic3\", \"Topic3\", \"Topic3\", \"Topic3\", \"Topic3\", \"Topic3\", \"Topic3\", \"Topic3\", \"Topic3\", \"Topic3\", \"Topic3\", \"Topic3\", \"Topic3\", \"Topic3\", \"Topic3\", \"Topic3\", \"Topic3\", \"Topic3\", \"Topic3\", \"Topic3\", \"Topic3\", \"Topic3\", \"Topic3\", \"Topic3\", \"Topic3\", \"Topic3\", \"Topic4\", \"Topic4\", \"Topic4\", \"Topic4\", \"Topic4\", \"Topic4\", \"Topic4\", \"Topic4\", \"Topic4\", \"Topic4\", \"Topic4\", \"Topic4\", \"Topic4\", \"Topic4\", \"Topic4\", \"Topic4\", \"Topic4\", \"Topic4\", \"Topic4\", \"Topic4\", \"Topic4\", \"Topic4\", \"Topic4\", \"Topic4\", \"Topic4\", \"Topic4\", \"Topic4\", \"Topic4\", \"Topic4\", \"Topic4\", \"Topic4\", \"Topic4\", \"Topic4\", \"Topic4\", \"Topic4\", \"Topic4\", \"Topic4\", \"Topic4\", \"Topic4\", \"Topic4\", \"Topic4\", \"Topic4\", \"Topic4\", \"Topic4\", \"Topic4\", \"Topic4\", \"Topic4\", \"Topic4\", \"Topic4\", \"Topic4\", \"Topic4\", \"Topic4\", \"Topic4\", \"Topic4\", \"Topic4\", \"Topic4\", \"Topic4\", \"Topic4\", \"Topic4\", \"Topic4\", \"Topic4\", \"Topic4\", \"Topic4\", \"Topic4\", \"Topic4\", \"Topic4\", \"Topic4\", \"Topic4\", \"Topic4\", \"Topic4\", \"Topic4\", \"Topic4\", \"Topic4\", \"Topic4\", \"Topic4\", \"Topic4\", \"Topic4\", \"Topic4\", \"Topic4\", \"Topic5\", \"Topic5\", \"Topic5\", \"Topic5\", \"Topic5\", \"Topic5\", \"Topic5\", \"Topic5\", \"Topic5\", \"Topic5\", \"Topic5\", \"Topic5\", \"Topic5\", \"Topic5\", \"Topic5\", \"Topic5\", \"Topic5\", \"Topic5\", \"Topic5\", \"Topic5\", \"Topic5\", \"Topic5\", \"Topic5\", \"Topic5\", \"Topic5\", \"Topic5\", \"Topic5\", \"Topic5\", \"Topic5\", \"Topic5\", \"Topic5\", \"Topic5\", \"Topic5\", \"Topic5\", \"Topic5\", \"Topic5\", \"Topic5\", \"Topic5\", \"Topic5\", \"Topic5\", \"Topic5\", \"Topic5\", \"Topic5\", \"Topic5\", \"Topic5\", \"Topic5\", \"Topic5\", \"Topic5\", \"Topic5\", \"Topic5\", \"Topic5\", \"Topic5\", \"Topic5\", \"Topic5\", \"Topic5\", \"Topic5\", \"Topic5\", \"Topic5\", \"Topic5\", \"Topic5\", \"Topic5\", \"Topic5\", \"Topic5\", \"Topic5\", \"Topic5\", \"Topic5\", \"Topic5\", \"Topic5\", \"Topic5\", \"Topic5\", \"Topic5\", \"Topic5\", \"Topic5\", \"Topic5\", \"Topic5\", \"Topic5\", \"Topic5\", \"Topic5\", \"Topic6\", \"Topic6\", \"Topic6\", \"Topic6\", \"Topic6\", \"Topic6\", \"Topic6\", \"Topic6\", \"Topic6\", \"Topic6\", \"Topic6\", \"Topic6\", \"Topic6\", \"Topic6\", \"Topic6\", \"Topic6\", \"Topic6\", \"Topic6\", \"Topic6\", \"Topic6\", \"Topic6\", \"Topic6\", \"Topic6\", \"Topic6\", \"Topic6\", \"Topic6\", \"Topic6\", \"Topic6\", \"Topic6\", \"Topic6\", \"Topic6\", \"Topic6\", \"Topic6\", \"Topic6\", \"Topic6\", \"Topic6\", \"Topic6\", \"Topic6\", \"Topic6\", \"Topic6\", \"Topic6\", \"Topic6\", \"Topic6\", \"Topic6\", \"Topic6\", \"Topic6\", \"Topic6\", \"Topic6\", \"Topic6\", \"Topic6\", \"Topic6\", \"Topic6\", \"Topic6\", \"Topic6\", \"Topic6\", \"Topic6\", \"Topic6\", \"Topic6\", \"Topic6\", \"Topic6\", \"Topic6\", \"Topic6\", \"Topic6\", \"Topic6\", \"Topic6\", \"Topic6\", \"Topic6\", \"Topic6\", \"Topic6\", \"Topic6\", \"Topic6\", \"Topic6\", \"Topic6\", \"Topic6\", \"Topic6\", \"Topic6\", \"Topic6\", \"Topic6\", \"Topic6\", \"Topic6\", \"Topic6\", \"Topic6\", \"Topic6\", \"Topic6\", \"Topic7\", \"Topic7\", \"Topic7\", \"Topic7\", \"Topic7\", \"Topic7\", \"Topic7\", \"Topic7\", \"Topic7\", \"Topic7\", \"Topic7\", \"Topic7\", \"Topic7\", \"Topic7\", \"Topic7\", \"Topic7\", \"Topic7\", \"Topic7\", \"Topic7\", \"Topic7\", \"Topic7\", \"Topic7\", \"Topic7\", \"Topic7\", \"Topic7\", \"Topic7\", \"Topic7\", \"Topic7\", \"Topic7\", \"Topic7\", \"Topic7\", \"Topic7\", \"Topic7\", \"Topic7\", \"Topic7\", \"Topic7\", \"Topic7\", \"Topic7\", \"Topic7\", \"Topic7\", \"Topic7\", \"Topic7\", \"Topic7\", \"Topic7\", \"Topic7\", \"Topic7\", \"Topic7\", \"Topic7\", \"Topic7\", \"Topic7\", \"Topic7\", \"Topic7\", \"Topic7\", \"Topic7\", \"Topic7\", \"Topic7\", \"Topic7\", \"Topic7\", \"Topic7\", \"Topic7\", \"Topic7\", \"Topic7\", \"Topic7\", \"Topic7\", \"Topic7\", \"Topic7\", \"Topic7\", \"Topic7\", \"Topic7\", \"Topic7\"], \"logprob\": [30.0, 29.0, 28.0, 27.0, 26.0, 25.0, 24.0, 23.0, 22.0, 21.0, 20.0, 19.0, 18.0, 17.0, 16.0, 15.0, 14.0, 13.0, 12.0, 11.0, 10.0, 9.0, 8.0, 7.0, 6.0, 5.0, 4.0, 3.0, 2.0, 1.0, 6.8867, 6.312, 6.7037, 6.2479, 5.6459, 5.3759, 5.1993, 5.1655, 7.6007, 5.1128, 5.1128, 5.0946, 5.0944, 4.9914, 4.8839, 4.8763, 4.8531, 4.8531, 4.853, 4.8214, 4.7286, 4.6742, 4.6264, 4.5553, 4.5124, 4.4902, 5.5831, 5.0138, 5.9277, 4.3457, 7.292, 5.1871, 5.568, 7.2984, 7.018, 6.0383, 5.4675, 5.2691, 5.3538, 5.8636, 6.8568, 5.9933, 5.5313, 7.4917, 6.6213, 6.3634, 5.8169, 6.5288, 6.8536, 6.7972, 8.0887, 7.2547, 5.943, 5.8687, 7.9375, 7.3183, 6.9693, 8.769, 7.2309, 6.91, 7.7019, 7.3017, 8.2376, 8.166, 7.4945, 7.7676, 7.2619, 7.6566, 7.9121, 7.7093, 7.6427, 7.9953, 7.4319, 7.4485, 7.4682, 7.3589, 7.7314, 7.1726, 7.5199, 7.2571, 7.3061, 6.8479, 5.7904, 5.43, 5.4256, 5.8534, 5.1882, 6.2579, 4.8686, 4.8609, 4.7198, 4.6264, 4.6065, 7.4322, 5.3931, 5.2193, 4.4669, 4.4085, 6.3985, 4.1611, 4.1454, 4.5624, 4.0279, 4.6517, 3.9524, 3.8317, 3.8098, 3.7645, 6.2658, 3.717, 3.6924, 6.9576, 6.5747, 5.223, 4.753, 5.5326, 6.8189, 5.9991, 7.0243, 5.5403, 7.0727, 6.6181, 7.4166, 6.152, 6.0342, 6.8968, 6.6212, 6.0123, 6.4017, 5.8903, 8.059, 7.7777, 7.9835, 7.1602, 7.3174, 8.3508, 7.2289, 7.1754, 6.9037, 8.0195, 7.1963, 6.9031, 7.3633, 8.596, 7.7814, 6.98, 7.5193, 7.1996, 7.386, 7.4473, 7.9233, 7.1149, 7.8026, 7.2484, 7.3274, 7.2874, 7.2799, 7.0997, 7.2521, 7.1877, 7.1909, 7.1449, 9.0482, 6.7107, 6.29, 6.7327, 5.8469, 5.61, 5.526, 5.4387, 5.4212, 5.4167, 5.2839, 5.1937, 5.177, 5.1007, 5.0885, 5.7911, 5.0379, 4.9427, 4.9283, 4.9063, 4.8214, 4.7803, 4.7286, 4.7108, 4.6834, 4.6834, 4.6165, 4.6262, 4.5448, 4.5014, 6.951, 6.6876, 6.3828, 5.8037, 6.402, 5.8858, 7.2189, 6.1347, 6.3087, 7.9681, 6.9842, 6.2034, 5.6053, 7.3263, 5.7727, 6.496, 6.0361, 8.1144, 7.3158, 7.0596, 6.7678, 6.9467, 8.602, 8.9834, 7.9084, 7.59, 8.9656, 7.175, 6.2505, 7.0005, 7.4861, 7.9175, 6.7988, 7.534, 7.7305, 7.4229, 7.1183, 7.6394, 7.3168, 7.317, 7.5278, 7.185, 7.2944, 7.1283, 7.1027, 7.0732, 6.2579, 5.8781, 5.8612, 5.534, 5.3382, 5.2737, 6.3437, 5.1128, 5.165, 5.0571, 5.0379, 4.9777, 4.9638, 4.9498, 4.921, 4.8762, 4.8453, 4.8607, 4.8052, 4.7719, 4.7634, 4.7018, 4.7018, 4.6927, 4.6553, 4.6361, 4.6361, 4.5658, 4.5554, 4.5448, 7.3535, 5.1918, 5.5665, 5.2105, 7.5078, 5.9664, 4.8933, 7.132, 7.2552, 5.6727, 6.1675, 5.3092, 8.0478, 5.5183, 5.9527, 5.888, 5.4267, 6.9216, 6.2049, 7.5675, 6.902, 7.5274, 7.2588, 6.5698, 6.4822, 5.6942, 8.6827, 6.9268, 7.4678, 6.5512, 6.2608, 7.2127, 7.5088, 6.8522, 6.7803, 7.7231, 6.8044, 7.6209, 8.2916, 7.1727, 7.3356, 6.8974, 6.9898, 6.7907, 7.0394, 6.7427, 7.0104, 6.9613, 6.7973, 7.2477, 6.7721, 7.0195, 7.4202, 6.0524, 5.6245, 5.2157, 5.0946, 4.9427, 4.8609, 4.8609, 4.8531, 4.906, 4.8453, 5.4097, 7.0975, 4.7196, 5.2115, 4.8205, 7.3211, 4.6165, 4.6066, 4.7093, 4.5448, 4.5757, 4.4325, 4.3194, 5.546, 4.3453, 4.3055, 6.6376, 7.6524, 5.8884, 5.3036, 7.3981, 5.336, 6.1339, 8.4079, 5.4391, 5.9671, 5.3871, 6.7143, 6.0002, 5.62, 6.087, 6.0188, 6.0682, 6.33, 6.5014, 7.2926, 5.543, 7.3403, 5.8358, 5.815, 6.6113, 6.7844, 8.6551, 8.6489, 6.6388, 6.9693, 7.0795, 7.4466, 8.0074, 6.7193, 7.1155, 7.2055, 7.7595, 7.4652, 7.3017, 6.9937, 7.5934, 7.6105, 7.1534, 7.2244, 7.1786, 7.0349, 6.9794, 7.0501, 6.5222, 5.4473, 5.3088, 5.1824, 6.4406, 4.8913, 4.7969, 4.9125, 6.7089, 4.6995, 4.3713, 4.8929, 5.1405, 4.2361, 4.2067, 4.1611, 4.0279, 4.4623, 4.0099, 5.7774, 3.9346, 3.9346, 4.9852, 3.8317, 3.7873, 3.7411, 3.717, 3.7169, 3.667, 3.6409, 5.6199, 4.4957, 4.6087, 8.46, 6.3743, 5.9291, 4.8181, 4.605, 6.9648, 7.1195, 5.7196, 6.7803, 7.0255, 6.0829, 5.0894, 5.8919, 5.0624, 6.6366, 6.8883, 5.9203, 6.9588, 6.5359, 6.7994, 6.0916, 5.6492, 7.3146, 5.577, 7.5394, 7.3381, 7.0342, 7.0677, 6.9712, 6.9127, 7.4234, 6.485, 7.9834, 6.9311, 6.2626, 8.3327, 7.7296, 6.3812, 7.515, 6.7753, 6.8972, 7.5541, 7.1285, 7.4541, 7.389, 6.9155, 7.148, 6.8867, 6.9021, 6.9554, 6.8327, 9.4058, 7.7131, 6.9089, 6.7755, 6.8554, 6.6773, 6.6492, 6.417, 6.3684, 6.0477, 6.2688, 5.7995, 5.6669, 5.5727, 5.5535, 5.4343, 5.3713, 5.3188, 5.294, 5.2211, 5.2211, 5.2211, 5.0885, 5.0635, 4.8839, 4.8686, 4.8052, 4.797, 4.7548, 4.7108, 6.5247, 5.966, 7.3776, 6.3353, 8.1227, 6.3239, 6.6688, 5.3751, 6.8187, 5.9318, 5.5121, 7.0018, 6.0616, 6.2118, 6.9272, 5.8517, 7.0445, 6.5685, 5.9531, 6.0724, 8.008, 7.6109, 6.8905, 7.7939, 7.49, 7.3035, 6.4947, 6.9622, 7.1878, 6.964, 6.5813, 6.8268, 6.7402, 6.7458, 6.6948, 6.7514, 6.7307, 6.7036, 6.7124, 6.6773], \"loglift\": [30.0, 29.0, 28.0, 27.0, 26.0, 25.0, 24.0, 23.0, 22.0, 21.0, 20.0, 19.0, 18.0, 17.0, 16.0, 15.0, 14.0, 13.0, 12.0, 11.0, 10.0, 9.0, 8.0, 7.0, 6.0, 5.0, 4.0, 3.0, 2.0, 1.0, 14.1449, 14.1444, 14.1441, 14.144, 14.1434, 14.1427, 14.1422, 14.142, 14.142, 14.1419, 14.1419, 14.1418, 14.1416, 14.1414, 14.1409, 14.1409, 14.1408, 14.1408, 14.1407, 14.1406, 14.1402, 14.1399, 14.1396, 14.1391, 14.1389, 14.1387, 14.1387, 14.1383, 14.1382, 14.1377, 14.1295, 14.1372, 14.1295, 14.1077, 14.1091, 14.1218, 14.1135, 14.1209, 14.1164, 14.0852, 14.0204, 14.0749, 14.1029, 13.9494, 14.0137, 14.0224, 14.0668, 13.9871, 13.9479, 13.949, 13.7693, 13.8737, 14.0365, 14.0287, 13.6398, 13.7237, 13.6874, 13.003, 13.542, 13.6237, 13.2944, 13.4493, 12.991, 12.9803, 13.2378, 13.0691, 13.3655, 13.0685, 12.8093, 12.9624, 12.9702, 12.5249, 13.0261, 12.9794, 12.9214, 13.0376, 12.2587, 13.3303, 12.5448, 12.9223, 12.6714, 14.2649, 14.2637, 14.2628, 14.2628, 14.2622, 14.262, 14.2611, 14.2605, 14.2605, 14.2596, 14.259, 14.2589, 14.2582, 14.258, 14.2575, 14.2574, 14.2574, 14.2554, 14.255, 14.2548, 14.2547, 14.2535, 14.2514, 14.2512, 14.2508, 14.2504, 14.2497, 14.2491, 14.249, 14.2485, 14.2462, 14.2372, 14.2472, 14.2445, 14.2353, 14.2129, 14.228, 14.2024, 14.2322, 14.1924, 14.1984, 14.1663, 14.2028, 14.1965, 14.1486, 14.1591, 14.1714, 14.14, 14.178, 13.9882, 13.9898, 13.9462, 14.04, 13.9856, 13.7999, 13.938, 13.914, 13.9361, 13.6525, 13.8575, 13.8883, 13.7063, 13.1233, 13.3756, 13.7878, 13.3976, 13.6108, 13.4583, 13.3482, 12.6768, 13.623, 12.6169, 13.3499, 13.2129, 13.2269, 13.2129, 13.3864, 12.5796, 12.8529, 12.0881, 12.5102, 14.3693, 14.3684, 14.3679, 14.3678, 14.3671, 14.3665, 14.3662, 14.366, 14.3659, 14.3659, 14.3654, 14.365, 14.3649, 14.3646, 14.3645, 14.3644, 14.3643, 14.3638, 14.3637, 14.3635, 14.363, 14.3628, 14.3624, 14.3623, 14.3621, 14.3621, 14.3616, 14.3615, 14.361, 14.3606, 14.3605, 14.3464, 14.3447, 14.3498, 14.3353, 14.3442, 14.3016, 14.3323, 14.32, 14.2475, 14.281, 14.3035, 14.3334, 14.2361, 14.3224, 14.2597, 14.2504, 13.9606, 14.0582, 14.077, 14.1239, 14.0574, 13.6269, 13.5131, 13.7817, 13.7598, 13.1995, 13.8185, 14.1566, 13.687, 13.3725, 12.8147, 13.7015, 12.9459, 12.484, 12.876, 13.279, 12.4536, 12.9093, 12.8479, 12.0551, 12.9283, 12.5959, 12.871, 12.9595, 12.4007, 14.4609, 14.4601, 14.4601, 14.4591, 14.4583, 14.4581, 14.458, 14.4573, 14.4571, 14.457, 14.4569, 14.4565, 14.4564, 14.4563, 14.4562, 14.4557, 14.4557, 14.4556, 14.4554, 14.4551, 14.4551, 14.4546, 14.4546, 14.4545, 14.4542, 14.4541, 14.454, 14.4534, 14.4533, 14.4532, 14.4425, 14.4523, 14.4455, 14.4444, 14.378, 14.4171, 14.4483, 14.3653, 14.3567, 14.4211, 14.3922, 14.4318, 14.2642, 14.4164, 14.3841, 14.3737, 14.4129, 14.2807, 14.3435, 14.208, 14.2607, 14.1693, 14.1995, 14.2806, 14.2861, 14.3832, 13.9357, 14.1899, 14.063, 14.1979, 14.215, 13.9243, 13.6927, 13.911, 13.9298, 13.4495, 13.8508, 13.3015, 12.8189, 13.5346, 13.2219, 13.5577, 13.3951, 13.5569, 12.8654, 13.4608, 11.8246, 11.7148, 12.4996, 14.4644, 14.4643, 14.4639, 14.4639, 14.4632, 14.4621, 14.4605, 14.4599, 14.459, 14.4584, 14.4584, 14.4584, 14.4583, 14.4583, 14.4582, 14.4575, 14.4573, 14.4571, 14.4571, 14.4566, 14.4565, 14.4564, 14.4561, 14.4559, 14.4557, 14.4548, 14.4535, 14.4535, 14.4534, 14.453, 14.4516, 14.4403, 14.4504, 14.4489, 14.419, 14.4442, 14.4226, 14.3356, 14.428, 14.4001, 14.4244, 14.3343, 14.3838, 14.4015, 14.3577, 14.3626, 14.3417, 14.2715, 14.2111, 14.0195, 14.391, 13.9545, 14.3084, 14.3087, 14.0356, 13.928, 13.1848, 12.8828, 13.8935, 13.6972, 13.6056, 13.3329, 12.9046, 13.8128, 13.4773, 13.3753, 12.7845, 12.8771, 13.004, 13.3674, 12.4076, 12.364, 12.8961, 12.6775, 12.4801, 12.8918, 12.5104, 11.5774, 14.7012, 14.6981, 14.6972, 14.6964, 14.6953, 14.6943, 14.6935, 14.6932, 14.6921, 14.6897, 14.6885, 14.6869, 14.6865, 14.6863, 14.6858, 14.6851, 14.6826, 14.6825, 14.6822, 14.6815, 14.6806, 14.6806, 14.6789, 14.6782, 14.6769, 14.6758, 14.6752, 14.6751, 14.6735, 14.6725, 14.6546, 14.6647, 14.6573, 14.5578, 14.6177, 14.6215, 14.6487, 14.6526, 14.4985, 14.4844, 14.5623, 14.4623, 14.4149, 14.4976, 14.597, 14.4928, 14.5957, 14.3694, 14.3043, 14.461, 14.2875, 14.332, 14.2792, 14.4006, 14.4939, 14.0443, 14.5088, 13.931, 13.982, 14.0715, 14.057, 14.0671, 14.0843, 13.8347, 14.1915, 13.4325, 13.8922, 14.2522, 12.8599, 13.0949, 14.1716, 13.1479, 13.7773, 13.6307, 12.8816, 13.0069, 12.2683, 12.1424, 13.3793, 12.6011, 13.2039, 13.1142, 11.8526, 12.5114, 14.7859, 14.785, 14.7848, 14.7846, 14.7845, 14.7844, 14.7844, 14.7839, 14.7838, 14.783, 14.7826, 14.7822, 14.7816, 14.7812, 14.7811, 14.7805, 14.7801, 14.7798, 14.7796, 14.7792, 14.7792, 14.7791, 14.7782, 14.778, 14.7764, 14.7763, 14.7756, 14.7755, 14.7751, 14.7746, 14.7533, 14.7612, 14.6968, 14.7063, 14.5807, 14.6724, 14.6133, 14.7415, 14.5177, 14.6458, 14.7197, 14.3855, 14.5809, 14.5056, 14.2308, 14.5669, 13.9472, 13.9626, 14.4622, 14.3513, 12.2419, 12.6359, 13.4195, 12.3236, 12.3873, 12.057, 13.6933, 12.5547, 12.0021, 12.2655, 13.4163, 12.1544, 12.5863, 12.2768, 12.5804, 12.1167, 12.1839, 12.4463, 12.1243, 12.6051]}, \"token.table\": {\"Topic\": [1, 2, 3, 4, 5, 6, 7, 1, 2, 3, 4, 5, 6, 7, 1, 2, 3, 4, 5, 6, 7, 1, 2, 3, 4, 5, 6, 7, 1, 2, 3, 4, 5, 6, 7, 1, 2, 3, 4, 5, 6, 7, 1, 2, 3, 4, 5, 6, 7, 1, 2, 3, 4, 5, 6, 7, 1, 2, 3, 4, 5, 6, 7, 1, 2, 3, 4, 5, 6, 7, 1, 2, 3, 4, 5, 6, 7, 1, 2, 3, 4, 5, 6, 7, 1, 2, 3, 4, 5, 6, 7, 1, 2, 3, 4, 5, 6, 7, 1, 2, 3, 4, 5, 6, 7, 1, 2, 3, 4, 5, 6, 7, 1, 2, 3, 4, 5, 6, 7, 1, 2, 3, 4, 5, 6, 7, 1, 2, 3, 4, 5, 6, 7, 1, 2, 3, 4, 5, 6, 7, 1, 2, 3, 4, 5, 6, 7, 1, 2, 3, 4, 5, 6, 7, 1, 2, 3, 4, 5, 6, 7, 1, 2, 3, 4, 5, 6, 7, 1, 2, 3, 4, 5, 6, 7, 1, 2, 3, 4, 5, 6, 7, 1, 2, 3, 4, 5, 6, 7, 1, 2, 3, 4, 5, 6, 7, 1, 2, 3, 4, 5, 6, 7, 1, 2, 3, 4, 5, 6, 7, 1, 2, 3, 4, 5, 6, 7, 1, 2, 3, 4, 5, 6, 7, 1, 2, 3, 4, 5, 6, 7, 1, 2, 3, 4, 5, 6, 7, 1, 2, 3, 4, 5, 6, 7, 1, 2, 3, 4, 5, 6, 7, 1, 2, 3, 4, 5, 6, 7, 1, 2, 3, 4, 5, 6, 7, 1, 2, 3, 4, 5, 6, 7, 1, 2, 3, 4, 5, 6, 7, 1, 2, 3, 4, 5, 6, 7, 1, 2, 3, 4, 5, 6, 7, 1, 2, 3, 4, 5, 6, 7, 1, 2, 3, 4, 5, 6, 7, 1, 2, 3, 4, 5, 6, 7, 1, 2, 3, 4, 5, 6, 7, 1, 2, 3, 4, 5, 6, 7, 1, 2, 3, 4, 5, 6, 7, 1, 2, 3, 4, 5, 6, 7, 1, 2, 3, 4, 5, 6, 7, 1, 2, 3, 4, 5, 6, 7, 1, 2, 3, 4, 5, 6, 7, 1, 2, 3, 4, 5, 6, 7, 1, 2, 3, 4, 5, 6, 7, 1, 2, 3, 4, 5, 6, 7, 1, 2, 3, 4, 5, 6, 7, 1, 2, 3, 4, 5, 6, 7, 1, 2, 3, 4, 5, 6, 7, 1, 2, 3, 4, 5, 6, 7, 1, 2, 3, 4, 5, 6, 7, 1, 2, 3, 4, 5, 6, 7, 1, 2, 3, 4, 5, 6, 7, 1, 2, 3, 4, 5, 6, 7, 1, 2, 3, 4, 5, 6, 7, 1, 2, 3, 4, 5, 6, 7, 1, 2, 3, 4, 5, 6, 7, 1, 2, 3, 4, 5, 6, 7, 1, 2, 3, 4, 5, 6, 7, 1, 2, 3, 4, 5, 6, 7, 1, 2, 3, 4, 5, 6, 7, 1, 2, 3, 4, 5, 6, 7, 1, 2, 3, 4, 5, 6, 7, 1, 2, 3, 4, 5, 6, 7, 1, 2, 3, 4, 5, 6, 7, 1, 2, 3, 4, 5, 6, 7, 1, 2, 3, 4, 5, 6, 7, 1, 2, 3, 4, 5, 6, 7, 1, 2, 3, 4, 5, 6, 7, 1, 2, 3, 4, 5, 6, 7, 1, 2, 3, 4, 5, 6, 7, 1, 2, 3, 4, 5, 6, 7, 1, 2, 3, 4, 5, 6, 7, 1, 2, 3, 4, 5, 6, 7, 1, 2, 3, 4, 5, 6, 7, 1, 2, 3, 4, 5, 6, 7, 1, 2, 3, 4, 5, 6, 7, 1, 2, 3, 4, 5, 6, 7, 1, 2, 3, 4, 5, 6, 7, 1, 2, 3, 4, 5, 6, 7, 1, 2, 3, 4, 5, 6, 7, 1, 2, 3, 4, 5, 6, 7, 1, 2, 3, 4, 5, 6, 7, 1, 2, 3, 4, 5, 6, 7, 1, 2, 3, 4, 5, 6, 7, 1, 2, 3, 4, 5, 6, 7, 1, 2, 3, 4, 5, 6, 7, 1, 2, 3, 4, 5, 6, 7, 1, 2, 3, 4, 5, 6, 7, 1, 2, 3, 4, 5, 6, 7, 1, 2, 3, 4, 5, 6, 7, 1, 2, 3, 4, 5, 6, 7, 1, 2, 3, 4, 5, 6, 7, 1, 2, 3, 4, 5, 6, 7, 1, 2, 3, 4, 5, 6, 7, 1, 2, 3, 4, 5, 6, 7, 1, 2, 3, 4, 5, 6, 7, 1, 2, 3, 4, 5, 6, 7, 1, 2, 3, 4, 5, 6, 7, 1, 2, 3, 4, 5, 6, 7, 1, 2, 3, 4, 5, 6, 7, 1, 2, 3, 4, 5, 6, 7, 1, 2, 3, 4, 5, 6, 7, 1, 2, 3, 4, 5, 6, 7, 1, 2, 3, 4, 5, 6, 7, 1, 2, 3, 4, 5, 6, 7, 1, 2, 3, 4, 5, 6, 7, 1, 2, 3, 4, 5, 6, 7, 1, 2, 3, 4, 5, 6, 7, 1, 2, 3, 4, 5, 6, 7, 1, 2, 3, 4, 5, 6, 7, 1, 2, 3, 4, 5, 6, 7, 1, 2, 3, 4, 5, 6, 7, 1, 2, 3, 4, 5, 6, 7, 1, 2, 3, 4, 5, 6, 7, 1, 2, 3, 4, 5, 6, 7, 1, 2, 3, 4, 5, 6, 7, 1, 2, 3, 4, 5, 6, 7, 1, 2, 3, 4, 5, 6, 7, 1, 2, 3, 4, 5, 6, 7, 1, 2, 3, 4, 5, 6, 7, 1, 2, 3, 4, 5, 6, 7, 1, 2, 3, 4, 5, 6, 7, 1, 2, 3, 4, 5, 6, 7, 1, 2, 3, 4, 5, 6, 7, 1, 2, 3, 4, 5, 6, 7, 1, 2, 3, 4, 5, 6, 7, 1, 2, 3, 4, 5, 6, 7, 1, 2, 3, 4, 5, 6, 7, 1, 2, 3, 4, 5, 6, 7, 1, 2, 3, 4, 5, 6, 7, 1, 2, 3, 4, 5, 6, 7, 1, 2, 3, 4, 5, 6, 7, 1, 2, 3, 4, 5, 6, 7, 1, 2, 3, 4, 5, 6, 7, 1, 2, 3, 4, 5, 6, 7, 1, 2, 3, 4, 5, 6, 7, 1, 2, 3, 4, 5, 6, 7, 1, 2, 3, 4, 5, 6, 7, 1, 2, 3, 4, 5, 6, 7, 1, 2, 3, 4, 5, 6, 7, 1, 2, 3, 4, 5, 6, 7, 1, 2, 3, 4, 5, 6, 7, 1, 2, 3, 4, 5, 6, 7, 1, 2, 3, 4, 5, 6, 7, 1, 2, 3, 4, 5, 6, 7, 1, 2, 3, 4, 5, 6, 7, 1, 2, 3, 4, 5, 6, 7, 1, 2, 3, 4, 5, 6, 7, 1, 2, 3, 4, 5, 6, 7, 1, 2, 3, 4, 5, 6, 7, 1, 2, 3, 4, 5, 6, 7, 1, 2, 3, 4, 5, 6, 7, 1, 2, 3, 4, 5, 6, 7, 1, 2, 3, 4, 5, 6, 7, 1, 2, 3, 4, 5, 6, 7, 1, 2, 3, 4, 5, 6, 7, 1, 2, 3, 4, 5, 6, 7, 1, 2, 3, 4, 5, 6, 7, 1, 2, 3, 4, 5, 6, 7, 1, 2, 3, 4, 5, 6, 7, 1, 2, 3, 4, 5, 6, 7, 1, 2, 3, 4, 5, 6, 7, 1, 2, 3, 4, 5, 6, 7, 1, 2, 3, 4, 5, 6, 7, 1, 2, 3, 4, 5, 6, 7, 1, 2, 3, 4, 5, 6, 7, 1, 2, 3, 4, 5, 6, 7, 1, 2, 3, 4, 5, 6, 7, 1, 2, 3, 4, 5, 6, 7, 1, 2, 3, 4, 5, 6, 7, 1, 2, 3, 4, 5, 6, 7, 1, 2, 3, 4, 5, 6, 7, 1, 2, 3, 4, 5, 6, 7, 1, 2, 3, 4, 5, 6, 7, 1, 2, 3, 4, 5, 6, 7, 1, 2, 3, 4, 5, 6, 7, 1, 2, 3, 4, 5, 6, 7, 1, 2, 3, 4, 5, 6, 7, 1, 2, 3, 4, 5, 6, 7, 1, 2, 3, 4, 5, 6, 7, 1, 2, 3, 4, 5, 6, 7, 1, 2, 3, 4, 5, 6, 7, 1, 2, 3, 4, 5, 6, 7, 1, 2, 3, 4, 5, 6, 7, 1, 2, 3, 4, 5, 6, 7, 1, 2, 3, 4, 5, 6, 7, 1, 2, 3, 4, 5, 6, 7, 1, 2, 3, 4, 5, 6, 7, 1, 2, 3, 4, 5, 6, 7, 1, 2, 3, 4, 5, 6, 7, 1, 2, 3, 4, 5, 6, 7, 1, 2, 3, 4, 5, 6, 7, 1, 2, 3, 4, 5, 6, 7, 1, 2, 3, 4, 5, 6, 7, 1, 2, 3, 4, 5, 6, 7, 1, 2, 3, 4, 5, 6, 7, 1, 2, 3, 4, 5, 6, 7, 1, 2, 3, 4, 5, 6, 7, 1, 2, 3, 4, 5, 6, 7, 1, 2, 3, 4, 5, 6, 7, 1, 2, 3, 4, 5, 6, 7, 1, 2, 3, 4, 5, 6, 7, 1, 2, 3, 4, 5, 6, 7, 1, 2, 3, 4, 5, 6, 7, 1, 2, 3, 4, 5, 6, 7, 1, 2, 3, 4, 5, 6, 7, 1, 2, 3, 4, 5, 6, 7, 1, 2, 3, 4, 5, 6, 7, 1, 2, 3, 4, 5, 6, 7, 1, 2, 3, 4, 5, 6, 7, 1, 2, 3, 4, 5, 6, 7, 1, 2, 3, 4, 5, 6, 7, 1, 2, 3, 4, 5, 6, 7, 1, 2, 3, 4, 5, 6, 7, 1, 2, 3, 4, 5, 6, 7, 1, 2, 3, 4, 5, 6, 7, 1, 2, 3, 4, 5, 6, 7, 1, 2, 3, 4, 5, 6, 7, 1, 2, 3, 4, 5, 6, 7, 1, 2, 3, 4, 5, 6, 7, 1, 2, 3, 4, 5, 6, 7, 1, 2, 3, 4, 5, 6, 7, 1, 2, 3, 4, 5, 6, 7, 1, 2, 3, 4, 5, 6, 7, 1, 2, 3, 4, 5, 6, 7, 1, 2, 3, 4, 5, 6, 7, 1, 2, 3, 4, 5, 6, 7, 1, 2, 3, 4, 5, 6, 7, 1, 2, 3, 4, 5, 6, 7, 1, 2, 3, 4, 5, 6, 7, 1, 2, 3, 4, 5, 6, 7, 1, 2, 3, 4, 5, 6, 7, 1, 2, 3, 4, 5, 6, 7, 1, 2, 3, 4, 5, 6, 7, 1, 2, 3, 4, 5, 6, 7, 1, 2, 3, 4, 5, 6, 7, 1, 2, 3, 4, 5, 6, 7, 1, 2, 3, 4, 5, 6, 7, 1, 2, 3, 4, 5, 6, 7, 1, 2, 3, 4, 5, 6, 7, 1, 2, 3, 4, 5, 6, 7, 1, 2, 3, 4, 5, 6, 7, 1, 2, 3, 4, 5, 6, 7, 1, 2, 3, 4, 5, 6, 7, 1, 2, 3, 4, 5, 6, 7, 1, 2, 3, 4, 5, 6, 7, 1, 2, 3, 4, 5, 6, 7, 1, 2, 3, 4, 5, 6, 7, 1, 2, 3, 4, 5, 6, 7, 1, 2, 3, 4, 5, 6, 7, 1, 2, 3, 4, 5, 6, 7, 1, 2, 3, 4, 5, 6, 7, 1, 2, 3, 4, 5, 6, 7, 1, 2, 3, 4, 5, 6, 7, 1, 2, 3, 4, 5, 6, 7, 1, 2, 3, 4, 5, 6, 7, 1, 2, 3, 4, 5, 6, 7, 1, 2, 3, 4, 5, 6, 7, 1, 2, 3, 4, 5, 6, 7, 1, 2, 3, 4, 5, 6, 7, 1, 2, 3, 4, 5, 6, 7, 1, 2, 3, 4, 5, 6, 7, 1, 2, 3, 4, 5, 6, 7, 1, 2, 3, 4, 5, 6, 7, 1, 2, 3, 4, 5, 6, 7, 1, 2, 3, 4, 5, 6, 7, 1, 2, 3, 4, 5, 6, 7, 1, 2, 3, 4, 5, 6, 7, 1, 2, 3, 4, 5, 6, 7, 1, 2, 3, 4, 5, 6, 7, 1, 2, 3, 4, 5, 6, 7, 1, 2, 3, 4, 5, 6, 7, 1, 2, 3, 4, 5, 6, 7, 1, 2, 3, 4, 5, 6, 7, 1, 2, 3, 4, 5, 6, 7, 1, 2, 3, 4, 5, 6, 7, 1, 2, 3, 4, 5, 6, 7, 1, 2, 3, 4, 5, 6, 7, 1, 2, 3, 4, 5, 6, 7, 1, 2, 3, 4, 5, 6, 7, 1, 2, 3, 4, 5, 6, 7, 1, 2, 3, 4, 5, 6, 7, 1, 2, 3, 4, 5, 6, 7, 1, 2, 3, 4, 5, 6, 7, 1, 2, 3, 4, 5, 6, 7, 1, 2, 3, 4, 5, 6, 7, 1, 2, 3, 4, 5, 6, 7, 1, 2, 3, 4, 5, 6, 7, 1, 2, 3, 4, 5, 6, 7, 1, 2, 3, 4, 5, 6, 7, 1, 2, 3, 4, 5, 6, 7, 1, 2, 3, 4, 5, 6, 7, 1, 2, 3, 4, 5, 6, 7, 1, 2, 3, 4, 5, 6, 7, 1, 2, 3, 4, 5, 6, 7, 1, 2, 3, 4, 5, 6, 7, 1, 2, 3, 4, 5, 6, 7, 1, 2, 3, 4, 5, 6, 7, 1, 2, 3, 4, 5, 6, 7, 1, 2, 3, 4, 5, 6, 7, 1, 2, 3, 4, 5, 6, 7, 1, 2, 3, 4, 5, 6, 7, 1, 2, 3, 4, 5, 6, 7, 1, 2, 3, 4, 5, 6, 7, 1, 2, 3, 4, 5, 6, 7, 1, 2, 3, 4, 5, 6, 7, 1, 2, 3, 4, 5, 6, 7, 1, 2, 3, 4, 5, 6, 7, 1, 2, 3, 4, 5, 6, 7, 1, 2, 3, 4, 5, 6, 7, 1, 2, 3, 4, 5, 6, 7, 1, 2, 3, 4, 5, 6, 7, 1, 2, 3, 4, 5, 6, 7, 1, 2, 3, 4, 5, 6, 7, 1, 2, 3, 4, 5, 6, 7, 1, 2, 3, 4, 5, 6, 7, 1, 2, 3, 4, 5, 6, 7, 1, 2, 3, 4, 5, 6, 7, 1, 2, 3, 4, 5, 6, 7, 1, 2, 3, 4, 5, 6, 7, 1, 2, 3, 4, 5, 6, 7, 1, 2, 3, 4, 5, 6, 7, 1, 2, 3, 4, 5, 6, 7, 1, 2, 3, 4, 5, 6, 7, 1, 2, 3, 4, 5, 6, 7, 1, 2, 3, 4, 5, 6, 7, 1, 2, 3, 4, 5, 6, 7, 1, 2, 3, 4, 5, 6, 7, 1, 2, 3, 4, 5, 6, 7, 1, 2, 3, 4, 5, 6, 7, 1, 2, 3, 4, 5, 6, 7, 1, 2, 3, 4, 5, 6, 7, 1, 2, 3, 4, 5, 6, 7, 1, 2, 3, 4, 5, 6, 7, 1, 2, 3, 4, 5, 6, 7, 1, 2, 3, 4, 5, 6, 7, 1, 2, 3, 4, 5, 6, 7, 1, 2, 3, 4, 5, 6, 7, 1, 2, 3, 4, 5, 6, 7, 1, 2, 3, 4, 5, 6, 7, 1, 2, 3, 4, 5, 6, 7, 1, 2, 3, 4, 5, 6, 7, 1, 2, 3, 4, 5, 6, 7, 1, 2, 3, 4, 5, 6, 7, 1, 2, 3, 4, 5, 6, 7, 1, 2, 3, 4, 5, 6, 7, 1, 2, 3, 4, 5, 6, 7, 1, 2, 3, 4, 5, 6, 7, 1, 2, 3, 4, 5, 6, 7, 1, 2, 3, 4, 5, 6, 7, 1, 2, 3, 4, 5, 6, 7, 1, 2, 3, 4, 5, 6, 7, 1, 2, 3, 4, 5, 6, 7, 1, 2, 3, 4, 5, 6, 7, 1, 2, 3, 4, 5, 6, 7, 1, 2, 3, 4, 5, 6, 7, 1, 2, 3, 4, 5, 6, 7, 1, 2, 3, 4, 5, 6, 7, 1, 2, 3, 4, 5, 6, 7, 1, 2, 3, 4, 5, 6, 7, 1, 2, 3, 4, 5, 6, 7, 1, 2, 3, 4, 5, 6, 7, 1, 2, 3, 4, 5, 6, 7, 1, 2, 3, 4, 5, 6, 7, 1, 2, 3, 4, 5, 6, 7, 1, 2, 3, 4, 5, 6, 7, 1, 2, 3, 4, 5, 6, 7, 1, 2, 3, 4, 5, 6, 7, 1, 2, 3, 4, 5, 6, 7, 1, 2, 3, 4, 5, 6, 7, 1, 2, 3, 4, 5, 6, 7, 1, 2, 3, 4, 5, 6, 7, 1, 2, 3, 4, 5, 6, 7, 1, 2, 3, 4, 5, 6, 7, 1, 2, 3, 4, 5, 6, 7, 1, 2, 3, 4, 5, 6, 7, 1, 2, 3, 4, 5, 6, 7, 1, 2, 3, 4, 5, 6, 7, 1, 2, 3, 4, 5, 6, 7, 1, 2, 3, 4, 5, 6, 7, 1, 2, 3, 4, 5, 6, 7, 1, 2, 3, 4, 5, 6, 7, 1, 2, 3, 4, 5, 6, 7, 1, 2, 3, 4, 5, 6, 7, 1, 2, 3, 4, 5, 6, 7, 1, 2, 3, 4, 5, 6, 7, 1, 2, 3, 4, 5, 6, 7, 1, 2, 3, 4, 5, 6, 7, 1, 2, 3, 4, 5, 6, 7, 1, 2, 3, 4, 5, 6, 7, 1, 2, 3, 4, 5, 6, 7, 1, 2, 3, 4, 5, 6, 7, 1, 2, 3, 4, 5, 6, 7, 1, 2, 3, 4, 5, 6, 7, 1, 2, 3, 4, 5, 6, 7, 1, 2, 3, 4, 5, 6, 7, 1, 2, 3, 4, 5, 6, 7, 1, 2, 3, 4, 5, 6, 7, 1, 2, 3, 4, 5, 6, 7, 1, 2, 3, 4, 5, 6, 7, 1, 2, 3, 4, 5, 6, 7, 1, 2, 3, 4, 5, 6, 7, 1, 2, 3, 4, 5, 6, 7, 1, 2, 3, 4, 5, 6, 7, 1, 2, 3, 4, 5, 6, 7, 1, 2, 3, 4, 5, 6, 7, 1, 2, 3, 4, 5, 6, 7, 1, 2, 3, 4, 5, 6, 7, 1, 2, 3, 4, 5, 6, 7, 1, 2, 3, 4, 5, 6, 7, 1, 2, 3, 4, 5, 6, 7, 1, 2, 3, 4, 5, 6, 7, 1, 2, 3, 4, 5, 6, 7, 1, 2, 3, 4, 5, 6, 7, 1, 2, 3, 4, 5, 6, 7, 1, 2, 3, 4, 5, 6, 7, 1, 2, 3, 4, 5, 6, 7, 1, 2, 3, 4, 5, 6, 7, 1, 2, 3, 4, 5, 6, 7, 1, 2, 3, 4, 5, 6, 7, 1, 2, 3, 4, 5, 6, 7, 1, 2, 3, 4, 5, 6, 7, 1, 2, 3, 4, 5, 6, 7, 1, 2, 3, 4, 5, 6, 7, 1, 2, 3, 4, 5, 6, 7, 1, 2, 3, 4, 5, 6, 7, 1, 2, 3, 4, 5, 6, 7, 1, 2, 3, 4, 5, 6, 7, 1, 2, 3, 4, 5, 6, 7, 1, 2, 3, 4, 5, 6, 7, 1, 2, 3, 4, 5, 6, 7, 1, 2, 3, 4, 5, 6, 7, 1, 2, 3, 4, 5, 6, 7, 1, 2, 3, 4, 5, 6, 7, 1, 2, 3, 4, 5, 6, 7, 1, 2, 3, 4, 5, 6, 7, 1, 2, 3, 4, 5, 6, 7, 1, 2, 3, 4, 5, 6, 7, 1, 2, 3, 4, 5, 6, 7, 1, 2, 3, 4, 5, 6, 7, 1, 2, 3, 4, 5, 6, 7, 1, 2, 3, 4, 5, 6, 7, 1, 2, 3, 4, 5, 6, 7, 1, 2, 3, 4, 5, 6, 7, 1, 2, 3, 4, 5, 6, 7, 1, 2, 3, 4, 5, 6, 7, 1, 2, 3, 4, 5, 6, 7, 1, 2, 3, 4, 5, 6, 7, 1, 2, 3, 4, 5, 6, 7, 1, 2, 3, 4, 5, 6, 7, 1, 2, 3, 4, 5, 6, 7, 1, 2, 3, 4, 5, 6, 7, 1, 2, 3, 4, 5, 6, 7, 1, 2, 3, 4, 5, 6, 7, 1, 2, 3, 4, 5, 6, 7, 1, 2, 3, 4, 5, 6, 7, 1, 2, 3, 4, 5, 6, 7, 1, 2, 3, 4, 5, 6, 7, 1, 2, 3, 4, 5, 6, 7, 1, 2, 3, 4, 5, 6, 7, 1, 2, 3, 4, 5, 6, 7], \"Freq\": [0.0005695813707771753, 0.00678825309882406, 0.0002427539565235808, 0.0029539940784570557, 0.00022028674583946854, 0.9889873274223984, 0.00023780334360811565, 0.2327024494797574, 0.1733505429176135, 0.04631558595998018, 0.05996103080065747, 0.050332452572150306, 0.3962094962655399, 0.04112844024872813, 0.04613748171710445, 0.2912704283854724, 0.037710423106703084, 0.047310045523990096, 0.031241814859767365, 0.5317279460083928, 0.014601861911697416, 0.029219418670093013, 0.06476611207825662, 0.09989487916605204, 0.0479597383969439, 0.016947819180376647, 0.7389637559129877, 0.002248277025026175, 0.002526722107950845, 0.9889746037426094, 0.0020195550302646685, 0.0018405181257482833, 0.0018602028115851635, 0.0014464598777914812, 0.0013319449990737585, 0.001698326521576551, 0.03661623246112951, 0.001106904721507262, 0.03391424043734199, 0.0010153330459225418, 0.8993283071447122, 0.026320666371229505, 0.005283291092024537, 0.004681072082688517, 0.004222388829282061, 0.003842818915193872, 0.003839227800754391, 0.9753438524001881, 0.0027873577349354583, 0.0028215322734012525, 0.0025014285439282193, 0.009406116023050375, 0.0020567042785534706, 0.002050129992579197, 0.9796220771473728, 0.0015420482278594592, 0.004358507400046938, 0.003865325372216901, 0.003486051324585132, 0.0031734332085835795, 0.003163910932636406, 0.9796573190783352, 0.002295407500020597, 0.0019117593668679161, 0.0016948847315729533, 0.014287838096003019, 0.03263175199287684, 0.0013884074580765467, 0.9470156025688927, 0.0010697940312969193, 0.03854718488106461, 0.07121708117920655, 0.030665692970265133, 0.09068110044377684, 0.03872101732733097, 0.5877132653655992, 0.14245465752910744, 0.004771602657383528, 0.004231276379815862, 0.0038159436127237763, 0.003475606951917039, 0.0034680286052189133, 0.9777229581809527, 0.0025145348024729125, 0.005766532974915545, 0.005115227384943122, 0.004608114837612887, 0.004198121594354101, 0.004185402175093825, 0.9730887096765819, 0.0030380392339706577, 0.002376079558593133, 0.002107219776814684, 0.0019132800982509701, 0.03542642894960321, 0.0017262983364017704, 0.955198780377311, 0.0012519350144777393, 0.0003667797393853369, 0.0003250030268670738, 0.0003337376768347193, 0.00040186190184189244, 0.0002664446036410765, 0.9981129475785737, 0.000193227684794636, 0.001314887508266105, 0.001166673097547658, 0.9941576267368344, 0.0009589450672984145, 0.0009558798717619604, 0.000753088705120103, 0.0006928969449838962, 0.0014614067270902178, 0.0012766151501104322, 0.0011503379415871908, 0.010844277600962453, 0.001044662296426309, 0.9834648040714807, 0.0007579300339743572, 0.0034425199557164225, 0.9850187731396591, 0.0027500272291799484, 0.0025053800601350343, 0.0024984955880151165, 0.0019700946093265804, 0.0018146616820830753, 0.016840660247343917, 0.00011163592257929394, 0.7319555460608604, 9.171298843531215e-05, 0.16568872488289432, 7.20937654698119e-05, 0.0852396234816055, 0.0008212901896320278, 0.0007286299853204542, 0.045429684114839865, 0.9515200843465917, 0.000597184939503945, 0.000470261969094343, 0.00043288286638631105, 0.002042416907200688, 0.0018107909027425767, 0.0016309787473645918, 0.00148589155176817, 0.0015590454670413297, 0.990395628833202, 0.0010752952091388998, 0.003561354969539298, 0.0031500773761697336, 0.0029424250253069803, 0.0025900164340860953, 0.002580571034487613, 0.9833041726809851, 0.0018713606429302694, 0.0004089885907633331, 0.0024274053806715864, 0.0013862576631220797, 0.029605483915564064, 0.9582266087667786, 0.007729788243917601, 0.00021546395184855922, 0.00047233872161343566, 0.008666065612812095, 0.0003776002123521793, 0.008609321852664456, 0.9368757898105685, 0.04474997396031854, 0.00024890894856386016, 0.2154640114603753, 0.1664192527474334, 0.17543847276308466, 0.20246190013540433, 0.11907164996109029, 0.06546698965266046, 0.05567772338613009, 0.007094136312148039, 0.6274879645963003, 0.00602358128641067, 0.04620446212750182, 0.010341788751119971, 0.28064288756725214, 0.02220517935197293, 0.002683042133585707, 0.027492614264583, 0.0021517953691462294, 0.0019546851868560227, 0.001955624859626335, 0.9623500038279417, 0.0014121623491727985, 0.0006421483076435579, 0.9669053055531215, 0.0004896939252074887, 0.00044572810545686655, 0.0005578762800044493, 0.03063350039502716, 0.00032575593313506276, 0.00010311132139857317, 0.9051865447783296, 9.297803290431233e-05, 0.0004461415002355368, 0.01656399350311621, 0.07676298564026808, 0.0008442435058472371, 0.0013812982190205675, 0.001224673192989269, 0.0011041551371147491, 0.9937677794305155, 0.001003272205500703, 0.0007909335830554328, 0.0007278959997982945, 0.0018883577096986573, 0.0016739749887104923, 0.0015108340179113315, 0.9914795035942214, 0.0013700262017123897, 0.001081912944195627, 0.0009953816971034893, 0.00013281652819219689, 0.00010169925627535897, 0.7464468508079162, 0.15678312243690917, 0.08464123791569753, 7.42709382448549e-05, 0.011820001795035118, 0.498464558309144, 0.1935846998359798, 0.1027491100734284, 0.04701289925738136, 0.10383691260492504, 0.006494573573135282, 0.047857247318457356, 0.22650951091634283, 0.44594814729193866, 0.06566684666493479, 0.11535571616962546, 0.06987417039136659, 0.03538399438501614, 0.04126161422608049, 0.9984940991792952, 0.0002451869497573885, 0.00022088519407209245, 0.0005354016136570735, 0.00020074571191208959, 0.00015817778185040415, 0.00014550306110170004, 0.311588860530242, 0.18408080102339872, 0.21839070661985688, 0.048910649409685855, 0.14157416056714114, 0.014125275053367088, 0.0813295470111007, 0.15180671565105464, 0.4196779691956634, 0.05222678801350789, 0.06735312881559657, 0.06986697911684557, 0.18337091297074212, 0.05569750706836866, 0.036187581122497335, 0.5257804500192103, 0.15127068652204376, 0.003186716767398544, 0.027413035594270076, 0.23103808185302369, 0.025123447212906647, 0.00018864940707706286, 0.00012812250081463522, 0.0002607967866161969, 0.00010750525277302717, 0.999146392675957, 9.472157762585064e-05, 7.380992117037671e-05, 0.00011770868671957128, 0.00026293703175277427, 9.40950914111119e-05, 9.950385982349471e-05, 0.9985694922638096, 0.0007942465676440163, 6.201390892922739e-05, 0.0006138394204660883, 0.04010547168894938, 0.0004895034486700818, 0.000446122213993896, 0.00044504904608135936, 0.9216546198818676, 0.03624538771159402, 0.9960753873848036, 0.0009159079342438046, 0.000698173226419621, 0.0006358141501151172, 0.0007143930669942046, 0.0005004567902035804, 0.0004598621836600886, 0.06699765812670844, 0.00039407005149500905, 0.0003595005757389187, 0.00034690322440407217, 0.007790280798914914, 0.0007379246436356337, 0.923373667470246, 0.012249114721746519, 0.00991579103708862, 0.00012401981786523084, 0.014526381180115127, 0.00011276040578510609, 0.04845044295575712, 0.9146214922160677, 0.0008752659872381843, 0.0038271505029412044, 0.0007865299248156966, 0.0006377893221119857, 0.9929103229350089, 0.0005015579266642583, 0.000461398684926029, 0.853520808710235, 0.004988128636733612, 0.00014247953110857172, 0.1410228111215319, 0.00012950680103858826, 0.00010236696773353792, 9.38961057473306e-05, 0.9953959495924233, 0.0009619913119586975, 0.0008684031626012252, 0.0007911028862373558, 0.000788418072007641, 0.0006224070588036143, 0.0005717535636696633, 0.0017700297994935215, 0.0015670855334437535, 0.0014123710615351465, 0.9920244182899062, 0.0012832479089667473, 0.001011768485709585, 0.0009311303113783319, 0.252423719394228, 0.05228009072604659, 0.22348398255848867, 0.08748068246330147, 0.20821833508049287, 0.0797617820362768, 0.096351408535893, 0.0014902069076437137, 0.0013216359172657458, 0.9933806683138813, 0.0010855197024011109, 0.0010822608067271979, 0.0008537384336687563, 0.0007859472547916053, 0.015331263584660856, 0.00025695438246460094, 0.5127888650154875, 7.451436722546893e-05, 0.039282093619842064, 6.0608813975554744e-05, 0.4322057010858823, 0.0015740507506851896, 0.00020131288281411376, 0.1898801951643681, 0.04143827932976023, 0.00016503822750164957, 0.0021187222506037382, 0.764622402550944, 0.07384859433637583, 0.00044180008877061147, 0.009808660144215275, 0.914965047408301, 0.0003883590136590374, 0.00028518334338118763, 0.00026234896277635753, 0.0014470593338442967, 0.0004541905913535096, 0.0004937152678027839, 0.00037333554257656774, 0.00037200502982406744, 0.0002933041445511737, 0.9965663852647357, 0.9318431548250955, 0.00029516505576912723, 0.0002655813768712694, 0.06698850520502402, 0.00024150865205911081, 0.0001908681933711188, 0.00017521269693861015, 0.9414711312104523, 0.0028345586764617777, 0.00030556062213509406, 0.04624070852874691, 0.00027775227961747114, 0.008668846703443082, 0.0002014389971598379, 0.2035618766845538, 0.17447509982513726, 0.5054064561723994, 0.008211128528989883, 6.018851442603787e-05, 0.10818922749393386, 9.60210366160122e-05, 0.33025622659060444, 0.192396519308641, 0.12798374962227863, 0.04341976941999136, 0.1255869776999982, 0.11172616516408582, 0.06863059243678692, 0.02239941283554508, 0.5414983225899901, 0.04276998669322889, 0.001540823256893134, 0.1498486498311625, 0.21114239798697884, 0.03080040642495905, 0.0005577188932386168, 0.0004952288982945493, 0.0004457657965007354, 0.9974833736802877, 0.00040479949438744885, 0.00031925661262408874, 0.00029383519977747727, 0.0541096563148422, 0.00038811464445315605, 0.00018329736209630193, 0.0004808194744205502, 0.7755507025933267, 0.0001733927171981646, 0.1691140145631367, 0.00041086850770191685, 0.0003645620056478488, 0.2428978835553248, 0.00029918712335555723, 0.00029833963978941394, 0.0002353207618110007, 0.7554938353490144, 0.0005096256629824387, 0.0004522274790249429, 0.2746320954311241, 0.00037112797574421824, 0.0003700348772033687, 0.00029185731040683806, 0.7233730315543984, 0.0012007313099037622, 0.001065178056870126, 0.0009602927364489972, 0.038729561027710364, 0.0008720790789101122, 0.0006877494451704762, 0.9564843638414718, 0.00062615120922617, 0.0005559229700034064, 0.19429636323042682, 0.00045614126170915437, 0.0004547204218499482, 0.00035872331427158166, 0.803251987227814, 0.9965170349992153, 0.0007209314067273513, 0.0006500676886661862, 0.000593863116069035, 0.0005906763453159884, 0.0004989141201058975, 0.0004285368038965132, 0.0001455801498502822, 0.8893512488884734, 0.00011676305242611955, 0.00010575037743539184, 0.058991973375704054, 0.05117420573437646, 0.0001144792077754909, 0.0018443450304157767, 0.0012825933196830837, 0.00115607911410625, 0.0010533702223823552, 0.9930726153041168, 0.0008283533271533867, 0.000762635148684685, 0.0015381356407483107, 0.0013418190712035098, 0.0012093912167395052, 0.001103086886712543, 0.9931437401179992, 0.0008664770435139524, 0.0007973761079062912, 0.028056930754812883, 0.9698674110551563, 0.0004947761149694593, 0.00045100009984764487, 0.00044962253293821716, 0.00035434082170279925, 0.00032590937132211025, 0.001566990844658479, 0.9931762026067731, 0.0012530883627795836, 0.0011412666650639192, 0.0011379692342553046, 0.000898743861865621, 0.0008257477955337418, 0.038360583471247545, 0.00010249704834206702, 9.761567150284605e-05, 0.0006380128015860139, 0.9547533631217295, 0.0005713465305387438, 0.005476579704890815, 0.22898186285730615, 0.17279195488059051, 0.1209173463258856, 0.09537122647294437, 0.11238995033773773, 0.20024879864363654, 0.06929886051904144, 0.0014554588511990784, 0.0012898741920543955, 0.0011635630097751575, 0.0010600538461496534, 0.0010567235513199633, 0.0008346438906950416, 0.9931396722641838, 0.00037959347411777906, 0.0003366494236346085, 0.8877947215215374, 0.0008452002733330693, 0.0002757200573121222, 0.00021981530925283896, 0.11014829627398756, 0.00022524274172417132, 0.00020000630516042291, 0.00018002146192760358, 0.00016402058604928215, 0.9989827208577907, 0.00012931642287035747, 0.00011867393665064979, 0.0009636242331646697, 0.0011004083620336925, 0.0007697755686054785, 0.0007015919862950962, 0.9837020942011937, 0.012255115353193726, 0.0005073859238088266, 0.048813401446273955, 0.00015272920785877982, 0.2607540931378644, 0.03926219411662172, 0.6506825236336156, 0.00024420617811221976, 9.085890661719956e-05, 0.9932370032853275, 0.0014175995412834457, 0.0012730215981684434, 0.0011624368788435428, 0.0011576745431434803, 0.0009126934259933662, 0.000839517674684819, 0.0008530522230090052, 0.9814721080902727, 0.0006823819681756608, 0.0006214634882243239, 0.000620478378528316, 0.003043144580924542, 0.01270736974991838, 0.0011754480400237078, 0.0010422417424581951, 0.0009400046368680736, 0.994695963338624, 0.0008535429178006279, 0.0006738101346382835, 0.0006189718862499344, 8.58181393851658e-05, 0.24121882492125038, 0.02823294931229798, 0.00039441609382662944, 0.6403172016374094, 0.08970558401991337, 4.520644342643276e-05, 0.0013445421011005845, 0.0011918748044574456, 0.0010738265080879599, 0.9939367761017714, 0.000975707003709472, 0.0007693234360252288, 0.0007079571697274965, 0.0013633814639290066, 0.0012082569523163484, 0.0010903679439440473, 0.9938483206257209, 0.0009909140224590477, 0.0007805966592508713, 0.0007181253206068605, 0.06069702407260325, 0.7204705111441794, 0.0388010733174724, 0.09877217627585477, 6.125223812669365e-05, 0.08070197724629012, 0.0004959858936099239, 0.0014542001323079976, 0.0012896654085551439, 0.001163624129473135, 0.001059334796912063, 0.001056574549905268, 0.0008337746121611597, 0.9931427835736755, 0.0010047087589191508, 0.000890815655377298, 0.9955380223954036, 0.0007320160097366104, 0.0007295914294756212, 0.000575350823641922, 0.0005294910277652625, 0.0017532396982825333, 0.001554540646069404, 0.9922128147707058, 0.0012773820554892114, 0.0012735477027612683, 0.0010045280684432192, 0.0009239704880174703, 0.14140575817415746, 0.11260101289977936, 6.296900642130346e-05, 0.7457861006195848, 5.749337002223691e-05, 4.515653868111841e-05, 4.150990453222953e-05, 0.0012453474817781913, 0.9945889464126012, 0.0009932360559703932, 0.0009055117268197212, 0.0009013892466699085, 0.0007115503160443736, 0.0006540148322143795, 0.1267526253939963, 0.10428376887371042, 8.487248121542341e-05, 0.7686847577011263, 7.716516369078986e-05, 6.086568741391491e-05, 5.594649583666939e-05, 0.0016336070133393986, 0.9929946333147848, 0.0012806753669660734, 0.0011666690490623874, 0.0011628776301615996, 0.0009193696301510084, 0.0008421565600149666, 0.005522307905338519, 0.004904211182810249, 0.004423481912035044, 0.004013651971196906, 0.004135226142723606, 0.9740962334909705, 0.0029048273544407667, 0.0009097362941542514, 0.0007645760111468945, 0.0029766658303108135, 0.022955840938872197, 0.0024284346426686984, 0.9526536207367012, 0.017311088216665597, 0.00012908906836398695, 0.00011456724672135823, 0.00010315629359627266, 0.008183279345061223, 0.9913278966157196, 7.4000882579846e-05, 6.801066441646735e-05, 0.0003310001168619015, 0.00029367143321976335, 0.998529045510332, 0.0002410930330439818, 0.00024045108348994576, 0.00018982584897857174, 0.0001749107657230961, 0.0023740541628092826, 0.002108045743304867, 0.001897794333335882, 0.03987429004396434, 0.001725285376704752, 0.9507686734559561, 0.0012518158453380412, 0.07012637616912044, 0.01960744843162112, 0.06978330735134014, 0.13352630105975072, 0.042605263903630376, 0.5995449311935666, 0.06480637420987587, 0.9628952192227379, 9.303663847425412e-05, 7.448078014425983e-05, 7.719444479136001e-05, 0.0337992578062472, 0.0030117222025854255, 4.9089866981265165e-05, 0.0003732633197665125, 0.015535322050155571, 0.9635547326523096, 0.0002719673535832014, 0.015189145394902666, 0.004878870948743223, 0.0001966958297757091, 0.8765336702197691, 0.016514896993107382, 0.0008228535575029702, 0.00012219606033594602, 0.1058191388460056, 9.933892149459644e-05, 8.790863168111407e-05, 0.9684512205048835, 0.008772164940365949, 0.0004676429428089718, 0.0004261226227662691, 0.021239999934808573, 0.0003348984420977011, 0.00030794940418319214, 0.9951432900388228, 0.001015520112955894, 0.00091568828092, 0.0008341215391003772, 0.0008317822843378794, 0.0006560310022827363, 0.0006035749863964204, 0.9242660422070087, 0.049294116686809455, 0.0003149586122345949, 0.013656051367929635, 0.00028610409869516887, 0.011975563850612946, 0.00020716372916375431, 0.17094288719886438, 0.00041071606170913015, 0.00032664001182333474, 0.00021105704167702724, 0.8238394892622123, 0.004116955885039161, 0.00015224968483677488, 0.6324844845789546, 7.556017364403459e-05, 6.795349181666478e-05, 0.3672167498554851, 6.175454575960563e-05, 4.871151446307847e-05, 4.4786333404889716e-05, 0.9927353434806455, 0.0031477436760556305, 0.0013119328198191603, 0.00041543785587717073, 0.0005268876646664106, 0.001663373192098872, 0.00019927481551947619, 0.01945238518345317, 0.00010932567561053055, 9.893366531909785e-05, 0.9800639800197827, 8.947391310074161e-05, 0.0001209903324812856, 6.491259618363999e-05, 0.11485226352058654, 0.00043670166209309113, 0.00039290381126545065, 0.00035802361632127235, 0.8547785667984745, 0.028922562390933892, 0.00025897683381563645, 0.9933921110737316, 0.0013819074146459937, 0.0012466178016667948, 0.0011342673441535537, 0.0011320505350118856, 0.0008923459986932432, 0.000820733425116745, 0.2771662450025588, 0.00011599649258696639, 0.00010563769860342811, 0.00013424578465534952, 0.584338503488055, 0.13807078744355072, 6.858643081978047e-05, 3.858751132713496e-05, 5.624883161755602e-05, 0.0006968522623407159, 2.8097771918400228e-05, 0.8783773396073523, 0.007866255503076174, 0.11293661775005602, 0.9963631927475175, 0.0007601777927493182, 0.0006860391125923375, 0.0006244690069684072, 0.0006228073388866818, 0.0004908107903096254, 0.0004525040378298502, 0.9958978050765958, 0.0008580731431823677, 0.0007730039992035344, 0.0007045337125864248, 0.0007025785587144909, 0.0005542861226932276, 0.0005096966440833092, 0.9943748914097336, 0.0011769754207698602, 0.0010599700079759432, 0.0009658896678781454, 0.0009635916892308017, 0.0007597281549450245, 0.0006989685052337105, 0.00010304113900469445, 0.052056002868874164, 0.8752213856411446, 0.03358548423614287, 0.03892043968592993, 5.903719346943603e-05, 5.460940395922833e-05, 2.2295352983838972e-05, 1.9778076363783877e-05, 1.7841709732972263e-05, 1.623926285844788e-05, 1.6196028069066337e-05, 1.2774500428541972e-05, 0.9998948752767449, 0.00046383742856190107, 0.00041139181496640696, 0.00037103357545323205, 0.0003378244004210487, 0.00033691521551382756, 0.0002658073854016886, 0.9978131994434526, 0.000903358306983164, 0.0008009918569115544, 0.9959866059215826, 0.00065829358438225, 0.0006571385853095585, 0.0005176631327734093, 0.0004759527630354049, 0.04097850343405201, 0.571435306956663, 0.01992909205514746, 0.2529392109974987, 0.02607116316422998, 0.06325949610714697, 0.025387227090239797, 0.0018626230327999605, 0.001648313865298786, 0.0014862883151239576, 0.0013545060010711873, 0.0013496762827551172, 0.9912092996449045, 0.0010892931357625436, 0.0017540754008985007, 0.9159123739890243, 0.0003270222979911567, 0.06438773638229933, 0.00029689173724329156, 0.016111645592456616, 0.001210251209552982, 0.0003599963866857433, 0.9098474064833626, 0.00028727276160103537, 0.05990391423124827, 0.00026111329079961073, 0.029148590287096467, 0.00019170774128654444, 0.0006641357758478821, 0.00026089731771266586, 0.026406127336288266, 0.8382180715847759, 0.04795902147053338, 0.08625607793820465, 0.0002356689536304783, 0.0010563163993716844, 0.00014328495985680057, 0.08686554012076564, 0.8336928825779889, 0.03767886254208071, 0.04016076678077834, 0.0004023487200215455, 0.8966907025690906, 0.017769560253485823, 0.0002694547636891902, 0.01799596467693772, 0.060956618439345404, 0.00022359543556787936, 0.006094102682264597, 0.0001757758055628865, 0.00015585053693510312, 0.0001404481375775041, 0.00012797038205086564, 0.9985701961915946, 0.0007371443368788231, 9.261734540771778e-05, 9.115186447330351e-05, 8.095014930529736e-05, 7.286885696933671e-05, 6.641923752186499e-05, 0.9752916584739615, 0.024348928168827003, 4.8023441569385126e-05, 0.00010879916629996588, 8.787248164770252e-05, 0.009800009488396287, 0.9188510536141031, 0.07048720108207236, 0.0006128989766452267, 5.216669589653749e-05, 0.04304318017064631, 0.09934203001264379, 0.019855481034492556, 0.0978620736153801, 0.0251788628546334, 0.6710896690086916, 0.04362870341600827, 0.0007103167123217222, 0.0006290117086713997, 0.000565792324324982, 0.0005156372089672607, 0.9968002643607149, 0.0004061163036910722, 0.0003728644548014071, 0.0002573854849371256, 0.012462521359504809, 0.00020326891341342787, 0.0001854818344140231, 0.9864539866498736, 0.000303366474175929, 0.00013399319759356976, 0.0010252919013062681, 0.0009148348475717136, 0.0008281106192469962, 0.0007471821076444673, 0.0007448130555536458, 0.000587694136530231, 0.9951520591258073, 0.00241131954426853, 0.0021382817730232354, 0.001927931245176095, 0.0017560388436359178, 0.001751312424490819, 0.0013810099224174355, 0.9886341474043917, 0.009434370084566268, 0.0013726188506486753, 0.0007422079738428576, 0.0006772688420024137, 0.9790991918013909, 0.008185525908011826, 0.0004888229052031999, 0.06888611553609676, 0.0006347602861612898, 0.0005717046285955988, 0.0005215845994942613, 0.928385585678638, 0.0006232111446703107, 0.0003770359575892853, 0.09841549297826432, 0.0012370713761241693, 0.00032105590384864745, 0.0002929086503747874, 0.8979873841541025, 0.001534426944744165, 0.00021166337122443716, 0.0018827069108101845, 5.843705109668369e-05, 0.17940555527593063, 4.7787560748814415e-05, 0.004160127450865348, 9.131802827481307e-05, 0.8143540678087314, 0.002589388504853335, 0.0023019455632199565, 0.0020695891797603283, 0.001884099073506662, 0.9883053246513154, 0.0014851485543297123, 0.001364513262205026, 0.00012380154999083685, 0.00012455824959843018, 0.00027571336659246707, 8.820919749110098e-05, 8.79844352314198e-05, 0.0002854205988522533, 0.9990143113299716, 0.9841190038856957, 0.009712938239253573, 0.004795443034818927, 0.00039149728598696803, 0.00039022360182128674, 0.00030792145368930873, 0.00028296831955644015, 0.0001447902487700619, 0.9384969407287594, 0.0001077616679169576, 0.020002029046871473, 9.795606427271646e-05, 0.03790278749100133, 0.0032477347827744125, 0.00030135533912331515, 0.9833659633905297, 0.000240761235272381, 0.0002195775266265244, 0.00022727448117556144, 0.0132735316827868, 0.0023715379257131094, 0.006381015699803092, 0.005637587495157163, 0.00507579306184185, 0.00466944151718511, 0.00505732848955806, 0.9698339803602667, 0.0033448376260465564, 0.019701734489980707, 0.031131490619516995, 0.026797027557758615, 0.01698774167313386, 0.4477985616054997, 0.01866779750771474, 0.4389156457045192, 9.473158453660674e-05, 0.9923081928793817, 9.925014423437245e-05, 7.064301390927839e-05, 0.005369589605302424, 0.0002559742589027718, 0.0018016165340150338, 0.0004338469732311354, 0.0003850539582298372, 0.10567463365782802, 0.00031605807497355284, 0.0003151271497194462, 0.000248691310911955, 0.8926265952996503, 0.0003606443501490445, 0.9329722815907701, 0.0002980899642265754, 0.005695852125091796, 0.0002625664437258835, 0.05816432223909088, 0.0022462366820008703, 0.0002654558507380687, 0.9895333423231162, 0.00226610282050356, 0.00032197402361948386, 0.0001927387943273909, 0.007280503074603273, 0.00013988302532602867, 0.0017672977942079005, 0.0015669051298633219, 0.001415726599931183, 0.9920202438258615, 0.0012849263671372321, 0.001012097787920418, 0.0009327718942304411, 0.0027044105495042355, 0.004153829049192426, 0.07669143579861304, 0.13366399416538743, 0.003569397115953185, 0.7495677652140825, 0.02964917431324757, 0.0020440315009135675, 0.0018115779752400276, 0.0016339607209901097, 0.9907781272400799, 0.001484794260906944, 0.0011704445973578484, 0.0010770416938415176, 0.11469637205901387, 0.34888272492848427, 0.15236156427633785, 0.015144922526775758, 0.14726724053094803, 0.11684013190794457, 0.10480704437969832, 0.6864825559887435, 0.0002869082502431319, 2.406990932565338e-05, 0.31315122425369585, 2.210197620023607e-05, 1.726973131935815e-05, 1.5869566778736113e-05, 0.6558306864782706, 0.00012198007433647348, 4.9684995326237785e-05, 0.34388403700868553, 4.5157336647158976e-05, 3.568913169493074e-05, 3.276557978660458e-05, 0.04589364978262721, 0.0056082768403675305, 0.014754338281960093, 0.021998526935259215, 0.069364008155836, 0.823368987004743, 0.019012199954037263, 0.02285441985368594, 0.043369921122381715, 0.0025321069017959284, 0.10126011677245343, 0.008934522087758807, 0.8142381030601584, 0.006810808726613712, 0.0014544394520440722, 0.0012903248450617697, 0.0011631135226477, 0.0010592742804601772, 0.0010578641549522855, 0.0008331441538010157, 0.9931418243563521, 0.9931709509166785, 0.0004740275321369748, 0.00042738779446173207, 0.0008601486276358151, 0.00038801487143843937, 0.00030651644408429706, 0.004372959861364136, 0.0003821056860521177, 5.678054996292083e-05, 0.8852598498495968, 0.002915197659107749, 3.9853219458295374e-05, 3.142290465344718e-05, 0.11131479127684266, 0.021756515422347796, 0.002589165069357216, 0.7822924648380071, 0.03486279145227051, 0.0001169073670596018, 9.218283251174867e-05, 0.15828997049526283, 0.00030987386370536743, 0.00027494725120171323, 0.9517956521795938, 0.0010874014610635595, 0.0002250265359824789, 0.00017763571623634632, 0.04612946241679357, 0.22454424442885765, 0.07451126823792248, 0.01126788888898189, 0.1689035660047688, 0.4639189556519447, 0.0417930863659679, 0.015060991102398395, 0.0007738562724633532, 0.0006867882607903728, 0.9965623071381329, 0.0005636029114309297, 0.0005620541131304935, 0.0004433075877661152, 0.00040810036866856855, 0.6030658325126388, 0.02424397816088799, 0.00017871014644279756, 0.14043265564480953, 0.23193113978282856, 0.00013146260054234133, 1.6221447953006858e-05, 0.012972270082467267, 0.0002674325159635571, 0.8961072474300461, 0.07741066324483203, 0.012976040741787069, 0.00013872634698540402, 0.0001276188624547182, 0.00044197289862241254, 0.00039196111167000747, 0.0003535564358917886, 0.00032187166658283553, 0.00032101458217562926, 0.00025318638105640564, 0.9979164412884445, 0.34083068992825266, 0.1468695247296805, 0.16973507259167836, 0.07305320212028249, 0.1373516191093877, 0.05174399615836241, 0.0804158955125189, 0.0012666165830192574, 0.0011227339102027687, 0.0010115126824404314, 0.9942882999591124, 0.0009190633003966669, 0.0007249222089317042, 0.0006668574177243244, 0.20335955372836675, 0.04844215016976684, 0.08001729101413128, 0.08909385310640217, 0.07733976190466477, 0.44445614810103445, 0.05729124420828525, 0.0001710634193496406, 0.9990461312294847, 0.0001367258974108377, 0.00012453126345126286, 0.00028341415483781163, 0.00012988801561569148, 0.00010824589051161083, 0.00030814231467283566, 0.9952075980830856, 0.000245740723462894, 0.00022397272652919346, 0.00036451730760506286, 0.00018351023441225657, 0.003466510736151991, 0.05772922726194584, 0.00012901389587440052, 0.00011633496471496475, 0.3771273031130867, 0.5645396063848429, 0.00028183863858451607, 7.667620345296042e-05, 0.0005482706896753298, 0.00048638702941546845, 0.00043817113409060386, 0.997526381128216, 0.00039808354562120883, 0.0003138724777959061, 0.0002888431712896341, 0.11039186725687924, 0.000956041513878685, 0.000281178435951751, 0.8877283391705019, 0.0002557150537964218, 0.0002014792834262508, 0.00018537690525506943, 0.001573262739999998, 0.0015163677120835894, 0.0021803485912130186, 0.001146858360783924, 0.9918529690151132, 0.0009011029977587974, 0.0008290835642468117, 0.001534620169326512, 0.001359129325110545, 0.0012255273961505962, 0.9930807154965698, 0.00111430837436141, 0.0008780232780418034, 0.000807649900411693, 0.08443119656418992, 0.0009750308752000199, 0.01166037687903609, 0.006434522725487481, 0.8550918410872945, 0.016033851409161377, 0.025373180139701884, 0.001025278125265763, 0.0009098859919416836, 0.05303891624380514, 0.00784858826825947, 0.0007439622485850264, 0.0005879715276939952, 0.9358453755351572, 0.2942874851644656, 0.24340804897784238, 0.1690101856392015, 0.11044742319321632, 0.09604174217396742, 0.02439216239010239, 0.06241295187178662, 0.20175638544658875, 0.006238062339014403, 0.4759192008693286, 0.012616315962335692, 0.18622162444311713, 0.0007848850116027977, 0.11646352588802543, 0.1108681738400265, 0.0002513979496890054, 0.42302899549704087, 0.0019074010181372037, 0.12717587969156563, 0.0014787671170866986, 0.33528938200730635, 0.11866041704045456, 0.02039111893642896, 0.5764459603911763, 0.0615815398797859, 0.09220920776061607, 0.01282566925339889, 0.11788608659004417, 0.0054864525165903575, 0.988928562160015, 0.0013301510026086617, 0.0012119672129955294, 0.0012080208901716297, 0.0009525736979880769, 0.0008822948358720215, 0.0012338995027258268, 0.994630609666416, 0.0009860778007059548, 0.0008983123789099291, 0.0008954918919906012, 0.0007061889410987681, 0.0006494488754153503, 0.0016589695014599239, 0.0014712436449756095, 0.0013264705596650079, 0.0012080509674251307, 0.0012047653371202091, 0.0009501632138044728, 0.9921803332982277, 0.30632058420068664, 0.07194282806631425, 0.00013294236020587792, 0.5904364099179122, 0.02632316656559728, 0.004723601058796293, 0.00012046793790446866, 0.21012739527423074, 0.01820377422018924, 0.02604303600868408, 0.5760366800571064, 0.13573810612314688, 0.0335484701685283, 0.000302539684128798, 0.008581609971093343, 0.07147409242835413, 0.007148656103676068, 0.9072425281870384, 0.004550481582583336, 0.0009275981461844442, 7.503760545164842e-05, 0.006422420455178182, 0.005519800348654165, 0.004954449583008744, 0.0045558817629095, 0.004512589711959918, 0.9707690739130668, 0.003265804185644979, 0.04496025212799604, 0.03420487571438577, 0.0840924460101858, 0.39532888393656046, 0.37233234506857943, 0.04988091875382267, 0.019200278705950004, 0.030197517695288497, 0.00034174391400229793, 0.0003079379111721291, 0.0009015913281801633, 0.0002799911920640516, 0.0002206441110035745, 0.9677505649325934, 0.0010638268612492912, 0.0009433013447228622, 0.0008504999870480087, 0.0007744559532359743, 0.9951984915883038, 0.000608900612245713, 0.0005605149362753214, 0.0003751680779340162, 0.0003325669997775237, 0.0003002814960411228, 0.9983065846860926, 0.0002728713200501515, 0.0002148549198795385, 0.00019768293215396957, 0.0010645092878035045, 0.0009445352053566875, 0.0008510146946113187, 0.0007755616440404662, 0.9918834764289762, 0.003917938617771, 0.0005629451777097394, 0.002196942000692927, 0.001950506005730817, 0.0017580430284222326, 0.0016049155501256217, 0.0015978913538734836, 0.0012587812857783253, 0.9896329374327857, 0.5934431315073331, 0.12344787979730006, 0.10388340727923685, 0.05855556594008007, 0.05554810206199091, 0.01751189200483517, 0.04761002385645252, 0.0016481411946300878, 0.0014613872241566116, 0.0013182613207110797, 0.9925623622006086, 0.0011973745098893013, 0.000943903261544565, 0.000868582787291333, 0.3087364310435853, 0.18521153020299114, 0.13963853140371754, 0.04478141425595059, 0.08789685858398794, 0.16177742281112942, 0.07195781140968943, 0.003839737662566005, 0.0006733297588609783, 0.000606937638070264, 0.005663744161459963, 0.9882764934505034, 0.00044755584562266643, 0.0004922034118794731, 0.00017000805068591174, 0.00015065355721616204, 0.9911261355432253, 0.0001237147622366569, 0.00015988631558382926, 0.008180132916134673, 8.946815851124987e-05, 0.44253214311328787, 0.1371169999313866, 0.14710920205899122, 0.08712891576171987, 0.0910829005597188, 0.04323579443540988, 0.05179404227509422, 0.00221425585231609, 0.00196516634634627, 0.0017713589941225033, 0.0016125484433611142, 0.0016083451721671993, 0.0012682457073030504, 0.9895601007899996, 0.0013413074892542917, 0.00010970912681869913, 9.890355092965334e-05, 0.4775826922348428, 0.5207312014897596, 7.097745220341812e-05, 6.520852491058871e-05, 0.0009387617587574582, 0.0008322237913746993, 0.0007508196447230965, 0.9957570346889631, 0.0006890694487973208, 0.0005374726209820501, 0.0004946018358520194, 0.0017829917031834427, 0.0015806674471123675, 0.0014263860053010788, 0.9919541119335018, 0.001295206314910269, 0.001020891409906268, 0.0009398145625643317, 0.26283687876320644, 0.11329785516010575, 0.21124981978107904, 0.05397048576702403, 0.2100019610375224, 0.05781279689001076, 0.09083020263445891, 0.03194677356348477, 0.0009909103275936098, 0.0006915035751950226, 0.0006294190530420024, 0.9599393843962655, 0.005346684110791561, 0.00045532214581589053, 0.286591400971037, 0.3489104183617231, 0.11130064681441706, 0.03814949748058078, 0.06864036379820931, 0.07802736601912943, 0.06838030725468955, 0.005898097397103457, 0.005230909428455848, 0.004715338495907988, 0.004310377423564518, 0.004283972209412314, 0.9724503750162445, 0.0031108262663644215, 0.002070909876552473, 0.0018379474626162827, 0.0016548659101791705, 0.001507999229789334, 0.9906511199771542, 0.00118633600306754, 0.0010908021955560354, 0.00046206255058864245, 0.00040976436683992277, 0.00036915468426782953, 0.0003367374312082862, 0.9979141328012859, 0.00026482504703358953, 0.00024332468260356032, 0.000653029481692798, 0.0005808669914558542, 0.9970981487433691, 0.0004757259335859106, 0.0004743125664016392, 0.00037407118143716983, 0.0003438385843336116, 0.971322119882143, 0.0006578451565058965, 0.00052478366964728, 0.026295577175115072, 0.0004771794837635104, 0.0003765132209828391, 0.00034598695214016007, 0.029860006317694258, 0.07501720191326368, 0.7325862402754802, 0.019178587055082554, 6.33475603499573e-05, 0.01350902710435594, 0.12978558822669495, 0.0006350830365610046, 0.03309826547791443, 0.9646096881509537, 0.0004624078564754658, 0.00046120418042092196, 0.0003988354439860255, 0.00033451727568018305, 0.0013219536064503238, 0.001172338038246243, 0.0010554500247248384, 0.0009620049601067483, 0.0009601534844674621, 0.0007563822538142608, 0.9937717350705494, 0.0023127290627578635, 0.002048984684027604, 0.0018468298811864948, 0.0016824957459834254, 0.0016772084738073266, 0.0013225801733473697, 0.9891092021151091, 0.06350338877603473, 0.09875064608882761, 0.049146258188117166, 0.024728932644363353, 0.07436441088141113, 0.659900207345234, 0.029606154506257462, 0.0006388286603752412, 0.0005668227234107573, 0.0005106965730572184, 0.000465284336823761, 0.00046399286870104517, 0.0003658149348823401, 0.9969885497426445, 0.001930421949741549, 0.0017110558190891, 0.0015426033144085706, 0.0014052558530952605, 0.9912892523037539, 0.0011054621039152956, 0.001016005272031822, 0.012300041066545872, 0.001111348630997208, 0.00042965114382002655, 0.00039143309061336046, 0.9851766094755673, 0.0003078497982567694, 0.00028306180607836636, 0.15783017452655074, 0.00019778624590622893, 0.0001782512344002686, 0.055525342252202986, 0.0001619107718346947, 0.7859890689681246, 0.00011746747154031109, 0.37393420154982016, 0.18521932424378096, 0.0654708894414406, 0.013740759206436103, 0.3335701975544058, 0.014835244968137108, 0.013229384039475612, 0.00152531294655966, 0.0013530448981359617, 0.0012199043743131544, 0.0011116431687856082, 0.9931130010419474, 0.0008736698157869405, 0.0008033723740803555, 0.002023797754874726, 0.0017954504620748858, 0.0016176198977333222, 0.9908702776305895, 0.0014688646098041606, 0.0011578801253644805, 0.0010661490883044058, 0.0006782363868042961, 0.0006017466119330384, 0.0005427318194678902, 0.000494714093592976, 0.021821705892098715, 0.00038892679017216397, 0.9754719303004245, 0.027531936875894187, 0.016298970317527056, 0.08939190324463005, 0.7613348516620494, 0.10132460438575029, 0.004040405449154823, 7.732600484769122e-05, 0.0012423149363247593, 0.0011014454791709951, 0.0009963312515057136, 0.9943903265124205, 0.0009035623108128167, 0.0007114163712550823, 0.0006546075610792553, 0.12126182739409591, 0.020803213383048642, 0.10879528638064588, 0.4045705764417305, 0.16548589681499717, 0.130816487162223, 0.04826671452684409, 0.0035207364441472975, 0.984678773855533, 0.002815820419735661, 0.002560614710897744, 0.0025540877106717103, 0.0020175682920917423, 0.0018523626641483567, 0.4888898383368299, 0.035723268886333266, 0.21805249445913796, 0.0003020307964946896, 0.00027297818460563764, 0.0017667290418028668, 0.2549926604985924, 0.000737555525928545, 0.0006540090093143389, 0.0005896944717568358, 0.9830423051799109, 0.014165067688407109, 0.0004224949323152932, 0.0003888846144859759, 0.0020682232083716967, 0.0018308107086092717, 0.0016501318740215058, 0.9906801945952944, 0.00149939580716481, 0.0011832717358988038, 0.0010879489561233628, 0.001758876655313484, 0.0015630875711184458, 0.001405746056483085, 0.0012830472152681306, 0.9908910192343012, 0.0021704939433703847, 0.000927706152966346, 0.002062703882062927, 0.0018292255669826202, 0.0016506908364390756, 0.00150220271370572, 0.0014982447327902134, 0.0011813934648768189, 0.9902755043831223, 0.0014219536145166705, 0.0012884277738879387, 0.0011379258290144317, 0.09621133907863223, 0.0010351033217525433, 0.8981566205036177, 0.0007486169280493368, 0.003949450218844428, 0.9828116393411458, 0.00315376448976501, 0.0028751320344566882, 0.0028676432275947642, 0.0022633290738673373, 0.0020791207050789256, 0.002277349040142768, 0.0001106547576250558, 0.0660180029348577, 0.8994861760360681, 0.030960036531942473, 0.0010819942112360586, 6.578429327580547e-05, 0.03583878819309922, 5.366375350878618e-05, 0.08985138210625886, 0.8200261906922485, 0.053207820187238415, 0.0009949666452157757, 2.7189068981783193e-05, 0.0018875790822515633, 0.0016723015322227491, 0.0015074097453038776, 0.9914889843574237, 0.0013696756901616397, 0.001080278542662214, 0.0009937862249839104, 0.06977895104868995, 0.0002570814877522169, 0.06727031335224906, 0.004902829697215966, 0.016234567162793145, 0.0001661584165324148, 0.8413901066810411, 0.021530109780172477, 0.5193940171356, 0.0031938058829095064, 0.016011532218342343, 0.019432220500472754, 0.41959296982501953, 0.0008453431439912139, 0.9936355809269132, 0.0013553692425478294, 0.0011939292682617072, 0.0010868875461806915, 0.0010854406204004765, 0.000856056705754043, 0.0007867274109233131, 0.0007877238011495493, 0.0006991536188049495, 0.9965009117728503, 0.0005736670074955856, 0.0005719609225302245, 0.00045146257869101126, 0.0004151310931429421, 0.882364696543975, 0.00906879272488371, 0.00010607130415355981, 0.1082180124159945, 9.645706989246646e-05, 7.60600052901526e-05, 6.990777112592321e-05, 0.00012250791295063116, 0.0004884994193958438, 0.9344037573030514, 0.06475834616408332, 8.905627563047612e-05, 7.334521385258261e-05, 6.449007170655907e-05, 0.001395153765171026, 0.0012377450135624805, 0.0011151273370352385, 0.0010177756356290757, 0.9936994347009135, 0.000799734299077348, 0.0007350441942115325, 0.001945489286046278, 0.9915275621103575, 0.0015554844408248796, 0.0014177506860605412, 0.0014141387868971409, 0.0011141504952702677, 0.001025418172489396, 0.00034080300146121004, 0.0003023258103003018, 0.0002726030239265519, 0.0002481961652789801, 0.00024752815848799216, 0.0001953744072379087, 0.998393168784901, 0.001044993972245342, 0.0009268449085571192, 0.0008355596648242842, 0.0007609834583831231, 0.0007590646141005954, 0.0005989812568223007, 0.9950735781116786, 0.9940973197708132, 0.0012333628576827905, 0.0011135035810871752, 0.0010147588156390879, 0.0010104268982705053, 0.0007976465597090693, 0.0007329833693197641, 0.0016413253638718234, 0.0014551911470037854, 0.9927104074979298, 0.0011960790484177098, 0.0011921525946703572, 0.0009401825800557592, 0.0008646998916368241, 0.034625258952768835, 0.10391982444426401, 0.12257588505237597, 0.5869391347818823, 0.010401933766152801, 0.11900121916309593, 0.022536738748468205, 0.0017003843301252374, 0.0015083341542678208, 0.0013592970430068956, 0.0012383271843374815, 0.0012349591140265001, 0.0009738634967939656, 0.9919848026730833, 0.0008652866400403929, 0.9916751131960709, 0.00083169418713653, 0.0006300859501388911, 0.0006282484447490356, 0.003914136238406333, 0.0014554291477726197, 0.0007077508992574575, 0.9969075474067771, 0.0005660168576821063, 0.0005153235538179273, 0.0005138205571863757, 0.00040541510111067464, 0.000384125080863744, 0.0018505618448027652, 0.001640795618815365, 0.0014803883974142632, 0.9916469480319619, 0.0013464357701185785, 0.0010595198548280782, 0.0009753079722933731, 0.00021283614419376854, 0.0002640134807677158, 0.998428018415262, 0.00015495737902396982, 0.0001547907204594133, 0.0006733137580634246, 0.00011206911316085986, 0.0010847921818343792, 0.0009615869036345716, 0.9951842519503764, 0.0007895332253501007, 0.0007879682880476172, 0.0006206541341649534, 0.0005712021154064751, 0.0009418802055727749, 0.0008350980652888658, 0.026848788115431264, 0.9696534424518638, 0.0006842132122754455, 0.0005396953001842434, 0.0004968737402012761, 0.00033874379687993863, 0.06217356585161921, 0.936183606917985, 0.0002496819036672401, 0.0006818862291255092, 0.00019411945884232194, 0.0001783960829004125, 0.31900256534588767, 0.04773246802178447, 0.31040939997976896, 0.020280772007334105, 0.20546836525350606, 0.018568372865815263, 0.07853805642631145, 0.017620370532784015, 0.0004695583754081147, 0.9805577477152395, 0.0003855037835172256, 0.0003849475639523579, 0.000303150569118873, 0.00027872053332860544, 0.000732166382744577, 0.0006298021312520119, 0.9968249251718153, 0.0005170902209368497, 0.0005152021756919911, 0.0004067786162042984, 0.00037403786261709963, 0.0070834189720584625, 0.0008372530848450333, 0.04984250564969787, 0.8171690303817617, 0.037736220172656126, 0.07108493851683018, 0.01624663451141075, 0.0003861569099275172, 0.962846034575852, 0.00030802964962935414, 0.035756639905640444, 0.00027964428536122007, 0.00022062591885968, 0.00020286719627894475, 0.14404858405551754, 0.148962544395886, 0.048088203073262704, 0.047947785222043966, 0.05311204404934269, 0.5240718846455615, 0.03376895509153141, 0.29108070444374756, 0.08688955625977844, 0.2441701311702353, 0.04220163487699364, 0.20732187378971142, 0.06011274575796916, 0.06822335420206879, 0.9972024790991624, 0.0005849947957599758, 0.0005272378472386671, 0.00048030607673077056, 0.00047959890429773356, 0.00037798366545826594, 0.00034738485825955046, 0.00028550782014137306, 0.00025348264170107804, 0.00022857220797491696, 0.0002078870734255533, 0.00020733978537061995, 0.000308111405291901, 0.9985090957620352, 0.28528224714506634, 0.07556189283507975, 0.10032832000265905, 0.36310793488480586, 0.09032091159908436, 0.029822264228268742, 0.055576429130895035, 0.003482095597700457, 0.0006054315278679262, 0.025439618236150725, 0.07567491612546864, 0.00045791790131952136, 0.025186826191914386, 0.8691531901650442, 0.0015095288241398018, 0.0013375804330778725, 0.001392831771625107, 0.993002923335597, 0.001096746852041278, 0.0008644422100254961, 0.0007959305502269251, 0.0005437143707066398, 0.0030314863942834842, 0.995035055245978, 0.0003960715155136217, 0.00039564564421429467, 0.00031176020538631983, 0.0002862639631239761, 0.00136138773257556, 0.978836628810511, 0.0010885656085106116, 0.016005021905660985, 0.000989362667215671, 0.0007827881213782438, 0.00093625232060276, 0.0014306857835104493, 0.0012684184201738747, 0.9936467375859934, 0.0010418402920664026, 0.0010390069586942105, 0.0008194826501279244, 0.0007538437603388117, 0.0029715569316811374, 0.0022364812902098143, 0.0020172326942110097, 0.0018372990741550653, 0.9881635109302788, 0.0014450853855822517, 0.0013288565876559406, 0.0018205490002925853, 0.0020983094205727706, 0.0014768157946287118, 0.0017107567909807548, 0.0013688978121743725, 0.9901172015125463, 0.0014075068854386896, 0.003108005864052735, 0.0027556844270782525, 0.0024836866364882364, 0.0022639985788987984, 0.0022565623913644024, 0.9854944073746537, 0.0016376279892558456, 0.001153522987618141, 0.0010232224170016785, 0.9948752244243821, 0.0008403018351280473, 0.0008379695144119901, 0.0006616651076308478, 0.0006080693295434918, 0.0020320775712094835, 0.001802099076435889, 0.0016244379643596048, 0.001479684821367767, 0.001475660407314128, 0.0011639779230557107, 0.9904220486819766, 0.0005310962435803231, 0.03663901879584395, 0.954095049995689, 0.00038678018134862284, 0.00776338323758634, 0.0003047985881658064, 0.00027988669149236307, 0.8215974366313982, 0.04359111013984301, 0.10868931371225596, 0.004442808831813909, 0.011130976355666662, 0.0011740124495319137, 0.009374341161067478, 0.0012681343492748558, 0.0011243932699491685, 0.9943681088340631, 0.0009239563553670627, 0.0009209999043361558, 0.0007261357691308923, 0.0006682625861188027, 0.00030343031425131387, 0.00029458385826858815, 0.026221008067221368, 0.3357027358445845, 0.00024103622894558772, 0.6370635483199648, 0.0001736593694927009, 0.9954329248755838, 0.0009544554675262411, 0.000860728580116315, 0.0007846101792536695, 0.0007819011813233187, 0.0006173628644061065, 0.0005680235742320113, 0.2605173956280195, 0.004698849788123326, 0.1918096857947123, 0.04929139395209365, 0.4232936252709237, 0.005918898901940075, 0.06447015079154661, 0.0011767311046088792, 0.0010435423680481937, 0.0009416179093606924, 0.0008569033676080419, 0.0008559324273014212, 0.0006740024873483797, 0.9944512620428393, 0.0014227349012346207, 0.001260691266620199, 0.0011373257995874679, 0.99358204059033, 0.0010334606975599106, 0.0008143528369303486, 0.000749400493341687, 0.0004683767658330371, 0.9963028835131161, 0.00036866832975905465, 0.0020179930293363806, 0.0003351469772040526, 0.00026394024701773217, 0.00024299653185078102, 0.0008216134526719571, 0.9921529103192807, 0.0006229458556493393, 0.0005298902712401195, 0.0050690765713163576, 0.0004167624037518193, 0.00038681899790290704, 0.002486915774185828, 0.9891773633201104, 0.001987010017994342, 0.0018104279231919344, 0.0018055570465931455, 0.001423065052625096, 0.0013097018088364422, 0.12461824446987235, 0.6855343729418325, 0.0011786252143742013, 0.13646742748706284, 0.01641930900652151, 0.022717264489381085, 0.013064756620531148, 0.001429128153768257, 0.9937815882897392, 0.0011414817148691623, 0.0010400408986108826, 0.001037477625008074, 0.0008177432051259221, 0.0007525417742866619, 0.0008961598781562612, 0.9960989526350115, 0.0007162291063496994, 0.0006526164703909632, 0.0006508232632744281, 0.0005130236153707898, 0.0004721865584591803, 0.0005155633834326623, 0.0005034794518456055, 0.13720960275465566, 0.0371506566318597, 0.00037440012638667515, 0.009707336553526834, 0.8145389643207509, 0.0033859001185066713, 0.0003044379468252889, 0.0002745508176296736, 0.9954067729406997, 0.00024945837716994256, 0.00019795619624328036, 0.00018092336550502093, 0.29401701942219816, 0.04933180815928417, 0.224607163166933, 0.0683817711884459, 0.16733506525236586, 0.1222126420101874, 0.07411453068617851, 0.002313499513032956, 0.002068222363390351, 0.0018494345731662407, 0.001687252873519311, 0.9895349353943076, 0.0013274748711830668, 0.0012191787333081744, 0.005899888890016584, 0.0052306499415336665, 0.004714240832922484, 0.0044295100802952065, 0.004284467748187636, 0.9723334961767572, 0.003107945676754668, 0.025022800607227613, 0.0004024618848069877, 0.33723849013871476, 0.5837490209776178, 0.04979931924438925, 0.0036454165787742545, 0.0001424906165066898, 0.2805727062567575, 0.3994603823967665, 0.08004905934427109, 0.07590875908171793, 0.07493133887922108, 0.04121545673866995, 0.04786229691608151, 0.003822310575599234, 0.0033885178577142995, 0.003057280895956623, 0.002789106658950527, 0.002794782304178169, 0.9821302829848674, 0.002017691878426818, 0.9978634331250976, 0.00044673842325189275, 0.00040260892781021195, 0.00036695628460026646, 0.00036588628977199595, 0.00028883627383721576, 0.0002655664833971581, 0.9993811636573072, 0.0001294627026069386, 0.00011659796517700971, 0.00010631760788092296, 0.00010596861126215032, 8.363282766070225e-05, 7.685747951004747e-05, 0.0012624417363637855, 0.0009188322566540547, 0.002098695350856743, 0.012119294184019235, 0.9217695141499869, 0.03449629832428057, 0.02733492123639684, 0.003799802021308288, 0.00038372624114277424, 0.00034572243038187263, 0.0926015765887895, 0.9023936893053225, 0.0002478176295702673, 0.00022767543169628732, 0.0006696954424348343, 0.0005940688629112105, 0.0005347406393031705, 0.059298221384703344, 0.9381668878443776, 0.00038373588872881077, 0.0003526572286764019, 0.05913234684949123, 0.07973236269978892, 0.03628540865709847, 0.7752342319484629, 0.04019193367694674, 0.006547472378073476, 0.0028762431169003224, 0.0006104185471167471, 0.0006974414678366, 0.04991552704235288, 0.9236532789913035, 0.00217772437254932, 0.0004007306738136118, 0.022544874708248994, 0.303260518408232, 0.4001125384714861, 0.058852563293893635, 0.06453666016454493, 0.1356237279354769, 0.004338615295081505, 0.03327537638221391, 0.030040832985015992, 0.013162292186782274, 0.0003853031116956919, 0.9555327701099824, 0.00034955088533640354, 0.0002757958071648155, 0.00025344818702786713, 0.31522586676874825, 0.20410727127808964, 0.1517678469426936, 0.06406608513993092, 0.12229907843945236, 0.07725042058780293, 0.06528343074143246, 0.9946639718161071, 0.0011146108378206378, 0.001004813429659054, 0.000920619004566539, 0.000913311270532655, 0.0007204855650499208, 0.0006621791764816971, 0.13041720649627175, 0.7190458622135534, 0.05290771358674667, 0.002048006860602702, 0.0321649384458319, 0.016443823321781324, 0.04697244689029495, 0.10507710988599138, 0.7555941110050537, 0.02731404643921884, 0.002986718709448855, 0.04380227454345744, 0.029513282314280742, 0.03571245845229503, 0.0015673235616046502, 0.017241960426300697, 0.9772942326582733, 0.0016247927209622403, 0.0010411906231533393, 0.0011139881852061041, 0.00011651472344591762, 0.00805399518382021, 0.7575252340650187, 0.023709979429378174, 0.010530606552109313, 0.025988614110569387, 0.13760005225380595, 0.036591519117889534, 0.02866009636750793, 0.7263880347559578, 0.029177082403589655, 0.003927907303523347, 0.0385802952420554, 0.1373807056658149, 0.035885878669469726, 0.0026227529427859026, 0.0023248505325903336, 0.0020959195356868203, 0.0019099401483157713, 0.9877965179333981, 0.0018682327289838694, 0.0013817543605639036, 0.018562829346426987, 0.0017208860413901858, 0.14419292832091019, 0.6705560828558123, 0.13059851534506087, 0.0023390690529444193, 0.032029690221914965, 0.004067173344278456, 0.008256179620667457, 0.1287635976719936, 0.031419539498116156, 0.0717485903146837, 0.7162775069358238, 0.039467413965855035, 0.0016675841863184164, 0.0014796322061988718, 0.0013330502780105763, 0.017320754242501117, 0.0012995831429764928, 0.9760212321625781, 0.0008781515093080806, 0.009698676582806303, 0.00034670220130717395, 0.0025993156251869804, 0.019293948492705073, 0.025091467826449894, 0.9181512036078077, 0.02481868481658449, 0.008093740389862856, 0.0007930555605093013, 0.1150235530037067, 0.00690757123683408, 0.0033223795575273427, 0.8035414381468429, 0.06231826497456808, 0.09112008106609441, 0.15909317720448007, 0.08803600555524083, 0.0018364558876741777, 0.09403379349749383, 0.48619169446044413, 0.07968879086730893, 0.14674732233902008, 0.4192505475794658, 0.0287900896884121, 0.03712259487589704, 0.1116016947774949, 0.22330086875041338, 0.03318688219371127, 0.012305525761942927, 0.6647308380357786, 0.04788932252824646, 0.07548459401000307, 0.06343396325523318, 0.10725788637719282, 0.0288978683518602, 0.014898766490541471, 0.23608851010350182, 0.019212893168509992, 0.021759819692512672, 0.009628837888703189, 0.6899486138689122, 0.008462563369748793, 0.0017405056260037853, 0.001544347306220428, 0.0013913488437278625, 0.001268224758328424, 0.9919977219300006, 0.0011399301076628675, 0.0009178830548456824, 0.0019712381909418922, 0.0017454626068063666, 0.991253996660777, 0.0014373324588455437, 0.001428249533046988, 0.001126850481883309, 0.0010368727481913672, 0.998582386104997, 0.0001552739658266394, 0.00013989565939785082, 0.0008024696308890989, 0.00012728617011246147, 0.00010046799207033227, 9.22192995375196e-05, 0.0190016602213338, 0.11421366167466472, 0.027914059169304672, 0.12045316662868177, 0.007023918379272458, 0.6544932540381394, 0.0569002805632397, 0.01321205916404955, 0.04869538507069535, 0.0060086455088199245, 0.09725535294636545, 0.003835276719000266, 0.8103536497192134, 0.020639624337605827, 0.0020084008460720683, 0.001781326069399727, 0.001604013167214196, 0.0019478337725494367, 0.9904513247533266, 0.0011494496215692903, 0.0010576261293798184, 0.000515421570896122, 0.000457071959096561, 0.9977111800063388, 0.0003753718742325855, 0.0003743515531519375, 0.0002950641025099111, 0.0002715329475874652, 0.007138666157383109, 0.000143254925648482, 0.00012911130814619268, 0.00011822545275347448, 0.9922931198180633, 9.252977083810475e-05, 8.50948781708627e-05, 0.0004091586121093837, 0.04431680998486237, 0.00032199845147269017, 0.0002996000757473769, 0.8837845455081116, 0.07065571359765146, 0.00021217415759373486, 0.001643256199070105, 0.0014559709590047068, 0.9927018100727223, 0.0011965201429733896, 0.0011954708311277312, 0.0009410296329402021, 0.000865919214052597, 0.8842100206473635, 0.0028058183876234744, 0.10676140110324489, 0.00026619944177566916, 0.00015827419351716044, 0.005683492612279927, 0.00011479325943706868, 0.045353595188249315, 0.01214432862707246, 0.09161489733633593, 0.12665683507556047, 0.14683500375307193, 0.5385841299538875, 0.038811207140189034, 0.12910727366090757, 0.023739106926127438, 0.00018333468175783747, 0.8336228074143455, 0.00016663520746859853, 0.013060006000975847, 0.00012084174822785262, 0.03841681016248736, 0.0005746965116545198, 0.0005172962908561652, 0.9593091812607152, 0.0004700702892363047, 0.0003708916802364958, 0.0003410366223846417, 0.000715563574818927, 0.12319745981515651, 0.0005713688110569275, 0.00262776138716275, 0.0612728068123662, 0.81123894703051, 0.0003761001678792281, 0.0037793286990951695, 0.13323682345372384, 0.004564284397920377, 0.009069455171070846, 0.034270470048576314, 0.8149782271787586, 0.00010141180907999473, 0.9916866315256726, 0.001614356377635517, 0.0006331059151099107, 0.0005774694336902205, 0.004616570174783995, 0.0004544027128986918, 0.00041748596363019505, 0.00385665976741221, 0.9832175037576557, 0.0030787171690329074, 0.002806902070569462, 0.002800625136112107, 0.0022061438245939845, 0.002033488399583442, 0.19488107941958702, 0.619991703159763, 0.08754315374565581, 0.004732946913243803, 0.030457357098754367, 0.02258145990347504, 0.03981229840663835, 0.0008182253045123275, 0.0007262500568101539, 0.0006541043349887241, 0.000595746462226501, 0.0005941769763482804, 0.00046861810609063423, 0.9961428649627172, 0.0003090103401307731, 0.0002743585493693472, 0.00024699918845175336, 0.0002250135323928575, 0.00022440795473974208, 0.00017704540776450394, 0.9985431691140896, 0.0007911781186603118, 0.0007018241807984939, 0.9964794399287891, 0.0005764838624827385, 0.0005809719598182635, 0.00045313462734856134, 0.0004169687230012027, 0.0008677066570419585, 0.00013485401643350574, 0.9153921435517078, 0.00011051419071137323, 0.00012894416666284407, 0.08328594311180536, 7.989554047099277e-05, 0.00747686407210205, 0.02337197127405463, 0.014558562023464052, 0.03305022883094897, 0.00902450353291177, 0.8647196152497028, 0.04779825341725826, 0.0007627971597919777, 0.00914793597785823, 0.009568456672073105, 0.1411805645980828, 0.010671621107889953, 0.784933540094695, 0.04373508509778731, 0.0007118268293446553, 0.0006325132583104576, 0.0005691181527908925, 0.10860676061701849, 0.001321966207553901, 0.8686187557316736, 0.019539058142499604, 0.0013919349642274158, 0.001234911607804979, 0.0011128014716073884, 0.0010138902514802545, 0.0010110765215608178, 0.9933311021702356, 0.0009043270538009678, 0.15155679773710223, 0.318996410170818, 0.09883069232742263, 0.19326686695827425, 0.055694775120576225, 0.15831053801180953, 0.023343919661254337, 0.14544219910003686, 0.1257994246175675, 0.07472757801468911, 0.46307086236337924, 0.12450528545924457, 0.048601388148135805, 0.017853263762095298, 0.001952018152798761, 0.0017275083479670477, 0.00155738864435955, 0.0014192442144407341, 0.9912024329841157, 0.001115398774514615, 0.001026020653965221, 0.00043675742682205884, 0.19480757974353458, 0.13360525152149483, 0.021728099646727617, 0.0017473636643748655, 0.0002322003623339342, 0.6474427374326811, 0.8897952956224054, 0.00031881152837131356, 0.00028721652455978636, 0.10894241980602742, 0.00026099608146232706, 0.00020591610062712127, 0.00018934762725340864, 0.0010037424438821025, 0.0008878473882897663, 0.0007999504968490795, 0.9954808174579294, 0.0007269611824861882, 0.0005732603462436528, 0.0005274019962578023, 0.001199751291491905, 0.001063424352139852, 0.0009590389878701042, 0.0008749418432498451, 0.9945833301527266, 0.0006873995201484729, 0.0006321264924692558, 0.043627918992577695, 0.4149866461369929, 0.08175694551451361, 0.21076601445021728, 0.05007707429503141, 0.12582124233753814, 0.07296415770807238, 0.0015135517617441878, 0.0013419218459230287, 0.0012094306670430834, 0.00110808817992337, 0.9931627720515581, 0.0008668886910224939, 0.0007973503290567651, 0.0008234733100726319, 0.0007315630303367518, 0.0006585884420098716, 0.0014018355581667057, 0.9634020577154006, 0.032548381644759296, 0.0004340773743623599, 0.9952896368647977, 0.0009838579008532914, 0.0008876310896628605, 0.0008092851111014391, 0.000806171419376029, 0.0006383296985011662, 0.0005850764120798143, 0.9952105002264404, 0.0010594902323555796, 0.0008881209612608109, 0.0008127734300419888, 0.0008074388889377695, 0.0006367793636551502, 0.0005848763392634548, 0.0004845772258385318, 0.006604944844488921, 0.9751207800464463, 0.000352917527638454, 0.012732605798978289, 0.004046192860400007, 0.0006579887739990075, 0.9927717545928704, 0.0008578888432003708, 0.0007534726934192955, 0.003894864357013544, 0.0006847241202257584, 0.0005405368722322974, 0.0004967789402137802, 0.18908838755264415, 0.1097998096253384, 0.09071068381838832, 0.40426343183328456, 0.037069468753079704, 0.11050584987993704, 0.05856236734616239, 0.34061553792728205, 0.06610925333526745, 0.24086617702185187, 0.03679716784264482, 0.20430170668687483, 0.04148351075856797, 0.06982664667253166, 0.0015881602670240586, 0.0013792442475716881, 0.0011878630723051952, 0.9931288179179832, 0.001079772406921621, 0.0008510837047771332, 0.0007850827965040659, 0.00026521142692126007, 0.7587568639468407, 0.009120607781640698, 0.005937861391283956, 0.005328795251348853, 0.20414790050013415, 0.016442759690282086, 0.0015975669107967155, 0.0014165200884831961, 0.9929051787923181, 0.0011635947788537927, 0.0011604982720674988, 0.0009147871644189288, 0.0008418545471332425, 0.00021589131941245312, 0.9483704106898464, 0.00014593882409597296, 0.0006920507185667009, 0.0001226856497907706, 0.04800940719486919, 0.0024436129581911457, 0.0016811455925587536, 0.029268175139915996, 0.00030810286940201727, 0.9319821648120511, 0.00034739863834602714, 0.035673100783146415, 0.000739913469452283, 0.016712000436694102, 0.7978356338266738, 0.02383031505031698, 0.002006003317778895, 0.004063611817287855, 0.11948612998989643, 0.036066309415452816, 0.00288312493523418, 0.00375928186615217, 0.00031592596639408807, 0.00030130678138258417, 0.00036188594602891633, 0.9921657867477394, 0.00021268713979947119, 0.001842881262813319, 0.0016341069828029716, 0.001472398083602817, 0.008830209977089765, 0.0013380015401754863, 0.9839110925508038, 0.0009713170196260166, 0.0002705554442974546, 0.00023986199205822386, 0.00021622117090977437, 0.00019707193839113416, 0.00019648049939143257, 0.0001549458586954076, 0.9987248630825312, 0.0015685207017424858, 0.001391299157510615, 0.9930326699243046, 0.0011424252212171367, 0.0011393183424285576, 0.0008983410563893848, 0.0008274330207042078, 0.9962986573477138, 0.0007745359203165651, 0.0006977429708645822, 0.000635494958861545, 0.0006338028498018904, 0.0004999642236472977, 0.0004597856340606062, 0.9583008087803584, 0.0004902965337444567, 0.0004342341950580412, 0.0356563969908089, 0.00039472988096869114, 0.004437595343431368, 0.0002859279963697307, 0.8219064405748372, 0.0014275534288791282, 5.247163090664618e-05, 0.162750287647675, 0.007717327568954893, 0.00611137978229111, 3.453748489498664e-05, 0.964228699138143, 0.0007754452531028295, 0.0026324031609015032, 0.00014867047364957125, 0.03206896602050843, 8.076552374028197e-05, 6.505383298713732e-05, 0.0011207036206847315, 0.0009921948003534034, 0.0008918576523388034, 0.9945307954219065, 0.0008101942985455776, 0.0006401753814536828, 0.0010140882142681178, 0.9964918972978023, 0.002860348411979089, 5.698275645022385e-05, 0.0004606256707899968, 5.175496715302212e-05, 4.0844031806122864e-05, 3.75478364751533e-05, 0.9963577540318388, 0.0007626714901392207, 0.0006864114120643877, 0.0006255836585512906, 0.0006236745049972614, 0.0004915716854670742, 0.0004523456508708631, 0.001072330457483976, 0.0009486076582347909, 0.0008554459570701645, 0.0007805547174319025, 0.0007768256014923427, 0.9950026487960454, 0.0005636260854685104, 0.0010820982265938963, 0.0009589760489803342, 0.0009442931834270701, 0.9897210113863217, 0.0008019874743395164, 0.0006191534914410564, 0.0058725000860992, 0.0003226223973306556, 0.9388986996862236, 0.0012077718626537577, 0.0002348465597742857, 0.006417320330265586, 0.0007638744439651192, 0.052154859320741265, 0.9765763683673916, 0.0004371590980053411, 0.015893631605401654, 0.0012853399088579365, 0.0002421244846344363, 0.0053897540708410996, 0.00017562042844134325, 0.022105471962017093, 0.934717836926367, 0.00016178867269280053, 0.039464503459513134, 0.0008041271122687951, 0.0026400239407122768, 0.00010625231408323603, 0.0010446745832246567, 0.8816994887354158, 0.00018907483764138379, 0.001353570244216125, 0.0008677904360641245, 0.10451857947484908, 0.010326822893020894, 0.0009333917948950143, 0.0008280467464471182, 0.0007461587855695216, 0.0006797548135314328, 0.0006779252377357198, 0.0005346983409702714, 0.9956000296488333, 0.00012733209886179505, 0.9291523551122066, 0.00010692428206657903, 0.0008055128478262662, 0.0003655830787649739, 0.0690017963752079, 0.00044049818084983825, 0.0001504491675243234, 0.9805510597956584, 0.00012030412445400428, 0.0006922349009692315, 0.00010928702465096142, 0.017701994953044416, 0.0006746670931751902, 0.00123148928087603, 0.0010895336353556832, 0.0009831555285360297, 0.0008948573951201451, 0.0008916921336699056, 0.9941122962838129, 0.000796962188987134, 0.004439382405336907, 0.003928847943037679, 0.003545307099673557, 0.0032380172845253292, 0.003221103087618926, 0.9792919553767349, 0.0023353477382716988, 0.00021874344707883478, 0.9717384722386002, 0.0007808292700727174, 0.0001592635850624884, 0.00020714498667958817, 0.02222543141141839, 0.004670118051265718, 0.001516820515819288, 0.9856582123384338, 0.0012128870849029937, 0.001104589684961432, 0.0011020245819010023, 0.0008690381478268399, 0.00853641273115333, 0.00019304457192425656, 0.8987532228570324, 0.00016165378705261345, 0.00020739089285000116, 0.002335175131389605, 0.09814338043111764, 0.00020613335126538665, 8.610633476787787e-05, 0.48185300902367956, 6.982428711883689e-05, 0.0002675107974596056, 0.00023099722823554457, 0.5174425751471956, 4.99740573687317e-05, 0.22609059500637457, 0.03721491063602615, 0.03146450607417768, 0.008595704954947355, 0.11160034015810445, 0.5294072669030788, 0.05562667671415871, 0.3394901635403014, 0.13693298527381292, 0.06147615316647654, 0.06492382555422958, 0.10465968074860259, 0.26610600215373315, 0.02641118822940991, 0.546901486057201, 0.10418385908558322, 0.2571311000251038, 0.002096452280436701, 0.015841818167724935, 3.24406533765917e-05, 0.07381284447481856, 0.975679222122434, 0.019369453657777064, 0.0005746451147665185, 0.00306474433293452, 0.0005216831819248025, 0.0004118652742124718, 0.0003783883577587062, 0.08744274049679926, 0.00035070442848250113, 0.00016901897092817656, 0.014336752107489846, 0.8772662488824472, 0.02032416404696343, 0.00011037382906256987, 0.0036636971522650977, 0.003245197773775227, 0.0029585863679771037, 0.0026620268408102314, 0.0027123703641005674, 0.9828322624456911, 0.001925865859522809, 0.0002950359479581582, 0.00026284744393790605, 0.9756431836065081, 0.010932506424479033, 0.00021436096319853897, 0.012496668252088516, 0.00015539634294908412, 0.9841621719749809, 8.504259561094437e-05, 7.658772199387487e-05, 0.01550118899478835, 6.959467231994356e-05, 5.492309606901478e-05, 5.049218917109728e-05, 0.10279134051921328, 0.0009703807841805633, 0.0006064724604706727, 0.7674691261673008, 0.1276140181936394, 0.0002698430625090313, 0.00027882363272933977, 0.0016665272885764868, 0.0014740417921306193, 0.0013296348037939816, 0.9924930789280684, 0.0012079982358457377, 0.0009524139841067302, 0.0008762496713316952, 0.9952919438335651, 0.0009846572879654814, 0.0008872172438438974, 0.0008085279976864997, 0.0008066964179097782, 0.000636153445949797, 0.0005848005279599677, 0.004781481484986924, 0.004243524220163044, 0.0038154023573778494, 0.0034799910221199313, 0.00348441986897633, 0.9776802459023625, 0.0025148960827011684, 0.0002938647268869218, 0.7033695666587678, 0.00962234572614175, 6.319417567704585e-05, 0.23808496229573406, 0.012534835659524304, 0.03603123039245119, 0.00035055492841321723, 0.00031112066281987485, 0.0002806247343388323, 0.00025529944585398265, 0.00025473537603621613, 0.00020100411006179213, 0.99834666424842, 0.011380701241885912, 0.0009325224710101604, 0.0008410059567542076, 0.9820099935490761, 0.0036783433485971977, 0.0006027766237692945, 0.0005546751273004828, 0.0009887841847870571, 0.0008781856198776533, 0.995606814003475, 0.0007201032413992592, 0.0007184932751881218, 0.0005663820372143262, 0.0005212418453450928, 0.0002865060179972662, 0.0002540626774006532, 0.9664292915848065, 0.03250673216575323, 0.00020822833319895364, 0.00016416093960533923, 0.0001510240459539238, 0.11971479804118217, 0.19688383896506084, 0.06262158654824099, 0.05553885273838452, 0.07416636999853889, 0.4620207228130545, 0.029053829738765108, 0.20882553719032212, 0.00949420503961243, 0.49008982299141784, 0.002217215684155847, 0.035133332077441945, 5.520461773029458e-05, 0.2541846818047379, 0.001594620920430878, 0.0014137743926898312, 0.0012758612320039175, 0.9928041091417094, 0.0011582468356651431, 0.0009130496060391614, 0.000840342524666101, 0.4583873085772489, 0.042796025186726615, 0.25402791838258176, 0.09191076998680554, 0.07508634032371016, 0.017651874527452368, 0.06013976267215475, 4.731653202745095e-05, 3.2839074271349936e-05, 0.3690065270332106, 0.2891956180760474, 0.32227948821003455, 0.0013389427814965319, 0.018099268680977314, 0.08935889327911316, 0.0012686452153722492, 0.5435483599297223, 0.02151518188956579, 0.3362171743306766, 0.00434258766875818, 0.0037491582327215094, 0.00027888393664021526, 0.0002473396231831889, 0.8083012014860036, 0.17217880060116722, 0.015587572173414431, 0.0004185415679967201, 0.0029876576819031298, 0.009064761669721966, 0.0012869320820593677, 0.001159890090694342, 0.9858393617959602, 0.0010535780498864067, 0.0008304842962720057, 0.0007649441495612048, 0.0001345473285267112, 0.00010479424395562912, 0.33210561930915405, 0.5423518930780148, 0.08738980677401262, 6.769477885312875e-05, 0.03784564364275269, 0.9966641709433727, 0.0006971955193319374, 0.000628981032630762, 0.0005728330171862853, 0.0005713084899038529, 0.00045117898372325227, 0.0004143308349393553, 0.00305067318136086, 0.985466493991883, 0.0024387134904778687, 0.002221594924707988, 0.0034635760538293202, 0.0017507937680342265, 0.0016081877767198643, 0.0013525362500170586, 0.0011998296441471015, 0.0010822299297582126, 0.000985141793460409, 0.0009823790094726302, 0.0007754492794788925, 0.9936224240265313, 0.19778032493798273, 0.008423638425352981, 0.42471229829131724, 0.005119118967118569, 0.27789628935372446, 0.000844643329799116, 0.08522368673254424, 0.26391019133828286, 0.07400714706074804, 0.33609631486527625, 5.252956362848373e-05, 0.2397966617725116, 0.001249321879944439, 0.08488783305705715, 0.1670703533520489, 0.0007413440675473039, 0.5556085462529702, 0.0035911528201735886, 0.1724171188846021, 6.386312782916503e-05, 0.10050762109940391, 0.0018825131948591411, 0.0016698623790249042, 0.9916374403137015, 0.0013710248672388551, 0.0013672185147362514, 0.0010789067328298512, 0.0009930307595313126, 2.102036405223661e-05, 1.8668483722616343e-05, 0.9999065812372722, 1.5313238517859405e-05, 1.5267709861036002e-05, 1.2056421933092104e-05, 1.1092948833457841e-05, 0.00021744553956323622, 0.0001930272174703397, 0.9990331866600348, 0.00015842076209194472, 0.00015792728139559737, 0.0001247205167195694, 0.00011527260447859201, 0.3848974772342263, 0.0005727257754603874, 0.012485368815913396, 0.0017559622456846207, 0.6000121705777108, 0.00012852149874812297, 0.00014777262598711843, 0.3264690924391313, 0.41054805483895984, 0.07366596985575591, 0.0387507593662098, 0.05560257498953304, 0.044767000349219384, 0.05019654810752635, 0.001252517021946375, 0.001111384339456967, 0.0010023754299641411, 0.0009123616718409754, 0.0009099323599651277, 0.0007177324405961978, 0.9940936990294293, 0.04252154130190074, 0.0006675542926679735, 0.0006022488884067391, 0.9548346890409587, 0.0005465896397974847, 0.0004306031476412813, 0.00039677956970403307, 0.998899381341429, 0.00023147574140915613, 0.00020708766073308527, 0.0001887097861381929, 0.00018831979054359198, 0.00014849750065105483, 0.00013652517013734732, 0.0028372651007009335, 0.9876535607367968, 0.0022663027854454704, 0.002064927734080529, 0.0020590204206364805, 0.0016247451501210312, 0.0014941408835808295, 0.0018350962890371452, 0.99159336175987, 0.0014673577567688248, 0.0013364498048866083, 0.0013338755594476288, 0.0014664491995550674, 0.0009674241498987983, 0.0004919174796512288, 0.9978595107256854, 0.0003929092879709569, 0.00035805410464563744, 0.00035699942350922974, 0.00028147816944357526, 0.0002591371834483239, 0.0007044491160118719, 0.996933721580692, 0.0005630159336909766, 0.0005129804041672823, 0.000511440402387517, 0.0004032915981556994, 0.000371096843967399, 0.8206963395030806, 0.01588457170079942, 0.00010640303045091825, 0.06890154859952355, 0.0931016505647998, 0.0007921809683397299, 0.0005173054089353236, 0.762028975125516, 0.0012855356586828773, 6.153056320793563e-05, 0.23505898263036307, 0.001435516803412139, 8.89062341077817e-05, 4.055466783423232e-05, 0.42693757388670056, 0.09396608251194698, 0.2322087149719314, 0.005930055808687414, 0.13173196378637467, 0.0018371429838978963, 0.10738846626173139, 0.0017364850542683282, 0.001540680468262538, 0.9921309831403037, 0.0014190996477532712, 0.0012618398357215443, 0.0009954295345643797, 0.0009155100264452948, 0.40345202735790275, 0.07335442892558812, 0.2366638165533562, 0.0250256450318028, 0.16235313014465286, 0.007967949060724573, 0.09118300312115214, 0.0012864960902836434, 0.0011411104075965577, 0.9942852527193327, 0.0009369653416547788, 0.0009343644294781935, 0.0007370401230199088, 0.0006787584583282622, 0.2841081392841533, 0.3537984038410273, 0.10255856473885709, 0.05419643699418787, 0.0707109752506282, 0.07632527597010065, 0.05830220332636728, 0.03329231731980381, 0.0007049638049594091, 0.00037734799045191123, 0.9245411156398904, 0.00034277664014248816, 0.04049284399707751, 0.0002486219808750242, 0.24645877126542468, 0.2192428703214011, 0.16761804363113095, 0.15366796249245496, 0.05560711100261293, 0.04722534448637611, 0.11017989654823453, 0.00015268162462793653, 0.0001837556850675137, 0.2187754963293638, 0.0031980497394101842, 0.20359957376755888, 0.00016788493140227473, 0.5739225639305057, 0.9922065156138787, 0.0016290751511233896, 0.0014691210432179328, 0.0013384356177734884, 0.0013350234656731115, 0.001053293440585306, 0.0009685204172914919, 0.21832305400057034, 0.0002597094074694701, 0.00023378070570607995, 0.7806493145818377, 0.00021241381416682825, 0.0001675922184725154, 0.00015413005099890046, 0.00224458001793173, 0.001987575860109278, 0.001794221832740337, 0.004270244264020451, 0.0017935746999688416, 0.9866564806889907, 0.0012533112833089833, 0.01134760947616068, 0.0009011076301228697, 0.000713859218184529, 0.003756138865574667, 0.0007291954278941931, 0.9786517500050038, 0.0039003273194268702, 0.003677921732907152, 0.9839599725724514, 0.002938560958988166, 0.0026786851259399235, 0.0026704194516468807, 0.0021063061391152563, 0.001968064632360968, 0.11740189749823346, 0.056955645944396775, 0.6644170300051205, 0.05021637812715073, 9.031198124903153e-05, 8.3847774622714e-05, 0.11083488880325194, 0.0010970896418901457, 0.0009740466866742392, 0.995125775723963, 0.0007989984507729999, 0.0007969843211032894, 0.0006289289623699212, 0.0005781683685591287, 0.0015419478466703925, 0.0013631042122876453, 0.0012296530069081052, 0.0011193734953842524, 0.9930557482609145, 0.0008803024761508813, 0.0008098364358756514, 0.002174083477516663, 0.00017767270689199633, 0.32733256975971553, 0.00012097815823755002, 0.00012017320615702726, 9.478310748155509e-05, 0.6699797416841612, 0.000773722450406003, 0.0006850375418607021, 0.0006173049607924171, 0.9965137268009995, 0.0005609487765443522, 0.00044229327637603454, 0.0004069690862493849, 0.2669601838756363, 0.07683631574255705, 0.09015694012070448, 0.022035605945317525, 0.1288258286222217, 0.34217015513188953, 0.07301497051945474, 0.31185823987912487, 0.19224508800793624, 0.14723035087606173, 0.07150617879243176, 0.1277528724574661, 0.08761404217238636, 0.06179322783846016], \"Term\": [\"00\", \"00\", \"00\", \"00\", \"00\", \"00\", \"00\", \"10\", \"10\", \"10\", \"10\", \"10\", \"10\", \"10\", \"12\", \"12\", \"12\", \"12\", \"12\", \"12\", \"12\", \"16\", \"16\", \"16\", \"16\", \"16\", \"16\", \"16\", \"2013\", \"2013\", \"2013\", \"2013\", \"2013\", \"2013\", \"2013\", \"32\", \"32\", \"32\", \"32\", \"32\", \"32\", \"32\", \"38\", \"38\", \"38\", \"38\", \"38\", \"38\", \"38\", \"39\", \"39\", \"39\", \"39\", \"39\", \"39\", \"39\", \"44\", \"44\", \"44\", \"44\", \"44\", \"44\", \"44\", \"49\", \"49\", \"49\", \"49\", \"49\", \"49\", \"49\", \"50\", \"50\", \"50\", \"50\", \"50\", \"50\", \"50\", \"79\", \"79\", \"79\", \"79\", \"79\", \"79\", \"79\", \"89\", \"89\", \"89\", \"89\", \"89\", \"89\", \"89\", \"98\", \"98\", \"98\", \"98\", \"98\", \"98\", \"98\", \"99\", \"99\", \"99\", \"99\", \"99\", \"99\", \"99\", \"acai\", \"acai\", \"acai\", \"acai\", \"acai\", \"acai\", \"acai\", \"ad\", \"ad\", \"ad\", \"ad\", \"ad\", \"ad\", \"ad\", \"aerogarden\", \"aerogarden\", \"aerogarden\", \"aerogarden\", \"aerogarden\", \"aerogarden\", \"aerogarden\", \"aftertaste\", \"aftertaste\", \"aftertaste\", \"aftertaste\", \"aftertaste\", \"aftertaste\", \"aftertaste\", \"agave\", \"agave\", \"agave\", \"agave\", \"agave\", \"agave\", \"agave\", \"ahoy\", \"ahoy\", \"ahoy\", \"ahoy\", \"ahoy\", \"ahoy\", \"ahoy\", \"ale\", \"ale\", \"ale\", \"ale\", \"ale\", \"ale\", \"ale\", \"almond\", \"almond\", \"almond\", \"almond\", \"almond\", \"almond\", \"almond\", \"almonds\", \"almonds\", \"almonds\", \"almonds\", \"almonds\", \"almonds\", \"almonds\", \"also\", \"also\", \"also\", \"also\", \"also\", \"also\", \"also\", \"amazon\", \"amazon\", \"amazon\", \"amazon\", \"amazon\", \"amazon\", \"amazon\", \"apricots\", \"apricots\", \"apricots\", \"apricots\", \"apricots\", \"apricots\", \"apricots\", \"arrive\", \"arrive\", \"arrive\", \"arrive\", \"arrive\", \"arrive\", \"arrive\", \"arrived\", \"arrived\", \"arrived\", \"arrived\", \"arrived\", \"arrived\", \"arrived\", \"arsenic\", \"arsenic\", \"arsenic\", \"arsenic\", \"arsenic\", \"arsenic\", \"arsenic\", \"article\", \"article\", \"article\", \"article\", \"article\", \"article\", \"article\", \"artificial\", \"artificial\", \"artificial\", \"artificial\", \"artificial\", \"artificial\", \"artificial\", \"away\", \"away\", \"away\", \"away\", \"away\", \"away\", \"away\", \"back\", \"back\", \"back\", \"back\", \"back\", \"back\", \"back\", \"bacon\", \"bacon\", \"bacon\", \"bacon\", \"bacon\", \"bacon\", \"bacon\", \"bad\", \"bad\", \"bad\", \"bad\", \"bad\", \"bad\", \"bad\", \"bag\", \"bag\", \"bag\", \"bag\", \"bag\", \"bag\", \"bag\", \"bags\", \"bags\", \"bags\", \"bags\", \"bags\", \"bags\", \"bags\", \"bar\", \"bar\", \"bar\", \"bar\", \"bar\", \"bar\", \"bar\", \"bars\", \"bars\", \"bars\", \"bars\", \"bars\", \"bars\", \"bars\", \"basket\", \"basket\", \"basket\", \"basket\", \"basket\", \"basket\", \"basket\", \"bbq\", \"bbq\", \"bbq\", \"bbq\", \"bbq\", \"bbq\", \"bbq\", \"bean\", \"bean\", \"bean\", \"bean\", \"bean\", \"bean\", \"bean\", \"beans\", \"beans\", \"beans\", \"beans\", \"beans\", \"beans\", \"beans\", \"bears\", \"bears\", \"bears\", \"bears\", \"bears\", \"bears\", \"bears\", \"beef\", \"beef\", \"beef\", \"beef\", \"beef\", \"beef\", \"beef\", \"bell\", \"bell\", \"bell\", \"bell\", \"bell\", \"bell\", \"bell\", \"beneful\", \"beneful\", \"beneful\", \"beneful\", \"beneful\", \"beneful\", \"beneful\", \"better\", \"better\", \"better\", \"better\", \"better\", \"better\", \"better\", \"bigelow\", \"bigelow\", \"bigelow\", \"bigelow\", \"bigelow\", \"bigelow\", \"bigelow\", \"bitter\", \"bitter\", \"bitter\", \"bitter\", \"bitter\", \"bitter\", \"bitter\", \"blend\", \"blend\", \"blend\", \"blend\", \"blend\", \"blend\", \"blend\", \"blood\", \"blood\", \"blood\", \"blood\", \"blood\", \"blood\", \"blood\", \"bold\", \"bold\", \"bold\", \"bold\", \"bold\", \"bold\", \"bold\", \"bone\", \"bone\", \"bone\", \"bone\", \"bone\", \"bone\", \"bone\", \"bones\", \"bones\", \"bones\", \"bones\", \"bones\", \"bones\", \"bones\", \"bottle\", \"bottle\", \"bottle\", \"bottle\", \"bottle\", \"bottle\", \"bottle\", \"bought\", \"bought\", \"bought\", \"bought\", \"bought\", \"bought\", \"bought\", \"box\", \"box\", \"box\", \"box\", \"box\", \"box\", \"box\", \"bpa\", \"bpa\", \"bpa\", \"bpa\", \"bpa\", \"bpa\", \"bpa\", \"bread\", \"bread\", \"bread\", \"bread\", \"bread\", \"bread\", \"bread\", \"brew\", \"brew\", \"brew\", \"brew\", \"brew\", \"brew\", \"brew\", \"brewed\", \"brewed\", \"brewed\", \"brewed\", \"brewed\", \"brewed\", \"brewed\", \"brewer\", \"brewer\", \"brewer\", \"brewer\", \"brewer\", \"brewer\", \"brewer\", \"brewing\", \"brewing\", \"brewing\", \"brewing\", \"brewing\", \"brewing\", \"brewing\", \"broccoli\", \"broccoli\", \"broccoli\", \"broccoli\", \"broccoli\", \"broccoli\", \"broccoli\", \"broken\", \"broken\", \"broken\", \"broken\", \"broken\", \"broken\", \"broken\", \"brownie\", \"brownie\", \"brownie\", \"brownie\", \"brownie\", \"brownie\", \"brownie\", \"brownies\", \"brownies\", \"brownies\", \"brownies\", \"brownies\", \"brownies\", \"brownies\", \"bugs\", \"bugs\", \"bugs\", \"bugs\", \"bugs\", \"bugs\", \"bugs\", \"bulbs\", \"bulbs\", \"bulbs\", \"bulbs\", \"bulbs\", \"bulbs\", \"bulbs\", \"butter\", \"butter\", \"butter\", \"butter\", \"butter\", \"butter\", \"butter\", \"buy\", \"buy\", \"buy\", \"buy\", \"buy\", \"buy\", \"buy\", \"cafe\", \"cafe\", \"cafe\", \"cafe\", \"cafe\", \"cafe\", \"cafe\", \"caffeine\", \"caffeine\", \"caffeine\", \"caffeine\", \"caffeine\", \"caffeine\", \"caffeine\", \"cake\", \"cake\", \"cake\", \"cake\", \"cake\", \"cake\", \"cake\", \"cakes\", \"cakes\", \"cakes\", \"cakes\", \"cakes\", \"cakes\", \"cakes\", \"calories\", \"calories\", \"calories\", \"calories\", \"calories\", \"calories\", \"calories\", \"campbell\", \"campbell\", \"campbell\", \"campbell\", \"campbell\", \"campbell\", \"campbell\", \"cancelled\", \"cancelled\", \"cancelled\", \"cancelled\", \"cancelled\", \"cancelled\", \"cancelled\", \"cancer\", \"cancer\", \"cancer\", \"cancer\", \"cancer\", \"cancer\", \"cancer\", \"candy\", \"candy\", \"candy\", \"candy\", \"candy\", \"candy\", \"candy\", \"canidae\", \"canidae\", \"canidae\", \"canidae\", \"canidae\", \"canidae\", \"canidae\", \"canola\", \"canola\", \"canola\", \"canola\", \"canola\", \"canola\", \"canola\", \"cans\", \"cans\", \"cans\", \"cans\", \"cans\", \"cans\", \"cans\", \"cappuccino\", \"cappuccino\", \"cappuccino\", \"cappuccino\", \"cappuccino\", \"cappuccino\", \"cappuccino\", \"carbonated\", \"carbonated\", \"carbonated\", \"carbonated\", \"carbonated\", \"carbonated\", \"carbonated\", \"carbonation\", \"carbonation\", \"carbonation\", \"carbonation\", \"carbonation\", \"carbonation\", \"carbonation\", \"cat\", \"cat\", \"cat\", \"cat\", \"cat\", \"cat\", \"cat\", \"catnip\", \"catnip\", \"catnip\", \"catnip\", \"catnip\", \"catnip\", \"catnip\", \"cats\", \"cats\", \"cats\", \"cats\", \"cats\", \"cats\", \"cats\", \"caviar\", \"caviar\", \"caviar\", \"caviar\", \"caviar\", \"caviar\", \"caviar\", \"cent\", \"cent\", \"cent\", \"cent\", \"cent\", \"cent\", \"cent\", \"cents\", \"cents\", \"cents\", \"cents\", \"cents\", \"cents\", \"cents\", \"cereal\", \"cereal\", \"cereal\", \"cereal\", \"cereal\", \"cereal\", \"cereal\", \"chai\", \"chai\", \"chai\", \"chai\", \"chai\", \"chai\", \"chai\", \"charging\", \"charging\", \"charging\", \"charging\", \"charging\", \"charging\", \"charging\", \"cheaper\", \"cheaper\", \"cheaper\", \"cheaper\", \"cheaper\", \"cheaper\", \"cheaper\", \"cheese\", \"cheese\", \"cheese\", \"cheese\", \"cheese\", \"cheese\", \"cheese\", \"cherry\", \"cherry\", \"cherry\", \"cherry\", \"cherry\", \"cherry\", \"cherry\", \"chew\", \"chew\", \"chew\", \"chew\", \"chew\", \"chew\", \"chew\", \"chewed\", \"chewed\", \"chewed\", \"chewed\", \"chewed\", \"chewed\", \"chewed\", \"chewer\", \"chewer\", \"chewer\", \"chewer\", \"chewer\", \"chewer\", \"chewer\", \"chews\", \"chews\", \"chews\", \"chews\", \"chews\", \"chews\", \"chews\", \"chewy\", \"chewy\", \"chewy\", \"chewy\", \"chewy\", \"chewy\", \"chewy\", \"chicken\", \"chicken\", \"chicken\", \"chicken\", \"chicken\", \"chicken\", \"chicken\", \"chili\", \"chili\", \"chili\", \"chili\", \"chili\", \"chili\", \"chili\", \"china\", \"china\", \"china\", \"china\", \"china\", \"china\", \"china\", \"chip\", \"chip\", \"chip\", \"chip\", \"chip\", \"chip\", \"chip\", \"chipotle\", \"chipotle\", \"chipotle\", \"chipotle\", \"chipotle\", \"chipotle\", \"chipotle\", \"chips\", \"chips\", \"chips\", \"chips\", \"chips\", \"chips\", \"chips\", \"chocolate\", \"chocolate\", \"chocolate\", \"chocolate\", \"chocolate\", \"chocolate\", \"chocolate\", \"choking\", \"choking\", \"choking\", \"choking\", \"choking\", \"choking\", \"choking\", \"chowder\", \"chowder\", \"chowder\", \"chowder\", \"chowder\", \"chowder\", \"chowder\", \"clam\", \"clam\", \"clam\", \"clam\", \"clam\", \"clam\", \"clam\", \"coconut\", \"coconut\", \"coconut\", \"coconut\", \"coconut\", \"coconut\", \"coconut\", \"coffee\", \"coffee\", \"coffee\", \"coffee\", \"coffee\", \"coffee\", \"coffee\", \"coffees\", \"coffees\", \"coffees\", \"coffees\", \"coffees\", \"coffees\", \"coffees\", \"cola\", \"cola\", \"cola\", \"cola\", \"cola\", \"cola\", \"cola\", \"company\", \"company\", \"company\", \"company\", \"company\", \"company\", \"company\", \"conditioner\", \"conditioner\", \"conditioner\", \"conditioner\", \"conditioner\", \"conditioner\", \"conditioner\", \"contact\", \"contact\", \"contact\", \"contact\", \"contact\", \"contact\", \"contact\", \"contacted\", \"contacted\", \"contacted\", \"contacted\", \"contacted\", \"contacted\", \"contacted\", \"contain\", \"contain\", \"contain\", \"contain\", \"contain\", \"contain\", \"contain\", \"contains\", \"contains\", \"contains\", \"contains\", \"contains\", \"contains\", \"contains\", \"cook\", \"cook\", \"cook\", \"cook\", \"cook\", \"cook\", \"cook\", \"cookie\", \"cookie\", \"cookie\", \"cookie\", \"cookie\", \"cookie\", \"cookie\", \"cookies\", \"cookies\", \"cookies\", \"cookies\", \"cookies\", \"cookies\", \"cookies\", \"corn\", \"corn\", \"corn\", \"corn\", \"corn\", \"corn\", \"corn\", \"cost\", \"cost\", \"cost\", \"cost\", \"cost\", \"cost\", \"cost\", \"cracker\", \"cracker\", \"cracker\", \"cracker\", \"cracker\", \"cracker\", \"cracker\", \"crackers\", \"crackers\", \"crackers\", \"crackers\", \"crackers\", \"crackers\", \"crackers\", \"creamer\", \"creamer\", \"creamer\", \"creamer\", \"creamer\", \"creamer\", \"creamer\", \"crema\", \"crema\", \"crema\", \"crema\", \"crema\", \"crema\", \"crema\", \"crumbly\", \"crumbly\", \"crumbly\", \"crumbly\", \"crumbly\", \"crumbly\", \"crumbly\", \"crunch\", \"crunch\", \"crunch\", \"crunch\", \"crunch\", \"crunch\", \"crunch\", \"crunchy\", \"crunchy\", \"crunchy\", \"crunchy\", \"crunchy\", \"crunchy\", \"crunchy\", \"cup\", \"cup\", \"cup\", \"cup\", \"cup\", \"cup\", \"cup\", \"cupcakes\", \"cupcakes\", \"cupcakes\", \"cupcakes\", \"cupcakes\", \"cupcakes\", \"cupcakes\", \"cups\", \"cups\", \"cups\", \"cups\", \"cups\", \"cups\", \"cups\", \"curry\", \"curry\", \"curry\", \"curry\", \"curry\", \"curry\", \"curry\", \"customer\", \"customer\", \"customer\", \"customer\", \"customer\", \"customer\", \"customer\", \"damaged\", \"damaged\", \"damaged\", \"damaged\", \"damaged\", \"damaged\", \"damaged\", \"dandruff\", \"dandruff\", \"dandruff\", \"dandruff\", \"dandruff\", \"dandruff\", \"dandruff\", \"dark\", \"dark\", \"dark\", \"dark\", \"dark\", \"dark\", \"dark\", \"date\", \"date\", \"date\", \"date\", \"date\", \"date\", \"date\", \"decaf\", \"decaf\", \"decaf\", \"decaf\", \"decaf\", \"decaf\", \"decaf\", \"delivery\", \"delivery\", \"delivery\", \"delivery\", \"delivery\", \"delivery\", \"delivery\", \"dented\", \"dented\", \"dented\", \"dented\", \"dented\", \"dented\", \"dented\", \"derived\", \"derived\", \"derived\", \"derived\", \"derived\", \"derived\", \"derived\", \"description\", \"description\", \"description\", \"description\", \"description\", \"description\", \"description\", \"dioxide\", \"dioxide\", \"dioxide\", \"dioxide\", \"dioxide\", \"dioxide\", \"dioxide\", \"disappointed\", \"disappointed\", \"disappointed\", \"disappointed\", \"disappointed\", \"disappointed\", \"disappointed\", \"dog\", \"dog\", \"dog\", \"dog\", \"dog\", \"dog\", \"dog\", \"dogs\", \"dogs\", \"dogs\", \"dogs\", \"dogs\", \"dogs\", \"dogs\", \"dollar\", \"dollar\", \"dollar\", \"dollar\", \"dollar\", \"dollar\", \"dollar\", \"dollars\", \"dollars\", \"dollars\", \"dollars\", \"dollars\", \"dollars\", \"dollars\", \"donut\", \"donut\", \"donut\", \"donut\", \"donut\", \"donut\", \"donut\", \"dressing\", \"dressing\", \"dressing\", \"dressing\", \"dressing\", \"dressing\", \"dressing\", \"drink\", \"drink\", \"drink\", \"drink\", \"drink\", \"drink\", \"drink\", \"drinking\", \"drinking\", \"drinking\", \"drinking\", \"drinking\", \"drinking\", \"drinking\", \"drinks\", \"drinks\", \"drinks\", \"drinks\", \"drinks\", \"drinks\", \"drinks\", \"dry\", \"dry\", \"dry\", \"dry\", \"dry\", \"dry\", \"dry\", \"earl\", \"earl\", \"earl\", \"earl\", \"earl\", \"earl\", \"earl\", \"eat\", \"eat\", \"eat\", \"eat\", \"eat\", \"eat\", \"eat\", \"energy\", \"energy\", \"energy\", \"energy\", \"energy\", \"energy\", \"energy\", \"espresso\", \"espresso\", \"espresso\", \"espresso\", \"espresso\", \"espresso\", \"espresso\", \"even\", \"even\", \"even\", \"even\", \"even\", \"even\", \"even\", \"evo\", \"evo\", \"evo\", \"evo\", \"evo\", \"evo\", \"evo\", \"expensive\", \"expensive\", \"expensive\", \"expensive\", \"expensive\", \"expensive\", \"expensive\", \"expiration\", \"expiration\", \"expiration\", \"expiration\", \"expiration\", \"expiration\", \"expiration\", \"expired\", \"expired\", \"expired\", \"expired\", \"expired\", \"expired\", \"expired\", \"fat\", \"fat\", \"fat\", \"fat\", \"fat\", \"fat\", \"fat\", \"fda\", \"fda\", \"fda\", \"fda\", \"fda\", \"fda\", \"fda\", \"feeding\", \"feeding\", \"feeding\", \"feeding\", \"feeding\", \"feeding\", \"feeding\", \"fig\", \"fig\", \"fig\", \"fig\", \"fig\", \"fig\", \"fig\", \"fillers\", \"fillers\", \"fillers\", \"fillers\", \"fillers\", \"fillers\", \"fillers\", \"filling\", \"filling\", \"filling\", \"filling\", \"filling\", \"filling\", \"filling\", \"filter\", \"filter\", \"filter\", \"filter\", \"filter\", \"filter\", \"filter\", \"first\", \"first\", \"first\", \"first\", \"first\", \"first\", \"first\", \"flavor\", \"flavor\", \"flavor\", \"flavor\", \"flavor\", \"flavor\", \"flavor\", \"flavored\", \"flavored\", \"flavored\", \"flavored\", \"flavored\", \"flavored\", \"flavored\", \"flavors\", \"flavors\", \"flavors\", \"flavors\", \"flavors\", \"flavors\", \"flavors\", \"flies\", \"flies\", \"flies\", \"flies\", \"flies\", \"flies\", \"flies\", \"fly\", \"fly\", \"fly\", \"fly\", \"fly\", \"fly\", \"fly\", \"folgers\", \"folgers\", \"folgers\", \"folgers\", \"folgers\", \"folgers\", \"folgers\", \"food\", \"food\", \"food\", \"food\", \"food\", \"food\", \"food\", \"foods\", \"foods\", \"foods\", \"foods\", \"foods\", \"foods\", \"foods\", \"formula\", \"formula\", \"formula\", \"formula\", \"formula\", \"formula\", \"formula\", \"fortune\", \"fortune\", \"fortune\", \"fortune\", \"fortune\", \"fortune\", \"fortune\", \"free\", \"free\", \"free\", \"free\", \"free\", \"free\", \"free\", \"french\", \"french\", \"french\", \"french\", \"french\", \"french\", \"french\", \"frosting\", \"frosting\", \"frosting\", \"frosting\", \"frosting\", \"frosting\", \"frosting\", \"fructose\", \"fructose\", \"fructose\", \"fructose\", \"fructose\", \"fructose\", \"fructose\", \"fudge\", \"fudge\", \"fudge\", \"fudge\", \"fudge\", \"fudge\", \"fudge\", \"fuel\", \"fuel\", \"fuel\", \"fuel\", \"fuel\", \"fuel\", \"fuel\", \"gave\", \"gave\", \"gave\", \"gave\", \"gave\", \"gave\", \"gave\", \"genetically\", \"genetically\", \"genetically\", \"genetically\", \"genetically\", \"genetically\", \"genetically\", \"get\", \"get\", \"get\", \"get\", \"get\", \"get\", \"get\", \"gf\", \"gf\", \"gf\", \"gf\", \"gf\", \"gf\", \"gf\", \"ginger\", \"ginger\", \"ginger\", \"ginger\", \"ginger\", \"ginger\", \"ginger\", \"give\", \"give\", \"give\", \"give\", \"give\", \"give\", \"give\", \"gloria\", \"gloria\", \"gloria\", \"gloria\", \"gloria\", \"gloria\", \"gloria\", \"gluten\", \"gluten\", \"gluten\", \"gluten\", \"gluten\", \"gluten\", \"gluten\", \"gmo\", \"gmo\", \"gmo\", \"gmo\", \"gmo\", \"gmo\", \"gmo\", \"gmos\", \"gmos\", \"gmos\", \"gmos\", \"gmos\", \"gmos\", \"gmos\", \"good\", \"good\", \"good\", \"good\", \"good\", \"good\", \"good\", \"gooey\", \"gooey\", \"gooey\", \"gooey\", \"gooey\", \"gooey\", \"gooey\", \"got\", \"got\", \"got\", \"got\", \"got\", \"got\", \"got\", \"gouging\", \"gouging\", \"gouging\", \"gouging\", \"gouging\", \"gouging\", \"gouging\", \"graham\", \"graham\", \"graham\", \"graham\", \"graham\", \"graham\", \"graham\", \"granola\", \"granola\", \"granola\", \"granola\", \"granola\", \"granola\", \"granola\", \"grape\", \"grape\", \"grape\", \"grape\", \"grape\", \"grape\", \"grape\", \"gravy\", \"gravy\", \"gravy\", \"gravy\", \"gravy\", \"gravy\", \"gravy\", \"green\", \"green\", \"green\", \"green\", \"green\", \"green\", \"green\", \"grey\", \"grey\", \"grey\", \"grey\", \"grey\", \"grey\", \"grey\", \"grind\", \"grind\", \"grind\", \"grind\", \"grind\", \"grind\", \"grind\", \"grinder\", \"grinder\", \"grinder\", \"grinder\", \"grinder\", \"grinder\", \"grinder\", \"grocery\", \"grocery\", \"grocery\", \"grocery\", \"grocery\", \"grocery\", \"grocery\", \"grounds\", \"grounds\", \"grounds\", \"grounds\", \"grounds\", \"grounds\", \"grounds\", \"gummi\", \"gummi\", \"gummi\", \"gummi\", \"gummi\", \"gummi\", \"gummi\", \"gummy\", \"gummy\", \"gummy\", \"gummy\", \"gummy\", \"gummy\", \"gummy\", \"hair\", \"hair\", \"hair\", \"hair\", \"hair\", \"hair\", \"hair\", \"hard\", \"hard\", \"hard\", \"hard\", \"hard\", \"hard\", \"hard\", \"haribo\", \"haribo\", \"haribo\", \"haribo\", \"haribo\", \"haribo\", \"haribo\", \"harmful\", \"harmful\", \"harmful\", \"harmful\", \"harmful\", \"harmful\", \"harmful\", \"hazelnut\", \"hazelnut\", \"hazelnut\", \"hazelnut\", \"hazelnut\", \"hazelnut\", \"hazelnut\", \"health\", \"health\", \"health\", \"health\", \"health\", \"health\", \"health\", \"hfcs\", \"hfcs\", \"hfcs\", \"hfcs\", \"hfcs\", \"hfcs\", \"hfcs\", \"high\", \"high\", \"high\", \"high\", \"high\", \"high\", \"high\", \"hose\", \"hose\", \"hose\", \"hose\", \"hose\", \"hose\", \"hose\", \"hot\", \"hot\", \"hot\", \"hot\", \"hot\", \"hot\", \"hot\", \"hydrogenated\", \"hydrogenated\", \"hydrogenated\", \"hydrogenated\", \"hydrogenated\", \"hydrogenated\", \"hydrogenated\", \"iams\", \"iams\", \"iams\", \"iams\", \"iams\", \"iams\", \"iams\", \"icing\", \"icing\", \"icing\", \"icing\", \"icing\", \"icing\", \"icing\", \"illy\", \"illy\", \"illy\", \"illy\", \"illy\", \"illy\", \"illy\", \"image\", \"image\", \"image\", \"image\", \"image\", \"image\", \"image\", \"infested\", \"infested\", \"infested\", \"infested\", \"infested\", \"infested\", \"infested\", \"ingredient\", \"ingredient\", \"ingredient\", \"ingredient\", \"ingredient\", \"ingredient\", \"ingredient\", \"ingredients\", \"ingredients\", \"ingredients\", \"ingredients\", \"ingredients\", \"ingredients\", \"ingredients\", \"innova\", \"innova\", \"innova\", \"innova\", \"innova\", \"innova\", \"innova\", \"instant\", \"instant\", \"instant\", \"instant\", \"instant\", \"instant\", \"instant\", \"item\", \"item\", \"item\", \"item\", \"item\", \"item\", \"item\", \"jalapeno\", \"jalapeno\", \"jalapeno\", \"jalapeno\", \"jalapeno\", \"jalapeno\", \"jalapeno\", \"jasmine\", \"jasmine\", \"jasmine\", \"jasmine\", \"jasmine\", \"jasmine\", \"jasmine\", \"jerky\", \"jerky\", \"jerky\", \"jerky\", \"jerky\", \"jerky\", \"jerky\", \"juice\", \"juice\", \"juice\", \"juice\", \"juice\", \"juice\", \"juice\", \"kashi\", \"kashi\", \"kashi\", \"kashi\", \"kashi\", \"kashi\", \"kashi\", \"kefir\", \"kefir\", \"kefir\", \"kefir\", \"kefir\", \"kefir\", \"kefir\", \"keurig\", \"keurig\", \"keurig\", \"keurig\", \"keurig\", \"keurig\", \"keurig\", \"kona\", \"kona\", \"kona\", \"kona\", \"kona\", \"kona\", \"kona\", \"kong\", \"kong\", \"kong\", \"kong\", \"kong\", \"kong\", \"kong\", \"kool\", \"kool\", \"kool\", \"kool\", \"kool\", \"kool\", \"kool\", \"label\", \"label\", \"label\", \"label\", \"label\", \"label\", \"label\", \"lavazza\", \"lavazza\", \"lavazza\", \"lavazza\", \"lavazza\", \"lavazza\", \"lavazza\", \"leaked\", \"leaked\", \"leaked\", \"leaked\", \"leaked\", \"leaked\", \"leaked\", \"leaking\", \"leaking\", \"leaking\", \"leaking\", \"leaking\", \"leaking\", \"leaking\", \"lecithin\", \"lecithin\", \"lecithin\", \"lecithin\", \"lecithin\", \"lecithin\", \"lecithin\", \"lemon\", \"lemon\", \"lemon\", \"lemon\", \"lemon\", \"lemon\", \"lemon\", \"lemonade\", \"lemonade\", \"lemonade\", \"lemonade\", \"lemonade\", \"lemonade\", \"lemonade\", \"levels\", \"levels\", \"levels\", \"levels\", \"levels\", \"levels\", \"levels\", \"licorice\", \"licorice\", \"licorice\", \"licorice\", \"licorice\", \"licorice\", \"licorice\", \"like\", \"like\", \"like\", \"like\", \"like\", \"like\", \"like\", \"lime\", \"lime\", \"lime\", \"lime\", \"lime\", \"lime\", \"lime\", \"lipton\", \"lipton\", \"lipton\", \"lipton\", \"lipton\", \"lipton\", \"lipton\", \"list\", \"list\", \"list\", \"list\", \"list\", \"list\", \"list\", \"litter\", \"litter\", \"litter\", \"litter\", \"litter\", \"litter\", \"litter\", \"local\", \"local\", \"local\", \"local\", \"local\", \"local\", \"local\", \"love\", \"love\", \"love\", \"love\", \"love\", \"love\", \"love\", \"mac\", \"mac\", \"mac\", \"mac\", \"mac\", \"mac\", \"mac\", \"machine\", \"machine\", \"machine\", \"machine\", \"machine\", \"machine\", \"machine\", \"made\", \"made\", \"made\", \"made\", \"made\", \"made\", \"made\", \"maker\", \"maker\", \"maker\", \"maker\", \"maker\", \"maker\", \"maker\", \"maltodextrin\", \"maltodextrin\", \"maltodextrin\", \"maltodextrin\", \"maltodextrin\", \"maltodextrin\", \"maltodextrin\", \"mango\", \"mango\", \"mango\", \"mango\", \"mango\", \"mango\", \"mango\", \"march\", \"march\", \"march\", \"march\", \"march\", \"march\", \"march\", \"margarita\", \"margarita\", \"margarita\", \"margarita\", \"margarita\", \"margarita\", \"margarita\", \"marshmallow\", \"marshmallow\", \"marshmallow\", \"marshmallow\", \"marshmallow\", \"marshmallow\", \"marshmallow\", \"mart\", \"mart\", \"mart\", \"mart\", \"mart\", \"mart\", \"mart\", \"marzano\", \"marzano\", \"marzano\", \"marzano\", \"marzano\", \"marzano\", \"marzano\", \"matcha\", \"matcha\", \"matcha\", \"matcha\", \"matcha\", \"matcha\", \"matcha\", \"maxwell\", \"maxwell\", \"maxwell\", \"maxwell\", \"maxwell\", \"maxwell\", \"maxwell\", \"mint\", \"mint\", \"mint\", \"mint\", \"mint\", \"mint\", \"mint\", \"minutes\", \"minutes\", \"minutes\", \"minutes\", \"minutes\", \"minutes\", \"minutes\", \"mio\", \"mio\", \"mio\", \"mio\", \"mio\", \"mio\", \"mio\", \"misleading\", \"misleading\", \"misleading\", \"misleading\", \"misleading\", \"misleading\", \"misleading\", \"miso\", \"miso\", \"miso\", \"miso\", \"miso\", \"miso\", \"miso\", \"mix\", \"mix\", \"mix\", \"mix\", \"mix\", \"mix\", \"mix\", \"mocha\", \"mocha\", \"mocha\", \"mocha\", \"mocha\", \"mocha\", \"mocha\", \"modified\", \"modified\", \"modified\", \"modified\", \"modified\", \"modified\", \"modified\", \"mold\", \"mold\", \"mold\", \"mold\", \"mold\", \"mold\", \"mold\", \"moldy\", \"moldy\", \"moldy\", \"moldy\", \"moldy\", \"moldy\", \"moldy\", \"mole\", \"mole\", \"mole\", \"mole\", \"mole\", \"mole\", \"mole\", \"months\", \"months\", \"months\", \"months\", \"months\", \"months\", \"months\", \"moth\", \"moth\", \"moth\", \"moth\", \"moth\", \"moth\", \"moth\", \"moths\", \"moths\", \"moths\", \"moths\", \"moths\", \"moths\", \"moths\", \"mountain\", \"mountain\", \"mountain\", \"mountain\", \"mountain\", \"mountain\", \"mountain\", \"msg\", \"msg\", \"msg\", \"msg\", \"msg\", \"msg\", \"msg\", \"much\", \"much\", \"much\", \"much\", \"much\", \"much\", \"much\", \"nabisco\", \"nabisco\", \"nabisco\", \"nabisco\", \"nabisco\", \"nabisco\", \"nabisco\", \"natura\", \"natura\", \"natura\", \"natura\", \"natura\", \"natura\", \"natura\", \"natural\", \"natural\", \"natural\", \"natural\", \"natural\", \"natural\", \"natural\", \"never\", \"never\", \"never\", \"never\", \"never\", \"never\", \"never\", \"nibs\", \"nibs\", \"nibs\", \"nibs\", \"nibs\", \"nibs\", \"nibs\", \"noodle\", \"noodle\", \"noodle\", \"noodle\", \"noodle\", \"noodle\", \"noodle\", \"noodles\", \"noodles\", \"noodles\", \"noodles\", \"noodles\", \"noodles\", \"noodles\", \"nut\", \"nut\", \"nut\", \"nut\", \"nut\", \"nut\", \"nut\", \"oatmeal\", \"oatmeal\", \"oatmeal\", \"oatmeal\", \"oatmeal\", \"oatmeal\", \"oatmeal\", \"oats\", \"oats\", \"oats\", \"oats\", \"oats\", \"oats\", \"oats\", \"oil\", \"oil\", \"oil\", \"oil\", \"oil\", \"oil\", \"oil\", \"oils\", \"oils\", \"oils\", \"oils\", \"oils\", \"oils\", \"oils\", \"old\", \"old\", \"old\", \"old\", \"old\", \"old\", \"old\", \"olive\", \"olive\", \"olive\", \"olive\", \"olive\", \"olive\", \"olive\", \"one\", \"one\", \"one\", \"one\", \"one\", \"one\", \"one\", \"onions\", \"onions\", \"onions\", \"onions\", \"onions\", \"onions\", \"onions\", \"open\", \"open\", \"open\", \"open\", \"open\", \"open\", \"open\", \"opened\", \"opened\", \"opened\", \"opened\", \"opened\", \"opened\", \"opened\", \"orange\", \"orange\", \"orange\", \"orange\", \"orange\", \"orange\", \"orange\", \"order\", \"order\", \"order\", \"order\", \"order\", \"order\", \"order\", \"ordered\", \"ordered\", \"ordered\", \"ordered\", \"ordered\", \"ordered\", \"ordered\", \"oreo\", \"oreo\", \"oreo\", \"oreo\", \"oreo\", \"oreo\", \"oreo\", \"organic\", \"organic\", \"organic\", \"organic\", \"organic\", \"organic\", \"organic\", \"ounce\", \"ounce\", \"ounce\", \"ounce\", \"ounce\", \"ounce\", \"ounce\", \"outrageous\", \"outrageous\", \"outrageous\", \"outrageous\", \"outrageous\", \"outrageous\", \"outrageous\", \"overpriced\", \"overpriced\", \"overpriced\", \"overpriced\", \"overpriced\", \"overpriced\", \"overpriced\", \"oz\", \"oz\", \"oz\", \"oz\", \"oz\", \"oz\", \"oz\", \"pack\", \"pack\", \"pack\", \"pack\", \"pack\", \"pack\", \"pack\", \"package\", \"package\", \"package\", \"package\", \"package\", \"package\", \"package\", \"packaging\", \"packaging\", \"packaging\", \"packaging\", \"packaging\", \"packaging\", \"packaging\", \"paid\", \"paid\", \"paid\", \"paid\", \"paid\", \"paid\", \"paid\", \"pamela\", \"pamela\", \"pamela\", \"pamela\", \"pamela\", \"pamela\", \"pamela\", \"passion\", \"passion\", \"passion\", \"passion\", \"passion\", \"passion\", \"passion\", \"pasta\", \"pasta\", \"pasta\", \"pasta\", \"pasta\", \"pasta\", \"pasta\", \"pay\", \"pay\", \"pay\", \"pay\", \"pay\", \"pay\", \"pay\", \"paying\", \"paying\", \"paying\", \"paying\", \"paying\", \"paying\", \"paying\", \"pb\", \"pb\", \"pb\", \"pb\", \"pb\", \"pb\", \"pb\", \"peach\", \"peach\", \"peach\", \"peach\", \"peach\", \"peach\", \"peach\", \"peanut\", \"peanut\", \"peanut\", \"peanut\", \"peanut\", \"peanut\", \"peanut\", \"peanuts\", \"peanuts\", \"peanuts\", \"peanuts\", \"peanuts\", \"peanuts\", \"peanuts\", \"pear\", \"pear\", \"pear\", \"pear\", \"pear\", \"pear\", \"pear\", \"pepper\", \"pepper\", \"pepper\", \"pepper\", \"pepper\", \"pepper\", \"pepper\", \"per\", \"per\", \"per\", \"per\", \"per\", \"per\", \"per\", \"pet\", \"pet\", \"pet\", \"pet\", \"pet\", \"pet\", \"pet\", \"pets\", \"pets\", \"pets\", \"pets\", \"pets\", \"pets\", \"pets\", \"photo\", \"photo\", \"photo\", \"photo\", \"photo\", \"photo\", \"photo\", \"picture\", \"picture\", \"picture\", \"picture\", \"picture\", \"picture\", \"picture\", \"pizza\", \"pizza\", \"pizza\", \"pizza\", \"pizza\", \"pizza\", \"pizza\", \"planted\", \"planted\", \"planted\", \"planted\", \"planted\", \"planted\", \"planted\", \"plastic\", \"plastic\", \"plastic\", \"plastic\", \"plastic\", \"plastic\", \"plastic\", \"pod\", \"pod\", \"pod\", \"pod\", \"pod\", \"pod\", \"pod\", \"pods\", \"pods\", \"pods\", \"pods\", \"pods\", \"pods\", \"pods\", \"pomegranate\", \"pomegranate\", \"pomegranate\", \"pomegranate\", \"pomegranate\", \"pomegranate\", \"pomegranate\", \"popcorn\", \"popcorn\", \"popcorn\", \"popcorn\", \"popcorn\", \"popcorn\", \"popcorn\", \"price\", \"price\", \"price\", \"price\", \"price\", \"price\", \"price\", \"priced\", \"priced\", \"priced\", \"priced\", \"priced\", \"priced\", \"priced\", \"prices\", \"prices\", \"prices\", \"prices\", \"prices\", \"prices\", \"prices\", \"pricing\", \"pricing\", \"pricing\", \"pricing\", \"pricing\", \"pricing\", \"pricing\", \"product\", \"product\", \"product\", \"product\", \"product\", \"product\", \"product\", \"products\", \"products\", \"products\", \"products\", \"products\", \"products\", \"products\", \"puffs\", \"puffs\", \"puffs\", \"puffs\", \"puffs\", \"puffs\", \"puffs\", \"pumpkin\", \"pumpkin\", \"pumpkin\", \"pumpkin\", \"pumpkin\", \"pumpkin\", \"pumpkin\", \"puppy\", \"puppy\", \"puppy\", \"puppy\", \"puppy\", \"puppy\", \"puppy\", \"purina\", \"purina\", \"purina\", \"purina\", \"purina\", \"purina\", \"purina\", \"quaker\", \"quaker\", \"quaker\", \"quaker\", \"quaker\", \"quaker\", \"quaker\", \"quality\", \"quality\", \"quality\", \"quality\", \"quality\", \"quality\", \"quality\", \"raisin\", \"raisin\", \"raisin\", \"raisin\", \"raisin\", \"raisin\", \"raisin\", \"raisins\", \"raisins\", \"raisins\", \"raisins\", \"raisins\", \"raisins\", \"raisins\", \"ramen\", \"ramen\", \"ramen\", \"ramen\", \"ramen\", \"ramen\", \"ramen\", \"ranch\", \"ranch\", \"ranch\", \"ranch\", \"ranch\", \"ranch\", \"ranch\", \"raspberry\", \"raspberry\", \"raspberry\", \"raspberry\", \"raspberry\", \"raspberry\", \"raspberry\", \"rawhide\", \"rawhide\", \"rawhide\", \"rawhide\", \"rawhide\", \"rawhide\", \"rawhide\", \"read\", \"read\", \"read\", \"read\", \"read\", \"read\", \"read\", \"really\", \"really\", \"really\", \"really\", \"really\", \"really\", \"really\", \"recalled\", \"recalled\", \"recalled\", \"recalled\", \"recalled\", \"recalled\", \"recalled\", \"received\", \"received\", \"received\", \"received\", \"received\", \"received\", \"received\", \"refreshing\", \"refreshing\", \"refreshing\", \"refreshing\", \"refreshing\", \"refreshing\", \"refreshing\", \"refund\", \"refund\", \"refund\", \"refund\", \"refund\", \"refund\", \"refund\", \"research\", \"research\", \"research\", \"research\", \"research\", \"research\", \"research\", \"return\", \"return\", \"return\", \"return\", \"return\", \"return\", \"return\", \"rip\", \"rip\", \"rip\", \"rip\", \"rip\", \"rip\", \"rip\", \"ripoff\", \"ripoff\", \"ripoff\", \"ripoff\", \"ripoff\", \"ripoff\", \"ripoff\", \"roast\", \"roast\", \"roast\", \"roast\", \"roast\", \"roast\", \"roast\", \"rooibos\", \"rooibos\", \"rooibos\", \"rooibos\", \"rooibos\", \"rooibos\", \"rooibos\", \"rope\", \"rope\", \"rope\", \"rope\", \"rope\", \"rope\", \"rope\", \"salad\", \"salad\", \"salad\", \"salad\", \"salad\", \"salad\", \"salad\", \"salt\", \"salt\", \"salt\", \"salt\", \"salt\", \"salt\", \"salt\", \"salty\", \"salty\", \"salty\", \"salty\", \"salty\", \"salty\", \"salty\", \"sardines\", \"sardines\", \"sardines\", \"sardines\", \"sardines\", \"sardines\", \"sardines\", \"sauce\", \"sauce\", \"sauce\", \"sauce\", \"sauce\", \"sauce\", \"sauce\", \"sauces\", \"sauces\", \"sauces\", \"sauces\", \"sauces\", \"sauces\", \"sauces\", \"scalp\", \"scalp\", \"scalp\", \"scalp\", \"scalp\", \"scalp\", \"scalp\", \"science\", \"science\", \"science\", \"science\", \"science\", \"science\", \"science\", \"sealed\", \"sealed\", \"sealed\", \"sealed\", \"sealed\", \"sealed\", \"sealed\", \"seasoning\", \"seasoning\", \"seasoning\", \"seasoning\", \"seasoning\", \"seasoning\", \"seasoning\", \"seeds\", \"seeds\", \"seeds\", \"seeds\", \"seeds\", \"seeds\", \"seeds\", \"send\", \"send\", \"send\", \"send\", \"send\", \"send\", \"send\", \"senseo\", \"senseo\", \"senseo\", \"senseo\", \"senseo\", \"senseo\", \"senseo\", \"sent\", \"sent\", \"sent\", \"sent\", \"sent\", \"sent\", \"sent\", \"service\", \"service\", \"service\", \"service\", \"service\", \"service\", \"service\", \"shampoo\", \"shampoo\", \"shampoo\", \"shampoo\", \"shampoo\", \"shampoo\", \"shampoo\", \"shea\", \"shea\", \"shea\", \"shea\", \"shea\", \"shea\", \"shea\", \"shipment\", \"shipment\", \"shipment\", \"shipment\", \"shipment\", \"shipment\", \"shipment\", \"shipments\", \"shipments\", \"shipments\", \"shipments\", \"shipments\", \"shipments\", \"shipments\", \"shipped\", \"shipped\", \"shipped\", \"shipped\", \"shipped\", \"shipped\", \"shipped\", \"shipping\", \"shipping\", \"shipping\", \"shipping\", \"shipping\", \"shipping\", \"shipping\", \"size\", \"size\", \"size\", \"size\", \"size\", \"size\", \"size\", \"small\", \"small\", \"small\", \"small\", \"small\", \"small\", \"small\", \"smell\", \"smell\", \"smell\", \"smell\", \"smell\", \"smell\", \"smell\", \"smoked\", \"smoked\", \"smoked\", \"smoked\", \"smoked\", \"smoked\", \"smoked\", \"snack\", \"snack\", \"snack\", \"snack\", \"snack\", \"snack\", \"snack\", \"snaps\", \"snaps\", \"snaps\", \"snaps\", \"snaps\", \"snaps\", \"snaps\", \"soda\", \"soda\", \"soda\", \"soda\", \"soda\", \"soda\", \"soda\", \"soup\", \"soup\", \"soup\", \"soup\", \"soup\", \"soup\", \"soup\", \"soy\", \"soy\", \"soy\", \"soy\", \"soy\", \"soy\", \"soy\", \"soybean\", \"soybean\", \"soybean\", \"soybean\", \"soybean\", \"soybean\", \"soybean\", \"spaghetti\", \"spaghetti\", \"spaghetti\", \"spaghetti\", \"spaghetti\", \"spaghetti\", \"spaghetti\", \"sprinkles\", \"sprinkles\", \"sprinkles\", \"sprinkles\", \"sprinkles\", \"sprinkles\", \"sprinkles\", \"stale\", \"stale\", \"stale\", \"stale\", \"stale\", \"stale\", \"stale\", \"starbucks\", \"starbucks\", \"starbucks\", \"starbucks\", \"starbucks\", \"starbucks\", \"starbucks\", \"starch\", \"starch\", \"starch\", \"starch\", \"starch\", \"starch\", \"starch\", \"stash\", \"stash\", \"stash\", \"stash\", \"stash\", \"stash\", \"stash\", \"stevia\", \"stevia\", \"stevia\", \"stevia\", \"stevia\", \"stevia\", \"stevia\", \"store\", \"store\", \"store\", \"store\", \"store\", \"store\", \"store\", \"strong\", \"strong\", \"strong\", \"strong\", \"strong\", \"strong\", \"strong\", \"studies\", \"studies\", \"studies\", \"studies\", \"studies\", \"studies\", \"studies\", \"stuff\", \"stuff\", \"stuff\", \"stuff\", \"stuff\", \"stuff\", \"stuff\", \"sugar\", \"sugar\", \"sugar\", \"sugar\", \"sugar\", \"sugar\", \"sugar\", \"sweet\", \"sweet\", \"sweet\", \"sweet\", \"sweet\", \"sweet\", \"sweet\", \"sweetener\", \"sweetener\", \"sweetener\", \"sweetener\", \"sweetener\", \"sweetener\", \"sweetener\", \"symptoms\", \"symptoms\", \"symptoms\", \"symptoms\", \"symptoms\", \"symptoms\", \"symptoms\", \"syrup\", \"syrup\", \"syrup\", \"syrup\", \"syrup\", \"syrup\", \"syrup\", \"taco\", \"taco\", \"taco\", \"taco\", \"taco\", \"taco\", \"taco\", \"taped\", \"taped\", \"taped\", \"taped\", \"taped\", \"taped\", \"taped\", \"tassimo\", \"tassimo\", \"tassimo\", \"tassimo\", \"tassimo\", \"tassimo\", \"tassimo\", \"taste\", \"taste\", \"taste\", \"taste\", \"taste\", \"taste\", \"taste\", \"tasted\", \"tasted\", \"tasted\", \"tasted\", \"tasted\", \"tasted\", \"tasted\", \"tastes\", \"tastes\", \"tastes\", \"tastes\", \"tastes\", \"tastes\", \"tastes\", \"tazo\", \"tazo\", \"tazo\", \"tazo\", \"tazo\", \"tazo\", \"tazo\", \"tea\", \"tea\", \"tea\", \"tea\", \"tea\", \"tea\", \"tea\", \"teas\", \"teas\", \"teas\", \"teas\", \"teas\", \"teas\", \"teas\", \"texture\", \"texture\", \"texture\", \"texture\", \"texture\", \"texture\", \"texture\", \"time\", \"time\", \"time\", \"time\", \"time\", \"time\", \"time\", \"timothy\", \"timothy\", \"timothy\", \"timothy\", \"timothy\", \"timothy\", \"timothy\", \"toxic\", \"toxic\", \"toxic\", \"toxic\", \"toxic\", \"toxic\", \"toxic\", \"toy\", \"toy\", \"toy\", \"toy\", \"toy\", \"toy\", \"toy\", \"tracking\", \"tracking\", \"tracking\", \"tracking\", \"tracking\", \"tracking\", \"tracking\", \"transit\", \"transit\", \"transit\", \"transit\", \"transit\", \"transit\", \"transit\", \"trap\", \"trap\", \"trap\", \"trap\", \"trap\", \"trap\", \"trap\", \"traps\", \"traps\", \"traps\", \"traps\", \"traps\", \"traps\", \"traps\", \"treat\", \"treat\", \"treat\", \"treat\", \"treat\", \"treat\", \"treat\", \"treats\", \"treats\", \"treats\", \"treats\", \"treats\", \"treats\", \"treats\", \"tried\", \"tried\", \"tried\", \"tried\", \"tried\", \"tried\", \"tried\", \"truvia\", \"truvia\", \"truvia\", \"truvia\", \"truvia\", \"truvia\", \"truvia\", \"try\", \"try\", \"try\", \"try\", \"try\", \"try\", \"try\", \"twinings\", \"twinings\", \"twinings\", \"twinings\", \"twinings\", \"twinings\", \"twinings\", \"two\", \"two\", \"two\", \"two\", \"two\", \"two\", \"two\", \"usa\", \"usa\", \"usa\", \"usa\", \"usa\", \"usa\", \"usa\", \"use\", \"use\", \"use\", \"use\", \"use\", \"use\", \"use\", \"vanilla\", \"vanilla\", \"vanilla\", \"vanilla\", \"vanilla\", \"vanilla\", \"vanilla\", \"velveeta\", \"velveeta\", \"velveeta\", \"velveeta\", \"velveeta\", \"velveeta\", \"velveeta\", \"vet\", \"vet\", \"vet\", \"vet\", \"vet\", \"vet\", \"vet\", \"wal\", \"wal\", \"wal\", \"wal\", \"wal\", \"wal\", \"wal\", \"walmart\", \"walmart\", \"walmart\", \"walmart\", \"walmart\", \"walmart\", \"walmart\", \"warranty\", \"warranty\", \"warranty\", \"warranty\", \"warranty\", \"warranty\", \"warranty\", \"water\", \"water\", \"water\", \"water\", \"water\", \"water\", \"water\", \"watermelon\", \"watermelon\", \"watermelon\", \"watermelon\", \"watermelon\", \"watermelon\", \"watermelon\", \"waxy\", \"waxy\", \"waxy\", \"waxy\", \"waxy\", \"waxy\", \"waxy\", \"weak\", \"weak\", \"weak\", \"weak\", \"weak\", \"weak\", \"weak\", \"wellness\", \"wellness\", \"wellness\", \"wellness\", \"wellness\", \"wellness\", \"wellness\", \"worth\", \"worth\", \"worth\", \"worth\", \"worth\", \"worth\", \"worth\", \"would\", \"would\", \"would\", \"would\", \"would\", \"would\", \"would\"]}, \"R\": 30, \"lambda.step\": 0.01, \"plot.opts\": {\"xlab\": \"PC1\", \"ylab\": \"PC2\"}, \"topic.order\": [5, 6, 4, 2, 3, 7, 1]};\n",
              "\n",
              "function LDAvis_load_lib(url, callback){\n",
              "  var s = document.createElement('script');\n",
              "  s.src = url;\n",
              "  s.async = true;\n",
              "  s.onreadystatechange = s.onload = callback;\n",
              "  s.onerror = function(){console.warn(\"failed to load library \" + url);};\n",
              "  document.getElementsByTagName(\"head\")[0].appendChild(s);\n",
              "}\n",
              "\n",
              "if(typeof(LDAvis) !== \"undefined\"){\n",
              "   // already loaded: just create the visualization\n",
              "   !function(LDAvis){\n",
              "       new LDAvis(\"#\" + \"ldavis_el2991375832276897126601864742\", ldavis_el2991375832276897126601864742_data);\n",
              "   }(LDAvis);\n",
              "}else if(typeof define === \"function\" && define.amd){\n",
              "   // require.js is available: use it to load d3/LDAvis\n",
              "   require.config({paths: {d3: \"https://d3js.org/d3.v5\"}});\n",
              "   require([\"d3\"], function(d3){\n",
              "      window.d3 = d3;\n",
              "      LDAvis_load_lib(\"https://cdn.jsdelivr.net/gh/bmabey/pyLDAvis@3.4.0/pyLDAvis/js/ldavis.v3.0.0.js\", function(){\n",
              "        new LDAvis(\"#\" + \"ldavis_el2991375832276897126601864742\", ldavis_el2991375832276897126601864742_data);\n",
              "      });\n",
              "    });\n",
              "}else{\n",
              "    // require.js not available: dynamically load d3 & LDAvis\n",
              "    LDAvis_load_lib(\"https://d3js.org/d3.v5.js\", function(){\n",
              "         LDAvis_load_lib(\"https://cdn.jsdelivr.net/gh/bmabey/pyLDAvis@3.4.0/pyLDAvis/js/ldavis.v3.0.0.js\", function(){\n",
              "                 new LDAvis(\"#\" + \"ldavis_el2991375832276897126601864742\", ldavis_el2991375832276897126601864742_data);\n",
              "            })\n",
              "         });\n",
              "}\n",
              "</script>"
            ]
          },
          "metadata": {},
          "execution_count": 64
        }
      ]
    },
    {
      "cell_type": "markdown",
      "source": [
        "### NMF (Non-negative Matrix Factorization)"
      ],
      "metadata": {
        "id": "HnnoGsRGoz4R"
      }
    },
    {
      "cell_type": "code",
      "source": [
        "nmf = NMF(n_components=7, random_state=RANDOM_SEED)\n",
        "nmf.fit(X_neg_tfidf)\n",
        "\n",
        "for idx, topic in enumerate(nmf.components_):\n",
        "    print(f\"Tópico {idx}: {[tfidf_neg.get_feature_names_out()[i] for i in topic.argsort()[-10:]]}\")"
      ],
      "metadata": {
        "colab": {
          "base_uri": "https://localhost:8080/"
        },
        "id": "CuMWh-PLzClF",
        "outputId": "c38892f1-b946-42bf-b0df-4e8e55e8d868"
      },
      "execution_count": null,
      "outputs": [
        {
          "output_type": "stream",
          "name": "stderr",
          "text": [
            "/usr/local/lib/python3.10/dist-packages/ipykernel/ipkernel.py:283: DeprecationWarning: `should_run_async` will not call `transform_cell` automatically in the future. Please pass the result to `transformed_cell` argument and any exception that happen during thetransform in `preprocessing_exc_tuple` in IPython 7.17 and above.\n",
            "  and should_run_async(code)\n"
          ]
        },
        {
          "output_type": "stream",
          "name": "stdout",
          "text": [
            "Tópico 0: ['one', 'would', 'tried', 'bad', 'really', 'tastes', 'good', 'flavor', 'like', 'taste']\n",
            "Tópico 1: ['flavor', 'pods', 'beans', 'bitter', 'roast', 'instant', 'weak', 'cups', 'cup', 'coffee']\n",
            "Tópico 2: ['drink', 'chai', 'black', 'weak', 'flavor', 'cup', 'bags', 'teas', 'green', 'tea']\n",
            "Tópico 3: ['one', 'item', 'received', 'buy', 'ordered', 'order', 'price', 'box', 'amazon', 'product']\n",
            "Tópico 4: ['chicken', 'made', 'cats', 'china', 'eat', 'treats', 'cat', 'dogs', 'food', 'dog']\n",
            "Tópico 5: ['white', 'cocoa', 'milk', 'cookie', 'bar', 'dark', 'bars', 'hot', 'cookies', 'chocolate']\n",
            "Tópico 6: ['natural', 'ingredient', 'syrup', 'corn', 'gluten', 'sweet', 'ingredients', 'product', 'free', 'sugar']\n"
          ]
        }
      ]
    },
    {
      "cell_type": "markdown",
      "source": [
        "### BERTopic"
      ],
      "metadata": {
        "id": "vK39UJYoo6RR"
      }
    },
    {
      "cell_type": "code",
      "source": [
        "from bertopic import BERTopic\n",
        "from sklearn.cluster import KMeans\n",
        "\n",
        "cluster_model = KMeans(n_clusters=10)\n",
        "topic_model = BERTopic(hdbscan_model=cluster_model)\n",
        "topics, probs = topic_model.fit_transform(negative_reviews)"
      ],
      "metadata": {
        "colab": {
          "base_uri": "https://localhost:8080/"
        },
        "id": "GiFA4tNK1iFg",
        "outputId": "97bb673b-3a7b-4ebd-9751-72d854375ff7"
      },
      "execution_count": null,
      "outputs": [
        {
          "output_type": "stream",
          "name": "stderr",
          "text": [
            "/usr/local/lib/python3.10/dist-packages/ipykernel/ipkernel.py:283: DeprecationWarning:\n",
            "\n",
            "`should_run_async` will not call `transform_cell` automatically in the future. Please pass the result to `transformed_cell` argument and any exception that happen during thetransform in `preprocessing_exc_tuple` in IPython 7.17 and above.\n",
            "\n"
          ]
        }
      ]
    },
    {
      "cell_type": "code",
      "source": [
        "topic_model.visualize_topics()"
      ],
      "metadata": {
        "colab": {
          "base_uri": "https://localhost:8080/",
          "height": 756
        },
        "id": "ItjBnY7bIJQh",
        "outputId": "1ce18049-7494-43e0-f575-2629dd73270b"
      },
      "execution_count": null,
      "outputs": [
        {
          "output_type": "stream",
          "name": "stderr",
          "text": [
            "/usr/local/lib/python3.10/dist-packages/ipykernel/ipkernel.py:283: DeprecationWarning:\n",
            "\n",
            "`should_run_async` will not call `transform_cell` automatically in the future. Please pass the result to `transformed_cell` argument and any exception that happen during thetransform in `preprocessing_exc_tuple` in IPython 7.17 and above.\n",
            "\n"
          ]
        },
        {
          "output_type": "display_data",
          "data": {
            "text/html": [
              "<html>\n",
              "<head><meta charset=\"utf-8\" /></head>\n",
              "<body>\n",
              "    <div>            <script src=\"https://cdnjs.cloudflare.com/ajax/libs/mathjax/2.7.5/MathJax.js?config=TeX-AMS-MML_SVG\"></script><script type=\"text/javascript\">if (window.MathJax && window.MathJax.Hub && window.MathJax.Hub.Config) {window.MathJax.Hub.Config({SVG: {font: \"STIX-Web\"}});}</script>                <script type=\"text/javascript\">window.PlotlyConfig = {MathJaxConfig: 'local'};</script>\n",
              "        <script charset=\"utf-8\" src=\"https://cdn.plot.ly/plotly-2.35.2.min.js\"></script>                <div id=\"8daabc24-7298-4cbc-be8f-6748aed38fe1\" class=\"plotly-graph-div\" style=\"height:650px; width:650px;\"></div>            <script type=\"text/javascript\">                                    window.PLOTLYENV=window.PLOTLYENV || {};                                    if (document.getElementById(\"8daabc24-7298-4cbc-be8f-6748aed38fe1\")) {                    Plotly.newPlot(                        \"8daabc24-7298-4cbc-be8f-6748aed38fe1\",                        [{\"customdata\":[[0,\"product | amazon | box | price | order\",8108],[1,\"taste | like | chocolate | flavor | product\",8010],[2,\"like | taste | salt | product | sauce\",7174],[3,\"coffee | cup | cups | like | taste\",5561],[4,\"water | sugar | taste | like | drink\",5107],[5,\"dog | dogs | food | treats | china\",3601],[6,\"tea | green | ginger | like | taste\",2627],[7,\"cookies | gluten | cookie | free | cake\",2472],[8,\"seeds | plant | trap | tree | traps\",1309],[9,\"cat | cats | food | eat | litter\",1165]],\"hovertemplate\":\"\\u003cb\\u003eTopic %{customdata[0]}\\u003c\\u002fb\\u003e\\u003cbr\\u003e%{customdata[1]}\\u003cbr\\u003eSize: %{customdata[2]}\",\"legendgroup\":\"\",\"marker\":{\"color\":\"#B0BEC5\",\"size\":[8108,8010,7174,5561,5107,3601,2627,2472,1309,1165],\"sizemode\":\"area\",\"sizeref\":5.0675,\"symbol\":\"circle\",\"line\":{\"color\":\"DarkSlateGrey\",\"width\":2}},\"mode\":\"markers\",\"name\":\"\",\"orientation\":\"v\",\"showlegend\":false,\"x\":[5.7007785,5.276626,4.407726,7.5432234,6.8635764,-0.5356585,7.3409467,4.936654,5.7280555,-0.80415666],\"xaxis\":\"x\",\"y\":[3.1284218,3.6733093,3.4574053,1.9801781,2.8739247,17.670444,2.377613,3.0936668,2.4697733,17.938955],\"yaxis\":\"y\",\"type\":\"scatter\"}],                        {\"template\":{\"data\":{\"barpolar\":[{\"marker\":{\"line\":{\"color\":\"white\",\"width\":0.5},\"pattern\":{\"fillmode\":\"overlay\",\"size\":10,\"solidity\":0.2}},\"type\":\"barpolar\"}],\"bar\":[{\"error_x\":{\"color\":\"rgb(36,36,36)\"},\"error_y\":{\"color\":\"rgb(36,36,36)\"},\"marker\":{\"line\":{\"color\":\"white\",\"width\":0.5},\"pattern\":{\"fillmode\":\"overlay\",\"size\":10,\"solidity\":0.2}},\"type\":\"bar\"}],\"carpet\":[{\"aaxis\":{\"endlinecolor\":\"rgb(36,36,36)\",\"gridcolor\":\"white\",\"linecolor\":\"white\",\"minorgridcolor\":\"white\",\"startlinecolor\":\"rgb(36,36,36)\"},\"baxis\":{\"endlinecolor\":\"rgb(36,36,36)\",\"gridcolor\":\"white\",\"linecolor\":\"white\",\"minorgridcolor\":\"white\",\"startlinecolor\":\"rgb(36,36,36)\"},\"type\":\"carpet\"}],\"choropleth\":[{\"colorbar\":{\"outlinewidth\":1,\"tickcolor\":\"rgb(36,36,36)\",\"ticks\":\"outside\"},\"type\":\"choropleth\"}],\"contourcarpet\":[{\"colorbar\":{\"outlinewidth\":1,\"tickcolor\":\"rgb(36,36,36)\",\"ticks\":\"outside\"},\"type\":\"contourcarpet\"}],\"contour\":[{\"colorbar\":{\"outlinewidth\":1,\"tickcolor\":\"rgb(36,36,36)\",\"ticks\":\"outside\"},\"colorscale\":[[0.0,\"#440154\"],[0.1111111111111111,\"#482878\"],[0.2222222222222222,\"#3e4989\"],[0.3333333333333333,\"#31688e\"],[0.4444444444444444,\"#26828e\"],[0.5555555555555556,\"#1f9e89\"],[0.6666666666666666,\"#35b779\"],[0.7777777777777778,\"#6ece58\"],[0.8888888888888888,\"#b5de2b\"],[1.0,\"#fde725\"]],\"type\":\"contour\"}],\"heatmapgl\":[{\"colorbar\":{\"outlinewidth\":1,\"tickcolor\":\"rgb(36,36,36)\",\"ticks\":\"outside\"},\"colorscale\":[[0.0,\"#440154\"],[0.1111111111111111,\"#482878\"],[0.2222222222222222,\"#3e4989\"],[0.3333333333333333,\"#31688e\"],[0.4444444444444444,\"#26828e\"],[0.5555555555555556,\"#1f9e89\"],[0.6666666666666666,\"#35b779\"],[0.7777777777777778,\"#6ece58\"],[0.8888888888888888,\"#b5de2b\"],[1.0,\"#fde725\"]],\"type\":\"heatmapgl\"}],\"heatmap\":[{\"colorbar\":{\"outlinewidth\":1,\"tickcolor\":\"rgb(36,36,36)\",\"ticks\":\"outside\"},\"colorscale\":[[0.0,\"#440154\"],[0.1111111111111111,\"#482878\"],[0.2222222222222222,\"#3e4989\"],[0.3333333333333333,\"#31688e\"],[0.4444444444444444,\"#26828e\"],[0.5555555555555556,\"#1f9e89\"],[0.6666666666666666,\"#35b779\"],[0.7777777777777778,\"#6ece58\"],[0.8888888888888888,\"#b5de2b\"],[1.0,\"#fde725\"]],\"type\":\"heatmap\"}],\"histogram2dcontour\":[{\"colorbar\":{\"outlinewidth\":1,\"tickcolor\":\"rgb(36,36,36)\",\"ticks\":\"outside\"},\"colorscale\":[[0.0,\"#440154\"],[0.1111111111111111,\"#482878\"],[0.2222222222222222,\"#3e4989\"],[0.3333333333333333,\"#31688e\"],[0.4444444444444444,\"#26828e\"],[0.5555555555555556,\"#1f9e89\"],[0.6666666666666666,\"#35b779\"],[0.7777777777777778,\"#6ece58\"],[0.8888888888888888,\"#b5de2b\"],[1.0,\"#fde725\"]],\"type\":\"histogram2dcontour\"}],\"histogram2d\":[{\"colorbar\":{\"outlinewidth\":1,\"tickcolor\":\"rgb(36,36,36)\",\"ticks\":\"outside\"},\"colorscale\":[[0.0,\"#440154\"],[0.1111111111111111,\"#482878\"],[0.2222222222222222,\"#3e4989\"],[0.3333333333333333,\"#31688e\"],[0.4444444444444444,\"#26828e\"],[0.5555555555555556,\"#1f9e89\"],[0.6666666666666666,\"#35b779\"],[0.7777777777777778,\"#6ece58\"],[0.8888888888888888,\"#b5de2b\"],[1.0,\"#fde725\"]],\"type\":\"histogram2d\"}],\"histogram\":[{\"marker\":{\"line\":{\"color\":\"white\",\"width\":0.6}},\"type\":\"histogram\"}],\"mesh3d\":[{\"colorbar\":{\"outlinewidth\":1,\"tickcolor\":\"rgb(36,36,36)\",\"ticks\":\"outside\"},\"type\":\"mesh3d\"}],\"parcoords\":[{\"line\":{\"colorbar\":{\"outlinewidth\":1,\"tickcolor\":\"rgb(36,36,36)\",\"ticks\":\"outside\"}},\"type\":\"parcoords\"}],\"pie\":[{\"automargin\":true,\"type\":\"pie\"}],\"scatter3d\":[{\"line\":{\"colorbar\":{\"outlinewidth\":1,\"tickcolor\":\"rgb(36,36,36)\",\"ticks\":\"outside\"}},\"marker\":{\"colorbar\":{\"outlinewidth\":1,\"tickcolor\":\"rgb(36,36,36)\",\"ticks\":\"outside\"}},\"type\":\"scatter3d\"}],\"scattercarpet\":[{\"marker\":{\"colorbar\":{\"outlinewidth\":1,\"tickcolor\":\"rgb(36,36,36)\",\"ticks\":\"outside\"}},\"type\":\"scattercarpet\"}],\"scattergeo\":[{\"marker\":{\"colorbar\":{\"outlinewidth\":1,\"tickcolor\":\"rgb(36,36,36)\",\"ticks\":\"outside\"}},\"type\":\"scattergeo\"}],\"scattergl\":[{\"marker\":{\"colorbar\":{\"outlinewidth\":1,\"tickcolor\":\"rgb(36,36,36)\",\"ticks\":\"outside\"}},\"type\":\"scattergl\"}],\"scattermapbox\":[{\"marker\":{\"colorbar\":{\"outlinewidth\":1,\"tickcolor\":\"rgb(36,36,36)\",\"ticks\":\"outside\"}},\"type\":\"scattermapbox\"}],\"scatterpolargl\":[{\"marker\":{\"colorbar\":{\"outlinewidth\":1,\"tickcolor\":\"rgb(36,36,36)\",\"ticks\":\"outside\"}},\"type\":\"scatterpolargl\"}],\"scatterpolar\":[{\"marker\":{\"colorbar\":{\"outlinewidth\":1,\"tickcolor\":\"rgb(36,36,36)\",\"ticks\":\"outside\"}},\"type\":\"scatterpolar\"}],\"scatter\":[{\"fillpattern\":{\"fillmode\":\"overlay\",\"size\":10,\"solidity\":0.2},\"type\":\"scatter\"}],\"scatterternary\":[{\"marker\":{\"colorbar\":{\"outlinewidth\":1,\"tickcolor\":\"rgb(36,36,36)\",\"ticks\":\"outside\"}},\"type\":\"scatterternary\"}],\"surface\":[{\"colorbar\":{\"outlinewidth\":1,\"tickcolor\":\"rgb(36,36,36)\",\"ticks\":\"outside\"},\"colorscale\":[[0.0,\"#440154\"],[0.1111111111111111,\"#482878\"],[0.2222222222222222,\"#3e4989\"],[0.3333333333333333,\"#31688e\"],[0.4444444444444444,\"#26828e\"],[0.5555555555555556,\"#1f9e89\"],[0.6666666666666666,\"#35b779\"],[0.7777777777777778,\"#6ece58\"],[0.8888888888888888,\"#b5de2b\"],[1.0,\"#fde725\"]],\"type\":\"surface\"}],\"table\":[{\"cells\":{\"fill\":{\"color\":\"rgb(237,237,237)\"},\"line\":{\"color\":\"white\"}},\"header\":{\"fill\":{\"color\":\"rgb(217,217,217)\"},\"line\":{\"color\":\"white\"}},\"type\":\"table\"}]},\"layout\":{\"annotationdefaults\":{\"arrowhead\":0,\"arrowwidth\":1},\"autotypenumbers\":\"strict\",\"coloraxis\":{\"colorbar\":{\"outlinewidth\":1,\"tickcolor\":\"rgb(36,36,36)\",\"ticks\":\"outside\"}},\"colorscale\":{\"diverging\":[[0.0,\"rgb(103,0,31)\"],[0.1,\"rgb(178,24,43)\"],[0.2,\"rgb(214,96,77)\"],[0.3,\"rgb(244,165,130)\"],[0.4,\"rgb(253,219,199)\"],[0.5,\"rgb(247,247,247)\"],[0.6,\"rgb(209,229,240)\"],[0.7,\"rgb(146,197,222)\"],[0.8,\"rgb(67,147,195)\"],[0.9,\"rgb(33,102,172)\"],[1.0,\"rgb(5,48,97)\"]],\"sequential\":[[0.0,\"#440154\"],[0.1111111111111111,\"#482878\"],[0.2222222222222222,\"#3e4989\"],[0.3333333333333333,\"#31688e\"],[0.4444444444444444,\"#26828e\"],[0.5555555555555556,\"#1f9e89\"],[0.6666666666666666,\"#35b779\"],[0.7777777777777778,\"#6ece58\"],[0.8888888888888888,\"#b5de2b\"],[1.0,\"#fde725\"]],\"sequentialminus\":[[0.0,\"#440154\"],[0.1111111111111111,\"#482878\"],[0.2222222222222222,\"#3e4989\"],[0.3333333333333333,\"#31688e\"],[0.4444444444444444,\"#26828e\"],[0.5555555555555556,\"#1f9e89\"],[0.6666666666666666,\"#35b779\"],[0.7777777777777778,\"#6ece58\"],[0.8888888888888888,\"#b5de2b\"],[1.0,\"#fde725\"]]},\"colorway\":[\"#1F77B4\",\"#FF7F0E\",\"#2CA02C\",\"#D62728\",\"#9467BD\",\"#8C564B\",\"#E377C2\",\"#7F7F7F\",\"#BCBD22\",\"#17BECF\"],\"font\":{\"color\":\"rgb(36,36,36)\"},\"geo\":{\"bgcolor\":\"white\",\"lakecolor\":\"white\",\"landcolor\":\"white\",\"showlakes\":true,\"showland\":true,\"subunitcolor\":\"white\"},\"hoverlabel\":{\"align\":\"left\"},\"hovermode\":\"closest\",\"mapbox\":{\"style\":\"light\"},\"paper_bgcolor\":\"white\",\"plot_bgcolor\":\"white\",\"polar\":{\"angularaxis\":{\"gridcolor\":\"rgb(232,232,232)\",\"linecolor\":\"rgb(36,36,36)\",\"showgrid\":false,\"showline\":true,\"ticks\":\"outside\"},\"bgcolor\":\"white\",\"radialaxis\":{\"gridcolor\":\"rgb(232,232,232)\",\"linecolor\":\"rgb(36,36,36)\",\"showgrid\":false,\"showline\":true,\"ticks\":\"outside\"}},\"scene\":{\"xaxis\":{\"backgroundcolor\":\"white\",\"gridcolor\":\"rgb(232,232,232)\",\"gridwidth\":2,\"linecolor\":\"rgb(36,36,36)\",\"showbackground\":true,\"showgrid\":false,\"showline\":true,\"ticks\":\"outside\",\"zeroline\":false,\"zerolinecolor\":\"rgb(36,36,36)\"},\"yaxis\":{\"backgroundcolor\":\"white\",\"gridcolor\":\"rgb(232,232,232)\",\"gridwidth\":2,\"linecolor\":\"rgb(36,36,36)\",\"showbackground\":true,\"showgrid\":false,\"showline\":true,\"ticks\":\"outside\",\"zeroline\":false,\"zerolinecolor\":\"rgb(36,36,36)\"},\"zaxis\":{\"backgroundcolor\":\"white\",\"gridcolor\":\"rgb(232,232,232)\",\"gridwidth\":2,\"linecolor\":\"rgb(36,36,36)\",\"showbackground\":true,\"showgrid\":false,\"showline\":true,\"ticks\":\"outside\",\"zeroline\":false,\"zerolinecolor\":\"rgb(36,36,36)\"}},\"shapedefaults\":{\"fillcolor\":\"black\",\"line\":{\"width\":0},\"opacity\":0.3},\"ternary\":{\"aaxis\":{\"gridcolor\":\"rgb(232,232,232)\",\"linecolor\":\"rgb(36,36,36)\",\"showgrid\":false,\"showline\":true,\"ticks\":\"outside\"},\"baxis\":{\"gridcolor\":\"rgb(232,232,232)\",\"linecolor\":\"rgb(36,36,36)\",\"showgrid\":false,\"showline\":true,\"ticks\":\"outside\"},\"bgcolor\":\"white\",\"caxis\":{\"gridcolor\":\"rgb(232,232,232)\",\"linecolor\":\"rgb(36,36,36)\",\"showgrid\":false,\"showline\":true,\"ticks\":\"outside\"}},\"title\":{\"x\":0.05},\"xaxis\":{\"automargin\":true,\"gridcolor\":\"rgb(232,232,232)\",\"linecolor\":\"rgb(36,36,36)\",\"showgrid\":false,\"showline\":true,\"ticks\":\"outside\",\"title\":{\"standoff\":15},\"zeroline\":false,\"zerolinecolor\":\"rgb(36,36,36)\"},\"yaxis\":{\"automargin\":true,\"gridcolor\":\"rgb(232,232,232)\",\"linecolor\":\"rgb(36,36,36)\",\"showgrid\":false,\"showline\":true,\"ticks\":\"outside\",\"title\":{\"standoff\":15},\"zeroline\":false,\"zerolinecolor\":\"rgb(36,36,36)\"}}},\"xaxis\":{\"anchor\":\"y\",\"domain\":[0.0,1.0],\"title\":{\"text\":\"\"},\"visible\":false,\"range\":[-0.9247801601886749,8.674706888198852]},\"yaxis\":{\"anchor\":\"x\",\"domain\":[0.0,1.0],\"title\":{\"text\":\"\"},\"visible\":false,\"range\":[1.683151400089264,20.62979860305786]},\"legend\":{\"tracegroupgap\":0,\"itemsizing\":\"constant\"},\"margin\":{\"t\":60},\"title\":{\"font\":{\"size\":22,\"color\":\"Black\"},\"text\":\"\\u003cb\\u003eIntertopic Distance Map\\u003c\\u002fb\\u003e\",\"y\":0.95,\"x\":0.5,\"xanchor\":\"center\",\"yanchor\":\"top\"},\"hoverlabel\":{\"font\":{\"size\":16,\"family\":\"Rockwell\"},\"bgcolor\":\"white\"},\"width\":650,\"height\":650,\"sliders\":[{\"active\":0,\"pad\":{\"t\":50},\"steps\":[{\"args\":[{\"marker.color\":[[\"red\",\"#B0BEC5\",\"#B0BEC5\",\"#B0BEC5\",\"#B0BEC5\",\"#B0BEC5\",\"#B0BEC5\",\"#B0BEC5\",\"#B0BEC5\",\"#B0BEC5\"]]}],\"label\":\"Topic 0\",\"method\":\"update\"},{\"args\":[{\"marker.color\":[[\"#B0BEC5\",\"red\",\"#B0BEC5\",\"#B0BEC5\",\"#B0BEC5\",\"#B0BEC5\",\"#B0BEC5\",\"#B0BEC5\",\"#B0BEC5\",\"#B0BEC5\"]]}],\"label\":\"Topic 1\",\"method\":\"update\"},{\"args\":[{\"marker.color\":[[\"#B0BEC5\",\"#B0BEC5\",\"red\",\"#B0BEC5\",\"#B0BEC5\",\"#B0BEC5\",\"#B0BEC5\",\"#B0BEC5\",\"#B0BEC5\",\"#B0BEC5\"]]}],\"label\":\"Topic 2\",\"method\":\"update\"},{\"args\":[{\"marker.color\":[[\"#B0BEC5\",\"#B0BEC5\",\"#B0BEC5\",\"red\",\"#B0BEC5\",\"#B0BEC5\",\"#B0BEC5\",\"#B0BEC5\",\"#B0BEC5\",\"#B0BEC5\"]]}],\"label\":\"Topic 3\",\"method\":\"update\"},{\"args\":[{\"marker.color\":[[\"#B0BEC5\",\"#B0BEC5\",\"#B0BEC5\",\"#B0BEC5\",\"red\",\"#B0BEC5\",\"#B0BEC5\",\"#B0BEC5\",\"#B0BEC5\",\"#B0BEC5\"]]}],\"label\":\"Topic 4\",\"method\":\"update\"},{\"args\":[{\"marker.color\":[[\"#B0BEC5\",\"#B0BEC5\",\"#B0BEC5\",\"#B0BEC5\",\"#B0BEC5\",\"red\",\"#B0BEC5\",\"#B0BEC5\",\"#B0BEC5\",\"#B0BEC5\"]]}],\"label\":\"Topic 5\",\"method\":\"update\"},{\"args\":[{\"marker.color\":[[\"#B0BEC5\",\"#B0BEC5\",\"#B0BEC5\",\"#B0BEC5\",\"#B0BEC5\",\"#B0BEC5\",\"red\",\"#B0BEC5\",\"#B0BEC5\",\"#B0BEC5\"]]}],\"label\":\"Topic 6\",\"method\":\"update\"},{\"args\":[{\"marker.color\":[[\"#B0BEC5\",\"#B0BEC5\",\"#B0BEC5\",\"#B0BEC5\",\"#B0BEC5\",\"#B0BEC5\",\"#B0BEC5\",\"red\",\"#B0BEC5\",\"#B0BEC5\"]]}],\"label\":\"Topic 7\",\"method\":\"update\"},{\"args\":[{\"marker.color\":[[\"#B0BEC5\",\"#B0BEC5\",\"#B0BEC5\",\"#B0BEC5\",\"#B0BEC5\",\"#B0BEC5\",\"#B0BEC5\",\"#B0BEC5\",\"red\",\"#B0BEC5\"]]}],\"label\":\"Topic 8\",\"method\":\"update\"},{\"args\":[{\"marker.color\":[[\"#B0BEC5\",\"#B0BEC5\",\"#B0BEC5\",\"#B0BEC5\",\"#B0BEC5\",\"#B0BEC5\",\"#B0BEC5\",\"#B0BEC5\",\"#B0BEC5\",\"red\"]]}],\"label\":\"Topic 9\",\"method\":\"update\"}]}],\"shapes\":[{\"line\":{\"color\":\"#CFD8DC\",\"width\":2},\"type\":\"line\",\"x0\":3.8749633640050885,\"x1\":3.8749633640050885,\"y0\":1.683151400089264,\"y1\":20.62979860305786},{\"line\":{\"color\":\"#9E9E9E\",\"width\":2},\"type\":\"line\",\"x0\":-0.9247801601886749,\"x1\":8.674706888198852,\"y0\":11.156475001573563,\"y1\":11.156475001573563}],\"annotations\":[{\"showarrow\":false,\"text\":\"D1\",\"x\":-0.9247801601886749,\"y\":11.156475001573563,\"yshift\":10},{\"showarrow\":false,\"text\":\"D2\",\"x\":3.8749633640050885,\"xshift\":10,\"y\":20.62979860305786}]},                        {\"responsive\": true}                    ).then(function(){\n",
              "                            \n",
              "var gd = document.getElementById('8daabc24-7298-4cbc-be8f-6748aed38fe1');\n",
              "var x = new MutationObserver(function (mutations, observer) {{\n",
              "        var display = window.getComputedStyle(gd).display;\n",
              "        if (!display || display === 'none') {{\n",
              "            console.log([gd, 'removed!']);\n",
              "            Plotly.purge(gd);\n",
              "            observer.disconnect();\n",
              "        }}\n",
              "}});\n",
              "\n",
              "// Listen for the removal of the full notebook cells\n",
              "var notebookContainer = gd.closest('#notebook-container');\n",
              "if (notebookContainer) {{\n",
              "    x.observe(notebookContainer, {childList: true});\n",
              "}}\n",
              "\n",
              "// Listen for the clearing of the current output cell\n",
              "var outputEl = gd.closest('.output');\n",
              "if (outputEl) {{\n",
              "    x.observe(outputEl, {childList: true});\n",
              "}}\n",
              "\n",
              "                        })                };                            </script>        </div>\n",
              "</body>\n",
              "</html>"
            ]
          },
          "metadata": {}
        }
      ]
    },
    {
      "cell_type": "code",
      "source": [
        "all_topics = topic_model.get_topics()\n",
        "for topic_id, words in all_topics.items():\n",
        "    top_words = [word for word, score in words[:10]]\n",
        "    print(f\"Tópico {topic_id}: {top_words}\")"
      ],
      "metadata": {
        "colab": {
          "base_uri": "https://localhost:8080/"
        },
        "id": "L0Mmt-BM1_9R",
        "outputId": "6eb2cb8d-d593-4dd5-8e1c-2bfad993d861"
      },
      "execution_count": null,
      "outputs": [
        {
          "output_type": "stream",
          "name": "stdout",
          "text": [
            "Tópico 0: ['product', 'amazon', 'box', 'price', 'order', 'received', 'item', 'ordered', 'would', 'one']\n",
            "Tópico 1: ['taste', 'like', 'chocolate', 'flavor', 'product', 'good', 'one', 'would', 'cereal', 'eat']\n",
            "Tópico 2: ['like', 'taste', 'salt', 'product', 'sauce', 'flavor', 'good', 'soup', 'would', 'cheese']\n",
            "Tópico 3: ['coffee', 'cup', 'cups', 'like', 'taste', 'flavor', 'beans', 'good', 'roast', 'one']\n",
            "Tópico 4: ['water', 'sugar', 'taste', 'like', 'drink', 'product', 'flavor', 'juice', 'syrup', 'one']\n",
            "Tópico 5: ['dog', 'dogs', 'food', 'treats', 'china', 'made', 'product', 'treat', 'chicken', 'one']\n",
            "Tópico 6: ['tea', 'green', 'ginger', 'like', 'taste', 'teas', 'flavor', 'good', 'drink', 'bags']\n",
            "Tópico 7: ['cookies', 'gluten', 'cookie', 'free', 'cake', 'like', 'bread', 'taste', 'mix', 'flour']\n",
            "Tópico 8: ['seeds', 'plant', 'trap', 'tree', 'traps', 'one', 'work', 'flowers', 'plants', 'product']\n",
            "Tópico 9: ['cat', 'cats', 'food', 'eat', 'litter', 'one', 'would', 'like', 'even', 'product']\n"
          ]
        },
        {
          "output_type": "stream",
          "name": "stderr",
          "text": [
            "/usr/local/lib/python3.10/dist-packages/ipykernel/ipkernel.py:283: DeprecationWarning:\n",
            "\n",
            "`should_run_async` will not call `transform_cell` automatically in the future. Please pass the result to `transformed_cell` argument and any exception that happen during thetransform in `preprocessing_exc_tuple` in IPython 7.17 and above.\n",
            "\n"
          ]
        }
      ]
    },
    {
      "cell_type": "markdown",
      "source": [
        "## Evaluación de análisis de sentimiento"
      ],
      "metadata": {
        "id": "ASkBv0E6Lcx-"
      }
    },
    {
      "cell_type": "code",
      "source": [
        "# Cargamos el conjunto\n",
        "data_test = pd.read_csv('test.csv')\n",
        "data_test.head()"
      ],
      "metadata": {
        "colab": {
          "base_uri": "https://localhost:8080/",
          "height": 206
        },
        "id": "BwQLer_qLvRs",
        "outputId": "c083821b-0104-4444-9bd4-9386716a7f67"
      },
      "execution_count": 81,
      "outputs": [
        {
          "output_type": "execute_result",
          "data": {
            "text/plain": [
              "                                         Summary  \\\n",
              "0                                  I love Hills!   \n",
              "1                             Thank you, Amazon!   \n",
              "2                       Good product, good price   \n",
              "3                                    Soooo Good!   \n",
              "4  Not as good as Libby's; cans in bad condition   \n",
              "\n",
              "                                                Text  \n",
              "0  My cat is picky, especially when it comes to d...  \n",
              "1  My mom, who has always believed that breakfast...  \n",
              "2  This is my third container of this drink mix. ...  \n",
              "3  The first time I had a cup of this tea was at ...  \n",
              "4  There have been ongoing problems with dented a...  "
            ],
            "text/html": [
              "\n",
              "  <div id=\"df-4cbd8c6a-8129-4a25-a0f1-803457efecf7\" class=\"colab-df-container\">\n",
              "    <div>\n",
              "<style scoped>\n",
              "    .dataframe tbody tr th:only-of-type {\n",
              "        vertical-align: middle;\n",
              "    }\n",
              "\n",
              "    .dataframe tbody tr th {\n",
              "        vertical-align: top;\n",
              "    }\n",
              "\n",
              "    .dataframe thead th {\n",
              "        text-align: right;\n",
              "    }\n",
              "</style>\n",
              "<table border=\"1\" class=\"dataframe\">\n",
              "  <thead>\n",
              "    <tr style=\"text-align: right;\">\n",
              "      <th></th>\n",
              "      <th>Summary</th>\n",
              "      <th>Text</th>\n",
              "    </tr>\n",
              "  </thead>\n",
              "  <tbody>\n",
              "    <tr>\n",
              "      <th>0</th>\n",
              "      <td>I love Hills!</td>\n",
              "      <td>My cat is picky, especially when it comes to d...</td>\n",
              "    </tr>\n",
              "    <tr>\n",
              "      <th>1</th>\n",
              "      <td>Thank you, Amazon!</td>\n",
              "      <td>My mom, who has always believed that breakfast...</td>\n",
              "    </tr>\n",
              "    <tr>\n",
              "      <th>2</th>\n",
              "      <td>Good product, good price</td>\n",
              "      <td>This is my third container of this drink mix. ...</td>\n",
              "    </tr>\n",
              "    <tr>\n",
              "      <th>3</th>\n",
              "      <td>Soooo Good!</td>\n",
              "      <td>The first time I had a cup of this tea was at ...</td>\n",
              "    </tr>\n",
              "    <tr>\n",
              "      <th>4</th>\n",
              "      <td>Not as good as Libby's; cans in bad condition</td>\n",
              "      <td>There have been ongoing problems with dented a...</td>\n",
              "    </tr>\n",
              "  </tbody>\n",
              "</table>\n",
              "</div>\n",
              "    <div class=\"colab-df-buttons\">\n",
              "\n",
              "  <div class=\"colab-df-container\">\n",
              "    <button class=\"colab-df-convert\" onclick=\"convertToInteractive('df-4cbd8c6a-8129-4a25-a0f1-803457efecf7')\"\n",
              "            title=\"Convert this dataframe to an interactive table.\"\n",
              "            style=\"display:none;\">\n",
              "\n",
              "  <svg xmlns=\"http://www.w3.org/2000/svg\" height=\"24px\" viewBox=\"0 -960 960 960\">\n",
              "    <path d=\"M120-120v-720h720v720H120Zm60-500h600v-160H180v160Zm220 220h160v-160H400v160Zm0 220h160v-160H400v160ZM180-400h160v-160H180v160Zm440 0h160v-160H620v160ZM180-180h160v-160H180v160Zm440 0h160v-160H620v160Z\"/>\n",
              "  </svg>\n",
              "    </button>\n",
              "\n",
              "  <style>\n",
              "    .colab-df-container {\n",
              "      display:flex;\n",
              "      gap: 12px;\n",
              "    }\n",
              "\n",
              "    .colab-df-convert {\n",
              "      background-color: #E8F0FE;\n",
              "      border: none;\n",
              "      border-radius: 50%;\n",
              "      cursor: pointer;\n",
              "      display: none;\n",
              "      fill: #1967D2;\n",
              "      height: 32px;\n",
              "      padding: 0 0 0 0;\n",
              "      width: 32px;\n",
              "    }\n",
              "\n",
              "    .colab-df-convert:hover {\n",
              "      background-color: #E2EBFA;\n",
              "      box-shadow: 0px 1px 2px rgba(60, 64, 67, 0.3), 0px 1px 3px 1px rgba(60, 64, 67, 0.15);\n",
              "      fill: #174EA6;\n",
              "    }\n",
              "\n",
              "    .colab-df-buttons div {\n",
              "      margin-bottom: 4px;\n",
              "    }\n",
              "\n",
              "    [theme=dark] .colab-df-convert {\n",
              "      background-color: #3B4455;\n",
              "      fill: #D2E3FC;\n",
              "    }\n",
              "\n",
              "    [theme=dark] .colab-df-convert:hover {\n",
              "      background-color: #434B5C;\n",
              "      box-shadow: 0px 1px 3px 1px rgba(0, 0, 0, 0.15);\n",
              "      filter: drop-shadow(0px 1px 2px rgba(0, 0, 0, 0.3));\n",
              "      fill: #FFFFFF;\n",
              "    }\n",
              "  </style>\n",
              "\n",
              "    <script>\n",
              "      const buttonEl =\n",
              "        document.querySelector('#df-4cbd8c6a-8129-4a25-a0f1-803457efecf7 button.colab-df-convert');\n",
              "      buttonEl.style.display =\n",
              "        google.colab.kernel.accessAllowed ? 'block' : 'none';\n",
              "\n",
              "      async function convertToInteractive(key) {\n",
              "        const element = document.querySelector('#df-4cbd8c6a-8129-4a25-a0f1-803457efecf7');\n",
              "        const dataTable =\n",
              "          await google.colab.kernel.invokeFunction('convertToInteractive',\n",
              "                                                    [key], {});\n",
              "        if (!dataTable) return;\n",
              "\n",
              "        const docLinkHtml = 'Like what you see? Visit the ' +\n",
              "          '<a target=\"_blank\" href=https://colab.research.google.com/notebooks/data_table.ipynb>data table notebook</a>'\n",
              "          + ' to learn more about interactive tables.';\n",
              "        element.innerHTML = '';\n",
              "        dataTable['output_type'] = 'display_data';\n",
              "        await google.colab.output.renderOutput(dataTable, element);\n",
              "        const docLink = document.createElement('div');\n",
              "        docLink.innerHTML = docLinkHtml;\n",
              "        element.appendChild(docLink);\n",
              "      }\n",
              "    </script>\n",
              "  </div>\n",
              "\n",
              "\n",
              "<div id=\"df-8d31fb19-17c7-4f00-a177-b285343de3ac\">\n",
              "  <button class=\"colab-df-quickchart\" onclick=\"quickchart('df-8d31fb19-17c7-4f00-a177-b285343de3ac')\"\n",
              "            title=\"Suggest charts\"\n",
              "            style=\"display:none;\">\n",
              "\n",
              "<svg xmlns=\"http://www.w3.org/2000/svg\" height=\"24px\"viewBox=\"0 0 24 24\"\n",
              "     width=\"24px\">\n",
              "    <g>\n",
              "        <path d=\"M19 3H5c-1.1 0-2 .9-2 2v14c0 1.1.9 2 2 2h14c1.1 0 2-.9 2-2V5c0-1.1-.9-2-2-2zM9 17H7v-7h2v7zm4 0h-2V7h2v10zm4 0h-2v-4h2v4z\"/>\n",
              "    </g>\n",
              "</svg>\n",
              "  </button>\n",
              "\n",
              "<style>\n",
              "  .colab-df-quickchart {\n",
              "      --bg-color: #E8F0FE;\n",
              "      --fill-color: #1967D2;\n",
              "      --hover-bg-color: #E2EBFA;\n",
              "      --hover-fill-color: #174EA6;\n",
              "      --disabled-fill-color: #AAA;\n",
              "      --disabled-bg-color: #DDD;\n",
              "  }\n",
              "\n",
              "  [theme=dark] .colab-df-quickchart {\n",
              "      --bg-color: #3B4455;\n",
              "      --fill-color: #D2E3FC;\n",
              "      --hover-bg-color: #434B5C;\n",
              "      --hover-fill-color: #FFFFFF;\n",
              "      --disabled-bg-color: #3B4455;\n",
              "      --disabled-fill-color: #666;\n",
              "  }\n",
              "\n",
              "  .colab-df-quickchart {\n",
              "    background-color: var(--bg-color);\n",
              "    border: none;\n",
              "    border-radius: 50%;\n",
              "    cursor: pointer;\n",
              "    display: none;\n",
              "    fill: var(--fill-color);\n",
              "    height: 32px;\n",
              "    padding: 0;\n",
              "    width: 32px;\n",
              "  }\n",
              "\n",
              "  .colab-df-quickchart:hover {\n",
              "    background-color: var(--hover-bg-color);\n",
              "    box-shadow: 0 1px 2px rgba(60, 64, 67, 0.3), 0 1px 3px 1px rgba(60, 64, 67, 0.15);\n",
              "    fill: var(--button-hover-fill-color);\n",
              "  }\n",
              "\n",
              "  .colab-df-quickchart-complete:disabled,\n",
              "  .colab-df-quickchart-complete:disabled:hover {\n",
              "    background-color: var(--disabled-bg-color);\n",
              "    fill: var(--disabled-fill-color);\n",
              "    box-shadow: none;\n",
              "  }\n",
              "\n",
              "  .colab-df-spinner {\n",
              "    border: 2px solid var(--fill-color);\n",
              "    border-color: transparent;\n",
              "    border-bottom-color: var(--fill-color);\n",
              "    animation:\n",
              "      spin 1s steps(1) infinite;\n",
              "  }\n",
              "\n",
              "  @keyframes spin {\n",
              "    0% {\n",
              "      border-color: transparent;\n",
              "      border-bottom-color: var(--fill-color);\n",
              "      border-left-color: var(--fill-color);\n",
              "    }\n",
              "    20% {\n",
              "      border-color: transparent;\n",
              "      border-left-color: var(--fill-color);\n",
              "      border-top-color: var(--fill-color);\n",
              "    }\n",
              "    30% {\n",
              "      border-color: transparent;\n",
              "      border-left-color: var(--fill-color);\n",
              "      border-top-color: var(--fill-color);\n",
              "      border-right-color: var(--fill-color);\n",
              "    }\n",
              "    40% {\n",
              "      border-color: transparent;\n",
              "      border-right-color: var(--fill-color);\n",
              "      border-top-color: var(--fill-color);\n",
              "    }\n",
              "    60% {\n",
              "      border-color: transparent;\n",
              "      border-right-color: var(--fill-color);\n",
              "    }\n",
              "    80% {\n",
              "      border-color: transparent;\n",
              "      border-right-color: var(--fill-color);\n",
              "      border-bottom-color: var(--fill-color);\n",
              "    }\n",
              "    90% {\n",
              "      border-color: transparent;\n",
              "      border-bottom-color: var(--fill-color);\n",
              "    }\n",
              "  }\n",
              "</style>\n",
              "\n",
              "  <script>\n",
              "    async function quickchart(key) {\n",
              "      const quickchartButtonEl =\n",
              "        document.querySelector('#' + key + ' button');\n",
              "      quickchartButtonEl.disabled = true;  // To prevent multiple clicks.\n",
              "      quickchartButtonEl.classList.add('colab-df-spinner');\n",
              "      try {\n",
              "        const charts = await google.colab.kernel.invokeFunction(\n",
              "            'suggestCharts', [key], {});\n",
              "      } catch (error) {\n",
              "        console.error('Error during call to suggestCharts:', error);\n",
              "      }\n",
              "      quickchartButtonEl.classList.remove('colab-df-spinner');\n",
              "      quickchartButtonEl.classList.add('colab-df-quickchart-complete');\n",
              "    }\n",
              "    (() => {\n",
              "      let quickchartButtonEl =\n",
              "        document.querySelector('#df-8d31fb19-17c7-4f00-a177-b285343de3ac button');\n",
              "      quickchartButtonEl.style.display =\n",
              "        google.colab.kernel.accessAllowed ? 'block' : 'none';\n",
              "    })();\n",
              "  </script>\n",
              "</div>\n",
              "\n",
              "    </div>\n",
              "  </div>\n"
            ],
            "application/vnd.google.colaboratory.intrinsic+json": {
              "type": "dataframe",
              "variable_name": "data_test",
              "summary": "{\n  \"name\": \"data_test\",\n  \"rows\": 7105,\n  \"fields\": [\n    {\n      \"column\": \"Summary\",\n      \"properties\": {\n        \"dtype\": \"string\",\n        \"num_unique_values\": 6395,\n        \"samples\": [\n          \"Kim P.\",\n          \"Lasted for almost 2 months!\",\n          \"Not Strong enough\"\n        ],\n        \"semantic_type\": \"\",\n        \"description\": \"\"\n      }\n    },\n    {\n      \"column\": \"Text\",\n      \"properties\": {\n        \"dtype\": \"string\",\n        \"num_unique_values\": 7005,\n        \"samples\": [\n          \"Love this product!. I used it instead of butter in some cookies and they tasted amazing!. Great deal!\",\n          \"We first discovered chai lattes on one of our trips. When we got home, we started looking for a way to make it ourselves. We went through a bunch of brands before finding Celestial Seasonings Original Indian Teahouse. This stuff is the best. Great aroma, better flavor, and strong enough to hold its taste when mixed with soy milk. Add a banana and you've got a light, flavorful, well-balanced breakfast. We mix the tea in batches so it's ready when we want it.<br />Here's our recipe: 4 cups water, one box Celestial Seasonings India Tea House chai microwaved on high for 7 minutes and left to steep 6-24 hours. Remove the teabags, squeezing the liquid from them so you have 3 cups of concentrated chai. Heat in microwave 1 to 1-1/2 minutes on high, add one cup honey. Combine two cups of chai with a half-gallon of soy milk and voila! Chai soy latte on demand.\",\n          \"This coffee is simply the best tasting coffee. It has a great flavor and can't stop drinking it LOVE IT\"\n        ],\n        \"semantic_type\": \"\",\n        \"description\": \"\"\n      }\n    }\n  ]\n}"
            }
          },
          "metadata": {},
          "execution_count": 81
        }
      ]
    },
    {
      "cell_type": "code",
      "source": [
        "data_test.info()"
      ],
      "metadata": {
        "colab": {
          "base_uri": "https://localhost:8080/"
        },
        "id": "SPBJZRpMWSa4",
        "outputId": "889c3ee5-701a-42ff-86d9-7ef0a9358f48"
      },
      "execution_count": 82,
      "outputs": [
        {
          "output_type": "stream",
          "name": "stdout",
          "text": [
            "<class 'pandas.core.frame.DataFrame'>\n",
            "RangeIndex: 7105 entries, 0 to 7104\n",
            "Data columns (total 2 columns):\n",
            " #   Column   Non-Null Count  Dtype \n",
            "---  ------   --------------  ----- \n",
            " 0   Summary  7105 non-null   object\n",
            " 1   Text     7105 non-null   object\n",
            "dtypes: object(2)\n",
            "memory usage: 111.1+ KB\n"
          ]
        }
      ]
    },
    {
      "cell_type": "code",
      "source": [
        "start_time = time.time()\n",
        "data_test = data_test.drop_duplicates().reset_index(drop=True)\n",
        "data_test.loc[:,'Concat_text'] = np.where(data_test['Summary'].isnull(),\n",
        "                                        data_test['Text'],\n",
        "                                        data_test['Summary'] + '. ' + data_test['Text'])\n",
        "data_test = data_test.drop(['Summary', 'Text'], axis=1)\n",
        "data_test['cleaned_text'] = data_test['Concat_text'].map(preprocess_text)\n",
        "end_time = time.time()\n",
        "print(f\"Execution time: {end_time-start_time:.2f} seconds\")"
      ],
      "metadata": {
        "colab": {
          "base_uri": "https://localhost:8080/"
        },
        "id": "zDobu1_pMh9S",
        "outputId": "514d5461-29f0-4c2d-b01a-fade574e23c5"
      },
      "execution_count": 83,
      "outputs": [
        {
          "output_type": "stream",
          "name": "stdout",
          "text": [
            "Execution time: 2.59 seconds\n"
          ]
        }
      ]
    },
    {
      "cell_type": "markdown",
      "source": [
        "### Naive Bayes con TF-IDF"
      ],
      "metadata": {
        "id": "nsKMOnP8nKMJ"
      }
    },
    {
      "cell_type": "code",
      "source": [
        "# NB con TF-IDF\n",
        "data_test_tfidf = tfidf.transform(data_test['cleaned_text'])\n",
        "y_final_pred_nb = nb_model.predict(data_test_tfidf)\n",
        "np.savetxt(\"predicciones_NB_TF-IDF.csv\", y_final_pred_nb, delimiter=\",\", fmt=\"%d\")"
      ],
      "metadata": {
        "id": "F74DRI8BLa_3"
      },
      "execution_count": 84,
      "outputs": []
    },
    {
      "cell_type": "markdown",
      "source": [
        "### DistilBERT"
      ],
      "metadata": {
        "id": "RqqEKX2knXyT"
      }
    },
    {
      "cell_type": "code",
      "source": [
        "from torch.utils.data import Dataset\n",
        "\n",
        "# Preprocesamiento\n",
        "X_final_test = dataset_test['cleaned_text']\n",
        "final_test_encodings = tokenizer(list(X_final_test), truncation=True, padding=True, max_length=128, return_tensors=\"pt\")\n",
        "\n",
        "# Crear un Dataset sin las etiquetas\n",
        "class CustomDatasetNoLabels(Dataset):\n",
        "    def __init__(self, encodings):\n",
        "        self.encodings = encodings\n",
        "\n",
        "    def __len__(self):\n",
        "        return len(self.encodings['input_ids'])\n",
        "\n",
        "    def __getitem__(self, idx):\n",
        "        return {key: torch.tensor(val[idx]) for key, val in self.encodings.items()}\n",
        "\n",
        "# Crear el Dataset para el conjunto de prueba\n",
        "finaltest_dataset = CustomDatasetNoLabels(final_test_encodings)"
      ],
      "metadata": {
        "id": "V2RAnAEPnaZ5"
      },
      "execution_count": 85,
      "outputs": []
    },
    {
      "cell_type": "code",
      "source": [
        "# Realizar las predicciones\n",
        "predictions_output = trainer.predict(finaltest_dataset)\n",
        "\n",
        "# Extraer los logits\n",
        "logits = predictions_output.predictions\n",
        "\n",
        "# Convertir los logits a predicciones (clase final)\n",
        "predictions = torch.argmax(torch.tensor(logits), dim=-1).numpy()\n",
        "\n",
        "\n",
        "print(predictions[:10])\n",
        "\n",
        "predictions_df = pd.DataFrame(predictions, columns=[\"Predicción\"])\n",
        "predictions_df.to_csv(\"predicciones_DistilBert.csv\", index=False)"
      ],
      "metadata": {
        "colab": {
          "base_uri": "https://localhost:8080/",
          "height": 91
        },
        "id": "xr13EGK5n5rw",
        "outputId": "e3d795bf-27a9-4bdc-acaf-6e7bea11ca3d"
      },
      "execution_count": 86,
      "outputs": [
        {
          "output_type": "stream",
          "name": "stderr",
          "text": [
            "<ipython-input-85-e904025af9c5>:16: UserWarning: To copy construct from a tensor, it is recommended to use sourceTensor.clone().detach() or sourceTensor.clone().detach().requires_grad_(True), rather than torch.tensor(sourceTensor).\n",
            "  return {key: torch.tensor(val[idx]) for key, val in self.encodings.items()}\n"
          ]
        },
        {
          "output_type": "display_data",
          "data": {
            "text/plain": [
              "<IPython.core.display.HTML object>"
            ],
            "text/html": []
          },
          "metadata": {}
        },
        {
          "output_type": "stream",
          "name": "stdout",
          "text": [
            "[0 0 0 0 1 0 0 0 0 0]\n"
          ]
        }
      ]
    },
    {
      "cell_type": "markdown",
      "source": [
        "## Conclusiones"
      ],
      "metadata": {
        "id": "8Aw5nJsepZA1"
      }
    },
    {
      "cell_type": "markdown",
      "source": [
        "El modelo Naive Bayes con TF-IDF demostró ser la mejor opción para la clasificación de reseñas negativas, mientras que LDA y NMF destacaron en la identificación de temas. Aunque herramientas como DistilBERT, VADER y BERTopic tienen aplicaciones prometedoras, no superaron las alternativas seleccionadas.\n",
        "\n",
        "El análisis de tópicos revela áreas clave de mejora para la empresa, especialmente en productos específicos (café, té, chocolate) y procesos (entregas). Estas observaciones permiten priorizar las acciones para abordar las quejas más comunes y mejorar la experiencia del cliente.\n"
      ],
      "metadata": {
        "id": "e2YXZTZ6pbJx"
      }
    },
    {
      "cell_type": "code",
      "source": [],
      "metadata": {
        "id": "KXS-IkWcpged"
      },
      "execution_count": null,
      "outputs": []
    }
  ]
}